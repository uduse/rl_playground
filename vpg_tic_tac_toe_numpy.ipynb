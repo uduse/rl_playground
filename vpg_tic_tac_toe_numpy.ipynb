{
 "cells": [
  {
   "cell_type": "code",
   "execution_count": 22,
   "metadata": {
    "ExecuteTime": {
     "end_time": "2021-03-06T19:07:47.573275Z",
     "start_time": "2021-03-06T19:07:47.570828Z"
    }
   },
   "outputs": [],
   "source": [
    "import random\n",
    "import pyspiel\n",
    "import numpy as np"
   ]
  },
  {
   "cell_type": "code",
   "execution_count": 62,
   "metadata": {
    "ExecuteTime": {
     "end_time": "2021-03-06T20:50:57.328162Z",
     "start_time": "2021-03-06T20:50:57.326186Z"
    }
   },
   "outputs": [],
   "source": [
    "# def sigmoid(x):\n",
    "#     return 1 / (1 + np.exp(-x))"
   ]
  },
  {
   "cell_type": "code",
   "execution_count": 68,
   "metadata": {
    "ExecuteTime": {
     "end_time": "2021-03-07T04:02:12.895402Z",
     "start_time": "2021-03-07T04:02:12.889895Z"
    }
   },
   "outputs": [],
   "source": [
    "class PolicyNetwork(object):\n",
    "    def __init__(self):\n",
    "        self.dim_in = 27\n",
    "        self.dim_out = 9\n",
    "        \n",
    "        self.num_units = 8\n",
    "        \n",
    "        self.weights = {}\n",
    "        self.grad = {}\n",
    "        \n",
    "        self.weights['W1'] = np.random.normal(size=(self.num_units, self.dim_in))\n",
    "        self.weights['b1'] = np.random.normal(size=(self.num_units))\n",
    "        \n",
    "    def forward(self, x):\n",
    "        x = np.dot(self.weights['W1'], x) + self.weights['b1']\n",
    "        return x\n",
    "    "
   ]
  },
  {
   "cell_type": "code",
   "execution_count": 70,
   "metadata": {
    "ExecuteTime": {
     "end_time": "2021-03-07T04:02:25.768057Z",
     "start_time": "2021-03-07T04:02:25.761760Z"
    }
   },
   "outputs": [
    {
     "data": {
      "text/plain": [
       "array([-0.58060676,  0.20554053,  2.38534822,  1.12340639, -3.9290205 ,\n",
       "        5.42851926,  1.01565894,  2.83930831])"
      ]
     },
     "execution_count": 70,
     "metadata": {},
     "output_type": "execute_result"
    }
   ],
   "source": [
    "x = numpy.random.randint(low=0, high=2, size=27)\n",
    "nn = PolicyNetwork()\n",
    "nn.forward(x)"
   ]
  },
  {
   "cell_type": "code",
   "execution_count": 12,
   "metadata": {
    "ExecuteTime": {
     "end_time": "2021-03-06T06:45:07.031407Z",
     "start_time": "2021-03-06T06:45:07.029092Z"
    }
   },
   "outputs": [],
   "source": [
    "game = pyspiel.load_game(\"tic_tac_toe\")"
   ]
  },
  {
   "cell_type": "code",
   "execution_count": 13,
   "metadata": {
    "ExecuteTime": {
     "end_time": "2021-03-06T06:45:07.498964Z",
     "start_time": "2021-03-06T06:45:07.494948Z"
    }
   },
   "outputs": [
    {
     "name": "stdout",
     "output_type": "stream",
     "text": [
      "...\n",
      "...\n",
      "... \n",
      "\n",
      "..x\n",
      "...\n",
      "... \n",
      "\n",
      "..x\n",
      "...\n",
      "..o \n",
      "\n",
      "..x\n",
      "...\n",
      "x.o \n",
      "\n",
      "..x\n",
      "o..\n",
      "x.o \n",
      "\n",
      "..x\n",
      "o.x\n",
      "x.o \n",
      "\n",
      "..x\n",
      "oox\n",
      "x.o \n",
      "\n",
      "x.x\n",
      "oox\n",
      "x.o \n",
      "\n",
      "x.x\n",
      "oox\n",
      "xoo \n",
      "\n"
     ]
    }
   ],
   "source": [
    "state = game.new_initial_state()\n",
    "while not state.is_terminal():\n",
    "    print(str(state), '\\n')\n",
    "    legal_actions = state.legal_actions()\n",
    "    action = random.choice(legal_actions)\n",
    "    state.apply_action(action)"
   ]
  }
 ],
 "metadata": {
  "kernelspec": {
   "display_name": "rl_playground",
   "language": "python",
   "name": "rl_playground"
  },
  "language_info": {
   "codemirror_mode": {
    "name": "ipython",
    "version": 3
   },
   "file_extension": ".py",
   "mimetype": "text/x-python",
   "name": "python",
   "nbconvert_exporter": "python",
   "pygments_lexer": "ipython3",
   "version": "3.7.4"
  },
  "varInspector": {
   "cols": {
    "lenName": 16,
    "lenType": 16,
    "lenVar": 40
   },
   "kernels_config": {
    "python": {
     "delete_cmd_postfix": "",
     "delete_cmd_prefix": "del ",
     "library": "var_list.py",
     "varRefreshCmd": "print(var_dic_list())"
    },
    "r": {
     "delete_cmd_postfix": ") ",
     "delete_cmd_prefix": "rm(",
     "library": "var_list.r",
     "varRefreshCmd": "cat(var_dic_list()) "
    }
   },
   "types_to_exclude": [
    "module",
    "function",
    "builtin_function_or_method",
    "instance",
    "_Feature"
   ],
   "window_display": false
  }
 },
 "nbformat": 4,
 "nbformat_minor": 4
}
