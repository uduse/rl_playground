{
 "cells": [
  {
   "cell_type": "code",
   "execution_count": 15,
   "metadata": {
    "ExecuteTime": {
     "end_time": "2021-03-23T20:55:31.827255Z",
     "start_time": "2021-03-23T20:55:26.913198Z"
    }
   },
   "outputs": [],
   "source": [
    "import random\n",
    "import numpy as np"
   ]
  },
  {
   "cell_type": "code",
   "execution_count": 20,
   "metadata": {
    "ExecuteTime": {
     "end_time": "2021-03-23T20:58:36.057030Z",
     "start_time": "2021-03-23T20:58:36.053663Z"
    }
   },
   "outputs": [],
   "source": [
    "def get_vector(size):\n",
    "    return np.random.random_integers(0, 1, size)\n",
    "\n",
    "def flip_random(v):\n",
    "    idx = random.randrange(0, len(v))\n",
    "    v[idx] = v[idx] == 0"
   ]
  },
  {
   "cell_type": "code",
   "execution_count": 21,
   "metadata": {
    "ExecuteTime": {
     "end_time": "2021-03-23T20:58:50.150928Z",
     "start_time": "2021-03-23T20:58:50.146542Z"
    }
   },
   "outputs": [
    {
     "name": "stdout",
     "output_type": "stream",
     "text": [
      "[0 0 0 1 1 1 1 1 1 0]\n",
      "[0 1 0 1 1 1 1 1 1 0]\n",
      "[0 1 0 1 1 1 1 0 1 0]\n",
      "[1 1 0 1 1 1 1 0 1 0]\n",
      "[1 1 0 1 1 1 1 0 1 1]\n",
      "[1 1 0 1 1 1 1 0 1 0]\n"
     ]
    },
    {
     "name": "stderr",
     "output_type": "stream",
     "text": [
      "/Users/Uduse/.local/share/virtualenvs/rl_notebooks-p-VYNRkp/lib/python3.6/site-packages/ipykernel_launcher.py:2: DeprecationWarning: This function is deprecated. Please call randint(0, 1 + 1) instead\n",
      "  \n"
     ]
    }
   ],
   "source": [
    "v = get_vector(10)\n",
    "print(v)\n",
    "for _ in range(5):\n",
    "    flip_random(v)\n",
    "    print(v)"
   ]
  },
  {
   "cell_type": "code",
   "execution_count": 35,
   "metadata": {
    "ExecuteTime": {
     "end_time": "2021-03-23T21:53:26.880589Z",
     "start_time": "2021-03-23T21:53:00.425677Z"
    }
   },
   "outputs": [
    {
     "name": "stderr",
     "output_type": "stream",
     "text": [
      "/Users/Uduse/.local/share/virtualenvs/rl_notebooks-p-VYNRkp/lib/python3.6/site-packages/ipykernel_launcher.py:2: DeprecationWarning: This function is deprecated. Please call randint(0, 1 + 1) instead\n",
      "  \n"
     ]
    }
   ],
   "source": [
    "result = {}\n",
    "num_samples = 800\n",
    "for size in range(2, 20):\n",
    "    for cut_off in (50, 100, 500):\n",
    "        samples = []\n",
    "        for _ in range(num_samples):\n",
    "            flag = False\n",
    "            start = get_vector(size)\n",
    "            goal = get_vector(size)\n",
    "            for step in range(cut_off):\n",
    "                if (start == goal).all():\n",
    "                    flag = True\n",
    "                    break\n",
    "                flip_random(start)\n",
    "            samples.append(flag)\n",
    "        result[(size, cut_off)] = (np.mean(samples), np.sum(samples))"
   ]
  },
  {
   "cell_type": "code",
   "execution_count": 36,
   "metadata": {
    "ExecuteTime": {
     "end_time": "2021-03-23T21:53:26.894892Z",
     "start_time": "2021-03-23T21:53:26.884465Z"
    },
    "scrolled": false
   },
   "outputs": [
    {
     "name": "stdout",
     "output_type": "stream",
     "text": [
      "(2, 50) (1.0, 800)\n",
      "(2, 100) (1.0, 800)\n",
      "(2, 500) (1.0, 800)\n",
      "(3, 50) (0.99875, 799)\n",
      "(3, 100) (1.0, 800)\n",
      "(3, 500) (1.0, 800)\n",
      "(4, 50) (0.90875, 727)\n",
      "(4, 100) (0.995, 796)\n",
      "(4, 500) (1.0, 800)\n",
      "(5, 50) (0.7325, 586)\n",
      "(5, 100) (0.92125, 737)\n",
      "(5, 500) (1.0, 800)\n",
      "(6, 50) (0.4775, 382)\n",
      "(6, 100) (0.74125, 593)\n",
      "(6, 500) (0.99625, 797)\n",
      "(7, 50) (0.29375, 235)\n",
      "(7, 100) (0.48375, 387)\n",
      "(7, 500) (0.95, 760)\n",
      "(8, 50) (0.15875, 127)\n",
      "(8, 100) (0.26875, 215)\n",
      "(8, 500) (0.80125, 641)\n",
      "(9, 50) (0.1, 80)\n",
      "(9, 100) (0.13125, 105)\n",
      "(9, 500) (0.59375, 475)\n",
      "(10, 50) (0.03875, 31)\n",
      "(10, 100) (0.0825, 66)\n",
      "(10, 500) (0.34, 272)\n",
      "(11, 50) (0.02875, 23)\n",
      "(11, 100) (0.0375, 30)\n",
      "(11, 500) (0.15625, 125)\n",
      "(12, 50) (0.01, 8)\n",
      "(12, 100) (0.02375, 19)\n",
      "(12, 500) (0.10375, 83)\n",
      "(13, 50) (0.01, 8)\n",
      "(13, 100) (0.01375, 11)\n",
      "(13, 500) (0.05375, 43)\n",
      "(14, 50) (0.00375, 3)\n",
      "(14, 100) (0.0075, 6)\n",
      "(14, 500) (0.03, 24)\n",
      "(15, 50) (0.00125, 1)\n",
      "(15, 100) (0.00125, 1)\n",
      "(15, 500) (0.01375, 11)\n",
      "(16, 50) (0.00125, 1)\n",
      "(16, 100) (0.0025, 2)\n",
      "(16, 500) (0.00875, 7)\n",
      "(17, 50) (0.0, 0)\n",
      "(17, 100) (0.0, 0)\n",
      "(17, 500) (0.005, 4)\n",
      "(18, 50) (0.0, 0)\n",
      "(18, 100) (0.0, 0)\n",
      "(18, 500) (0.0025, 2)\n",
      "(19, 50) (0.0, 0)\n",
      "(19, 100) (0.00125, 1)\n",
      "(19, 500) (0.00125, 1)\n"
     ]
    }
   ],
   "source": [
    "for key, val in result.items():\n",
    "    print(key, val)"
   ]
  },
  {
   "cell_type": "code",
   "execution_count": null,
   "metadata": {},
   "outputs": [],
   "source": []
  }
 ],
 "metadata": {
  "kernelspec": {
   "display_name": "Python 3",
   "language": "python",
   "name": "python3"
  },
  "language_info": {
   "codemirror_mode": {
    "name": "ipython",
    "version": 3
   },
   "file_extension": ".py",
   "mimetype": "text/x-python",
   "name": "python",
   "nbconvert_exporter": "python",
   "pygments_lexer": "ipython3",
   "version": "3.6.9"
  }
 },
 "nbformat": 4,
 "nbformat_minor": 4
}
