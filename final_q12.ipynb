{
 "cells": [
  {
   "cell_type": "code",
   "execution_count": 1,
   "metadata": {
    "ExecuteTime": {
     "end_time": "2021-05-07T00:50:39.210418Z",
     "start_time": "2021-05-07T00:50:38.819772Z"
    }
   },
   "outputs": [
    {
     "data": {
      "text/html": [
       "\n",
       "    <div class=\"bk-root\">\n",
       "        <a href=\"https://bokeh.org\" target=\"_blank\" class=\"bk-logo bk-logo-small bk-logo-notebook\"></a>\n",
       "        <span id=\"1002\">Loading BokehJS ...</span>\n",
       "    </div>"
      ]
     },
     "metadata": {},
     "output_type": "display_data"
    },
    {
     "data": {
      "application/javascript": [
       "\n",
       "(function(root) {\n",
       "  function now() {\n",
       "    return new Date();\n",
       "  }\n",
       "\n",
       "  var force = true;\n",
       "\n",
       "  if (typeof root._bokeh_onload_callbacks === \"undefined\" || force === true) {\n",
       "    root._bokeh_onload_callbacks = [];\n",
       "    root._bokeh_is_loading = undefined;\n",
       "  }\n",
       "\n",
       "  var JS_MIME_TYPE = 'application/javascript';\n",
       "  var HTML_MIME_TYPE = 'text/html';\n",
       "  var EXEC_MIME_TYPE = 'application/vnd.bokehjs_exec.v0+json';\n",
       "  var CLASS_NAME = 'output_bokeh rendered_html';\n",
       "\n",
       "  /**\n",
       "   * Render data to the DOM node\n",
       "   */\n",
       "  function render(props, node) {\n",
       "    var script = document.createElement(\"script\");\n",
       "    node.appendChild(script);\n",
       "  }\n",
       "\n",
       "  /**\n",
       "   * Handle when an output is cleared or removed\n",
       "   */\n",
       "  function handleClearOutput(event, handle) {\n",
       "    var cell = handle.cell;\n",
       "\n",
       "    var id = cell.output_area._bokeh_element_id;\n",
       "    var server_id = cell.output_area._bokeh_server_id;\n",
       "    // Clean up Bokeh references\n",
       "    if (id != null && id in Bokeh.index) {\n",
       "      Bokeh.index[id].model.document.clear();\n",
       "      delete Bokeh.index[id];\n",
       "    }\n",
       "\n",
       "    if (server_id !== undefined) {\n",
       "      // Clean up Bokeh references\n",
       "      var cmd = \"from bokeh.io.state import curstate; print(curstate().uuid_to_server['\" + server_id + \"'].get_sessions()[0].document.roots[0]._id)\";\n",
       "      cell.notebook.kernel.execute(cmd, {\n",
       "        iopub: {\n",
       "          output: function(msg) {\n",
       "            var id = msg.content.text.trim();\n",
       "            if (id in Bokeh.index) {\n",
       "              Bokeh.index[id].model.document.clear();\n",
       "              delete Bokeh.index[id];\n",
       "            }\n",
       "          }\n",
       "        }\n",
       "      });\n",
       "      // Destroy server and session\n",
       "      var cmd = \"import bokeh.io.notebook as ion; ion.destroy_server('\" + server_id + \"')\";\n",
       "      cell.notebook.kernel.execute(cmd);\n",
       "    }\n",
       "  }\n",
       "\n",
       "  /**\n",
       "   * Handle when a new output is added\n",
       "   */\n",
       "  function handleAddOutput(event, handle) {\n",
       "    var output_area = handle.output_area;\n",
       "    var output = handle.output;\n",
       "\n",
       "    // limit handleAddOutput to display_data with EXEC_MIME_TYPE content only\n",
       "    if ((output.output_type != \"display_data\") || (!Object.prototype.hasOwnProperty.call(output.data, EXEC_MIME_TYPE))) {\n",
       "      return\n",
       "    }\n",
       "\n",
       "    var toinsert = output_area.element.find(\".\" + CLASS_NAME.split(' ')[0]);\n",
       "\n",
       "    if (output.metadata[EXEC_MIME_TYPE][\"id\"] !== undefined) {\n",
       "      toinsert[toinsert.length - 1].firstChild.textContent = output.data[JS_MIME_TYPE];\n",
       "      // store reference to embed id on output_area\n",
       "      output_area._bokeh_element_id = output.metadata[EXEC_MIME_TYPE][\"id\"];\n",
       "    }\n",
       "    if (output.metadata[EXEC_MIME_TYPE][\"server_id\"] !== undefined) {\n",
       "      var bk_div = document.createElement(\"div\");\n",
       "      bk_div.innerHTML = output.data[HTML_MIME_TYPE];\n",
       "      var script_attrs = bk_div.children[0].attributes;\n",
       "      for (var i = 0; i < script_attrs.length; i++) {\n",
       "        toinsert[toinsert.length - 1].firstChild.setAttribute(script_attrs[i].name, script_attrs[i].value);\n",
       "        toinsert[toinsert.length - 1].firstChild.textContent = bk_div.children[0].textContent\n",
       "      }\n",
       "      // store reference to server id on output_area\n",
       "      output_area._bokeh_server_id = output.metadata[EXEC_MIME_TYPE][\"server_id\"];\n",
       "    }\n",
       "  }\n",
       "\n",
       "  function register_renderer(events, OutputArea) {\n",
       "\n",
       "    function append_mime(data, metadata, element) {\n",
       "      // create a DOM node to render to\n",
       "      var toinsert = this.create_output_subarea(\n",
       "        metadata,\n",
       "        CLASS_NAME,\n",
       "        EXEC_MIME_TYPE\n",
       "      );\n",
       "      this.keyboard_manager.register_events(toinsert);\n",
       "      // Render to node\n",
       "      var props = {data: data, metadata: metadata[EXEC_MIME_TYPE]};\n",
       "      render(props, toinsert[toinsert.length - 1]);\n",
       "      element.append(toinsert);\n",
       "      return toinsert\n",
       "    }\n",
       "\n",
       "    /* Handle when an output is cleared or removed */\n",
       "    events.on('clear_output.CodeCell', handleClearOutput);\n",
       "    events.on('delete.Cell', handleClearOutput);\n",
       "\n",
       "    /* Handle when a new output is added */\n",
       "    events.on('output_added.OutputArea', handleAddOutput);\n",
       "\n",
       "    /**\n",
       "     * Register the mime type and append_mime function with output_area\n",
       "     */\n",
       "    OutputArea.prototype.register_mime_type(EXEC_MIME_TYPE, append_mime, {\n",
       "      /* Is output safe? */\n",
       "      safe: true,\n",
       "      /* Index of renderer in `output_area.display_order` */\n",
       "      index: 0\n",
       "    });\n",
       "  }\n",
       "\n",
       "  // register the mime type if in Jupyter Notebook environment and previously unregistered\n",
       "  if (root.Jupyter !== undefined) {\n",
       "    var events = require('base/js/events');\n",
       "    var OutputArea = require('notebook/js/outputarea').OutputArea;\n",
       "\n",
       "    if (OutputArea.prototype.mime_types().indexOf(EXEC_MIME_TYPE) == -1) {\n",
       "      register_renderer(events, OutputArea);\n",
       "    }\n",
       "  }\n",
       "\n",
       "  \n",
       "  if (typeof (root._bokeh_timeout) === \"undefined\" || force === true) {\n",
       "    root._bokeh_timeout = Date.now() + 5000;\n",
       "    root._bokeh_failed_load = false;\n",
       "  }\n",
       "\n",
       "  var NB_LOAD_WARNING = {'data': {'text/html':\n",
       "     \"<div style='background-color: #fdd'>\\n\"+\n",
       "     \"<p>\\n\"+\n",
       "     \"BokehJS does not appear to have successfully loaded. If loading BokehJS from CDN, this \\n\"+\n",
       "     \"may be due to a slow or bad network connection. Possible fixes:\\n\"+\n",
       "     \"</p>\\n\"+\n",
       "     \"<ul>\\n\"+\n",
       "     \"<li>re-rerun `output_notebook()` to attempt to load from CDN again, or</li>\\n\"+\n",
       "     \"<li>use INLINE resources instead, as so:</li>\\n\"+\n",
       "     \"</ul>\\n\"+\n",
       "     \"<code>\\n\"+\n",
       "     \"from bokeh.resources import INLINE\\n\"+\n",
       "     \"output_notebook(resources=INLINE)\\n\"+\n",
       "     \"</code>\\n\"+\n",
       "     \"</div>\"}};\n",
       "\n",
       "  function display_loaded() {\n",
       "    var el = document.getElementById(\"1002\");\n",
       "    if (el != null) {\n",
       "      el.textContent = \"BokehJS is loading...\";\n",
       "    }\n",
       "    if (root.Bokeh !== undefined) {\n",
       "      if (el != null) {\n",
       "        el.textContent = \"BokehJS \" + root.Bokeh.version + \" successfully loaded.\";\n",
       "      }\n",
       "    } else if (Date.now() < root._bokeh_timeout) {\n",
       "      setTimeout(display_loaded, 100)\n",
       "    }\n",
       "  }\n",
       "\n",
       "\n",
       "  function run_callbacks() {\n",
       "    try {\n",
       "      root._bokeh_onload_callbacks.forEach(function(callback) {\n",
       "        if (callback != null)\n",
       "          callback();\n",
       "      });\n",
       "    } finally {\n",
       "      delete root._bokeh_onload_callbacks\n",
       "    }\n",
       "    console.debug(\"Bokeh: all callbacks have finished\");\n",
       "  }\n",
       "\n",
       "  function load_libs(css_urls, js_urls, callback) {\n",
       "    if (css_urls == null) css_urls = [];\n",
       "    if (js_urls == null) js_urls = [];\n",
       "\n",
       "    root._bokeh_onload_callbacks.push(callback);\n",
       "    if (root._bokeh_is_loading > 0) {\n",
       "      console.debug(\"Bokeh: BokehJS is being loaded, scheduling callback at\", now());\n",
       "      return null;\n",
       "    }\n",
       "    if (js_urls == null || js_urls.length === 0) {\n",
       "      run_callbacks();\n",
       "      return null;\n",
       "    }\n",
       "    console.debug(\"Bokeh: BokehJS not loaded, scheduling load and callback at\", now());\n",
       "    root._bokeh_is_loading = css_urls.length + js_urls.length;\n",
       "\n",
       "    function on_load() {\n",
       "      root._bokeh_is_loading--;\n",
       "      if (root._bokeh_is_loading === 0) {\n",
       "        console.debug(\"Bokeh: all BokehJS libraries/stylesheets loaded\");\n",
       "        run_callbacks()\n",
       "      }\n",
       "    }\n",
       "\n",
       "    function on_error(url) {\n",
       "      console.error(\"failed to load \" + url);\n",
       "    }\n",
       "\n",
       "    for (let i = 0; i < css_urls.length; i++) {\n",
       "      const url = css_urls[i];\n",
       "      const element = document.createElement(\"link\");\n",
       "      element.onload = on_load;\n",
       "      element.onerror = on_error.bind(null, url);\n",
       "      element.rel = \"stylesheet\";\n",
       "      element.type = \"text/css\";\n",
       "      element.href = url;\n",
       "      console.debug(\"Bokeh: injecting link tag for BokehJS stylesheet: \", url);\n",
       "      document.body.appendChild(element);\n",
       "    }\n",
       "\n",
       "    const hashes = {\"https://cdn.bokeh.org/bokeh/release/bokeh-2.3.1.min.js\": \"YF85VygJKMVnHE+lLv2AM93Vbstr0yo2TbIu5v8se5Rq3UQAUmcuh4aaJwNlpKwa\", \"https://cdn.bokeh.org/bokeh/release/bokeh-widgets-2.3.1.min.js\": \"KKuas3gevv3PvrlkyCMzffFeaMq5we/a2QsP5AUoS3mJ0jmaCL7jirFJN3GoE/lM\", \"https://cdn.bokeh.org/bokeh/release/bokeh-tables-2.3.1.min.js\": \"MK/uFc3YT18pkvvXRl66tTHjP0/dxoSH2e/eiNMFIguKlun2+WVqaPTWmUy/zvh4\"};\n",
       "\n",
       "    for (let i = 0; i < js_urls.length; i++) {\n",
       "      const url = js_urls[i];\n",
       "      const element = document.createElement('script');\n",
       "      element.onload = on_load;\n",
       "      element.onerror = on_error.bind(null, url);\n",
       "      element.async = false;\n",
       "      element.src = url;\n",
       "      if (url in hashes) {\n",
       "        element.crossOrigin = \"anonymous\";\n",
       "        element.integrity = \"sha384-\" + hashes[url];\n",
       "      }\n",
       "      console.debug(\"Bokeh: injecting script tag for BokehJS library: \", url);\n",
       "      document.head.appendChild(element);\n",
       "    }\n",
       "  };\n",
       "\n",
       "  function inject_raw_css(css) {\n",
       "    const element = document.createElement(\"style\");\n",
       "    element.appendChild(document.createTextNode(css));\n",
       "    document.body.appendChild(element);\n",
       "  }\n",
       "\n",
       "  \n",
       "  var js_urls = [\"https://cdn.bokeh.org/bokeh/release/bokeh-2.3.1.min.js\", \"https://cdn.bokeh.org/bokeh/release/bokeh-widgets-2.3.1.min.js\", \"https://cdn.bokeh.org/bokeh/release/bokeh-tables-2.3.1.min.js\"];\n",
       "  var css_urls = [];\n",
       "  \n",
       "\n",
       "  var inline_js = [\n",
       "    function(Bokeh) {\n",
       "      Bokeh.set_log_level(\"info\");\n",
       "    },\n",
       "    function(Bokeh) {\n",
       "    \n",
       "    \n",
       "    }\n",
       "  ];\n",
       "\n",
       "  function run_inline_js() {\n",
       "    \n",
       "    if (root.Bokeh !== undefined || force === true) {\n",
       "      \n",
       "    for (var i = 0; i < inline_js.length; i++) {\n",
       "      inline_js[i].call(root, root.Bokeh);\n",
       "    }\n",
       "    if (force === true) {\n",
       "        display_loaded();\n",
       "      }} else if (Date.now() < root._bokeh_timeout) {\n",
       "      setTimeout(run_inline_js, 100);\n",
       "    } else if (!root._bokeh_failed_load) {\n",
       "      console.log(\"Bokeh: BokehJS failed to load within specified timeout.\");\n",
       "      root._bokeh_failed_load = true;\n",
       "    } else if (force !== true) {\n",
       "      var cell = $(document.getElementById(\"1002\")).parents('.cell').data().cell;\n",
       "      cell.output_area.append_execute_result(NB_LOAD_WARNING)\n",
       "    }\n",
       "\n",
       "  }\n",
       "\n",
       "  if (root._bokeh_is_loading === 0) {\n",
       "    console.debug(\"Bokeh: BokehJS loaded, going straight to plotting\");\n",
       "    run_inline_js();\n",
       "  } else {\n",
       "    load_libs(css_urls, js_urls, function() {\n",
       "      console.debug(\"Bokeh: BokehJS plotting callback run at\", now());\n",
       "      run_inline_js();\n",
       "    });\n",
       "  }\n",
       "}(window));"
      ],
      "application/vnd.bokehjs_load.v0+json": "\n(function(root) {\n  function now() {\n    return new Date();\n  }\n\n  var force = true;\n\n  if (typeof root._bokeh_onload_callbacks === \"undefined\" || force === true) {\n    root._bokeh_onload_callbacks = [];\n    root._bokeh_is_loading = undefined;\n  }\n\n  \n\n  \n  if (typeof (root._bokeh_timeout) === \"undefined\" || force === true) {\n    root._bokeh_timeout = Date.now() + 5000;\n    root._bokeh_failed_load = false;\n  }\n\n  var NB_LOAD_WARNING = {'data': {'text/html':\n     \"<div style='background-color: #fdd'>\\n\"+\n     \"<p>\\n\"+\n     \"BokehJS does not appear to have successfully loaded. If loading BokehJS from CDN, this \\n\"+\n     \"may be due to a slow or bad network connection. Possible fixes:\\n\"+\n     \"</p>\\n\"+\n     \"<ul>\\n\"+\n     \"<li>re-rerun `output_notebook()` to attempt to load from CDN again, or</li>\\n\"+\n     \"<li>use INLINE resources instead, as so:</li>\\n\"+\n     \"</ul>\\n\"+\n     \"<code>\\n\"+\n     \"from bokeh.resources import INLINE\\n\"+\n     \"output_notebook(resources=INLINE)\\n\"+\n     \"</code>\\n\"+\n     \"</div>\"}};\n\n  function display_loaded() {\n    var el = document.getElementById(\"1002\");\n    if (el != null) {\n      el.textContent = \"BokehJS is loading...\";\n    }\n    if (root.Bokeh !== undefined) {\n      if (el != null) {\n        el.textContent = \"BokehJS \" + root.Bokeh.version + \" successfully loaded.\";\n      }\n    } else if (Date.now() < root._bokeh_timeout) {\n      setTimeout(display_loaded, 100)\n    }\n  }\n\n\n  function run_callbacks() {\n    try {\n      root._bokeh_onload_callbacks.forEach(function(callback) {\n        if (callback != null)\n          callback();\n      });\n    } finally {\n      delete root._bokeh_onload_callbacks\n    }\n    console.debug(\"Bokeh: all callbacks have finished\");\n  }\n\n  function load_libs(css_urls, js_urls, callback) {\n    if (css_urls == null) css_urls = [];\n    if (js_urls == null) js_urls = [];\n\n    root._bokeh_onload_callbacks.push(callback);\n    if (root._bokeh_is_loading > 0) {\n      console.debug(\"Bokeh: BokehJS is being loaded, scheduling callback at\", now());\n      return null;\n    }\n    if (js_urls == null || js_urls.length === 0) {\n      run_callbacks();\n      return null;\n    }\n    console.debug(\"Bokeh: BokehJS not loaded, scheduling load and callback at\", now());\n    root._bokeh_is_loading = css_urls.length + js_urls.length;\n\n    function on_load() {\n      root._bokeh_is_loading--;\n      if (root._bokeh_is_loading === 0) {\n        console.debug(\"Bokeh: all BokehJS libraries/stylesheets loaded\");\n        run_callbacks()\n      }\n    }\n\n    function on_error(url) {\n      console.error(\"failed to load \" + url);\n    }\n\n    for (let i = 0; i < css_urls.length; i++) {\n      const url = css_urls[i];\n      const element = document.createElement(\"link\");\n      element.onload = on_load;\n      element.onerror = on_error.bind(null, url);\n      element.rel = \"stylesheet\";\n      element.type = \"text/css\";\n      element.href = url;\n      console.debug(\"Bokeh: injecting link tag for BokehJS stylesheet: \", url);\n      document.body.appendChild(element);\n    }\n\n    const hashes = {\"https://cdn.bokeh.org/bokeh/release/bokeh-2.3.1.min.js\": \"YF85VygJKMVnHE+lLv2AM93Vbstr0yo2TbIu5v8se5Rq3UQAUmcuh4aaJwNlpKwa\", \"https://cdn.bokeh.org/bokeh/release/bokeh-widgets-2.3.1.min.js\": \"KKuas3gevv3PvrlkyCMzffFeaMq5we/a2QsP5AUoS3mJ0jmaCL7jirFJN3GoE/lM\", \"https://cdn.bokeh.org/bokeh/release/bokeh-tables-2.3.1.min.js\": \"MK/uFc3YT18pkvvXRl66tTHjP0/dxoSH2e/eiNMFIguKlun2+WVqaPTWmUy/zvh4\"};\n\n    for (let i = 0; i < js_urls.length; i++) {\n      const url = js_urls[i];\n      const element = document.createElement('script');\n      element.onload = on_load;\n      element.onerror = on_error.bind(null, url);\n      element.async = false;\n      element.src = url;\n      if (url in hashes) {\n        element.crossOrigin = \"anonymous\";\n        element.integrity = \"sha384-\" + hashes[url];\n      }\n      console.debug(\"Bokeh: injecting script tag for BokehJS library: \", url);\n      document.head.appendChild(element);\n    }\n  };\n\n  function inject_raw_css(css) {\n    const element = document.createElement(\"style\");\n    element.appendChild(document.createTextNode(css));\n    document.body.appendChild(element);\n  }\n\n  \n  var js_urls = [\"https://cdn.bokeh.org/bokeh/release/bokeh-2.3.1.min.js\", \"https://cdn.bokeh.org/bokeh/release/bokeh-widgets-2.3.1.min.js\", \"https://cdn.bokeh.org/bokeh/release/bokeh-tables-2.3.1.min.js\"];\n  var css_urls = [];\n  \n\n  var inline_js = [\n    function(Bokeh) {\n      Bokeh.set_log_level(\"info\");\n    },\n    function(Bokeh) {\n    \n    \n    }\n  ];\n\n  function run_inline_js() {\n    \n    if (root.Bokeh !== undefined || force === true) {\n      \n    for (var i = 0; i < inline_js.length; i++) {\n      inline_js[i].call(root, root.Bokeh);\n    }\n    if (force === true) {\n        display_loaded();\n      }} else if (Date.now() < root._bokeh_timeout) {\n      setTimeout(run_inline_js, 100);\n    } else if (!root._bokeh_failed_load) {\n      console.log(\"Bokeh: BokehJS failed to load within specified timeout.\");\n      root._bokeh_failed_load = true;\n    } else if (force !== true) {\n      var cell = $(document.getElementById(\"1002\")).parents('.cell').data().cell;\n      cell.output_area.append_execute_result(NB_LOAD_WARNING)\n    }\n\n  }\n\n  if (root._bokeh_is_loading === 0) {\n    console.debug(\"Bokeh: BokehJS loaded, going straight to plotting\");\n    run_inline_js();\n  } else {\n    load_libs(css_urls, js_urls, function() {\n      console.debug(\"Bokeh: BokehJS plotting callback run at\", now());\n      run_inline_js();\n    });\n  }\n}(window));"
     },
     "metadata": {},
     "output_type": "display_data"
    }
   ],
   "source": [
    "from bokeh.plotting import figure\n",
    "from bokeh.io import output_notebook, show\n",
    "import random\n",
    "output_notebook()"
   ]
  },
  {
   "cell_type": "code",
   "execution_count": 2,
   "metadata": {
    "ExecuteTime": {
     "end_time": "2021-05-07T00:50:39.783115Z",
     "start_time": "2021-05-07T00:50:39.779666Z"
    }
   },
   "outputs": [],
   "source": [
    "gamma = 0.95\n",
    "lambda_ = 0.95\n",
    "alpha = 0.0001\n",
    "\n",
    "num_time_steps = 100\n",
    "activated_time_steps = [10, 20, 60]"
   ]
  },
  {
   "cell_type": "code",
   "execution_count": 43,
   "metadata": {
    "ExecuteTime": {
     "end_time": "2021-05-07T01:10:43.379974Z",
     "start_time": "2021-05-07T01:10:43.365648Z"
    }
   },
   "outputs": [],
   "source": [
    "def activate_current_feature(x):\n",
    "    x[0] = 1\n",
    "    return x\n",
    "    \n",
    "def activate_all_features(x):\n",
    "    x[:] = 1\n",
    "    return x\n",
    "\n",
    "def activate_all_other_features(x):\n",
    "    x[:] = 1\n",
    "    x[0] = 0\n",
    "    return x\n",
    "\n",
    "def active_some_features(x, p):\n",
    "    x[:] = 0\n",
    "    for i in range(x.size):\n",
    "        x[i] = np.random.choice([0, 1], p=[1-p, p])\n",
    "    x[0] = 0\n",
    "    return x\n",
    "\n",
    "def activate_random_other_feature(x):\n",
    "    idx = random.randrange(1, len(x))\n",
    "    x[idx] = 1\n",
    "    return x\n",
    "\n",
    "def update_dutch_trace(z, x):\n",
    "    w = (1 - alpha * gamma * lambda_ * (z.T @ x))\n",
    "    return gamma * lambda_ * z +  w * x"
   ]
  },
  {
   "cell_type": "code",
   "execution_count": 29,
   "metadata": {
    "ExecuteTime": {
     "end_time": "2021-05-07T01:05:49.297135Z",
     "start_time": "2021-05-07T01:05:49.208590Z"
    }
   },
   "outputs": [
    {
     "data": {
      "text/html": [
       "\n",
       "\n",
       "\n",
       "\n",
       "\n",
       "\n",
       "  <div class=\"bk-root\" id=\"e50f5bc9-dc8b-42b9-a085-21fe5f2b1ca2\" data-root-id=\"3523\"></div>\n"
      ]
     },
     "metadata": {},
     "output_type": "display_data"
    },
    {
     "data": {
      "application/javascript": [
       "(function(root) {\n",
       "  function embed_document(root) {\n",
       "    \n",
       "  var docs_json = {\"83619608-3874-4323-ae36-7707888eaa08\":{\"defs\":[],\"roots\":{\"references\":[{\"attributes\":{\"below\":[{\"id\":\"3534\"}],\"center\":[{\"id\":\"3537\"},{\"id\":\"3541\"}],\"height\":200,\"left\":[{\"id\":\"3538\"}],\"renderers\":[{\"id\":\"3559\"}],\"title\":{\"id\":\"3524\"},\"toolbar\":{\"id\":\"3549\"},\"width\":800,\"x_range\":{\"id\":\"3526\"},\"x_scale\":{\"id\":\"3530\"},\"y_range\":{\"id\":\"3528\"},\"y_scale\":{\"id\":\"3532\"}},\"id\":\"3523\",\"subtype\":\"Figure\",\"type\":\"Plot\"},{\"attributes\":{\"axis\":{\"id\":\"3538\"},\"dimension\":1,\"ticker\":null},\"id\":\"3541\",\"type\":\"Grid\"},{\"attributes\":{},\"id\":\"3526\",\"type\":\"DataRange1d\"},{\"attributes\":{},\"id\":\"3543\",\"type\":\"WheelZoomTool\"},{\"attributes\":{},\"id\":\"3712\",\"type\":\"BasicTickFormatter\"},{\"attributes\":{\"end\":2},\"id\":\"3528\",\"type\":\"Range1d\"},{\"attributes\":{\"text\":\"1 feature\"},\"id\":\"3524\",\"type\":\"Title\"},{\"attributes\":{},\"id\":\"3542\",\"type\":\"PanTool\"},{\"attributes\":{},\"id\":\"3532\",\"type\":\"LinearScale\"},{\"attributes\":{},\"id\":\"3539\",\"type\":\"BasicTicker\"},{\"attributes\":{},\"id\":\"3715\",\"type\":\"BasicTickFormatter\"},{\"attributes\":{\"source\":{\"id\":\"3556\"}},\"id\":\"3560\",\"type\":\"CDSView\"},{\"attributes\":{\"overlay\":{\"id\":\"3548\"}},\"id\":\"3544\",\"type\":\"BoxZoomTool\"},{\"attributes\":{},\"id\":\"3716\",\"type\":\"AllLabels\"},{\"attributes\":{\"data\":{\"x\":[0,1,2,3,4,5,6,7,8,9,10,11,12,13,14,15,16,17,18,19,20,21,22,23,24,25,26,27,28,29,30,31,32,33,34,35,36,37,38,39,40,41,42,43,44,45,46,47,48,49,50,51,52,53,54,55,56,57,58,59,60,61,62,63,64,65,66,67,68,69,70,71,72,73,74,75,76,77,78,79,80,81,82,83,84,85,86,87,88,89,90,91,92,93,94,95,96,97,98,99],\"y\":[0.0,0.0,0.0,0.0,0.0,0.0,0.0,0.0,0.0,0.0,1.0,0.9025,0.81450625,0.7350918906249999,0.6634204312890624,0.5987369392383788,0.5403600876626369,0.48767497911552976,0.4401266686517656,0.3972143184582184,1.3584500738163012,1.2260011916192117,1.1064660754363385,0.9985856330812954,0.9012235338558691,0.8133542393049218,0.7340522009726919,0.6624821113778544,0.5978901055185136,0.5395958202304585,0.48698522775798875,0.4395041680515848,0.3966525116665553,0.35797889177906617,0.3230759498306072,0.291576044722123,0.263147380361716,0.23749051077644867,0.2143351859757449,0.19343750534310977,0.17457734857215657,0.1575560570863713,0.1421943415204501,0.1283303932222062,0.1158181798830411,0.1045259073444446,0.09433463137836125,0.08513700481897102,0.07683614684912134,0.069344622531332,0.06258352183452713,0.05648162845566073,0.050974669681233806,0.04600463938731351,0.04151918704705044,0.03747106630996302,0.03381763734474162,0.030520417703629312,0.027544676977525454,0.02485907097221672,1.0224330680212703,0.9227458438891964,0.8327781241099997,0.7515822570092747,0.6783029869508704,0.6121684457231605,0.5524820222651524,0.49861502509430006,0.4500000601476058,0.4061250542832142,0.3665278614906008,0.3307913949952672,0.2985392339832287,0.26943165866986385,0.2431620719495521,0.21945376993447077,0.19805702736585987,0.17874646719768852,0.1613186866459139,0.14559011469793728,0.13139507851488838,0.11858405835968676,0.1070221126696173,0.09658745668432961,0.08717017965760747,0.07867108714099073,0.07100065614474413,0.06407809217063157,0.05783047818399499,0.05219200656105548,0.047103285921352565,0.04251071554402069,0.03836592077847867,0.034625243502576994,0.031249282261075737,0.028202477240620853,0.02545273570966032,0.02297109397796844,0.020731412315116517,0.018710099614392656]},\"selected\":{\"id\":\"3718\"},\"selection_policy\":{\"id\":\"3719\"}},\"id\":\"3556\",\"type\":\"ColumnDataSource\"},{\"attributes\":{},\"id\":\"3546\",\"type\":\"ResetTool\"},{\"attributes\":{},\"id\":\"3547\",\"type\":\"HelpTool\"},{\"attributes\":{\"line_color\":\"#1f77b4\",\"x\":{\"field\":\"x\"},\"y\":{\"field\":\"y\"}},\"id\":\"3557\",\"type\":\"Line\"},{\"attributes\":{},\"id\":\"3545\",\"type\":\"SaveTool\"},{\"attributes\":{},\"id\":\"3718\",\"type\":\"Selection\"},{\"attributes\":{},\"id\":\"3719\",\"type\":\"UnionRenderers\"},{\"attributes\":{\"line_alpha\":0.1,\"line_color\":\"#1f77b4\",\"x\":{\"field\":\"x\"},\"y\":{\"field\":\"y\"}},\"id\":\"3558\",\"type\":\"Line\"},{\"attributes\":{\"active_multi\":null,\"tools\":[{\"id\":\"3542\"},{\"id\":\"3543\"},{\"id\":\"3544\"},{\"id\":\"3545\"},{\"id\":\"3546\"},{\"id\":\"3547\"}]},\"id\":\"3549\",\"type\":\"Toolbar\"},{\"attributes\":{\"bottom_units\":\"screen\",\"fill_alpha\":0.5,\"fill_color\":\"lightgrey\",\"left_units\":\"screen\",\"level\":\"overlay\",\"line_alpha\":1.0,\"line_color\":\"black\",\"line_dash\":[4,4],\"line_width\":2,\"right_units\":\"screen\",\"syncable\":false,\"top_units\":\"screen\"},\"id\":\"3548\",\"type\":\"BoxAnnotation\"},{\"attributes\":{\"formatter\":{\"id\":\"3712\"},\"major_label_policy\":{\"id\":\"3713\"},\"ticker\":{\"id\":\"3539\"}},\"id\":\"3538\",\"type\":\"LinearAxis\"},{\"attributes\":{\"formatter\":{\"id\":\"3715\"},\"major_label_policy\":{\"id\":\"3716\"},\"ticker\":{\"id\":\"3535\"}},\"id\":\"3534\",\"type\":\"LinearAxis\"},{\"attributes\":{\"axis\":{\"id\":\"3534\"},\"ticker\":null},\"id\":\"3537\",\"type\":\"Grid\"},{\"attributes\":{},\"id\":\"3530\",\"type\":\"LinearScale\"},{\"attributes\":{},\"id\":\"3713\",\"type\":\"AllLabels\"},{\"attributes\":{},\"id\":\"3535\",\"type\":\"BasicTicker\"},{\"attributes\":{\"data_source\":{\"id\":\"3556\"},\"glyph\":{\"id\":\"3557\"},\"hover_glyph\":null,\"muted_glyph\":null,\"nonselection_glyph\":{\"id\":\"3558\"},\"view\":{\"id\":\"3560\"}},\"id\":\"3559\",\"type\":\"GlyphRenderer\"}],\"root_ids\":[\"3523\"]},\"title\":\"Bokeh Application\",\"version\":\"2.3.1\"}};\n",
       "  var render_items = [{\"docid\":\"83619608-3874-4323-ae36-7707888eaa08\",\"root_ids\":[\"3523\"],\"roots\":{\"3523\":\"e50f5bc9-dc8b-42b9-a085-21fe5f2b1ca2\"}}];\n",
       "  root.Bokeh.embed.embed_items_notebook(docs_json, render_items);\n",
       "\n",
       "  }\n",
       "  if (root.Bokeh !== undefined) {\n",
       "    embed_document(root);\n",
       "  } else {\n",
       "    var attempts = 0;\n",
       "    var timer = setInterval(function(root) {\n",
       "      if (root.Bokeh !== undefined) {\n",
       "        clearInterval(timer);\n",
       "        embed_document(root);\n",
       "      } else {\n",
       "        attempts++;\n",
       "        if (attempts > 100) {\n",
       "          clearInterval(timer);\n",
       "          console.log(\"Bokeh: ERROR: Unable to run BokehJS code because BokehJS library is missing\");\n",
       "        }\n",
       "      }\n",
       "    }, 10, root)\n",
       "  }\n",
       "})(window);"
      ],
      "application/vnd.bokehjs_exec.v0+json": ""
     },
     "metadata": {
      "application/vnd.bokehjs_exec.v0+json": {
       "id": "3523"
      }
     },
     "output_type": "display_data"
    }
   ],
   "source": [
    "num_features = 1\n",
    "z = np.zeros(num_features)\n",
    "zs = []\n",
    "for t in range(num_time_steps):\n",
    "    x = np.zeros(num_features)\n",
    "    if t in activated_time_steps:\n",
    "        x = activate_current_feature(x)\n",
    "    z = update_dutch_trace(z, x)\n",
    "    zs.append(z[0])\n",
    "\n",
    "fig = figure(\n",
    "    title='1 feature',\n",
    "    width=800, height=200, y_range=(0, 2)\n",
    ")\n",
    "fig.line(x=np.arange(len(zs)), y=zs)\n",
    "show(fig)"
   ]
  },
  {
   "cell_type": "code",
   "execution_count": 5,
   "metadata": {
    "ExecuteTime": {
     "end_time": "2021-05-07T00:50:44.151265Z",
     "start_time": "2021-05-07T00:50:44.104275Z"
    }
   },
   "outputs": [
    {
     "data": {
      "text/html": [
       "\n",
       "\n",
       "\n",
       "\n",
       "\n",
       "\n",
       "  <div class=\"bk-root\" id=\"1f759b32-8841-4df4-a890-a6db1ea78da2\" data-root-id=\"1101\"></div>\n"
      ]
     },
     "metadata": {},
     "output_type": "display_data"
    },
    {
     "data": {
      "application/javascript": [
       "(function(root) {\n",
       "  function embed_document(root) {\n",
       "    \n",
       "  var docs_json = {\"aac9734c-40c1-4fae-9585-8bead54e6d47\":{\"defs\":[],\"roots\":{\"references\":[{\"attributes\":{\"below\":[{\"id\":\"1112\"}],\"center\":[{\"id\":\"1115\"},{\"id\":\"1119\"}],\"height\":200,\"left\":[{\"id\":\"1116\"}],\"renderers\":[{\"id\":\"1137\"}],\"title\":{\"id\":\"1102\"},\"toolbar\":{\"id\":\"1127\"},\"width\":800,\"x_range\":{\"id\":\"1104\"},\"x_scale\":{\"id\":\"1108\"},\"y_range\":{\"id\":\"1106\"},\"y_scale\":{\"id\":\"1110\"}},\"id\":\"1101\",\"subtype\":\"Figure\",\"type\":\"Plot\"},{\"attributes\":{},\"id\":\"1124\",\"type\":\"ResetTool\"},{\"attributes\":{},\"id\":\"1120\",\"type\":\"PanTool\"},{\"attributes\":{},\"id\":\"1104\",\"type\":\"DataRange1d\"},{\"attributes\":{},\"id\":\"1151\",\"type\":\"AllLabels\"},{\"attributes\":{},\"id\":\"1157\",\"type\":\"UnionRenderers\"},{\"attributes\":{},\"id\":\"1150\",\"type\":\"BasicTickFormatter\"},{\"attributes\":{},\"id\":\"1154\",\"type\":\"AllLabels\"},{\"attributes\":{},\"id\":\"1108\",\"type\":\"LinearScale\"},{\"attributes\":{\"end\":2},\"id\":\"1106\",\"type\":\"Range1d\"},{\"attributes\":{},\"id\":\"1110\",\"type\":\"LinearScale\"},{\"attributes\":{\"formatter\":{\"id\":\"1153\"},\"major_label_policy\":{\"id\":\"1154\"},\"ticker\":{\"id\":\"1113\"}},\"id\":\"1112\",\"type\":\"LinearAxis\"},{\"attributes\":{},\"id\":\"1153\",\"type\":\"BasicTickFormatter\"},{\"attributes\":{\"overlay\":{\"id\":\"1126\"}},\"id\":\"1122\",\"type\":\"BoxZoomTool\"},{\"attributes\":{\"bottom_units\":\"screen\",\"fill_alpha\":0.5,\"fill_color\":\"lightgrey\",\"left_units\":\"screen\",\"level\":\"overlay\",\"line_alpha\":1.0,\"line_color\":\"black\",\"line_dash\":[4,4],\"line_width\":2,\"right_units\":\"screen\",\"syncable\":false,\"top_units\":\"screen\"},\"id\":\"1126\",\"type\":\"BoxAnnotation\"},{\"attributes\":{\"text\":\"10000 features, only one feature active at the same time (tabular case)\"},\"id\":\"1102\",\"type\":\"Title\"},{\"attributes\":{\"formatter\":{\"id\":\"1150\"},\"major_label_policy\":{\"id\":\"1151\"},\"ticker\":{\"id\":\"1117\"}},\"id\":\"1116\",\"type\":\"LinearAxis\"},{\"attributes\":{},\"id\":\"1113\",\"type\":\"BasicTicker\"},{\"attributes\":{\"data\":{\"x\":[0,1,2,3,4,5,6,7,8,9,10,11,12,13,14,15,16,17,18,19,20,21,22,23,24,25,26,27,28,29,30,31,32,33,34,35,36,37,38,39,40,41,42,43,44,45,46,47,48,49,50,51,52,53,54,55,56,57,58,59,60,61,62,63,64,65,66,67,68,69,70,71,72,73,74,75,76,77,78,79,80,81,82,83,84,85,86,87,88,89,90,91,92,93,94,95,96,97,98,99],\"y\":[0.0,0.0,0.0,0.0,0.0,0.0,0.0,0.0,0.0,0.0,1.0,0.9025,0.81450625,0.7350918906249999,0.6634204312890624,0.5987369392383788,0.5403600876626369,0.48767497911552976,0.4401266686517656,0.3972143184582184,1.3584500738163012,1.2260011916192117,1.1064660754363385,0.9985856330812954,0.9012235338558691,0.8133542393049218,0.7340522009726919,0.6624821113778544,0.5978901055185136,0.5395958202304585,0.48698522775798875,0.4395041680515848,0.3966525116665553,0.35797889177906617,0.3230759498306072,0.291576044722123,0.263147380361716,0.23749051077644867,0.2143351859757449,0.19343750534310977,0.17457734857215657,0.1575560570863713,0.1421943415204501,0.1283303932222062,0.1158181798830411,0.1045259073444446,0.09433463137836125,0.08513700481897102,0.07683614684912134,0.069344622531332,0.06258352183452713,0.05648162845566073,0.050974669681233806,0.04600463938731351,0.04151918704705044,0.03747106630996302,0.03381763734474162,0.030520417703629312,0.027544676977525454,0.02485907097221672,1.0224330680212703,0.9227458438891964,0.8327781241099997,0.7515822570092747,0.6783029869508704,0.6121684457231605,0.5524820222651524,0.49861502509430006,0.4500000601476058,0.4061250542832142,0.3665278614906008,0.3307913949952672,0.2985392339832287,0.26943165866986385,0.2431620719495521,0.21945376993447077,0.19805702736585987,0.17874646719768852,0.1613186866459139,0.14559011469793728,0.13139507851488838,0.11858405835968676,0.1070221126696173,0.09658745668432961,0.08717017965760747,0.07867108714099073,0.07100065614474413,0.06407809217063157,0.05783047818399499,0.05219200656105548,0.047103285921352565,0.04251071554402069,0.03836592077847867,0.034625243502576994,0.031249282261075737,0.028202477240620853,0.02545273570966032,0.02297109397796844,0.020731412315116517,0.018710099614392656]},\"selected\":{\"id\":\"1156\"},\"selection_policy\":{\"id\":\"1157\"}},\"id\":\"1134\",\"type\":\"ColumnDataSource\"},{\"attributes\":{},\"id\":\"1123\",\"type\":\"SaveTool\"},{\"attributes\":{},\"id\":\"1117\",\"type\":\"BasicTicker\"},{\"attributes\":{\"line_color\":\"#1f77b4\",\"x\":{\"field\":\"x\"},\"y\":{\"field\":\"y\"}},\"id\":\"1135\",\"type\":\"Line\"},{\"attributes\":{\"axis\":{\"id\":\"1116\"},\"dimension\":1,\"ticker\":null},\"id\":\"1119\",\"type\":\"Grid\"},{\"attributes\":{},\"id\":\"1125\",\"type\":\"HelpTool\"},{\"attributes\":{\"axis\":{\"id\":\"1112\"},\"ticker\":null},\"id\":\"1115\",\"type\":\"Grid\"},{\"attributes\":{\"active_multi\":null,\"tools\":[{\"id\":\"1120\"},{\"id\":\"1121\"},{\"id\":\"1122\"},{\"id\":\"1123\"},{\"id\":\"1124\"},{\"id\":\"1125\"}]},\"id\":\"1127\",\"type\":\"Toolbar\"},{\"attributes\":{\"line_alpha\":0.1,\"line_color\":\"#1f77b4\",\"x\":{\"field\":\"x\"},\"y\":{\"field\":\"y\"}},\"id\":\"1136\",\"type\":\"Line\"},{\"attributes\":{},\"id\":\"1121\",\"type\":\"WheelZoomTool\"},{\"attributes\":{},\"id\":\"1156\",\"type\":\"Selection\"},{\"attributes\":{\"source\":{\"id\":\"1134\"}},\"id\":\"1138\",\"type\":\"CDSView\"},{\"attributes\":{\"data_source\":{\"id\":\"1134\"},\"glyph\":{\"id\":\"1135\"},\"hover_glyph\":null,\"muted_glyph\":null,\"nonselection_glyph\":{\"id\":\"1136\"},\"view\":{\"id\":\"1138\"}},\"id\":\"1137\",\"type\":\"GlyphRenderer\"}],\"root_ids\":[\"1101\"]},\"title\":\"Bokeh Application\",\"version\":\"2.3.1\"}};\n",
       "  var render_items = [{\"docid\":\"aac9734c-40c1-4fae-9585-8bead54e6d47\",\"root_ids\":[\"1101\"],\"roots\":{\"1101\":\"1f759b32-8841-4df4-a890-a6db1ea78da2\"}}];\n",
       "  root.Bokeh.embed.embed_items_notebook(docs_json, render_items);\n",
       "\n",
       "  }\n",
       "  if (root.Bokeh !== undefined) {\n",
       "    embed_document(root);\n",
       "  } else {\n",
       "    var attempts = 0;\n",
       "    var timer = setInterval(function(root) {\n",
       "      if (root.Bokeh !== undefined) {\n",
       "        clearInterval(timer);\n",
       "        embed_document(root);\n",
       "      } else {\n",
       "        attempts++;\n",
       "        if (attempts > 100) {\n",
       "          clearInterval(timer);\n",
       "          console.log(\"Bokeh: ERROR: Unable to run BokehJS code because BokehJS library is missing\");\n",
       "        }\n",
       "      }\n",
       "    }, 10, root)\n",
       "  }\n",
       "})(window);"
      ],
      "application/vnd.bokehjs_exec.v0+json": ""
     },
     "metadata": {
      "application/vnd.bokehjs_exec.v0+json": {
       "id": "1101"
      }
     },
     "output_type": "display_data"
    }
   ],
   "source": [
    "num_features = 10000\n",
    "z = np.zeros(num_features)\n",
    "zs = []\n",
    "for t in range(num_time_steps):\n",
    "    x = np.zeros(num_features)\n",
    "    if t in activated_time_steps:\n",
    "        x = activate_current_feature(x)\n",
    "    else:\n",
    "        x = activate_random_other_feature(x)\n",
    "    z = update_dutch_trace(z, x)\n",
    "    zs.append(z[0])\n",
    "\n",
    "fig = figure(\n",
    "    title='10000 features, only one feature active at the same time (tabular case)',\n",
    "    width=800, height=200, y_range=(0, 2)\n",
    ")\n",
    "fig.line(x=np.arange(len(zs)), y=zs)\n",
    "show(fig)"
   ]
  },
  {
   "cell_type": "code",
   "execution_count": 6,
   "metadata": {
    "ExecuteTime": {
     "end_time": "2021-05-07T00:50:44.329259Z",
     "start_time": "2021-05-07T00:50:44.281187Z"
    }
   },
   "outputs": [
    {
     "data": {
      "text/html": [
       "\n",
       "\n",
       "\n",
       "\n",
       "\n",
       "\n",
       "  <div class=\"bk-root\" id=\"e4a4daa7-a826-4500-877c-88c15c0a2288\" data-root-id=\"1209\"></div>\n"
      ]
     },
     "metadata": {},
     "output_type": "display_data"
    },
    {
     "data": {
      "application/javascript": [
       "(function(root) {\n",
       "  function embed_document(root) {\n",
       "    \n",
       "  var docs_json = {\"8f7695ce-ef49-4101-87c9-6ba323f66a15\":{\"defs\":[],\"roots\":{\"references\":[{\"attributes\":{\"below\":[{\"id\":\"1220\"}],\"center\":[{\"id\":\"1223\"},{\"id\":\"1227\"}],\"height\":200,\"left\":[{\"id\":\"1224\"}],\"renderers\":[{\"id\":\"1245\"}],\"title\":{\"id\":\"1210\"},\"toolbar\":{\"id\":\"1235\"},\"width\":800,\"x_range\":{\"id\":\"1212\"},\"x_scale\":{\"id\":\"1216\"},\"y_range\":{\"id\":\"1214\"},\"y_scale\":{\"id\":\"1218\"}},\"id\":\"1209\",\"subtype\":\"Figure\",\"type\":\"Plot\"},{\"attributes\":{\"end\":2},\"id\":\"1214\",\"type\":\"Range1d\"},{\"attributes\":{\"overlay\":{\"id\":\"1234\"}},\"id\":\"1230\",\"type\":\"BoxZoomTool\"},{\"attributes\":{\"text\":\"10000 features, all other features activate with the target feature at the same time\"},\"id\":\"1210\",\"type\":\"Title\"},{\"attributes\":{},\"id\":\"1212\",\"type\":\"DataRange1d\"},{\"attributes\":{},\"id\":\"1269\",\"type\":\"AllLabels\"},{\"attributes\":{\"line_color\":\"#1f77b4\",\"x\":{\"field\":\"x\"},\"y\":{\"field\":\"y\"}},\"id\":\"1243\",\"type\":\"Line\"},{\"attributes\":{\"axis\":{\"id\":\"1224\"},\"dimension\":1,\"ticker\":null},\"id\":\"1227\",\"type\":\"Grid\"},{\"attributes\":{},\"id\":\"1275\",\"type\":\"UnionRenderers\"},{\"attributes\":{\"data\":{\"x\":[0,1,2,3,4,5,6,7,8,9,10,11,12,13,14,15,16,17,18,19,20,21,22,23,24,25,26,27,28,29,30,31,32,33,34,35,36,37,38,39,40,41,42,43,44,45,46,47,48,49,50,51,52,53,54,55,56,57,58,59,60,61,62,63,64,65,66,67,68,69,70,71,72,73,74,75,76,77,78,79,80,81,82,83,84,85,86,87,88,89,90,91,92,93,94,95,96,97,98,99],\"y\":[0.0,0.0,0.0,0.0,0.0,0.0,0.0,0.0,0.0,0.0,1.0,0.9025,0.81450625,0.7350918906249999,0.6634204312890624,0.5987369392383788,0.5403600876626369,0.48767497911552976,0.4401266686517656,0.3972143184582184,0.9999999999999956,0.902499999999996,0.8145062499999963,0.7350918906249967,0.6634204312890595,0.5987369392383761,0.5403600876626344,0.48767497911552754,0.4401266686517636,0.39721431845821664,0.3584859224085405,0.3235335449737078,0.2919890243387713,0.26352009446574104,0.23782688525533127,0.21463876394293646,0.19371148445850014,0.17482461472379637,0.15777921478822624,0.14239574134637417,0.12851215656510268,0.11598222130000516,0.10467395472325465,0.09446824413773731,0.08525759033430792,0.0769449752767129,0.06944284018723339,0.06267216326897813,0.05656162735025277,0.05104686868360312,0.046069798986951814,0.04157799358572401,0.03752413921111592,0.033865535638032115,0.030563645913323983,0.027583690436774895,0.024894280619189343,0.022467088258818383,0.02027654715358359,0.018299583806109188,0.9999999999999998,0.9024999999999997,0.8145062499999998,0.7350918906249998,0.6634204312890623,0.5987369392383787,0.5403600876626368,0.48767497911552965,0.4401266686517655,0.3972143184582183,0.358485922408542,0.3235335449737091,0.2919890243387725,0.26352009446574215,0.23782688525533227,0.21463876394293738,0.19371148445850098,0.17482461472379712,0.1577792147882269,0.14239574134637478,0.12851215656510323,0.11598222130000566,0.1046739547232551,0.09446824413773772,0.08525759033430828,0.07694497527671322,0.06944284018723368,0.0626721632689784,0.056561627350253,0.051046868683603336,0.04606979898695201,0.041577993585724185,0.037524139211116074,0.033865535638032254,0.030563645913324108,0.027583690436775006,0.02489428061918944,0.02246708825881847,0.02027654715358367,0.01829958380610926]},\"selected\":{\"id\":\"1274\"},\"selection_policy\":{\"id\":\"1275\"}},\"id\":\"1242\",\"type\":\"ColumnDataSource\"},{\"attributes\":{},\"id\":\"1268\",\"type\":\"BasicTickFormatter\"},{\"attributes\":{},\"id\":\"1221\",\"type\":\"BasicTicker\"},{\"attributes\":{\"bottom_units\":\"screen\",\"fill_alpha\":0.5,\"fill_color\":\"lightgrey\",\"left_units\":\"screen\",\"level\":\"overlay\",\"line_alpha\":1.0,\"line_color\":\"black\",\"line_dash\":[4,4],\"line_width\":2,\"right_units\":\"screen\",\"syncable\":false,\"top_units\":\"screen\"},\"id\":\"1234\",\"type\":\"BoxAnnotation\"},{\"attributes\":{},\"id\":\"1216\",\"type\":\"LinearScale\"},{\"attributes\":{},\"id\":\"1231\",\"type\":\"SaveTool\"},{\"attributes\":{},\"id\":\"1228\",\"type\":\"PanTool\"},{\"attributes\":{\"active_multi\":null,\"tools\":[{\"id\":\"1228\"},{\"id\":\"1229\"},{\"id\":\"1230\"},{\"id\":\"1231\"},{\"id\":\"1232\"},{\"id\":\"1233\"}]},\"id\":\"1235\",\"type\":\"Toolbar\"},{\"attributes\":{},\"id\":\"1229\",\"type\":\"WheelZoomTool\"},{\"attributes\":{},\"id\":\"1225\",\"type\":\"BasicTicker\"},{\"attributes\":{},\"id\":\"1271\",\"type\":\"BasicTickFormatter\"},{\"attributes\":{\"line_alpha\":0.1,\"line_color\":\"#1f77b4\",\"x\":{\"field\":\"x\"},\"y\":{\"field\":\"y\"}},\"id\":\"1244\",\"type\":\"Line\"},{\"attributes\":{\"axis\":{\"id\":\"1220\"},\"ticker\":null},\"id\":\"1223\",\"type\":\"Grid\"},{\"attributes\":{},\"id\":\"1218\",\"type\":\"LinearScale\"},{\"attributes\":{},\"id\":\"1233\",\"type\":\"HelpTool\"},{\"attributes\":{\"data_source\":{\"id\":\"1242\"},\"glyph\":{\"id\":\"1243\"},\"hover_glyph\":null,\"muted_glyph\":null,\"nonselection_glyph\":{\"id\":\"1244\"},\"view\":{\"id\":\"1246\"}},\"id\":\"1245\",\"type\":\"GlyphRenderer\"},{\"attributes\":{\"formatter\":{\"id\":\"1271\"},\"major_label_policy\":{\"id\":\"1272\"},\"ticker\":{\"id\":\"1221\"}},\"id\":\"1220\",\"type\":\"LinearAxis\"},{\"attributes\":{},\"id\":\"1274\",\"type\":\"Selection\"},{\"attributes\":{\"formatter\":{\"id\":\"1268\"},\"major_label_policy\":{\"id\":\"1269\"},\"ticker\":{\"id\":\"1225\"}},\"id\":\"1224\",\"type\":\"LinearAxis\"},{\"attributes\":{},\"id\":\"1232\",\"type\":\"ResetTool\"},{\"attributes\":{},\"id\":\"1272\",\"type\":\"AllLabels\"},{\"attributes\":{\"source\":{\"id\":\"1242\"}},\"id\":\"1246\",\"type\":\"CDSView\"}],\"root_ids\":[\"1209\"]},\"title\":\"Bokeh Application\",\"version\":\"2.3.1\"}};\n",
       "  var render_items = [{\"docid\":\"8f7695ce-ef49-4101-87c9-6ba323f66a15\",\"root_ids\":[\"1209\"],\"roots\":{\"1209\":\"e4a4daa7-a826-4500-877c-88c15c0a2288\"}}];\n",
       "  root.Bokeh.embed.embed_items_notebook(docs_json, render_items);\n",
       "\n",
       "  }\n",
       "  if (root.Bokeh !== undefined) {\n",
       "    embed_document(root);\n",
       "  } else {\n",
       "    var attempts = 0;\n",
       "    var timer = setInterval(function(root) {\n",
       "      if (root.Bokeh !== undefined) {\n",
       "        clearInterval(timer);\n",
       "        embed_document(root);\n",
       "      } else {\n",
       "        attempts++;\n",
       "        if (attempts > 100) {\n",
       "          clearInterval(timer);\n",
       "          console.log(\"Bokeh: ERROR: Unable to run BokehJS code because BokehJS library is missing\");\n",
       "        }\n",
       "      }\n",
       "    }, 10, root)\n",
       "  }\n",
       "})(window);"
      ],
      "application/vnd.bokehjs_exec.v0+json": ""
     },
     "metadata": {
      "application/vnd.bokehjs_exec.v0+json": {
       "id": "1209"
      }
     },
     "output_type": "display_data"
    }
   ],
   "source": [
    "num_features = 10000\n",
    "z = np.zeros(num_features)\n",
    "zs = []\n",
    "for t in range(num_time_steps):\n",
    "    x = np.zeros(num_features)\n",
    "    if t in activated_time_steps:\n",
    "        x = activate_all_features(x)\n",
    "    z = update_dutch_trace(z, x)\n",
    "    zs.append(z[0])\n",
    "\n",
    "fig = figure(\n",
    "    title='10000 features, all other features activate with the target feature at the same time',\n",
    "    width=800, height=200, y_range=(0, 2)\n",
    ")\n",
    "fig.line(x=np.arange(len(zs)), y=zs)\n",
    "show(fig)"
   ]
  },
  {
   "cell_type": "code",
   "execution_count": 7,
   "metadata": {
    "ExecuteTime": {
     "end_time": "2021-05-07T00:50:44.553900Z",
     "start_time": "2021-05-07T00:50:44.486213Z"
    }
   },
   "outputs": [
    {
     "data": {
      "text/html": [
       "\n",
       "\n",
       "\n",
       "\n",
       "\n",
       "\n",
       "  <div class=\"bk-root\" id=\"a310b6da-0ba3-4689-8138-bf7abbc1a729\" data-root-id=\"1327\"></div>\n"
      ]
     },
     "metadata": {},
     "output_type": "display_data"
    },
    {
     "data": {
      "application/javascript": [
       "(function(root) {\n",
       "  function embed_document(root) {\n",
       "    \n",
       "  var docs_json = {\"b877c2ac-74a1-463f-ad4d-d70ae74d329e\":{\"defs\":[],\"roots\":{\"references\":[{\"attributes\":{\"below\":[{\"id\":\"1338\"}],\"center\":[{\"id\":\"1341\"},{\"id\":\"1345\"}],\"height\":200,\"left\":[{\"id\":\"1342\"}],\"renderers\":[{\"id\":\"1363\"}],\"title\":{\"id\":\"1328\"},\"toolbar\":{\"id\":\"1353\"},\"width\":800,\"x_range\":{\"id\":\"1330\"},\"x_scale\":{\"id\":\"1334\"},\"y_range\":{\"id\":\"1332\"},\"y_scale\":{\"id\":\"1336\"}},\"id\":\"1327\",\"subtype\":\"Figure\",\"type\":\"Plot\"},{\"attributes\":{\"source\":{\"id\":\"1360\"}},\"id\":\"1364\",\"type\":\"CDSView\"},{\"attributes\":{},\"id\":\"1399\",\"type\":\"BasicTickFormatter\"},{\"attributes\":{\"text\":\"20000 features, all other features activate with the target feature at the same time\"},\"id\":\"1328\",\"type\":\"Title\"},{\"attributes\":{},\"id\":\"1346\",\"type\":\"PanTool\"},{\"attributes\":{},\"id\":\"1330\",\"type\":\"DataRange1d\"},{\"attributes\":{},\"id\":\"1347\",\"type\":\"WheelZoomTool\"},{\"attributes\":{\"overlay\":{\"id\":\"1352\"}},\"id\":\"1348\",\"type\":\"BoxZoomTool\"},{\"attributes\":{},\"id\":\"1402\",\"type\":\"Selection\"},{\"attributes\":{},\"id\":\"1349\",\"type\":\"SaveTool\"},{\"attributes\":{},\"id\":\"1400\",\"type\":\"AllLabels\"},{\"attributes\":{},\"id\":\"1334\",\"type\":\"LinearScale\"},{\"attributes\":{},\"id\":\"1403\",\"type\":\"UnionRenderers\"},{\"attributes\":{\"end\":2},\"id\":\"1332\",\"type\":\"Range1d\"},{\"attributes\":{},\"id\":\"1350\",\"type\":\"ResetTool\"},{\"attributes\":{},\"id\":\"1336\",\"type\":\"LinearScale\"},{\"attributes\":{\"line_color\":\"#1f77b4\",\"x\":{\"field\":\"x\"},\"y\":{\"field\":\"y\"}},\"id\":\"1361\",\"type\":\"Line\"},{\"attributes\":{},\"id\":\"1351\",\"type\":\"HelpTool\"},{\"attributes\":{\"line_alpha\":0.1,\"line_color\":\"#1f77b4\",\"x\":{\"field\":\"x\"},\"y\":{\"field\":\"y\"}},\"id\":\"1362\",\"type\":\"Line\"},{\"attributes\":{},\"id\":\"1396\",\"type\":\"BasicTickFormatter\"},{\"attributes\":{\"formatter\":{\"id\":\"1399\"},\"major_label_policy\":{\"id\":\"1400\"},\"ticker\":{\"id\":\"1339\"}},\"id\":\"1338\",\"type\":\"LinearAxis\"},{\"attributes\":{},\"id\":\"1343\",\"type\":\"BasicTicker\"},{\"attributes\":{},\"id\":\"1339\",\"type\":\"BasicTicker\"},{\"attributes\":{\"axis\":{\"id\":\"1338\"},\"ticker\":null},\"id\":\"1341\",\"type\":\"Grid\"},{\"attributes\":{\"axis\":{\"id\":\"1342\"},\"dimension\":1,\"ticker\":null},\"id\":\"1345\",\"type\":\"Grid\"},{\"attributes\":{\"formatter\":{\"id\":\"1396\"},\"major_label_policy\":{\"id\":\"1397\"},\"ticker\":{\"id\":\"1343\"}},\"id\":\"1342\",\"type\":\"LinearAxis\"},{\"attributes\":{},\"id\":\"1397\",\"type\":\"AllLabels\"},{\"attributes\":{\"bottom_units\":\"screen\",\"fill_alpha\":0.5,\"fill_color\":\"lightgrey\",\"left_units\":\"screen\",\"level\":\"overlay\",\"line_alpha\":1.0,\"line_color\":\"black\",\"line_dash\":[4,4],\"line_width\":2,\"right_units\":\"screen\",\"syncable\":false,\"top_units\":\"screen\"},\"id\":\"1352\",\"type\":\"BoxAnnotation\"},{\"attributes\":{\"data\":{\"x\":[0,1,2,3,4,5,6,7,8,9,10,11,12,13,14,15,16,17,18,19,20,21,22,23,24,25,26,27,28,29,30,31,32,33,34,35,36,37,38,39,40,41,42,43,44,45,46,47,48,49,50,51,52,53,54,55,56,57,58,59,60,61,62,63,64,65,66,67,68,69,70,71,72,73,74,75,76,77,78,79,80,81,82,83,84,85,86,87,88,89,90,91,92,93,94,95,96,97,98,99],\"y\":[0.0,0.0,0.0,0.0,0.0,0.0,0.0,0.0,0.0,0.0,1.0,0.9025,0.81450625,0.7350918906249999,0.6634204312890624,0.5987369392383788,0.5403600876626369,0.48767497911552976,0.4401266686517656,0.3972143184582184,0.6415140775914556,0.5789664550262886,0.5225172256612255,0.471571796159256,0.4255935460337285,0.38409817529544,0.3466486032041346,0.3128503643917315,0.28234745386353766,0.25481857711184275,0.22997376584343807,0.20755132367370285,0.1873150696155168,0.1690518503280039,0.15256929492102353,0.13769378866622373,0.12426864427126691,0.11215245145481838,0.10121758743797359,0.09134887266277116,0.08244235757815097,0.07440422771428125,0.06714981551213882,0.06060270849970528,0.05469394442098401,0.04936128483993807,0.044548559568044106,0.0402050750101598,0.03628508019666922,0.03274728487749397,0.029554424601938304,0.02667286820324932,0.024072263553432508,0.021725217856972838,0.019607009115917985,0.01769532572711598,0.01597003146872217,0.014412953400521759,0.013007690443970887,0.011739440625683726,0.9894051548353204,0.8929381522388766,0.8058766823955861,0.7273037058620164,0.6563915945404698,0.592393414072774,0.5346350562006785,0.4825081382211124,0.43546359474455393,0.3930058942569599,0.3546878195669063,0.3201057571591329,0.2888954458361174,0.260728139867096,0.2353071462300541,0.21236469947262382,0.191659141274043,0.1729723749998238,0.15610756843734097,0.14088708051470022,0.12715059016451694,0.11475340762347654,0.10356495038018756,0.09346736771811927,0.08435429936560264,0.07612975517745638,0.06870710404765437,0.06200816140300807,0.055962365666214785,0.05050603501375884,0.04558169659991735,0.041137481181425406,0.03712657676623643,0.03350673553152838,0.030239828817204363,0.027291445507526938,0.024630529570543062,0.022229052937415113,0.020061720276017138,0.018105702549105467]},\"selected\":{\"id\":\"1402\"},\"selection_policy\":{\"id\":\"1403\"}},\"id\":\"1360\",\"type\":\"ColumnDataSource\"},{\"attributes\":{\"data_source\":{\"id\":\"1360\"},\"glyph\":{\"id\":\"1361\"},\"hover_glyph\":null,\"muted_glyph\":null,\"nonselection_glyph\":{\"id\":\"1362\"},\"view\":{\"id\":\"1364\"}},\"id\":\"1363\",\"type\":\"GlyphRenderer\"},{\"attributes\":{\"active_multi\":null,\"tools\":[{\"id\":\"1346\"},{\"id\":\"1347\"},{\"id\":\"1348\"},{\"id\":\"1349\"},{\"id\":\"1350\"},{\"id\":\"1351\"}]},\"id\":\"1353\",\"type\":\"Toolbar\"}],\"root_ids\":[\"1327\"]},\"title\":\"Bokeh Application\",\"version\":\"2.3.1\"}};\n",
       "  var render_items = [{\"docid\":\"b877c2ac-74a1-463f-ad4d-d70ae74d329e\",\"root_ids\":[\"1327\"],\"roots\":{\"1327\":\"a310b6da-0ba3-4689-8138-bf7abbc1a729\"}}];\n",
       "  root.Bokeh.embed.embed_items_notebook(docs_json, render_items);\n",
       "\n",
       "  }\n",
       "  if (root.Bokeh !== undefined) {\n",
       "    embed_document(root);\n",
       "  } else {\n",
       "    var attempts = 0;\n",
       "    var timer = setInterval(function(root) {\n",
       "      if (root.Bokeh !== undefined) {\n",
       "        clearInterval(timer);\n",
       "        embed_document(root);\n",
       "      } else {\n",
       "        attempts++;\n",
       "        if (attempts > 100) {\n",
       "          clearInterval(timer);\n",
       "          console.log(\"Bokeh: ERROR: Unable to run BokehJS code because BokehJS library is missing\");\n",
       "        }\n",
       "      }\n",
       "    }, 10, root)\n",
       "  }\n",
       "})(window);"
      ],
      "application/vnd.bokehjs_exec.v0+json": ""
     },
     "metadata": {
      "application/vnd.bokehjs_exec.v0+json": {
       "id": "1327"
      }
     },
     "output_type": "display_data"
    }
   ],
   "source": [
    "num_features = 20000\n",
    "z = np.zeros(num_features)\n",
    "zs = []\n",
    "for t in range(num_time_steps):\n",
    "    x = np.zeros(num_features)\n",
    "    if t in activated_time_steps:\n",
    "        x = activate_all_features(x)\n",
    "    z = update_dutch_trace(z, x)\n",
    "    zs.append(z[0])\n",
    "\n",
    "fig = figure(\n",
    "    title='20000 features, all other features activate with the target feature at the same time',\n",
    "    width=800, height=200, y_range=(0, 2)\n",
    ")\n",
    "fig.line(x=np.arange(len(zs)), y=zs)\n",
    "show(fig)"
   ]
  },
  {
   "cell_type": "code",
   "execution_count": 8,
   "metadata": {
    "ExecuteTime": {
     "end_time": "2021-05-07T00:50:44.720205Z",
     "start_time": "2021-05-07T00:50:44.656796Z"
    }
   },
   "outputs": [
    {
     "data": {
      "text/html": [
       "\n",
       "\n",
       "\n",
       "\n",
       "\n",
       "\n",
       "  <div class=\"bk-root\" id=\"2b22bd51-aea9-44cf-ad58-6a39dcfdd2a3\" data-root-id=\"1455\"></div>\n"
      ]
     },
     "metadata": {},
     "output_type": "display_data"
    },
    {
     "data": {
      "application/javascript": [
       "(function(root) {\n",
       "  function embed_document(root) {\n",
       "    \n",
       "  var docs_json = {\"ed1387b2-8323-4959-91ea-c7d121096813\":{\"defs\":[],\"roots\":{\"references\":[{\"attributes\":{\"below\":[{\"id\":\"1466\"}],\"center\":[{\"id\":\"1469\"},{\"id\":\"1473\"}],\"height\":200,\"left\":[{\"id\":\"1470\"}],\"renderers\":[{\"id\":\"1491\"}],\"title\":{\"id\":\"1456\"},\"toolbar\":{\"id\":\"1481\"},\"width\":800,\"x_range\":{\"id\":\"1458\"},\"x_scale\":{\"id\":\"1462\"},\"y_range\":{\"id\":\"1460\"},\"y_scale\":{\"id\":\"1464\"}},\"id\":\"1455\",\"subtype\":\"Figure\",\"type\":\"Plot\"},{\"attributes\":{\"axis\":{\"id\":\"1470\"},\"dimension\":1,\"ticker\":null},\"id\":\"1473\",\"type\":\"Grid\"},{\"attributes\":{\"formatter\":{\"id\":\"1537\"},\"major_label_policy\":{\"id\":\"1538\"},\"ticker\":{\"id\":\"1467\"}},\"id\":\"1466\",\"type\":\"LinearAxis\"},{\"attributes\":{},\"id\":\"1467\",\"type\":\"BasicTicker\"},{\"attributes\":{\"axis\":{\"id\":\"1466\"},\"ticker\":null},\"id\":\"1469\",\"type\":\"Grid\"},{\"attributes\":{\"text\":\"10000 features, all other features always activate\"},\"id\":\"1456\",\"type\":\"Title\"},{\"attributes\":{\"source\":{\"id\":\"1488\"}},\"id\":\"1492\",\"type\":\"CDSView\"},{\"attributes\":{\"line_color\":\"#1f77b4\",\"x\":{\"field\":\"x\"},\"y\":{\"field\":\"y\"}},\"id\":\"1489\",\"type\":\"Line\"},{\"attributes\":{},\"id\":\"1471\",\"type\":\"BasicTicker\"},{\"attributes\":{},\"id\":\"1475\",\"type\":\"WheelZoomTool\"},{\"attributes\":{},\"id\":\"1535\",\"type\":\"AllLabels\"},{\"attributes\":{},\"id\":\"1478\",\"type\":\"ResetTool\"},{\"attributes\":{\"formatter\":{\"id\":\"1534\"},\"major_label_policy\":{\"id\":\"1535\"},\"ticker\":{\"id\":\"1471\"}},\"id\":\"1470\",\"type\":\"LinearAxis\"},{\"attributes\":{},\"id\":\"1541\",\"type\":\"UnionRenderers\"},{\"attributes\":{\"data\":{\"x\":[0,1,2,3,4,5,6,7,8,9,10,11,12,13,14,15,16,17,18,19,20,21,22,23,24,25,26,27,28,29,30,31,32,33,34,35,36,37,38,39,40,41,42,43,44,45,46,47,48,49,50,51,52,53,54,55,56,57,58,59,60,61,62,63,64,65,66,67,68,69,70,71,72,73,74,75,76,77,78,79,80,81,82,83,84,85,86,87,88,89,90,91,92,93,94,95,96,97,98,99],\"y\":[0.0,0.0,0.0,0.0,0.0,0.0,0.0,0.0,0.0,0.0,0.09750880016922181,0.08800169215272267,0.07942152716783221,0.07167792826896857,0.06468933026274414,0.05838212056212658,0.052689863807319236,0.04755260208610561,0.04291622338271031,0.03873189160289606,0.13246083678761594,0.11954590520082338,0.1078901794437431,0.09737088694797814,0.08787722547055027,0.07930919598717162,0.07157654937842238,0.0645978358140262,0.05829954682215864,0.05261534100699817,0.04748534525881585,0.0428555240960813,0.03867711049671337,0.034906092223283815,0.03150274823151364,0.02843123027894106,0.025659185326744306,0.023157414757386734,0.020899566818541528,0.018861859053733727,0.017022827795994688,0.015363102085885205,0.013865199632511397,0.012513342668341535,0.011293291758178236,0.010192195811755858,0.009198456720109662,0.008301607189898969,0.007492200488883819,0.006761710941217646,0.006102444124448925,0.005507455822315155,0.004970478879639427,0.004485857188874583,0.004048486112959311,0.003653758716945778,0.0032975172420435643,0.0029760093109443167,0.002685848403127246,0.002423978183822339,0.09969622171606904,0.0899758400987523,0.08120319568912394,0.07328588410943436,0.06614051040876451,0.059691810643909965,0.05387185910612874,0.048619352843281186,0.04387896594106127,0.03960076676180779,0.035739692002531534,0.032255072032284705,0.029110202509136946,0.026271957764496093,0.023710441882457724,0.021398673798918095,0.01931230310352358,0.017429353550930032,0.015729991579714355,0.014196317400692205,0.012812176454124715,0.011562989249847555,0.010435597797987419,0.009418127012683646,0.00849985962894699,0.007671123315124658,0.006923188791900004,0.0062481778846897535,0.005638980540932502,0.005089179938191583,0.004592984894217903,0.004145168867031658,0.003741014902496071,0.0033762659495027037,0.00304708001942619,0.0027499897175321366,0.0024818657200727534,0.00223988381236566,0.002021495140660008,0.001824399364445657]},\"selected\":{\"id\":\"1540\"},\"selection_policy\":{\"id\":\"1541\"}},\"id\":\"1488\",\"type\":\"ColumnDataSource\"},{\"attributes\":{},\"id\":\"1477\",\"type\":\"SaveTool\"},{\"attributes\":{\"data_source\":{\"id\":\"1488\"},\"glyph\":{\"id\":\"1489\"},\"hover_glyph\":null,\"muted_glyph\":null,\"nonselection_glyph\":{\"id\":\"1490\"},\"view\":{\"id\":\"1492\"}},\"id\":\"1491\",\"type\":\"GlyphRenderer\"},{\"attributes\":{},\"id\":\"1534\",\"type\":\"BasicTickFormatter\"},{\"attributes\":{},\"id\":\"1464\",\"type\":\"LinearScale\"},{\"attributes\":{},\"id\":\"1458\",\"type\":\"DataRange1d\"},{\"attributes\":{},\"id\":\"1538\",\"type\":\"AllLabels\"},{\"attributes\":{\"end\":2},\"id\":\"1460\",\"type\":\"Range1d\"},{\"attributes\":{},\"id\":\"1537\",\"type\":\"BasicTickFormatter\"},{\"attributes\":{},\"id\":\"1540\",\"type\":\"Selection\"},{\"attributes\":{},\"id\":\"1462\",\"type\":\"LinearScale\"},{\"attributes\":{},\"id\":\"1474\",\"type\":\"PanTool\"},{\"attributes\":{\"line_alpha\":0.1,\"line_color\":\"#1f77b4\",\"x\":{\"field\":\"x\"},\"y\":{\"field\":\"y\"}},\"id\":\"1490\",\"type\":\"Line\"},{\"attributes\":{\"overlay\":{\"id\":\"1480\"}},\"id\":\"1476\",\"type\":\"BoxZoomTool\"},{\"attributes\":{\"bottom_units\":\"screen\",\"fill_alpha\":0.5,\"fill_color\":\"lightgrey\",\"left_units\":\"screen\",\"level\":\"overlay\",\"line_alpha\":1.0,\"line_color\":\"black\",\"line_dash\":[4,4],\"line_width\":2,\"right_units\":\"screen\",\"syncable\":false,\"top_units\":\"screen\"},\"id\":\"1480\",\"type\":\"BoxAnnotation\"},{\"attributes\":{\"active_multi\":null,\"tools\":[{\"id\":\"1474\"},{\"id\":\"1475\"},{\"id\":\"1476\"},{\"id\":\"1477\"},{\"id\":\"1478\"},{\"id\":\"1479\"}]},\"id\":\"1481\",\"type\":\"Toolbar\"},{\"attributes\":{},\"id\":\"1479\",\"type\":\"HelpTool\"}],\"root_ids\":[\"1455\"]},\"title\":\"Bokeh Application\",\"version\":\"2.3.1\"}};\n",
       "  var render_items = [{\"docid\":\"ed1387b2-8323-4959-91ea-c7d121096813\",\"root_ids\":[\"1455\"],\"roots\":{\"1455\":\"2b22bd51-aea9-44cf-ad58-6a39dcfdd2a3\"}}];\n",
       "  root.Bokeh.embed.embed_items_notebook(docs_json, render_items);\n",
       "\n",
       "  }\n",
       "  if (root.Bokeh !== undefined) {\n",
       "    embed_document(root);\n",
       "  } else {\n",
       "    var attempts = 0;\n",
       "    var timer = setInterval(function(root) {\n",
       "      if (root.Bokeh !== undefined) {\n",
       "        clearInterval(timer);\n",
       "        embed_document(root);\n",
       "      } else {\n",
       "        attempts++;\n",
       "        if (attempts > 100) {\n",
       "          clearInterval(timer);\n",
       "          console.log(\"Bokeh: ERROR: Unable to run BokehJS code because BokehJS library is missing\");\n",
       "        }\n",
       "      }\n",
       "    }, 10, root)\n",
       "  }\n",
       "})(window);"
      ],
      "application/vnd.bokehjs_exec.v0+json": ""
     },
     "metadata": {
      "application/vnd.bokehjs_exec.v0+json": {
       "id": "1455"
      }
     },
     "output_type": "display_data"
    }
   ],
   "source": [
    "num_features = 10000\n",
    "z = np.zeros(num_features)\n",
    "zs = []\n",
    "for t in range(num_time_steps):\n",
    "    x = np.zeros(num_features)\n",
    "    if t in activated_time_steps:\n",
    "        x = activate_all_features(x)\n",
    "    else:\n",
    "        x = activate_all_other_features(x)\n",
    "    z = update_dutch_trace(z, x)\n",
    "    zs.append(z[0])\n",
    "\n",
    "fig = figure(\n",
    "    title='10000 features, all other features always activate',\n",
    "    width=800, height=200, y_range=(0, 2)\n",
    ")\n",
    "fig.line(x=np.arange(len(zs)), y=zs)\n",
    "show(fig)"
   ]
  },
  {
   "cell_type": "code",
   "execution_count": 50,
   "metadata": {
    "ExecuteTime": {
     "end_time": "2021-05-07T01:15:14.326164Z",
     "start_time": "2021-05-07T01:14:58.590897Z"
    }
   },
   "outputs": [
    {
     "data": {
      "text/html": [
       "\n",
       "\n",
       "\n",
       "\n",
       "\n",
       "\n",
       "  <div class=\"bk-root\" id=\"ff0b94dc-10a4-4fb7-8ad7-8b01cd03f4b6\" data-root-id=\"8691\"></div>\n"
      ]
     },
     "metadata": {},
     "output_type": "display_data"
    },
    {
     "data": {
      "application/javascript": [
       "(function(root) {\n",
       "  function embed_document(root) {\n",
       "    \n",
       "  var docs_json = {\"1693d02f-b503-43aa-a6e6-75a1ac0d4c8b\":{\"defs\":[],\"roots\":{\"references\":[{\"attributes\":{\"below\":[{\"id\":\"8702\"}],\"center\":[{\"id\":\"8705\"},{\"id\":\"8709\"}],\"height\":200,\"left\":[{\"id\":\"8706\"}],\"renderers\":[{\"id\":\"8727\"}],\"title\":{\"id\":\"8692\"},\"toolbar\":{\"id\":\"8717\"},\"width\":800,\"x_range\":{\"id\":\"8694\"},\"x_scale\":{\"id\":\"8698\"},\"y_range\":{\"id\":\"8696\"},\"y_scale\":{\"id\":\"8700\"}},\"id\":\"8691\",\"subtype\":\"Figure\",\"type\":\"Plot\"},{\"attributes\":{},\"id\":\"8707\",\"type\":\"BasicTicker\"},{\"attributes\":{},\"id\":\"8694\",\"type\":\"DataRange1d\"},{\"attributes\":{\"line_color\":\"#1f77b4\",\"x\":{\"field\":\"x\"},\"y\":{\"field\":\"y\"}},\"id\":\"8725\",\"type\":\"Line\"},{\"attributes\":{},\"id\":\"9044\",\"type\":\"AllLabels\"},{\"attributes\":{\"axis\":{\"id\":\"8706\"},\"dimension\":1,\"ticker\":null},\"id\":\"8709\",\"type\":\"Grid\"},{\"attributes\":{},\"id\":\"9041\",\"type\":\"AllLabels\"},{\"attributes\":{\"line_alpha\":0.1,\"line_color\":\"#1f77b4\",\"x\":{\"field\":\"x\"},\"y\":{\"field\":\"y\"}},\"id\":\"8726\",\"type\":\"Line\"},{\"attributes\":{\"text\":\"20000 features, all other features activate with the target feature at the same time\"},\"id\":\"8692\",\"type\":\"Title\"},{\"attributes\":{\"data_source\":{\"id\":\"8724\"},\"glyph\":{\"id\":\"8725\"},\"hover_glyph\":null,\"muted_glyph\":null,\"nonselection_glyph\":{\"id\":\"8726\"},\"view\":{\"id\":\"8728\"}},\"id\":\"8727\",\"type\":\"GlyphRenderer\"},{\"attributes\":{\"bottom_units\":\"screen\",\"fill_alpha\":0.5,\"fill_color\":\"lightgrey\",\"left_units\":\"screen\",\"level\":\"overlay\",\"line_alpha\":1.0,\"line_color\":\"black\",\"line_dash\":[4,4],\"line_width\":2,\"right_units\":\"screen\",\"syncable\":false,\"top_units\":\"screen\"},\"id\":\"8716\",\"type\":\"BoxAnnotation\"},{\"attributes\":{\"active_multi\":null,\"tools\":[{\"id\":\"8710\"},{\"id\":\"8711\"},{\"id\":\"8712\"},{\"id\":\"8713\"},{\"id\":\"8714\"},{\"id\":\"8715\"}]},\"id\":\"8717\",\"type\":\"Toolbar\"},{\"attributes\":{\"data\":{\"x\":[0,1,2,3,4,5,6,7,8,9,10,11,12,13,14,15,16,17,18,19,20,21,22,23,24,25,26,27,28,29,30,31,32,33,34,35,36,37,38,39,40,41,42,43,44,45,46,47,48,49,50,51,52,53,54,55,56,57,58,59,60,61,62,63,64,65,66,67,68,69,70,71,72,73,74,75,76,77,78,79,80,81,82,83,84,85,86,87,88,89,90,91,92,93,94,95,96,97,98,99],\"y\":[0.0,0.0,0.0,0.0,0.0,0.0,0.0,0.0,0.0,0.0,1.0,0.9025,0.81450625,0.7350918906249999,0.6634204312890624,0.5987369392383788,0.5403600876626369,0.48767497911552976,0.4401266686517656,0.3972143184582184,1.3584500738163012,1.2260011916192117,1.1064660754363385,0.9985856330812954,0.9012235338558691,0.8133542393049218,0.7340522009726919,0.6624821113778544,0.5978901055185136,0.5395958202304585,0.48698522775798875,0.4395041680515848,0.3966525116665553,0.35797889177906617,0.3230759498306072,0.291576044722123,0.263147380361716,0.23749051077644867,0.2143351859757449,0.19343750534310977,0.17457734857215657,0.1575560570863713,0.1421943415204501,0.1283303932222062,0.1158181798830411,0.1045259073444446,0.09433463137836125,0.08513700481897102,0.07683614684912134,0.069344622531332,0.06258352183452713,0.05648162845566073,0.050974669681233806,0.04600463938731351,0.04151918704705044,0.03747106630996302,0.03381763734474162,0.030520417703629312,0.027544676977525454,0.02485907097221672,1.0224330680212703,0.9227458438891964,0.8327781241099997,0.7515822570092747,0.6783029869508704,0.6121684457231605,0.5524820222651524,0.49861502509430006,0.4500000601476058,0.4061250542832142,0.3665278614906008,0.3307913949952672,0.2985392339832287,0.26943165866986385,0.2431620719495521,0.21945376993447077,0.19805702736585987,0.17874646719768852,0.1613186866459139,0.14559011469793728,0.13139507851488838,0.11858405835968676,0.1070221126696173,0.09658745668432961,0.08717017965760747,0.07867108714099073,0.07100065614474413,0.06407809217063157,0.05783047818399499,0.05219200656105548,0.047103285921352565,0.04251071554402069,0.03836592077847867,0.034625243502576994,0.031249282261075737,0.028202477240620853,0.02545273570966032,0.02297109397796844,0.020731412315116517,0.018710099614392656]},\"selected\":{\"id\":\"9046\"},\"selection_policy\":{\"id\":\"9047\"}},\"id\":\"8724\",\"type\":\"ColumnDataSource\"},{\"attributes\":{},\"id\":\"8710\",\"type\":\"PanTool\"},{\"attributes\":{\"formatter\":{\"id\":\"9043\"},\"major_label_policy\":{\"id\":\"9044\"},\"ticker\":{\"id\":\"8703\"}},\"id\":\"8702\",\"type\":\"LinearAxis\"},{\"attributes\":{\"end\":2},\"id\":\"8696\",\"type\":\"Range1d\"},{\"attributes\":{},\"id\":\"9047\",\"type\":\"UnionRenderers\"},{\"attributes\":{},\"id\":\"8711\",\"type\":\"WheelZoomTool\"},{\"attributes\":{},\"id\":\"9040\",\"type\":\"BasicTickFormatter\"},{\"attributes\":{},\"id\":\"8698\",\"type\":\"LinearScale\"},{\"attributes\":{\"overlay\":{\"id\":\"8716\"}},\"id\":\"8712\",\"type\":\"BoxZoomTool\"},{\"attributes\":{},\"id\":\"8700\",\"type\":\"LinearScale\"},{\"attributes\":{},\"id\":\"8713\",\"type\":\"SaveTool\"},{\"attributes\":{},\"id\":\"8714\",\"type\":\"ResetTool\"},{\"attributes\":{},\"id\":\"8715\",\"type\":\"HelpTool\"},{\"attributes\":{},\"id\":\"9043\",\"type\":\"BasicTickFormatter\"},{\"attributes\":{},\"id\":\"9046\",\"type\":\"Selection\"},{\"attributes\":{\"formatter\":{\"id\":\"9040\"},\"major_label_policy\":{\"id\":\"9041\"},\"ticker\":{\"id\":\"8707\"}},\"id\":\"8706\",\"type\":\"LinearAxis\"},{\"attributes\":{\"source\":{\"id\":\"8724\"}},\"id\":\"8728\",\"type\":\"CDSView\"},{\"attributes\":{},\"id\":\"8703\",\"type\":\"BasicTicker\"},{\"attributes\":{\"axis\":{\"id\":\"8702\"},\"ticker\":null},\"id\":\"8705\",\"type\":\"Grid\"}],\"root_ids\":[\"8691\"]},\"title\":\"Bokeh Application\",\"version\":\"2.3.1\"}};\n",
       "  var render_items = [{\"docid\":\"1693d02f-b503-43aa-a6e6-75a1ac0d4c8b\",\"root_ids\":[\"8691\"],\"roots\":{\"8691\":\"ff0b94dc-10a4-4fb7-8ad7-8b01cd03f4b6\"}}];\n",
       "  root.Bokeh.embed.embed_items_notebook(docs_json, render_items);\n",
       "\n",
       "  }\n",
       "  if (root.Bokeh !== undefined) {\n",
       "    embed_document(root);\n",
       "  } else {\n",
       "    var attempts = 0;\n",
       "    var timer = setInterval(function(root) {\n",
       "      if (root.Bokeh !== undefined) {\n",
       "        clearInterval(timer);\n",
       "        embed_document(root);\n",
       "      } else {\n",
       "        attempts++;\n",
       "        if (attempts > 100) {\n",
       "          clearInterval(timer);\n",
       "          console.log(\"Bokeh: ERROR: Unable to run BokehJS code because BokehJS library is missing\");\n",
       "        }\n",
       "      }\n",
       "    }, 10, root)\n",
       "  }\n",
       "})(window);"
      ],
      "application/vnd.bokehjs_exec.v0+json": ""
     },
     "metadata": {
      "application/vnd.bokehjs_exec.v0+json": {
       "id": "8691"
      }
     },
     "output_type": "display_data"
    }
   ],
   "source": [
    "num_features = 20000\n",
    "z = np.zeros(num_features)\n",
    "zs = []\n",
    "for t in range(num_time_steps):\n",
    "    x = np.zeros(num_features)\n",
    "    if t in activated_time_steps:\n",
    "        x = activate_current_feature(x)\n",
    "    else:\n",
    "        if 20 <= t <= 40:\n",
    "            x = active_some_features(x, p=0.1)\n",
    "        if 40 <= t <= 60:\n",
    "            x = active_some_features(x, p=1)\n",
    "    z = update_dutch_trace(z, x)\n",
    "    zs.append(z[0])\n",
    "\n",
    "fig = figure(\n",
    "    title='20000 features, all other features activate with the target feature at the same time',\n",
    "    width=800, height=200, y_range=(0, 2)\n",
    ")\n",
    "fig.line(x=np.arange(len(zs)), y=zs)\n",
    "show(fig)"
   ]
  },
  {
   "cell_type": "code",
   "execution_count": null,
   "metadata": {},
   "outputs": [],
   "source": []
  }
 ],
 "metadata": {
  "kernelspec": {
   "display_name": "rl_playground_jax",
   "language": "python",
   "name": "rl_playground_jax"
  },
  "language_info": {
   "codemirror_mode": {
    "name": "ipython",
    "version": 3
   },
   "file_extension": ".py",
   "mimetype": "text/x-python",
   "name": "python",
   "nbconvert_exporter": "python",
   "pygments_lexer": "ipython3",
   "version": "3.7.4"
  },
  "varInspector": {
   "cols": {
    "lenName": 16,
    "lenType": 16,
    "lenVar": 40
   },
   "kernels_config": {
    "python": {
     "delete_cmd_postfix": "",
     "delete_cmd_prefix": "del ",
     "library": "var_list.py",
     "varRefreshCmd": "print(var_dic_list())"
    },
    "r": {
     "delete_cmd_postfix": ") ",
     "delete_cmd_prefix": "rm(",
     "library": "var_list.r",
     "varRefreshCmd": "cat(var_dic_list()) "
    }
   },
   "types_to_exclude": [
    "module",
    "function",
    "builtin_function_or_method",
    "instance",
    "_Feature"
   ],
   "window_display": false
  }
 },
 "nbformat": 4,
 "nbformat_minor": 4
}
