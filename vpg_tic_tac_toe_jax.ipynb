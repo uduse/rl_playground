{
 "cells": [
  {
   "cell_type": "code",
   "execution_count": 3,
   "metadata": {
    "ExecuteTime": {
     "end_time": "2021-04-05T01:44:24.858111Z",
     "start_time": "2021-04-05T01:44:24.854850Z"
    }
   },
   "outputs": [],
   "source": [
    "import random\n",
    "import pyspiel\n",
    "import torch\n",
    "from torch import nn"
   ]
  },
  {
   "cell_type": "code",
   "execution_count": 2,
   "metadata": {
    "ExecuteTime": {
     "end_time": "2021-04-05T01:43:22.695905Z",
     "start_time": "2021-04-05T01:43:22.693187Z"
    }
   },
   "outputs": [],
   "source": [
    "nn.Sequential(\n",
    "    nn.Linear(3),\n",
    ")"
   ]
  },
  {
   "cell_type": "code",
   "execution_count": 6,
   "metadata": {
    "ExecuteTime": {
     "end_time": "2021-04-05T01:50:39.340232Z",
     "start_time": "2021-04-05T01:50:39.336270Z"
    }
   },
   "outputs": [
    {
     "data": {
      "text/plain": [
       "<TensorLayout.CHW: 1>"
      ]
     },
     "execution_count": 6,
     "metadata": {},
     "output_type": "execute_result"
    }
   ],
   "source": [
    "game = pyspiel.load_game(\"tic_tac_toe\")\n",
    "game."
   ]
  },
  {
   "cell_type": "code",
   "execution_count": 13,
   "metadata": {
    "ExecuteTime": {
     "end_time": "2021-03-06T06:45:07.498964Z",
     "start_time": "2021-03-06T06:45:07.494948Z"
    }
   },
   "outputs": [
    {
     "name": "stdout",
     "output_type": "stream",
     "text": [
      "...\n",
      "...\n",
      "... \n",
      "\n",
      "..x\n",
      "...\n",
      "... \n",
      "\n",
      "..x\n",
      "...\n",
      "..o \n",
      "\n",
      "..x\n",
      "...\n",
      "x.o \n",
      "\n",
      "..x\n",
      "o..\n",
      "x.o \n",
      "\n",
      "..x\n",
      "o.x\n",
      "x.o \n",
      "\n",
      "..x\n",
      "oox\n",
      "x.o \n",
      "\n",
      "x.x\n",
      "oox\n",
      "x.o \n",
      "\n",
      "x.x\n",
      "oox\n",
      "xoo \n",
      "\n"
     ]
    }
   ],
   "source": [
    "state = game.new_initial_state()\n",
    "while not state.is_terminal():\n",
    "    print(str(state), '\\n')\n",
    "    legal_actions = state.legal_actions()\n",
    "    action = random.choice(legal_actions)\n",
    "    state.apply_action(action)"
   ]
  }
 ],
 "metadata": {
  "kernelspec": {
   "display_name": "rl_playground",
   "language": "python",
   "name": "rl_playground"
  },
  "language_info": {
   "codemirror_mode": {
    "name": "ipython",
    "version": 3
   },
   "file_extension": ".py",
   "mimetype": "text/x-python",
   "name": "python",
   "nbconvert_exporter": "python",
   "pygments_lexer": "ipython3",
   "version": "3.7.4"
  },
  "varInspector": {
   "cols": {
    "lenName": 16,
    "lenType": 16,
    "lenVar": 40
   },
   "kernels_config": {
    "python": {
     "delete_cmd_postfix": "",
     "delete_cmd_prefix": "del ",
     "library": "var_list.py",
     "varRefreshCmd": "print(var_dic_list())"
    },
    "r": {
     "delete_cmd_postfix": ") ",
     "delete_cmd_prefix": "rm(",
     "library": "var_list.r",
     "varRefreshCmd": "cat(var_dic_list()) "
    }
   },
   "types_to_exclude": [
    "module",
    "function",
    "builtin_function_or_method",
    "instance",
    "_Feature"
   ],
   "window_display": false
  }
 },
 "nbformat": 4,
 "nbformat_minor": 4
}
