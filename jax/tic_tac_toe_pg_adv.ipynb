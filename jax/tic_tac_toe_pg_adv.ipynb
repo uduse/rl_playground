{
 "cells": [
  {
   "cell_type": "code",
   "execution_count": 566,
   "metadata": {
    "ExecuteTime": {
     "end_time": "2021-05-04T22:56:30.491399Z",
     "start_time": "2021-05-04T22:56:30.482974Z"
    }
   },
   "outputs": [
    {
     "name": "stdout",
     "output_type": "stream",
     "text": [
      "0.0.5.dev\n"
     ]
    }
   ],
   "source": [
    "import random\n",
    "import copy\n",
    "from collections import namedtuple\n",
    "from dataclasses import dataclass\n",
    "import typing\n",
    "\n",
    "import jax\n",
    "import jax.numpy as jnp\n",
    "from jax import grad, value_and_grad, jit, vmap\n",
    "from jax.experimental import optimizers\n",
    "from jax.experimental import stax\n",
    "import optax\n",
    "import haiku as hk\n",
    "from jax.tree_util import tree_flatten\n",
    "\n",
    "from tqdm.notebook import tqdm\n",
    "import pyspiel\n",
    "import numpy as np\n",
    "import trueskill\n",
    "\n",
    "print(hk.__version__)"
   ]
  },
  {
   "cell_type": "code",
   "execution_count": 567,
   "metadata": {
    "ExecuteTime": {
     "end_time": "2021-05-04T22:56:30.544112Z",
     "start_time": "2021-05-04T22:56:30.494067Z"
    }
   },
   "outputs": [
    {
     "data": {
      "text/html": [
       "\n",
       "    <div class=\"bk-root\">\n",
       "        <a href=\"https://bokeh.org\" target=\"_blank\" class=\"bk-logo bk-logo-small bk-logo-notebook\"></a>\n",
       "        <span id=\"357811\">Loading BokehJS ...</span>\n",
       "    </div>"
      ]
     },
     "metadata": {},
     "output_type": "display_data"
    },
    {
     "data": {
      "application/javascript": [
       "\n",
       "(function(root) {\n",
       "  function now() {\n",
       "    return new Date();\n",
       "  }\n",
       "\n",
       "  var force = true;\n",
       "\n",
       "  if (typeof root._bokeh_onload_callbacks === \"undefined\" || force === true) {\n",
       "    root._bokeh_onload_callbacks = [];\n",
       "    root._bokeh_is_loading = undefined;\n",
       "  }\n",
       "\n",
       "  var JS_MIME_TYPE = 'application/javascript';\n",
       "  var HTML_MIME_TYPE = 'text/html';\n",
       "  var EXEC_MIME_TYPE = 'application/vnd.bokehjs_exec.v0+json';\n",
       "  var CLASS_NAME = 'output_bokeh rendered_html';\n",
       "\n",
       "  /**\n",
       "   * Render data to the DOM node\n",
       "   */\n",
       "  function render(props, node) {\n",
       "    var script = document.createElement(\"script\");\n",
       "    node.appendChild(script);\n",
       "  }\n",
       "\n",
       "  /**\n",
       "   * Handle when an output is cleared or removed\n",
       "   */\n",
       "  function handleClearOutput(event, handle) {\n",
       "    var cell = handle.cell;\n",
       "\n",
       "    var id = cell.output_area._bokeh_element_id;\n",
       "    var server_id = cell.output_area._bokeh_server_id;\n",
       "    // Clean up Bokeh references\n",
       "    if (id != null && id in Bokeh.index) {\n",
       "      Bokeh.index[id].model.document.clear();\n",
       "      delete Bokeh.index[id];\n",
       "    }\n",
       "\n",
       "    if (server_id !== undefined) {\n",
       "      // Clean up Bokeh references\n",
       "      var cmd = \"from bokeh.io.state import curstate; print(curstate().uuid_to_server['\" + server_id + \"'].get_sessions()[0].document.roots[0]._id)\";\n",
       "      cell.notebook.kernel.execute(cmd, {\n",
       "        iopub: {\n",
       "          output: function(msg) {\n",
       "            var id = msg.content.text.trim();\n",
       "            if (id in Bokeh.index) {\n",
       "              Bokeh.index[id].model.document.clear();\n",
       "              delete Bokeh.index[id];\n",
       "            }\n",
       "          }\n",
       "        }\n",
       "      });\n",
       "      // Destroy server and session\n",
       "      var cmd = \"import bokeh.io.notebook as ion; ion.destroy_server('\" + server_id + \"')\";\n",
       "      cell.notebook.kernel.execute(cmd);\n",
       "    }\n",
       "  }\n",
       "\n",
       "  /**\n",
       "   * Handle when a new output is added\n",
       "   */\n",
       "  function handleAddOutput(event, handle) {\n",
       "    var output_area = handle.output_area;\n",
       "    var output = handle.output;\n",
       "\n",
       "    // limit handleAddOutput to display_data with EXEC_MIME_TYPE content only\n",
       "    if ((output.output_type != \"display_data\") || (!Object.prototype.hasOwnProperty.call(output.data, EXEC_MIME_TYPE))) {\n",
       "      return\n",
       "    }\n",
       "\n",
       "    var toinsert = output_area.element.find(\".\" + CLASS_NAME.split(' ')[0]);\n",
       "\n",
       "    if (output.metadata[EXEC_MIME_TYPE][\"id\"] !== undefined) {\n",
       "      toinsert[toinsert.length - 1].firstChild.textContent = output.data[JS_MIME_TYPE];\n",
       "      // store reference to embed id on output_area\n",
       "      output_area._bokeh_element_id = output.metadata[EXEC_MIME_TYPE][\"id\"];\n",
       "    }\n",
       "    if (output.metadata[EXEC_MIME_TYPE][\"server_id\"] !== undefined) {\n",
       "      var bk_div = document.createElement(\"div\");\n",
       "      bk_div.innerHTML = output.data[HTML_MIME_TYPE];\n",
       "      var script_attrs = bk_div.children[0].attributes;\n",
       "      for (var i = 0; i < script_attrs.length; i++) {\n",
       "        toinsert[toinsert.length - 1].firstChild.setAttribute(script_attrs[i].name, script_attrs[i].value);\n",
       "        toinsert[toinsert.length - 1].firstChild.textContent = bk_div.children[0].textContent\n",
       "      }\n",
       "      // store reference to server id on output_area\n",
       "      output_area._bokeh_server_id = output.metadata[EXEC_MIME_TYPE][\"server_id\"];\n",
       "    }\n",
       "  }\n",
       "\n",
       "  function register_renderer(events, OutputArea) {\n",
       "\n",
       "    function append_mime(data, metadata, element) {\n",
       "      // create a DOM node to render to\n",
       "      var toinsert = this.create_output_subarea(\n",
       "        metadata,\n",
       "        CLASS_NAME,\n",
       "        EXEC_MIME_TYPE\n",
       "      );\n",
       "      this.keyboard_manager.register_events(toinsert);\n",
       "      // Render to node\n",
       "      var props = {data: data, metadata: metadata[EXEC_MIME_TYPE]};\n",
       "      render(props, toinsert[toinsert.length - 1]);\n",
       "      element.append(toinsert);\n",
       "      return toinsert\n",
       "    }\n",
       "\n",
       "    /* Handle when an output is cleared or removed */\n",
       "    events.on('clear_output.CodeCell', handleClearOutput);\n",
       "    events.on('delete.Cell', handleClearOutput);\n",
       "\n",
       "    /* Handle when a new output is added */\n",
       "    events.on('output_added.OutputArea', handleAddOutput);\n",
       "\n",
       "    /**\n",
       "     * Register the mime type and append_mime function with output_area\n",
       "     */\n",
       "    OutputArea.prototype.register_mime_type(EXEC_MIME_TYPE, append_mime, {\n",
       "      /* Is output safe? */\n",
       "      safe: true,\n",
       "      /* Index of renderer in `output_area.display_order` */\n",
       "      index: 0\n",
       "    });\n",
       "  }\n",
       "\n",
       "  // register the mime type if in Jupyter Notebook environment and previously unregistered\n",
       "  if (root.Jupyter !== undefined) {\n",
       "    var events = require('base/js/events');\n",
       "    var OutputArea = require('notebook/js/outputarea').OutputArea;\n",
       "\n",
       "    if (OutputArea.prototype.mime_types().indexOf(EXEC_MIME_TYPE) == -1) {\n",
       "      register_renderer(events, OutputArea);\n",
       "    }\n",
       "  }\n",
       "\n",
       "  \n",
       "  if (typeof (root._bokeh_timeout) === \"undefined\" || force === true) {\n",
       "    root._bokeh_timeout = Date.now() + 5000;\n",
       "    root._bokeh_failed_load = false;\n",
       "  }\n",
       "\n",
       "  var NB_LOAD_WARNING = {'data': {'text/html':\n",
       "     \"<div style='background-color: #fdd'>\\n\"+\n",
       "     \"<p>\\n\"+\n",
       "     \"BokehJS does not appear to have successfully loaded. If loading BokehJS from CDN, this \\n\"+\n",
       "     \"may be due to a slow or bad network connection. Possible fixes:\\n\"+\n",
       "     \"</p>\\n\"+\n",
       "     \"<ul>\\n\"+\n",
       "     \"<li>re-rerun `output_notebook()` to attempt to load from CDN again, or</li>\\n\"+\n",
       "     \"<li>use INLINE resources instead, as so:</li>\\n\"+\n",
       "     \"</ul>\\n\"+\n",
       "     \"<code>\\n\"+\n",
       "     \"from bokeh.resources import INLINE\\n\"+\n",
       "     \"output_notebook(resources=INLINE)\\n\"+\n",
       "     \"</code>\\n\"+\n",
       "     \"</div>\"}};\n",
       "\n",
       "  function display_loaded() {\n",
       "    var el = document.getElementById(\"357811\");\n",
       "    if (el != null) {\n",
       "      el.textContent = \"BokehJS is loading...\";\n",
       "    }\n",
       "    if (root.Bokeh !== undefined) {\n",
       "      if (el != null) {\n",
       "        el.textContent = \"BokehJS \" + root.Bokeh.version + \" successfully loaded.\";\n",
       "      }\n",
       "    } else if (Date.now() < root._bokeh_timeout) {\n",
       "      setTimeout(display_loaded, 100)\n",
       "    }\n",
       "  }\n",
       "\n",
       "\n",
       "  function run_callbacks() {\n",
       "    try {\n",
       "      root._bokeh_onload_callbacks.forEach(function(callback) {\n",
       "        if (callback != null)\n",
       "          callback();\n",
       "      });\n",
       "    } finally {\n",
       "      delete root._bokeh_onload_callbacks\n",
       "    }\n",
       "    console.debug(\"Bokeh: all callbacks have finished\");\n",
       "  }\n",
       "\n",
       "  function load_libs(css_urls, js_urls, callback) {\n",
       "    if (css_urls == null) css_urls = [];\n",
       "    if (js_urls == null) js_urls = [];\n",
       "\n",
       "    root._bokeh_onload_callbacks.push(callback);\n",
       "    if (root._bokeh_is_loading > 0) {\n",
       "      console.debug(\"Bokeh: BokehJS is being loaded, scheduling callback at\", now());\n",
       "      return null;\n",
       "    }\n",
       "    if (js_urls == null || js_urls.length === 0) {\n",
       "      run_callbacks();\n",
       "      return null;\n",
       "    }\n",
       "    console.debug(\"Bokeh: BokehJS not loaded, scheduling load and callback at\", now());\n",
       "    root._bokeh_is_loading = css_urls.length + js_urls.length;\n",
       "\n",
       "    function on_load() {\n",
       "      root._bokeh_is_loading--;\n",
       "      if (root._bokeh_is_loading === 0) {\n",
       "        console.debug(\"Bokeh: all BokehJS libraries/stylesheets loaded\");\n",
       "        run_callbacks()\n",
       "      }\n",
       "    }\n",
       "\n",
       "    function on_error(url) {\n",
       "      console.error(\"failed to load \" + url);\n",
       "    }\n",
       "\n",
       "    for (let i = 0; i < css_urls.length; i++) {\n",
       "      const url = css_urls[i];\n",
       "      const element = document.createElement(\"link\");\n",
       "      element.onload = on_load;\n",
       "      element.onerror = on_error.bind(null, url);\n",
       "      element.rel = \"stylesheet\";\n",
       "      element.type = \"text/css\";\n",
       "      element.href = url;\n",
       "      console.debug(\"Bokeh: injecting link tag for BokehJS stylesheet: \", url);\n",
       "      document.body.appendChild(element);\n",
       "    }\n",
       "\n",
       "    const hashes = {\"https://cdn.bokeh.org/bokeh/release/bokeh-2.3.1.min.js\": \"YF85VygJKMVnHE+lLv2AM93Vbstr0yo2TbIu5v8se5Rq3UQAUmcuh4aaJwNlpKwa\", \"https://cdn.bokeh.org/bokeh/release/bokeh-widgets-2.3.1.min.js\": \"KKuas3gevv3PvrlkyCMzffFeaMq5we/a2QsP5AUoS3mJ0jmaCL7jirFJN3GoE/lM\", \"https://cdn.bokeh.org/bokeh/release/bokeh-tables-2.3.1.min.js\": \"MK/uFc3YT18pkvvXRl66tTHjP0/dxoSH2e/eiNMFIguKlun2+WVqaPTWmUy/zvh4\"};\n",
       "\n",
       "    for (let i = 0; i < js_urls.length; i++) {\n",
       "      const url = js_urls[i];\n",
       "      const element = document.createElement('script');\n",
       "      element.onload = on_load;\n",
       "      element.onerror = on_error.bind(null, url);\n",
       "      element.async = false;\n",
       "      element.src = url;\n",
       "      if (url in hashes) {\n",
       "        element.crossOrigin = \"anonymous\";\n",
       "        element.integrity = \"sha384-\" + hashes[url];\n",
       "      }\n",
       "      console.debug(\"Bokeh: injecting script tag for BokehJS library: \", url);\n",
       "      document.head.appendChild(element);\n",
       "    }\n",
       "  };\n",
       "\n",
       "  function inject_raw_css(css) {\n",
       "    const element = document.createElement(\"style\");\n",
       "    element.appendChild(document.createTextNode(css));\n",
       "    document.body.appendChild(element);\n",
       "  }\n",
       "\n",
       "  \n",
       "  var js_urls = [\"https://cdn.bokeh.org/bokeh/release/bokeh-2.3.1.min.js\", \"https://cdn.bokeh.org/bokeh/release/bokeh-widgets-2.3.1.min.js\", \"https://cdn.bokeh.org/bokeh/release/bokeh-tables-2.3.1.min.js\"];\n",
       "  var css_urls = [];\n",
       "  \n",
       "\n",
       "  var inline_js = [\n",
       "    function(Bokeh) {\n",
       "      Bokeh.set_log_level(\"info\");\n",
       "    },\n",
       "    function(Bokeh) {\n",
       "    \n",
       "    \n",
       "    }\n",
       "  ];\n",
       "\n",
       "  function run_inline_js() {\n",
       "    \n",
       "    if (root.Bokeh !== undefined || force === true) {\n",
       "      \n",
       "    for (var i = 0; i < inline_js.length; i++) {\n",
       "      inline_js[i].call(root, root.Bokeh);\n",
       "    }\n",
       "    if (force === true) {\n",
       "        display_loaded();\n",
       "      }} else if (Date.now() < root._bokeh_timeout) {\n",
       "      setTimeout(run_inline_js, 100);\n",
       "    } else if (!root._bokeh_failed_load) {\n",
       "      console.log(\"Bokeh: BokehJS failed to load within specified timeout.\");\n",
       "      root._bokeh_failed_load = true;\n",
       "    } else if (force !== true) {\n",
       "      var cell = $(document.getElementById(\"357811\")).parents('.cell').data().cell;\n",
       "      cell.output_area.append_execute_result(NB_LOAD_WARNING)\n",
       "    }\n",
       "\n",
       "  }\n",
       "\n",
       "  if (root._bokeh_is_loading === 0) {\n",
       "    console.debug(\"Bokeh: BokehJS loaded, going straight to plotting\");\n",
       "    run_inline_js();\n",
       "  } else {\n",
       "    load_libs(css_urls, js_urls, function() {\n",
       "      console.debug(\"Bokeh: BokehJS plotting callback run at\", now());\n",
       "      run_inline_js();\n",
       "    });\n",
       "  }\n",
       "}(window));"
      ],
      "application/vnd.bokehjs_load.v0+json": "\n(function(root) {\n  function now() {\n    return new Date();\n  }\n\n  var force = true;\n\n  if (typeof root._bokeh_onload_callbacks === \"undefined\" || force === true) {\n    root._bokeh_onload_callbacks = [];\n    root._bokeh_is_loading = undefined;\n  }\n\n  \n\n  \n  if (typeof (root._bokeh_timeout) === \"undefined\" || force === true) {\n    root._bokeh_timeout = Date.now() + 5000;\n    root._bokeh_failed_load = false;\n  }\n\n  var NB_LOAD_WARNING = {'data': {'text/html':\n     \"<div style='background-color: #fdd'>\\n\"+\n     \"<p>\\n\"+\n     \"BokehJS does not appear to have successfully loaded. If loading BokehJS from CDN, this \\n\"+\n     \"may be due to a slow or bad network connection. Possible fixes:\\n\"+\n     \"</p>\\n\"+\n     \"<ul>\\n\"+\n     \"<li>re-rerun `output_notebook()` to attempt to load from CDN again, or</li>\\n\"+\n     \"<li>use INLINE resources instead, as so:</li>\\n\"+\n     \"</ul>\\n\"+\n     \"<code>\\n\"+\n     \"from bokeh.resources import INLINE\\n\"+\n     \"output_notebook(resources=INLINE)\\n\"+\n     \"</code>\\n\"+\n     \"</div>\"}};\n\n  function display_loaded() {\n    var el = document.getElementById(\"357811\");\n    if (el != null) {\n      el.textContent = \"BokehJS is loading...\";\n    }\n    if (root.Bokeh !== undefined) {\n      if (el != null) {\n        el.textContent = \"BokehJS \" + root.Bokeh.version + \" successfully loaded.\";\n      }\n    } else if (Date.now() < root._bokeh_timeout) {\n      setTimeout(display_loaded, 100)\n    }\n  }\n\n\n  function run_callbacks() {\n    try {\n      root._bokeh_onload_callbacks.forEach(function(callback) {\n        if (callback != null)\n          callback();\n      });\n    } finally {\n      delete root._bokeh_onload_callbacks\n    }\n    console.debug(\"Bokeh: all callbacks have finished\");\n  }\n\n  function load_libs(css_urls, js_urls, callback) {\n    if (css_urls == null) css_urls = [];\n    if (js_urls == null) js_urls = [];\n\n    root._bokeh_onload_callbacks.push(callback);\n    if (root._bokeh_is_loading > 0) {\n      console.debug(\"Bokeh: BokehJS is being loaded, scheduling callback at\", now());\n      return null;\n    }\n    if (js_urls == null || js_urls.length === 0) {\n      run_callbacks();\n      return null;\n    }\n    console.debug(\"Bokeh: BokehJS not loaded, scheduling load and callback at\", now());\n    root._bokeh_is_loading = css_urls.length + js_urls.length;\n\n    function on_load() {\n      root._bokeh_is_loading--;\n      if (root._bokeh_is_loading === 0) {\n        console.debug(\"Bokeh: all BokehJS libraries/stylesheets loaded\");\n        run_callbacks()\n      }\n    }\n\n    function on_error(url) {\n      console.error(\"failed to load \" + url);\n    }\n\n    for (let i = 0; i < css_urls.length; i++) {\n      const url = css_urls[i];\n      const element = document.createElement(\"link\");\n      element.onload = on_load;\n      element.onerror = on_error.bind(null, url);\n      element.rel = \"stylesheet\";\n      element.type = \"text/css\";\n      element.href = url;\n      console.debug(\"Bokeh: injecting link tag for BokehJS stylesheet: \", url);\n      document.body.appendChild(element);\n    }\n\n    const hashes = {\"https://cdn.bokeh.org/bokeh/release/bokeh-2.3.1.min.js\": \"YF85VygJKMVnHE+lLv2AM93Vbstr0yo2TbIu5v8se5Rq3UQAUmcuh4aaJwNlpKwa\", \"https://cdn.bokeh.org/bokeh/release/bokeh-widgets-2.3.1.min.js\": \"KKuas3gevv3PvrlkyCMzffFeaMq5we/a2QsP5AUoS3mJ0jmaCL7jirFJN3GoE/lM\", \"https://cdn.bokeh.org/bokeh/release/bokeh-tables-2.3.1.min.js\": \"MK/uFc3YT18pkvvXRl66tTHjP0/dxoSH2e/eiNMFIguKlun2+WVqaPTWmUy/zvh4\"};\n\n    for (let i = 0; i < js_urls.length; i++) {\n      const url = js_urls[i];\n      const element = document.createElement('script');\n      element.onload = on_load;\n      element.onerror = on_error.bind(null, url);\n      element.async = false;\n      element.src = url;\n      if (url in hashes) {\n        element.crossOrigin = \"anonymous\";\n        element.integrity = \"sha384-\" + hashes[url];\n      }\n      console.debug(\"Bokeh: injecting script tag for BokehJS library: \", url);\n      document.head.appendChild(element);\n    }\n  };\n\n  function inject_raw_css(css) {\n    const element = document.createElement(\"style\");\n    element.appendChild(document.createTextNode(css));\n    document.body.appendChild(element);\n  }\n\n  \n  var js_urls = [\"https://cdn.bokeh.org/bokeh/release/bokeh-2.3.1.min.js\", \"https://cdn.bokeh.org/bokeh/release/bokeh-widgets-2.3.1.min.js\", \"https://cdn.bokeh.org/bokeh/release/bokeh-tables-2.3.1.min.js\"];\n  var css_urls = [];\n  \n\n  var inline_js = [\n    function(Bokeh) {\n      Bokeh.set_log_level(\"info\");\n    },\n    function(Bokeh) {\n    \n    \n    }\n  ];\n\n  function run_inline_js() {\n    \n    if (root.Bokeh !== undefined || force === true) {\n      \n    for (var i = 0; i < inline_js.length; i++) {\n      inline_js[i].call(root, root.Bokeh);\n    }\n    if (force === true) {\n        display_loaded();\n      }} else if (Date.now() < root._bokeh_timeout) {\n      setTimeout(run_inline_js, 100);\n    } else if (!root._bokeh_failed_load) {\n      console.log(\"Bokeh: BokehJS failed to load within specified timeout.\");\n      root._bokeh_failed_load = true;\n    } else if (force !== true) {\n      var cell = $(document.getElementById(\"357811\")).parents('.cell').data().cell;\n      cell.output_area.append_execute_result(NB_LOAD_WARNING)\n    }\n\n  }\n\n  if (root._bokeh_is_loading === 0) {\n    console.debug(\"Bokeh: BokehJS loaded, going straight to plotting\");\n    run_inline_js();\n  } else {\n    load_libs(css_urls, js_urls, function() {\n      console.debug(\"Bokeh: BokehJS plotting callback run at\", now());\n      run_inline_js();\n    });\n  }\n}(window));"
     },
     "metadata": {},
     "output_type": "display_data"
    }
   ],
   "source": [
    "%run bokeh_lib.ipynb"
   ]
  },
  {
   "cell_type": "code",
   "execution_count": 568,
   "metadata": {
    "ExecuteTime": {
     "end_time": "2021-05-04T22:56:30.553380Z",
     "start_time": "2021-05-04T22:56:30.546552Z"
    }
   },
   "outputs": [],
   "source": [
    "game = pyspiel.load_game('tic_tac_toe')\n",
    "gamma = 0.99\n",
    "key = jax.random.PRNGKey(0)\n",
    "dim_board = game.observation_tensor_size()\n",
    "dim_actions = game.num_distinct_actions()\n",
    "dim_q = dim_board + dim_actions\n",
    "all_actions = list(range(dim_actions))"
   ]
  },
  {
   "cell_type": "code",
   "execution_count": 569,
   "metadata": {
    "ExecuteTime": {
     "end_time": "2021-05-04T22:56:30.570573Z",
     "start_time": "2021-05-04T22:56:30.556236Z"
    }
   },
   "outputs": [],
   "source": [
    "class ReplayBuffer(object):\n",
    "    def __init__(self, capacity):\n",
    "        self._capacity = capacity\n",
    "        self._data = []\n",
    "        self._next_entry_index = 0\n",
    "\n",
    "    def add(self, element):\n",
    "        if len(self._data) < self._capacity:\n",
    "            self._data.append(element)\n",
    "        else:\n",
    "            self._data[self._next_entry_index] = element\n",
    "            self._next_entry_index += 1\n",
    "            self._next_entry_index %= self._capacity\n",
    "    \n",
    "    def extend(self, elements):\n",
    "        for ele in elements:\n",
    "            self.add(ele)\n",
    "\n",
    "    def sample(self, num_samples):\n",
    "        if len(self._data) < num_samples:\n",
    "            raise ValueError(\"{} elements could not be sampled from size {}\".format(\n",
    "              num_samples, len(self._data)))\n",
    "        return random.sample(self._data, num_samples)\n",
    "\n",
    "    def __len__(self):\n",
    "        return len(self._data)\n",
    "\n",
    "    def __iter__(self):\n",
    "        return iter(self._data)"
   ]
  },
  {
   "cell_type": "code",
   "execution_count": 570,
   "metadata": {
    "ExecuteTime": {
     "end_time": "2021-05-04T22:56:30.579503Z",
     "start_time": "2021-05-04T22:56:30.572654Z"
    }
   },
   "outputs": [],
   "source": [
    "@dataclass\n",
    "class Experience(object):\n",
    "    s: np.array\n",
    "    a: np.array\n",
    "    g: float\n",
    "    a_mask: np.array\n",
    "\n",
    "#     def print(self):\n",
    "#         print('r', self.g)\n",
    "#         print(obs_tensor_to_board(self.s), '\\n')\n",
    "#         print(obs_tensor_to_board(self.s_next), '\\n')"
   ]
  },
  {
   "cell_type": "code",
   "execution_count": 571,
   "metadata": {
    "ExecuteTime": {
     "end_time": "2021-05-04T22:56:30.589441Z",
     "start_time": "2021-05-04T22:56:30.581698Z"
    }
   },
   "outputs": [],
   "source": [
    "def policy_net_hk(x):\n",
    "    mlp = hk.nets.MLP([64, 64, dim_actions])\n",
    "    return mlp(x)\n",
    "\n",
    "def q_net_hk(x):\n",
    "    mlp = hk.nets.MLP([64, 64, 1])\n",
    "    return mlp(x)\n",
    "\n",
    "def v_net_hk(x):\n",
    "    mlp = hk.nets.MLP([64, 64, 1])\n",
    "    return mlp(x)\n",
    "\n",
    "policy_net = hk.without_apply_rng(hk.transform(policy_net_hk))\n",
    "q_net = hk.without_apply_rng(hk.transform(q_net_hk))\n",
    "v_net = hk.without_apply_rng(hk.transform(v_net_hk))"
   ]
  },
  {
   "cell_type": "code",
   "execution_count": 572,
   "metadata": {
    "ExecuteTime": {
     "end_time": "2021-05-04T22:56:30.596599Z",
     "start_time": "2021-05-04T22:56:30.591692Z"
    }
   },
   "outputs": [],
   "source": [
    "def create_batch(samples):\n",
    "    batch = {\n",
    "        's': np.stack([sample.s for sample in samples]),\n",
    "        'a': np.stack([sample.a for sample in samples]),\n",
    "        'g': np.stack([sample.g for sample in samples]),\n",
    "#         's_next': np.stack([sample.s_next for sample in samples]),\n",
    "        'a_mask': np.stack([sample.a_mask for sample in samples]),\n",
    "    }\n",
    "    return batch"
   ]
  },
  {
   "cell_type": "code",
   "execution_count": 573,
   "metadata": {
    "ExecuteTime": {
     "end_time": "2021-05-04T22:56:30.604969Z",
     "start_time": "2021-05-04T22:56:30.600835Z"
    }
   },
   "outputs": [],
   "source": [
    "def obs_tensor_to_board(s):\n",
    "    obs = s.reshape(3, 9).T\n",
    "    obs = obs.argmax(axis=-1).reshape(3, 3).squeeze()\n",
    "    return '\\n'.join(map(str, obs)).replace('[', '').replace(']', '') \\\n",
    "                .replace('2', 'x').replace('1', 'o').replace('0', '.')"
   ]
  },
  {
   "cell_type": "code",
   "execution_count": 574,
   "metadata": {
    "ExecuteTime": {
     "end_time": "2021-05-04T22:56:30.611778Z",
     "start_time": "2021-05-04T22:56:30.608402Z"
    }
   },
   "outputs": [],
   "source": [
    "@jit\n",
    "def l2_squared(pytree):\n",
    "    leaves, _ = tree_flatten(pytree)\n",
    "    return sum(jnp.vdot(x, x) for x in leaves)"
   ]
  },
  {
   "cell_type": "code",
   "execution_count": 575,
   "metadata": {
    "ExecuteTime": {
     "end_time": "2021-05-04T22:56:30.617758Z",
     "start_time": "2021-05-04T22:56:30.614115Z"
    }
   },
   "outputs": [],
   "source": [
    "def one_hot_action(action):\n",
    "    vec = np.zeros(dim_actions)\n",
    "    vec[action] = 1\n",
    "    return vec"
   ]
  },
  {
   "cell_type": "code",
   "execution_count": 576,
   "metadata": {
    "ExecuteTime": {
     "end_time": "2021-05-04T22:56:30.640649Z",
     "start_time": "2021-05-04T22:56:30.619770Z"
    }
   },
   "outputs": [],
   "source": [
    "@jit\n",
    "def q_forward(params, batch):\n",
    "    q_repr = jnp.concatenate((batch['s'], batch['a']), axis=-1)\n",
    "    q_val = q_net.apply(params, q_repr)\n",
    "    return q_val\n",
    "\n",
    "@jit\n",
    "def q_loss(params, batch):\n",
    "    q_val = q_forward(params, batch)\n",
    "    g = batch['g']\n",
    "    return jnp.mean(jnp.square(q_val - g))\n",
    "\n",
    "@jit\n",
    "def q_update(params, opt_state, batch):\n",
    "    loss, grads = value_and_grad(q_loss)(params, batch)\n",
    "    updates, opt_state = q_opt.update(grads, opt_state)\n",
    "    new_params = optax.apply_updates(params, updates)\n",
    "    return loss, new_params, opt_state"
   ]
  },
  {
   "cell_type": "code",
   "execution_count": 577,
   "metadata": {
    "ExecuteTime": {
     "end_time": "2021-05-04T22:56:30.659082Z",
     "start_time": "2021-05-04T22:56:30.645088Z"
    }
   },
   "outputs": [],
   "source": [
    "@jit\n",
    "def v_forward(params, batch):\n",
    "    v_val = v_net.apply(params, batch['s'])\n",
    "    return v_val\n",
    "\n",
    "@jit\n",
    "def v_loss(params, batch):\n",
    "    v_val = v_forward(params, batch)\n",
    "    g = batch['g']\n",
    "    return jnp.mean(jnp.square(v_val - g))\n",
    "\n",
    "@jit\n",
    "def v_update(params, opt_state, batch):\n",
    "    loss, grads = value_and_grad(v_loss)(params, batch)\n",
    "    updates, opt_state = v_opt.update(grads, opt_state)\n",
    "    new_params = optax.apply_updates(params, updates)\n",
    "    return loss, new_params, opt_state"
   ]
  },
  {
   "cell_type": "code",
   "execution_count": 578,
   "metadata": {
    "ExecuteTime": {
     "end_time": "2021-05-04T22:56:30.670952Z",
     "start_time": "2021-05-04T22:56:30.661006Z"
    }
   },
   "outputs": [],
   "source": [
    "@jit\n",
    "def policy_logits(params, batch):\n",
    "    logits = policy_net.apply(params, batch['s'])\n",
    "    return logits\n",
    "\n",
    "@jit\n",
    "def policy_logits_masked(params, batch):\n",
    "    logits = policy_net.apply(params, batch['s'])\n",
    "    inf_mask = jnp.log(batch['a_mask'])\n",
    "    return logits + inf_mask\n",
    "\n",
    "@jit\n",
    "def policy_probs(params, batch):\n",
    "    logits = policy_logits_masked(params, batch)\n",
    "    action_probs = jax.nn.softmax(logits - jnp.max(logits, axis=-1, keepdims=True))\n",
    "    return action_probs"
   ]
  },
  {
   "cell_type": "code",
   "execution_count": 579,
   "metadata": {
    "ExecuteTime": {
     "end_time": "2021-05-04T22:56:30.709936Z",
     "start_time": "2021-05-04T22:56:30.673138Z"
    }
   },
   "outputs": [],
   "source": [
    "@jit\n",
    "def policy_loss(params, batch):\n",
    "    action_probs = policy_probs(params, batch)\n",
    "    log_probs = jnp.log(action_probs)\n",
    "    g = jnp.expand_dims(batch['g'], -1)\n",
    "    selected_log_probs = action_probs * batch['a']\n",
    "    return -jnp.mean(g * selected_log_probs)\n",
    "\n",
    "@jit\n",
    "def policy_loss_with_q(params, batch):\n",
    "    action_probs = policy_probs(params, batch)\n",
    "    log_probs = jnp.log(action_probs)\n",
    "    q = batch['q']\n",
    "    selected_log_probs = action_probs * batch['a']\n",
    "    return -jnp.mean(q * selected_log_probs)\n",
    "\n",
    "@jit\n",
    "def policy_loss_with_a(params, batch):\n",
    "    action_probs = policy_probs(params, batch)\n",
    "    log_probs = jnp.log(action_probs)\n",
    "    q = batch['q']\n",
    "    v = batch['v']\n",
    "    selected_log_probs = action_probs * batch['a']\n",
    "    return -jnp.mean((q - v) * selected_log_probs)\n",
    "\n",
    "@jit\n",
    "def policy_update(params, opt_state, batch):\n",
    "    loss, grads = value_and_grad(policy_loss)(params, batch)\n",
    "    updates, opt_state = policy_opt.update(grads, opt_state)\n",
    "    new_params = optax.apply_updates(params, updates)\n",
    "    return loss, new_params, opt_state\n",
    "\n",
    "@jit\n",
    "def policy_update_with_q(params, opt_state, batch):\n",
    "    loss, grads = value_and_grad(policy_loss_with_q)(params, batch)\n",
    "    updates, opt_state = policy_opt.update(grads, opt_state)\n",
    "    new_params = optax.apply_updates(params, updates)\n",
    "    return loss, new_params, opt_state\n",
    "\n",
    "@jit\n",
    "def policy_update_with_a(params, opt_state, batch):\n",
    "    loss, grads = value_and_grad(policy_loss_with_a)(params, batch)\n",
    "    updates, opt_state = policy_opt.update(grads, opt_state)\n",
    "    new_params = optax.apply_updates(params, updates)\n",
    "    return loss, new_params, opt_state"
   ]
  },
  {
   "cell_type": "code",
   "execution_count": 580,
   "metadata": {
    "ExecuteTime": {
     "end_time": "2021-05-04T22:56:30.730919Z",
     "start_time": "2021-05-04T22:56:30.712010Z"
    }
   },
   "outputs": [],
   "source": [
    "class ExpBuilder(object):\n",
    "    def __init__(self):\n",
    "        self.obses = []\n",
    "        self.actions = []\n",
    "        self.action_masks = []\n",
    "        self.reward = None\n",
    "        \n",
    "    def add(self, obs, action, action_mask):\n",
    "        self.actions.append(action)\n",
    "        self.obses.append(obs)\n",
    "        self.action_masks.append(action_mask)\n",
    "        \n",
    "    def set_reward(self, reward):\n",
    "        self.reward = reward\n",
    "            \n",
    "    def to_exps(self):\n",
    "        exps = []\n",
    "        for i in range(len(self.actions)):\n",
    "            action = one_hot_action(self.actions[i])\n",
    "            action_mask = self.action_masks[i]\n",
    "            obs = self.obses[i]\n",
    "            G = gamma ** (len(self.actions) - 1) * self.reward\n",
    "            exp = Experience(obs, action, G, a_mask=action_mask)\n",
    "            exps.append(exp)\n",
    "        return exps\n",
    "    \n",
    "    def reset(self):\n",
    "        self.obses = []\n",
    "        self.actions = []\n",
    "        self.action_masks = []\n",
    "        self.reward = None"
   ]
  },
  {
   "cell_type": "code",
   "execution_count": 581,
   "metadata": {
    "ExecuteTime": {
     "end_time": "2021-05-04T22:56:30.870323Z",
     "start_time": "2021-05-04T22:56:30.733149Z"
    }
   },
   "outputs": [],
   "source": [
    "class Player(object):\n",
    "    def __init__(self):\n",
    "        self.rating = trueskill.Rating()\n",
    "        \n",
    "    def step(self, state):\n",
    "        pass\n",
    "    \n",
    "class RandomPlayer(Player):\n",
    "    def step(self, state):\n",
    "        if not state.is_terminal():\n",
    "            actions = state.legal_actions()\n",
    "            action = random.choice(actions)\n",
    "            return action\n",
    "    \n",
    "class PolicyGradientPlayer(Player):\n",
    "    def __init__(self, player_id, key):\n",
    "        super().__init__()\n",
    "        self.player_id = player_id\n",
    "        \n",
    "        keys = jax.random.split(key, num=3)\n",
    "        \n",
    "        self.policy_params = policy_net.init(keys[0], jnp.zeros((1, dim_board)))\n",
    "        self.policy_params_old = copy.deepcopy(self.policy_params)\n",
    "        self.policy_opt_state = policy_opt.init(self.policy_params)\n",
    "        \n",
    "        self.q_params = q_net.init(keys[1], jnp.zeros((1, dim_q)))\n",
    "        self.q_opt_state = q_opt.init(self.q_params)\n",
    "        \n",
    "        self.v_params = v_net.init(keys[2], jnp.zeros((1, dim_board)))\n",
    "        self.v_opt_state = v_opt.init(self.v_params)\n",
    "\n",
    "        self.batch_size = 100\n",
    "        self.builder = ExpBuilder()\n",
    "        self.buffer = ReplayBuffer(5000)\n",
    "        self.info = None\n",
    "        self.steps = 0\n",
    "        self.sync_per_n_steps = 1000\n",
    "        \n",
    "    def get_q_vals(self, state):\n",
    "        obs = np.array(state.observation_tensor(self.player_id))\n",
    "        q_vals = np.zeros(9)\n",
    "        for action in range(dim_actions):\n",
    "            batch = {'s': obs, 'a': one_hot_action(action)}\n",
    "            q_vals[action] = np.array(q_forward(self.q_params, batch).block_until_ready())\n",
    "        return q_vals.reshape(3, 3)\n",
    "    \n",
    "    def get_v(self, state):\n",
    "        obs = np.array(state.observation_tensor(self.player_id))\n",
    "        batch = {'s': obs}\n",
    "        return np.array(v_forward(self.v_params, batch).block_until_ready())\n",
    "        \n",
    "    def get_action_probs(self, state):\n",
    "        obs = np.array(state.observation_tensor(self.player_id))\n",
    "        a_mask = np.array(state.legal_actions_mask())\n",
    "        batch = {'s': obs, 'a_mask': a_mask}\n",
    "        action_probs = np.array(policy_probs(self.policy_params, batch).block_until_ready())\n",
    "        return action_probs\n",
    "    \n",
    "    def get_action_logits(self, state):\n",
    "        obs = np.array(state.observation_tensor(self.player_id))\n",
    "        a_mask = np.array(state.legal_actions_mask())\n",
    "        batch = {'s': obs, 'a_mask': a_mask}\n",
    "        logits = policy_net.apply(self.policy_params, batch['s'])\n",
    "        return logits\n",
    "        \n",
    "    def step(self, state):\n",
    "        self.steps += 1\n",
    "        self.learn()\n",
    "        \n",
    "        if self.steps % self.sync_per_n_steps == 0:\n",
    "            self.sync()\n",
    "        \n",
    "        if state.is_terminal():\n",
    "            self.builder.set_reward(state.rewards()[self.player_id])\n",
    "            exps = self.builder.to_exps()\n",
    "            self.buffer.extend(exps)\n",
    "            self.builder.reset()\n",
    "        else:\n",
    "            obs = np.array(state.observation_tensor(self.player_id))\n",
    "            a_mask = np.array(state.legal_actions_mask())\n",
    "            batch = {'s': obs, 'a_mask': a_mask}\n",
    "            action_probs = np.array(policy_probs(self.policy_params_old, batch).block_until_ready())\n",
    "            action = np.random.choice(all_actions, 1, p=action_probs)\n",
    "            self.builder.add(obs, action, a_mask)\n",
    "            return action\n",
    "        \n",
    "    def learn(self):\n",
    "        if len(self.buffer) >= self.batch_size:\n",
    "            samples = self.buffer.sample(self.batch_size)\n",
    "            batch = create_batch(samples)\n",
    "            batch['q'] = q_forward(self.q_params, batch)\n",
    "            batch['v'] = v_forward(self.v_params, batch)\n",
    "            policy_loss, self.policy_params, self.policy_opt_state = policy_update_with_q(\n",
    "                self.policy_params, self.policy_opt_state, batch)\n",
    "            q_loss, self.q_params, self.q_opt_state = q_update(\n",
    "                self.q_params, self.q_opt_state, batch)\n",
    "            v_loss, self.v_params, self.v_opt_state = v_update(\n",
    "                self.v_params, self.v_opt_state, batch)\n",
    "            \n",
    "            self.info = {\n",
    "                'policy_loss': float(policy_loss.block_until_ready()),\n",
    "                'q_loss': float(q_loss.block_until_ready()),\n",
    "                'v_loss': float(v_loss.block_until_ready()),\n",
    "            }\n",
    "            \n",
    "    def sync(self):\n",
    "        self.policy_params_old = copy.deepcopy(self.policy_params)"
   ]
  },
  {
   "cell_type": "code",
   "execution_count": 589,
   "metadata": {
    "ExecuteTime": {
     "end_time": "2021-05-04T23:22:07.787669Z",
     "start_time": "2021-05-04T23:22:07.346010Z"
    }
   },
   "outputs": [
    {
     "name": "stderr",
     "output_type": "stream",
     "text": [
      "WARNING:bokeh.core.validation.check:W-1000 (MISSING_RENDERERS): Plot has no renderers: Figure(id='4715878', ...)\n",
      "WARNING:bokeh.core.validation.check:W-1000 (MISSING_RENDERERS): Plot has no renderers: Figure(id='4715911', ...)\n",
      "WARNING:bokeh.core.validation.check:W-1000 (MISSING_RENDERERS): Plot has no renderers: Figure(id='4715944', ...)\n",
      "WARNING:bokeh.core.validation.check:W-1000 (MISSING_RENDERERS): Plot has no renderers: Figure(id='4715977', ...)\n",
      "WARNING:bokeh.core.validation.check:W-1000 (MISSING_RENDERERS): Plot has no renderers: Figure(id='4716010', ...)\n",
      "WARNING:bokeh.core.validation.check:W-1000 (MISSING_RENDERERS): Plot has no renderers: Figure(id='4716043', ...)\n"
     ]
    },
    {
     "data": {
      "text/html": [
       "\n",
       "\n",
       "\n",
       "\n",
       "\n",
       "\n",
       "  <div class=\"bk-root\" id=\"72cc32e5-3ead-46bc-9de2-131fc64a1740\" data-root-id=\"4716076\"></div>\n"
      ]
     },
     "metadata": {},
     "output_type": "display_data"
    },
    {
     "data": {
      "application/javascript": [
       "(function(root) {\n",
       "  function embed_document(root) {\n",
       "    \n",
       "  var docs_json = {\"16980c65-73d0-4713-aec3-b3b226603727\":{\"defs\":[],\"roots\":{\"references\":[{\"attributes\":{\"children\":[{\"id\":\"4715878\"},{\"id\":\"4715911\"},{\"id\":\"4715944\"},{\"id\":\"4715977\"},{\"id\":\"4716010\"},{\"id\":\"4716043\"}]},\"id\":\"4716076\",\"type\":\"Column\"},{\"attributes\":{},\"id\":\"4716013\",\"type\":\"DataRange1d\"},{\"attributes\":{},\"id\":\"4715935\",\"type\":\"HelpTool\"},{\"attributes\":{},\"id\":\"4715967\",\"type\":\"ResetTool\"},{\"attributes\":{},\"id\":\"4715947\",\"type\":\"DataRange1d\"},{\"attributes\":{},\"id\":\"4716000\",\"type\":\"ResetTool\"},{\"attributes\":{\"formatter\":{\"id\":\"4717360\"},\"major_label_policy\":{\"id\":\"4717361\"},\"ticker\":{\"id\":\"4715956\"}},\"id\":\"4715955\",\"type\":\"LinearAxis\"},{\"attributes\":{\"axis\":{\"id\":\"4715992\"},\"dimension\":1,\"ticker\":null},\"id\":\"4715995\",\"type\":\"Grid\"},{\"attributes\":{},\"id\":\"4715996\",\"type\":\"PanTool\"},{\"attributes\":{},\"id\":\"4715997\",\"type\":\"WheelZoomTool\"},{\"attributes\":{},\"id\":\"4715930\",\"type\":\"PanTool\"},{\"attributes\":{},\"id\":\"4715966\",\"type\":\"SaveTool\"},{\"attributes\":{},\"id\":\"4715933\",\"type\":\"SaveTool\"},{\"attributes\":{},\"id\":\"4717378\",\"type\":\"BasicTickFormatter\"},{\"attributes\":{},\"id\":\"4716001\",\"type\":\"HelpTool\"},{\"attributes\":{\"bottom_units\":\"screen\",\"fill_alpha\":0.5,\"fill_color\":\"lightgrey\",\"left_units\":\"screen\",\"level\":\"overlay\",\"line_alpha\":1.0,\"line_color\":\"black\",\"line_dash\":[4,4],\"line_width\":2,\"right_units\":\"screen\",\"syncable\":false,\"top_units\":\"screen\"},\"id\":\"4715936\",\"type\":\"BoxAnnotation\"},{\"attributes\":{},\"id\":\"4715982\",\"type\":\"DataRange1d\"},{\"attributes\":{},\"id\":\"4715900\",\"type\":\"SaveTool\"},{\"attributes\":{\"bottom_units\":\"screen\",\"fill_alpha\":0.5,\"fill_color\":\"lightgrey\",\"left_units\":\"screen\",\"level\":\"overlay\",\"line_alpha\":1.0,\"line_color\":\"black\",\"line_dash\":[4,4],\"line_width\":2,\"right_units\":\"screen\",\"syncable\":false,\"top_units\":\"screen\"},\"id\":\"4715969\",\"type\":\"BoxAnnotation\"},{\"attributes\":{\"below\":[{\"id\":\"4715889\"}],\"center\":[{\"id\":\"4715892\"},{\"id\":\"4715896\"}],\"height\":300,\"left\":[{\"id\":\"4715893\"}],\"title\":{\"id\":\"4715879\"},\"toolbar\":{\"id\":\"4715904\"},\"width\":800,\"x_range\":{\"id\":\"4715881\"},\"x_scale\":{\"id\":\"4715885\"},\"y_range\":{\"id\":\"4715883\"},\"y_scale\":{\"id\":\"4715887\"}},\"id\":\"4715878\",\"subtype\":\"Figure\",\"type\":\"Plot\"},{\"attributes\":{},\"id\":\"4715902\",\"type\":\"HelpTool\"},{\"attributes\":{},\"id\":\"4715890\",\"type\":\"BasicTicker\"},{\"attributes\":{},\"id\":\"4715960\",\"type\":\"BasicTicker\"},{\"attributes\":{},\"id\":\"4717376\",\"type\":\"AllLabels\"},{\"attributes\":{},\"id\":\"4715964\",\"type\":\"WheelZoomTool\"},{\"attributes\":{\"text\":\"trueskill\"},\"id\":\"4716011\",\"type\":\"Title\"},{\"attributes\":{\"active_multi\":null,\"tools\":[{\"id\":\"4715930\"},{\"id\":\"4715931\"},{\"id\":\"4715932\"},{\"id\":\"4715933\"},{\"id\":\"4715934\"},{\"id\":\"4715935\"}]},\"id\":\"4715937\",\"type\":\"Toolbar\"},{\"attributes\":{\"axis\":{\"id\":\"4715922\"},\"ticker\":null},\"id\":\"4715925\",\"type\":\"Grid\"},{\"attributes\":{\"axis\":{\"id\":\"4715955\"},\"ticker\":null},\"id\":\"4715958\",\"type\":\"Grid\"},{\"attributes\":{\"formatter\":{\"id\":\"4717369\"},\"major_label_policy\":{\"id\":\"4717370\"},\"ticker\":{\"id\":\"4715993\"}},\"id\":\"4715992\",\"type\":\"LinearAxis\"},{\"attributes\":{},\"id\":\"4717370\",\"type\":\"AllLabels\"},{\"attributes\":{},\"id\":\"4715984\",\"type\":\"LinearScale\"},{\"attributes\":{},\"id\":\"4715951\",\"type\":\"LinearScale\"},{\"attributes\":{\"formatter\":{\"id\":\"4717366\"},\"major_label_policy\":{\"id\":\"4717367\"},\"ticker\":{\"id\":\"4715989\"}},\"id\":\"4715988\",\"type\":\"LinearAxis\"},{\"attributes\":{\"formatter\":{\"id\":\"4717354\"},\"major_label_policy\":{\"id\":\"4717355\"},\"ticker\":{\"id\":\"4715923\"}},\"id\":\"4715922\",\"type\":\"LinearAxis\"},{\"attributes\":{},\"id\":\"4715968\",\"type\":\"HelpTool\"},{\"attributes\":{\"axis\":{\"id\":\"4715926\"},\"dimension\":1,\"ticker\":null},\"id\":\"4715929\",\"type\":\"Grid\"},{\"attributes\":{},\"id\":\"4715989\",\"type\":\"BasicTicker\"},{\"attributes\":{},\"id\":\"4716032\",\"type\":\"SaveTool\"},{\"attributes\":{\"overlay\":{\"id\":\"4716002\"}},\"id\":\"4715998\",\"type\":\"BoxZoomTool\"},{\"attributes\":{\"overlay\":{\"id\":\"4716068\"}},\"id\":\"4716064\",\"type\":\"BoxZoomTool\"},{\"attributes\":{},\"id\":\"4715986\",\"type\":\"LinearScale\"},{\"attributes\":{\"active_multi\":null,\"tools\":[{\"id\":\"4715963\"},{\"id\":\"4715964\"},{\"id\":\"4715965\"},{\"id\":\"4715966\"},{\"id\":\"4715967\"},{\"id\":\"4715968\"}]},\"id\":\"4715970\",\"type\":\"Toolbar\"},{\"attributes\":{},\"id\":\"4715999\",\"type\":\"SaveTool\"},{\"attributes\":{},\"id\":\"4717382\",\"type\":\"AllLabels\"},{\"attributes\":{},\"id\":\"4715949\",\"type\":\"DataRange1d\"},{\"attributes\":{},\"id\":\"4715953\",\"type\":\"LinearScale\"},{\"attributes\":{\"active_multi\":null,\"tools\":[{\"id\":\"4715897\"},{\"id\":\"4715898\"},{\"id\":\"4715899\"},{\"id\":\"4715900\"},{\"id\":\"4715901\"},{\"id\":\"4715902\"}]},\"id\":\"4715904\",\"type\":\"Toolbar\"},{\"attributes\":{\"axis\":{\"id\":\"4715988\"},\"ticker\":null},\"id\":\"4715991\",\"type\":\"Grid\"},{\"attributes\":{\"bottom_units\":\"screen\",\"fill_alpha\":0.5,\"fill_color\":\"lightgrey\",\"left_units\":\"screen\",\"level\":\"overlay\",\"line_alpha\":1.0,\"line_color\":\"black\",\"line_dash\":[4,4],\"line_width\":2,\"right_units\":\"screen\",\"syncable\":false,\"top_units\":\"screen\"},\"id\":\"4715903\",\"type\":\"BoxAnnotation\"},{\"attributes\":{\"text\":\"policy_loss\"},\"id\":\"4715879\",\"type\":\"Title\"},{\"attributes\":{\"text\":\"v_loss\"},\"id\":\"4715945\",\"type\":\"Title\"},{\"attributes\":{},\"id\":\"4715980\",\"type\":\"DataRange1d\"},{\"attributes\":{\"overlay\":{\"id\":\"4715936\"}},\"id\":\"4715932\",\"type\":\"BoxZoomTool\"},{\"attributes\":{\"below\":[{\"id\":\"4716054\"}],\"center\":[{\"id\":\"4716057\"},{\"id\":\"4716061\"}],\"height\":300,\"left\":[{\"id\":\"4716058\"}],\"title\":{\"id\":\"4716044\"},\"toolbar\":{\"id\":\"4716069\"},\"width\":800,\"x_range\":{\"id\":\"4716046\"},\"x_scale\":{\"id\":\"4716050\"},\"y_range\":{\"id\":\"4716048\"},\"y_scale\":{\"id\":\"4716052\"}},\"id\":\"4716043\",\"subtype\":\"Figure\",\"type\":\"Plot\"},{\"attributes\":{},\"id\":\"4716017\",\"type\":\"LinearScale\"},{\"attributes\":{\"bottom_units\":\"screen\",\"fill_alpha\":0.5,\"fill_color\":\"lightgrey\",\"left_units\":\"screen\",\"level\":\"overlay\",\"line_alpha\":1.0,\"line_color\":\"black\",\"line_dash\":[4,4],\"line_width\":2,\"right_units\":\"screen\",\"syncable\":false,\"top_units\":\"screen\"},\"id\":\"4716002\",\"type\":\"BoxAnnotation\"},{\"attributes\":{\"active_multi\":null,\"tools\":[{\"id\":\"4715996\"},{\"id\":\"4715997\"},{\"id\":\"4715998\"},{\"id\":\"4715999\"},{\"id\":\"4716000\"},{\"id\":\"4716001\"}]},\"id\":\"4716003\",\"type\":\"Toolbar\"},{\"attributes\":{},\"id\":\"4715934\",\"type\":\"ResetTool\"},{\"attributes\":{\"formatter\":{\"id\":\"4717357\"},\"major_label_policy\":{\"id\":\"4717358\"},\"ticker\":{\"id\":\"4715927\"}},\"id\":\"4715926\",\"type\":\"LinearAxis\"},{\"attributes\":{},\"id\":\"4715887\",\"type\":\"LinearScale\"},{\"attributes\":{},\"id\":\"4717348\",\"type\":\"BasicTickFormatter\"},{\"attributes\":{},\"id\":\"4715923\",\"type\":\"BasicTicker\"},{\"attributes\":{},\"id\":\"4715920\",\"type\":\"LinearScale\"},{\"attributes\":{},\"id\":\"4716015\",\"type\":\"DataRange1d\"},{\"attributes\":{},\"id\":\"4717358\",\"type\":\"AllLabels\"},{\"attributes\":{},\"id\":\"4715927\",\"type\":\"BasicTicker\"},{\"attributes\":{},\"id\":\"4715993\",\"type\":\"BasicTicker\"},{\"attributes\":{},\"id\":\"4715931\",\"type\":\"WheelZoomTool\"},{\"attributes\":{},\"id\":\"4715918\",\"type\":\"LinearScale\"},{\"attributes\":{},\"id\":\"4715885\",\"type\":\"LinearScale\"},{\"attributes\":{\"formatter\":{\"id\":\"4717348\"},\"major_label_policy\":{\"id\":\"4717349\"},\"ticker\":{\"id\":\"4715890\"}},\"id\":\"4715889\",\"type\":\"LinearAxis\"},{\"attributes\":{},\"id\":\"4715956\",\"type\":\"BasicTicker\"},{\"attributes\":{\"below\":[{\"id\":\"4715988\"}],\"center\":[{\"id\":\"4715991\"},{\"id\":\"4715995\"}],\"height\":300,\"left\":[{\"id\":\"4715992\"}],\"title\":{\"id\":\"4715978\"},\"toolbar\":{\"id\":\"4716003\"},\"width\":800,\"x_range\":{\"id\":\"4715980\"},\"x_scale\":{\"id\":\"4715984\"},\"y_range\":{\"id\":\"4715982\"},\"y_scale\":{\"id\":\"4715986\"}},\"id\":\"4715977\",\"subtype\":\"Figure\",\"type\":\"Plot\"},{\"attributes\":{\"axis\":{\"id\":\"4715959\"},\"dimension\":1,\"ticker\":null},\"id\":\"4715962\",\"type\":\"Grid\"},{\"attributes\":{\"below\":[{\"id\":\"4715922\"}],\"center\":[{\"id\":\"4715925\"},{\"id\":\"4715929\"}],\"height\":300,\"left\":[{\"id\":\"4715926\"}],\"title\":{\"id\":\"4715912\"},\"toolbar\":{\"id\":\"4715937\"},\"width\":800,\"x_range\":{\"id\":\"4715914\"},\"x_scale\":{\"id\":\"4715918\"},\"y_range\":{\"id\":\"4715916\"},\"y_scale\":{\"id\":\"4715920\"}},\"id\":\"4715911\",\"subtype\":\"Figure\",\"type\":\"Plot\"},{\"attributes\":{\"axis\":{\"id\":\"4716021\"},\"ticker\":null},\"id\":\"4716024\",\"type\":\"Grid\"},{\"attributes\":{},\"id\":\"4717373\",\"type\":\"AllLabels\"},{\"attributes\":{\"text\":\"G\"},\"id\":\"4715978\",\"type\":\"Title\"},{\"attributes\":{},\"id\":\"4715894\",\"type\":\"BasicTicker\"},{\"attributes\":{},\"id\":\"4717357\",\"type\":\"BasicTickFormatter\"},{\"attributes\":{},\"id\":\"4717366\",\"type\":\"BasicTickFormatter\"},{\"attributes\":{\"formatter\":{\"id\":\"4717381\"},\"major_label_policy\":{\"id\":\"4717382\"},\"ticker\":{\"id\":\"4716059\"}},\"id\":\"4716058\",\"type\":\"LinearAxis\"},{\"attributes\":{},\"id\":\"4716050\",\"type\":\"LinearScale\"},{\"attributes\":{},\"id\":\"4715901\",\"type\":\"ResetTool\"},{\"attributes\":{},\"id\":\"4717363\",\"type\":\"BasicTickFormatter\"},{\"attributes\":{},\"id\":\"4717355\",\"type\":\"AllLabels\"},{\"attributes\":{},\"id\":\"4716029\",\"type\":\"PanTool\"},{\"attributes\":{},\"id\":\"4715914\",\"type\":\"DataRange1d\"},{\"attributes\":{\"axis\":{\"id\":\"4716025\"},\"dimension\":1,\"ticker\":null},\"id\":\"4716028\",\"type\":\"Grid\"},{\"attributes\":{\"bottom_units\":\"screen\",\"fill_alpha\":0.5,\"fill_color\":\"lightgrey\",\"left_units\":\"screen\",\"level\":\"overlay\",\"line_alpha\":1.0,\"line_color\":\"black\",\"line_dash\":[4,4],\"line_width\":2,\"right_units\":\"screen\",\"syncable\":false,\"top_units\":\"screen\"},\"id\":\"4716068\",\"type\":\"BoxAnnotation\"},{\"attributes\":{},\"id\":\"4717369\",\"type\":\"BasicTickFormatter\"},{\"attributes\":{\"axis\":{\"id\":\"4716058\"},\"dimension\":1,\"ticker\":null},\"id\":\"4716061\",\"type\":\"Grid\"},{\"attributes\":{},\"id\":\"4715883\",\"type\":\"DataRange1d\"},{\"attributes\":{},\"id\":\"4717367\",\"type\":\"AllLabels\"},{\"attributes\":{},\"id\":\"4717381\",\"type\":\"BasicTickFormatter\"},{\"attributes\":{},\"id\":\"4717375\",\"type\":\"BasicTickFormatter\"},{\"attributes\":{},\"id\":\"4717361\",\"type\":\"AllLabels\"},{\"attributes\":{\"overlay\":{\"id\":\"4716035\"}},\"id\":\"4716031\",\"type\":\"BoxZoomTool\"},{\"attributes\":{},\"id\":\"4715897\",\"type\":\"PanTool\"},{\"attributes\":{\"formatter\":{\"id\":\"4717375\"},\"major_label_policy\":{\"id\":\"4717376\"},\"ticker\":{\"id\":\"4716026\"}},\"id\":\"4716025\",\"type\":\"LinearAxis\"},{\"attributes\":{\"bottom_units\":\"screen\",\"fill_alpha\":0.5,\"fill_color\":\"lightgrey\",\"left_units\":\"screen\",\"level\":\"overlay\",\"line_alpha\":1.0,\"line_color\":\"black\",\"line_dash\":[4,4],\"line_width\":2,\"right_units\":\"screen\",\"syncable\":false,\"top_units\":\"screen\"},\"id\":\"4716035\",\"type\":\"BoxAnnotation\"},{\"attributes\":{},\"id\":\"4715916\",\"type\":\"DataRange1d\"},{\"attributes\":{},\"id\":\"4716065\",\"type\":\"SaveTool\"},{\"attributes\":{},\"id\":\"4717354\",\"type\":\"BasicTickFormatter\"},{\"attributes\":{},\"id\":\"4716033\",\"type\":\"ResetTool\"},{\"attributes\":{},\"id\":\"4717364\",\"type\":\"AllLabels\"},{\"attributes\":{},\"id\":\"4717360\",\"type\":\"BasicTickFormatter\"},{\"attributes\":{\"formatter\":{\"id\":\"4717351\"},\"major_label_policy\":{\"id\":\"4717352\"},\"ticker\":{\"id\":\"4715894\"}},\"id\":\"4715893\",\"type\":\"LinearAxis\"},{\"attributes\":{},\"id\":\"4717379\",\"type\":\"AllLabels\"},{\"attributes\":{\"formatter\":{\"id\":\"4717363\"},\"major_label_policy\":{\"id\":\"4717364\"},\"ticker\":{\"id\":\"4715960\"}},\"id\":\"4715959\",\"type\":\"LinearAxis\"},{\"attributes\":{\"below\":[{\"id\":\"4715955\"}],\"center\":[{\"id\":\"4715958\"},{\"id\":\"4715962\"}],\"height\":300,\"left\":[{\"id\":\"4715959\"}],\"title\":{\"id\":\"4715945\"},\"toolbar\":{\"id\":\"4715970\"},\"width\":800,\"x_range\":{\"id\":\"4715947\"},\"x_scale\":{\"id\":\"4715951\"},\"y_range\":{\"id\":\"4715949\"},\"y_scale\":{\"id\":\"4715953\"}},\"id\":\"4715944\",\"subtype\":\"Figure\",\"type\":\"Plot\"},{\"attributes\":{\"axis\":{\"id\":\"4715889\"},\"ticker\":null},\"id\":\"4715892\",\"type\":\"Grid\"},{\"attributes\":{},\"id\":\"4716066\",\"type\":\"ResetTool\"},{\"attributes\":{},\"id\":\"4716022\",\"type\":\"BasicTicker\"},{\"attributes\":{},\"id\":\"4716067\",\"type\":\"HelpTool\"},{\"attributes\":{},\"id\":\"4715881\",\"type\":\"DataRange1d\"},{\"attributes\":{\"axis\":{\"id\":\"4716054\"},\"ticker\":null},\"id\":\"4716057\",\"type\":\"Grid\"},{\"attributes\":{\"overlay\":{\"id\":\"4715969\"}},\"id\":\"4715965\",\"type\":\"BoxZoomTool\"},{\"attributes\":{\"active_multi\":null,\"tools\":[{\"id\":\"4716029\"},{\"id\":\"4716030\"},{\"id\":\"4716031\"},{\"id\":\"4716032\"},{\"id\":\"4716033\"},{\"id\":\"4716034\"}]},\"id\":\"4716036\",\"type\":\"Toolbar\"},{\"attributes\":{},\"id\":\"4716055\",\"type\":\"BasicTicker\"},{\"attributes\":{},\"id\":\"4716063\",\"type\":\"WheelZoomTool\"},{\"attributes\":{\"axis\":{\"id\":\"4715893\"},\"dimension\":1,\"ticker\":null},\"id\":\"4715896\",\"type\":\"Grid\"},{\"attributes\":{\"active_multi\":null,\"tools\":[{\"id\":\"4716062\"},{\"id\":\"4716063\"},{\"id\":\"4716064\"},{\"id\":\"4716065\"},{\"id\":\"4716066\"},{\"id\":\"4716067\"}]},\"id\":\"4716069\",\"type\":\"Toolbar\"},{\"attributes\":{},\"id\":\"4716052\",\"type\":\"LinearScale\"},{\"attributes\":{},\"id\":\"4716026\",\"type\":\"BasicTicker\"},{\"attributes\":{\"formatter\":{\"id\":\"4717378\"},\"major_label_policy\":{\"id\":\"4717379\"},\"ticker\":{\"id\":\"4716055\"}},\"id\":\"4716054\",\"type\":\"LinearAxis\"},{\"attributes\":{\"formatter\":{\"id\":\"4717372\"},\"major_label_policy\":{\"id\":\"4717373\"},\"ticker\":{\"id\":\"4716022\"}},\"id\":\"4716021\",\"type\":\"LinearAxis\"},{\"attributes\":{},\"id\":\"4715963\",\"type\":\"PanTool\"},{\"attributes\":{\"text\":\"q_loss\"},\"id\":\"4715912\",\"type\":\"Title\"},{\"attributes\":{},\"id\":\"4717352\",\"type\":\"AllLabels\"},{\"attributes\":{},\"id\":\"4716034\",\"type\":\"HelpTool\"},{\"attributes\":{\"overlay\":{\"id\":\"4715903\"}},\"id\":\"4715899\",\"type\":\"BoxZoomTool\"},{\"attributes\":{},\"id\":\"4717372\",\"type\":\"BasicTickFormatter\"},{\"attributes\":{\"text\":\"entropy\"},\"id\":\"4716044\",\"type\":\"Title\"},{\"attributes\":{},\"id\":\"4717351\",\"type\":\"BasicTickFormatter\"},{\"attributes\":{},\"id\":\"4716059\",\"type\":\"BasicTicker\"},{\"attributes\":{},\"id\":\"4716046\",\"type\":\"DataRange1d\"},{\"attributes\":{\"below\":[{\"id\":\"4716021\"}],\"center\":[{\"id\":\"4716024\"},{\"id\":\"4716028\"}],\"height\":300,\"left\":[{\"id\":\"4716025\"}],\"title\":{\"id\":\"4716011\"},\"toolbar\":{\"id\":\"4716036\"},\"width\":800,\"x_range\":{\"id\":\"4716013\"},\"x_scale\":{\"id\":\"4716017\"},\"y_range\":{\"id\":\"4716015\"},\"y_scale\":{\"id\":\"4716019\"}},\"id\":\"4716010\",\"subtype\":\"Figure\",\"type\":\"Plot\"},{\"attributes\":{},\"id\":\"4716048\",\"type\":\"DataRange1d\"},{\"attributes\":{},\"id\":\"4716062\",\"type\":\"PanTool\"},{\"attributes\":{},\"id\":\"4715898\",\"type\":\"WheelZoomTool\"},{\"attributes\":{},\"id\":\"4716030\",\"type\":\"WheelZoomTool\"},{\"attributes\":{},\"id\":\"4717349\",\"type\":\"AllLabels\"},{\"attributes\":{},\"id\":\"4716019\",\"type\":\"LinearScale\"}],\"root_ids\":[\"4716076\"]},\"title\":\"Bokeh Application\",\"version\":\"2.3.1\"}};\n",
       "  var render_items = [{\"docid\":\"16980c65-73d0-4713-aec3-b3b226603727\",\"notebook_comms_target\":\"4717390\",\"root_ids\":[\"4716076\"],\"roots\":{\"4716076\":\"72cc32e5-3ead-46bc-9de2-131fc64a1740\"}}];\n",
       "  root.Bokeh.embed.embed_items_notebook(docs_json, render_items);\n",
       "\n",
       "  }\n",
       "  if (root.Bokeh !== undefined) {\n",
       "    embed_document(root);\n",
       "  } else {\n",
       "    var attempts = 0;\n",
       "    var timer = setInterval(function(root) {\n",
       "      if (root.Bokeh !== undefined) {\n",
       "        clearInterval(timer);\n",
       "        embed_document(root);\n",
       "      } else {\n",
       "        attempts++;\n",
       "        if (attempts > 100) {\n",
       "          clearInterval(timer);\n",
       "          console.log(\"Bokeh: ERROR: Unable to run BokehJS code because BokehJS library is missing\");\n",
       "        }\n",
       "      }\n",
       "    }, 10, root)\n",
       "  }\n",
       "})(window);"
      ],
      "application/vnd.bokehjs_exec.v0+json": ""
     },
     "metadata": {
      "application/vnd.bokehjs_exec.v0+json": {
       "id": "4716076"
      }
     },
     "output_type": "display_data"
    }
   ],
   "source": [
    "vis = VisDashboard([\n",
    "    LineFigure('policy_loss'),\n",
    "    LineFigure('q_loss'),\n",
    "    LineFigure('v_loss'),\n",
    "    LineFigure('G'),\n",
    "    LineFigure('trueskill'),\n",
    "    LineFigure('entropy')\n",
    "])\n",
    "vis.show()"
   ]
  },
  {
   "cell_type": "code",
   "execution_count": 583,
   "metadata": {
    "ExecuteTime": {
     "end_time": "2021-05-04T22:56:31.313043Z",
     "start_time": "2021-05-04T22:56:31.308778Z"
    }
   },
   "outputs": [],
   "source": [
    "policy_opt = optax.adam(3e-7)\n",
    "q_opt = optax.adam(3e-3)\n",
    "v_opt = optax.adam(3e-3)"
   ]
  },
  {
   "cell_type": "code",
   "execution_count": 584,
   "metadata": {
    "ExecuteTime": {
     "end_time": "2021-05-04T22:56:31.319123Z",
     "start_time": "2021-05-04T22:56:31.316314Z"
    }
   },
   "outputs": [],
   "source": [
    "key, new_key, new_key_2 = jax.random.split(key, num=3)"
   ]
  },
  {
   "cell_type": "code",
   "execution_count": 585,
   "metadata": {
    "ExecuteTime": {
     "end_time": "2021-05-04T22:56:31.377330Z",
     "start_time": "2021-05-04T22:56:31.321477Z"
    }
   },
   "outputs": [],
   "source": [
    "agents = [\n",
    "    RandomPlayer(),\n",
    "    PolicyGradientPlayer(1, new_key)\n",
    "]"
   ]
  },
  {
   "cell_type": "code",
   "execution_count": 586,
   "metadata": {
    "ExecuteTime": {
     "end_time": "2021-05-04T22:56:31.381563Z",
     "start_time": "2021-05-04T22:56:31.378986Z"
    }
   },
   "outputs": [],
   "source": [
    "# agents = [\n",
    "#     PolicyGradientPlayer(0, new_key),\n",
    "#     RandomPlayer(),\n",
    "# ]"
   ]
  },
  {
   "cell_type": "code",
   "execution_count": 587,
   "metadata": {
    "ExecuteTime": {
     "end_time": "2021-05-04T22:56:31.386007Z",
     "start_time": "2021-05-04T22:56:31.383618Z"
    }
   },
   "outputs": [],
   "source": [
    "# agents = [\n",
    "#     PolicyGradientPlayer(0, new_key),\n",
    "#     PolicyGradientPlayer(1, new_key_2),\n",
    "# ]"
   ]
  },
  {
   "cell_type": "code",
   "execution_count": 591,
   "metadata": {
    "ExecuteTime": {
     "end_time": "2021-05-04T23:23:38.506023Z",
     "start_time": "2021-05-04T23:23:26.329195Z"
    },
    "scrolled": false
   },
   "outputs": [
    {
     "data": {
      "application/vnd.jupyter.widget-view+json": {
       "model_id": "4c13203fa965449f96a8291d26a92b70",
       "version_major": 2,
       "version_minor": 0
      },
      "text/plain": [
       "  0%|          | 0/100000 [00:00<?, ?it/s]"
      ]
     },
     "metadata": {},
     "output_type": "display_data"
    },
    {
     "ename": "KeyboardInterrupt",
     "evalue": "",
     "output_type": "error",
     "traceback": [
      "\u001b[1;31m---------------------------------------------------------------------------\u001b[0m",
      "\u001b[1;31mKeyboardInterrupt\u001b[0m                         Traceback (most recent call last)",
      "\u001b[1;32m<ipython-input-591-28abe9f2c385>\u001b[0m in \u001b[0;36m<module>\u001b[1;34m()\u001b[0m\n\u001b[0;32m     42\u001b[0m \u001b[1;31m#         print(wins)\u001b[0m\u001b[1;33m\u001b[0m\u001b[1;33m\u001b[0m\u001b[1;33m\u001b[0m\u001b[0m\n\u001b[0;32m     43\u001b[0m \u001b[1;31m#         print()\u001b[0m\u001b[1;33m\u001b[0m\u001b[1;33m\u001b[0m\u001b[1;33m\u001b[0m\u001b[0m\n\u001b[1;32m---> 44\u001b[1;33m         \u001b[0mvis\u001b[0m\u001b[1;33m.\u001b[0m\u001b[0mpush\u001b[0m\u001b[1;33m(\u001b[0m\u001b[1;33m)\u001b[0m\u001b[1;33m\u001b[0m\u001b[1;33m\u001b[0m\u001b[0m\n\u001b[0m\u001b[0;32m     45\u001b[0m         \u001b[1;32mfor\u001b[0m \u001b[0magent\u001b[0m \u001b[1;32min\u001b[0m \u001b[0magents\u001b[0m\u001b[1;33m:\u001b[0m\u001b[1;33m\u001b[0m\u001b[1;33m\u001b[0m\u001b[0m\n\u001b[0;32m     46\u001b[0m             \u001b[0magent\u001b[0m\u001b[1;33m.\u001b[0m\u001b[0mrating\u001b[0m \u001b[1;33m=\u001b[0m \u001b[0mtrueskill\u001b[0m\u001b[1;33m.\u001b[0m\u001b[0mRating\u001b[0m\u001b[1;33m(\u001b[0m\u001b[1;33m)\u001b[0m\u001b[1;33m\u001b[0m\u001b[1;33m\u001b[0m\u001b[0m\n",
      "\u001b[1;32m<ipython-input-567-866c3cd66a06>\u001b[0m in \u001b[0;36mpush\u001b[1;34m(self)\u001b[0m\n\u001b[0;32m     12\u001b[0m \u001b[1;33m\u001b[0m\u001b[0m\n\u001b[0;32m     13\u001b[0m     \u001b[1;32mdef\u001b[0m \u001b[0mpush\u001b[0m\u001b[1;33m(\u001b[0m\u001b[0mself\u001b[0m\u001b[1;33m)\u001b[0m\u001b[1;33m:\u001b[0m\u001b[1;33m\u001b[0m\u001b[1;33m\u001b[0m\u001b[0m\n\u001b[1;32m---> 14\u001b[1;33m         \u001b[0mself\u001b[0m\u001b[1;33m.\u001b[0m\u001b[0m_sync_figures\u001b[0m\u001b[1;33m(\u001b[0m\u001b[1;33m)\u001b[0m\u001b[1;33m\u001b[0m\u001b[1;33m\u001b[0m\u001b[0m\n\u001b[0m\u001b[0;32m     15\u001b[0m         \u001b[0mpush_notebook\u001b[0m\u001b[1;33m(\u001b[0m\u001b[0mhandle\u001b[0m\u001b[1;33m=\u001b[0m\u001b[0mself\u001b[0m\u001b[1;33m.\u001b[0m\u001b[0mhandle\u001b[0m\u001b[1;33m)\u001b[0m\u001b[1;33m\u001b[0m\u001b[1;33m\u001b[0m\u001b[0m\n\u001b[0;32m     16\u001b[0m \u001b[1;33m\u001b[0m\u001b[0m\n",
      "\u001b[1;32m<ipython-input-567-866c3cd66a06>\u001b[0m in \u001b[0;36m_sync_figures\u001b[1;34m(self)\u001b[0m\n\u001b[0;32m      9\u001b[0m             \u001b[1;32mfor\u001b[0m \u001b[0mglyph_name\u001b[0m \u001b[1;32min\u001b[0m \u001b[0mself\u001b[0m\u001b[1;33m.\u001b[0m\u001b[0msaver\u001b[0m\u001b[1;33m.\u001b[0m\u001b[0mdata\u001b[0m\u001b[1;33m[\u001b[0m\u001b[0mfig_name\u001b[0m\u001b[1;33m]\u001b[0m\u001b[1;33m:\u001b[0m\u001b[1;33m\u001b[0m\u001b[1;33m\u001b[0m\u001b[0m\n\u001b[0;32m     10\u001b[0m                 \u001b[0mdata_source\u001b[0m \u001b[1;33m=\u001b[0m \u001b[0mto_data_source\u001b[0m\u001b[1;33m(\u001b[0m\u001b[0mself\u001b[0m\u001b[1;33m.\u001b[0m\u001b[0msaver\u001b[0m\u001b[1;33m.\u001b[0m\u001b[0mdata\u001b[0m\u001b[1;33m[\u001b[0m\u001b[0mfig_name\u001b[0m\u001b[1;33m]\u001b[0m\u001b[1;33m[\u001b[0m\u001b[0mglyph_name\u001b[0m\u001b[1;33m]\u001b[0m\u001b[1;33m)\u001b[0m\u001b[1;33m\u001b[0m\u001b[1;33m\u001b[0m\u001b[0m\n\u001b[1;32m---> 11\u001b[1;33m                 \u001b[0mself\u001b[0m\u001b[1;33m.\u001b[0m\u001b[0mfigs\u001b[0m\u001b[1;33m[\u001b[0m\u001b[0mfig_name\u001b[0m\u001b[1;33m]\u001b[0m\u001b[1;33m.\u001b[0m\u001b[0mupdate_glyph\u001b[0m\u001b[1;33m(\u001b[0m\u001b[0mglyph_name\u001b[0m\u001b[1;33m,\u001b[0m \u001b[0mdata_source\u001b[0m\u001b[1;33m)\u001b[0m\u001b[1;33m\u001b[0m\u001b[1;33m\u001b[0m\u001b[0m\n\u001b[0m\u001b[0;32m     12\u001b[0m \u001b[1;33m\u001b[0m\u001b[0m\n\u001b[0;32m     13\u001b[0m     \u001b[1;32mdef\u001b[0m \u001b[0mpush\u001b[0m\u001b[1;33m(\u001b[0m\u001b[0mself\u001b[0m\u001b[1;33m)\u001b[0m\u001b[1;33m:\u001b[0m\u001b[1;33m\u001b[0m\u001b[1;33m\u001b[0m\u001b[0m\n",
      "\u001b[1;32m<ipython-input-567-94b6d6aa1243>\u001b[0m in \u001b[0;36mupdate_glyph\u001b[1;34m(self, glyph_name, data_source)\u001b[0m\n\u001b[0;32m      6\u001b[0m     \u001b[1;32mdef\u001b[0m \u001b[0mupdate_glyph\u001b[0m\u001b[1;33m(\u001b[0m\u001b[0mself\u001b[0m\u001b[1;33m,\u001b[0m \u001b[0mglyph_name\u001b[0m\u001b[1;33m,\u001b[0m \u001b[0mdata_source\u001b[0m\u001b[1;33m)\u001b[0m\u001b[1;33m:\u001b[0m\u001b[1;33m\u001b[0m\u001b[1;33m\u001b[0m\u001b[0m\n\u001b[0;32m      7\u001b[0m         \u001b[1;32mif\u001b[0m \u001b[0mglyph_name\u001b[0m \u001b[1;32min\u001b[0m \u001b[0mself\u001b[0m\u001b[1;33m.\u001b[0m\u001b[0mglyphs\u001b[0m\u001b[1;33m:\u001b[0m\u001b[1;33m\u001b[0m\u001b[1;33m\u001b[0m\u001b[0m\n\u001b[1;32m----> 8\u001b[1;33m             \u001b[0mself\u001b[0m\u001b[1;33m.\u001b[0m\u001b[0mfig\u001b[0m\u001b[1;33m.\u001b[0m\u001b[0mrenderers\u001b[0m\u001b[1;33m.\u001b[0m\u001b[0mremove\u001b[0m\u001b[1;33m(\u001b[0m\u001b[0mself\u001b[0m\u001b[1;33m.\u001b[0m\u001b[0mglyphs\u001b[0m\u001b[1;33m[\u001b[0m\u001b[0mglyph_name\u001b[0m\u001b[1;33m]\u001b[0m\u001b[1;33m)\u001b[0m\u001b[1;33m\u001b[0m\u001b[1;33m\u001b[0m\u001b[0m\n\u001b[0m\u001b[0;32m      9\u001b[0m         \u001b[0mself\u001b[0m\u001b[1;33m.\u001b[0m\u001b[0mglyphs\u001b[0m\u001b[1;33m[\u001b[0m\u001b[0mglyph_name\u001b[0m\u001b[1;33m]\u001b[0m \u001b[1;33m=\u001b[0m \u001b[0mself\u001b[0m\u001b[1;33m.\u001b[0m\u001b[0mfig\u001b[0m\u001b[1;33m.\u001b[0m\u001b[0mline\u001b[0m\u001b[1;33m(\u001b[0m\u001b[1;33m)\u001b[0m\u001b[1;33m\u001b[0m\u001b[1;33m\u001b[0m\u001b[0m\n\u001b[0;32m     10\u001b[0m         \u001b[0mself\u001b[0m\u001b[1;33m.\u001b[0m\u001b[0mglyphs\u001b[0m\u001b[1;33m[\u001b[0m\u001b[0mglyph_name\u001b[0m\u001b[1;33m]\u001b[0m\u001b[1;33m.\u001b[0m\u001b[0mdata_source\u001b[0m \u001b[1;33m=\u001b[0m \u001b[0mdata_source\u001b[0m\u001b[1;33m\u001b[0m\u001b[1;33m\u001b[0m\u001b[0m\n",
      "\u001b[1;32m/Users/Uduse/.local/share/virtualenvs/jax-yjI4wS2g/lib/python3.7/site-packages/bokeh/core/property/wrappers.py\u001b[0m in \u001b[0;36mwrapper\u001b[1;34m(self, *args, **kwargs)\u001b[0m\n\u001b[0;32m    121\u001b[0m         \u001b[0mold\u001b[0m \u001b[1;33m=\u001b[0m \u001b[0mself\u001b[0m\u001b[1;33m.\u001b[0m\u001b[0m_saved_copy\u001b[0m\u001b[1;33m(\u001b[0m\u001b[1;33m)\u001b[0m\u001b[1;33m\u001b[0m\u001b[1;33m\u001b[0m\u001b[0m\n\u001b[0;32m    122\u001b[0m         \u001b[0mresult\u001b[0m \u001b[1;33m=\u001b[0m \u001b[0mfunc\u001b[0m\u001b[1;33m(\u001b[0m\u001b[0mself\u001b[0m\u001b[1;33m,\u001b[0m \u001b[1;33m*\u001b[0m\u001b[0margs\u001b[0m\u001b[1;33m,\u001b[0m \u001b[1;33m**\u001b[0m\u001b[0mkwargs\u001b[0m\u001b[1;33m)\u001b[0m\u001b[1;33m\u001b[0m\u001b[1;33m\u001b[0m\u001b[0m\n\u001b[1;32m--> 123\u001b[1;33m         \u001b[0mself\u001b[0m\u001b[1;33m.\u001b[0m\u001b[0m_notify_owners\u001b[0m\u001b[1;33m(\u001b[0m\u001b[0mold\u001b[0m\u001b[1;33m)\u001b[0m\u001b[1;33m\u001b[0m\u001b[1;33m\u001b[0m\u001b[0m\n\u001b[0m\u001b[0;32m    124\u001b[0m         \u001b[1;32mreturn\u001b[0m \u001b[0mresult\u001b[0m\u001b[1;33m\u001b[0m\u001b[1;33m\u001b[0m\u001b[0m\n\u001b[0;32m    125\u001b[0m     \u001b[0mwrapper\u001b[0m\u001b[1;33m.\u001b[0m\u001b[0m__doc__\u001b[0m \u001b[1;33m=\u001b[0m \u001b[1;34mf\"Container method ``{func.__name__}`` instrumented to notify property owners\"\u001b[0m\u001b[1;33m\u001b[0m\u001b[1;33m\u001b[0m\u001b[0m\n",
      "\u001b[1;32m/Users/Uduse/.local/share/virtualenvs/jax-yjI4wS2g/lib/python3.7/site-packages/bokeh/core/property/wrappers.py\u001b[0m in \u001b[0;36m_notify_owners\u001b[1;34m(self, old, hint)\u001b[0m\n\u001b[0;32m    148\u001b[0m     \u001b[1;32mdef\u001b[0m \u001b[0m_notify_owners\u001b[0m\u001b[1;33m(\u001b[0m\u001b[0mself\u001b[0m\u001b[1;33m,\u001b[0m \u001b[0mold\u001b[0m\u001b[1;33m,\u001b[0m \u001b[0mhint\u001b[0m\u001b[1;33m=\u001b[0m\u001b[1;32mNone\u001b[0m\u001b[1;33m)\u001b[0m\u001b[1;33m:\u001b[0m\u001b[1;33m\u001b[0m\u001b[1;33m\u001b[0m\u001b[0m\n\u001b[0;32m    149\u001b[0m         \u001b[1;32mfor\u001b[0m \u001b[1;33m(\u001b[0m\u001b[0mowner\u001b[0m\u001b[1;33m,\u001b[0m \u001b[0mdescriptor\u001b[0m\u001b[1;33m)\u001b[0m \u001b[1;32min\u001b[0m \u001b[0mself\u001b[0m\u001b[1;33m.\u001b[0m\u001b[0m_owners\u001b[0m\u001b[1;33m:\u001b[0m\u001b[1;33m\u001b[0m\u001b[1;33m\u001b[0m\u001b[0m\n\u001b[1;32m--> 150\u001b[1;33m             \u001b[0mdescriptor\u001b[0m\u001b[1;33m.\u001b[0m\u001b[0m_notify_mutated\u001b[0m\u001b[1;33m(\u001b[0m\u001b[0mowner\u001b[0m\u001b[1;33m,\u001b[0m \u001b[0mold\u001b[0m\u001b[1;33m,\u001b[0m \u001b[0mhint\u001b[0m\u001b[1;33m=\u001b[0m\u001b[0mhint\u001b[0m\u001b[1;33m)\u001b[0m\u001b[1;33m\u001b[0m\u001b[1;33m\u001b[0m\u001b[0m\n\u001b[0m\u001b[0;32m    151\u001b[0m \u001b[1;33m\u001b[0m\u001b[0m\n\u001b[0;32m    152\u001b[0m     \u001b[1;32mdef\u001b[0m \u001b[0m_saved_copy\u001b[0m\u001b[1;33m(\u001b[0m\u001b[0mself\u001b[0m\u001b[1;33m)\u001b[0m\u001b[1;33m:\u001b[0m\u001b[1;33m\u001b[0m\u001b[1;33m\u001b[0m\u001b[0m\n",
      "\u001b[1;32m/Users/Uduse/.local/share/virtualenvs/jax-yjI4wS2g/lib/python3.7/site-packages/bokeh/core/property/descriptors.py\u001b[0m in \u001b[0;36m_notify_mutated\u001b[1;34m(self, obj, old, hint)\u001b[0m\n\u001b[0;32m    884\u001b[0m         \u001b[0mvalue\u001b[0m \u001b[1;33m=\u001b[0m \u001b[0mself\u001b[0m\u001b[1;33m.\u001b[0m\u001b[0mproperty\u001b[0m\u001b[1;33m.\u001b[0m\u001b[0mprepare_value\u001b[0m\u001b[1;33m(\u001b[0m\u001b[0mobj\u001b[0m\u001b[1;33m,\u001b[0m \u001b[0mself\u001b[0m\u001b[1;33m.\u001b[0m\u001b[0mname\u001b[0m\u001b[1;33m,\u001b[0m \u001b[0mvalue\u001b[0m\u001b[1;33m)\u001b[0m\u001b[1;33m\u001b[0m\u001b[1;33m\u001b[0m\u001b[0m\n\u001b[0;32m    885\u001b[0m \u001b[1;33m\u001b[0m\u001b[0m\n\u001b[1;32m--> 886\u001b[1;33m         \u001b[0mself\u001b[0m\u001b[1;33m.\u001b[0m\u001b[0m_real_set\u001b[0m\u001b[1;33m(\u001b[0m\u001b[0mobj\u001b[0m\u001b[1;33m,\u001b[0m \u001b[0mold\u001b[0m\u001b[1;33m,\u001b[0m \u001b[0mvalue\u001b[0m\u001b[1;33m,\u001b[0m \u001b[0mhint\u001b[0m\u001b[1;33m=\u001b[0m\u001b[0mhint\u001b[0m\u001b[1;33m)\u001b[0m\u001b[1;33m\u001b[0m\u001b[1;33m\u001b[0m\u001b[0m\n\u001b[0m\u001b[0;32m    887\u001b[0m \u001b[1;33m\u001b[0m\u001b[0m\n\u001b[0;32m    888\u001b[0m     \u001b[1;32mdef\u001b[0m \u001b[0m_trigger\u001b[0m\u001b[1;33m(\u001b[0m\u001b[0mself\u001b[0m\u001b[1;33m,\u001b[0m \u001b[0mobj\u001b[0m\u001b[1;33m,\u001b[0m \u001b[0mold\u001b[0m\u001b[1;33m,\u001b[0m \u001b[0mvalue\u001b[0m\u001b[1;33m,\u001b[0m \u001b[0mhint\u001b[0m\u001b[1;33m=\u001b[0m\u001b[1;32mNone\u001b[0m\u001b[1;33m,\u001b[0m \u001b[0msetter\u001b[0m\u001b[1;33m=\u001b[0m\u001b[1;32mNone\u001b[0m\u001b[1;33m)\u001b[0m\u001b[1;33m:\u001b[0m\u001b[1;33m\u001b[0m\u001b[1;33m\u001b[0m\u001b[0m\n",
      "\u001b[1;32m/Users/Uduse/.local/share/virtualenvs/jax-yjI4wS2g/lib/python3.7/site-packages/bokeh/core/property/descriptors.py\u001b[0m in \u001b[0;36m_real_set\u001b[1;34m(self, obj, old, value, hint, setter)\u001b[0m\n\u001b[0;32m    847\u001b[0m \u001b[1;33m\u001b[0m\u001b[0m\n\u001b[0;32m    848\u001b[0m         \u001b[1;31m# for notification purposes, \"old\" should be the logical old\u001b[0m\u001b[1;33m\u001b[0m\u001b[1;33m\u001b[0m\u001b[1;33m\u001b[0m\u001b[0m\n\u001b[1;32m--> 849\u001b[1;33m         \u001b[0mself\u001b[0m\u001b[1;33m.\u001b[0m\u001b[0m_trigger\u001b[0m\u001b[1;33m(\u001b[0m\u001b[0mobj\u001b[0m\u001b[1;33m,\u001b[0m \u001b[0mold\u001b[0m\u001b[1;33m,\u001b[0m \u001b[0mvalue\u001b[0m\u001b[1;33m,\u001b[0m \u001b[0mhint\u001b[0m\u001b[1;33m=\u001b[0m\u001b[0mhint\u001b[0m\u001b[1;33m,\u001b[0m \u001b[0msetter\u001b[0m\u001b[1;33m=\u001b[0m\u001b[0msetter\u001b[0m\u001b[1;33m)\u001b[0m\u001b[1;33m\u001b[0m\u001b[1;33m\u001b[0m\u001b[0m\n\u001b[0m\u001b[0;32m    850\u001b[0m \u001b[1;33m\u001b[0m\u001b[0m\n\u001b[0;32m    851\u001b[0m     \u001b[1;31m# called when a container is mutated \"behind our back\" and\u001b[0m\u001b[1;33m\u001b[0m\u001b[1;33m\u001b[0m\u001b[1;33m\u001b[0m\u001b[0m\n",
      "\u001b[1;32m/Users/Uduse/.local/share/virtualenvs/jax-yjI4wS2g/lib/python3.7/site-packages/bokeh/core/property/descriptors.py\u001b[0m in \u001b[0;36m_trigger\u001b[1;34m(self, obj, old, value, hint, setter)\u001b[0m\n\u001b[0;32m    924\u001b[0m         \"\"\"\n\u001b[0;32m    925\u001b[0m         \u001b[1;32mif\u001b[0m \u001b[0mhasattr\u001b[0m\u001b[1;33m(\u001b[0m\u001b[0mobj\u001b[0m\u001b[1;33m,\u001b[0m \u001b[1;34m'trigger'\u001b[0m\u001b[1;33m)\u001b[0m\u001b[1;33m:\u001b[0m\u001b[1;33m\u001b[0m\u001b[1;33m\u001b[0m\u001b[0m\n\u001b[1;32m--> 926\u001b[1;33m             \u001b[0mobj\u001b[0m\u001b[1;33m.\u001b[0m\u001b[0mtrigger\u001b[0m\u001b[1;33m(\u001b[0m\u001b[0mself\u001b[0m\u001b[1;33m.\u001b[0m\u001b[0mname\u001b[0m\u001b[1;33m,\u001b[0m \u001b[0mold\u001b[0m\u001b[1;33m,\u001b[0m \u001b[0mvalue\u001b[0m\u001b[1;33m,\u001b[0m \u001b[0mhint\u001b[0m\u001b[1;33m,\u001b[0m \u001b[0msetter\u001b[0m\u001b[1;33m)\u001b[0m\u001b[1;33m\u001b[0m\u001b[1;33m\u001b[0m\u001b[0m\n\u001b[0m\u001b[0;32m    927\u001b[0m \u001b[1;33m\u001b[0m\u001b[0m\n\u001b[0;32m    928\u001b[0m \u001b[1;33m\u001b[0m\u001b[0m\n",
      "\u001b[1;32m/Users/Uduse/.local/share/virtualenvs/jax-yjI4wS2g/lib/python3.7/site-packages/bokeh/model.py\u001b[0m in \u001b[0;36mtrigger\u001b[1;34m(self, attr, old, new, hint, setter)\u001b[0m\n\u001b[0;32m    677\u001b[0m                 \u001b[0m_visit_value_and_its_immediate_references\u001b[0m\u001b[1;33m(\u001b[0m\u001b[0mold\u001b[0m\u001b[1;33m,\u001b[0m \u001b[0mmark_dirty\u001b[0m\u001b[1;33m)\u001b[0m\u001b[1;33m\u001b[0m\u001b[1;33m\u001b[0m\u001b[0m\n\u001b[0;32m    678\u001b[0m                 \u001b[1;32mif\u001b[0m \u001b[0mdirty\u001b[0m\u001b[1;33m[\u001b[0m\u001b[1;34m'count'\u001b[0m\u001b[1;33m]\u001b[0m \u001b[1;33m>\u001b[0m \u001b[1;36m0\u001b[0m\u001b[1;33m:\u001b[0m\u001b[1;33m\u001b[0m\u001b[1;33m\u001b[0m\u001b[0m\n\u001b[1;32m--> 679\u001b[1;33m                     \u001b[0mself\u001b[0m\u001b[1;33m.\u001b[0m\u001b[0m_document\u001b[0m\u001b[1;33m.\u001b[0m\u001b[0m_invalidate_all_models\u001b[0m\u001b[1;33m(\u001b[0m\u001b[1;33m)\u001b[0m\u001b[1;33m\u001b[0m\u001b[1;33m\u001b[0m\u001b[0m\n\u001b[0m\u001b[0;32m    680\u001b[0m         \u001b[1;31m# chain up to invoke callbacks\u001b[0m\u001b[1;33m\u001b[0m\u001b[1;33m\u001b[0m\u001b[1;33m\u001b[0m\u001b[0m\n\u001b[0;32m    681\u001b[0m         \u001b[0mdescriptor\u001b[0m \u001b[1;33m=\u001b[0m \u001b[0mself\u001b[0m\u001b[1;33m.\u001b[0m\u001b[0mlookup\u001b[0m\u001b[1;33m(\u001b[0m\u001b[0mattr\u001b[0m\u001b[1;33m)\u001b[0m\u001b[1;33m\u001b[0m\u001b[1;33m\u001b[0m\u001b[0m\n",
      "\u001b[1;32m/Users/Uduse/.local/share/virtualenvs/jax-yjI4wS2g/lib/python3.7/site-packages/bokeh/document/document.py\u001b[0m in \u001b[0;36m_invalidate_all_models\u001b[1;34m(self)\u001b[0m\n\u001b[0;32m   1058\u001b[0m         \u001b[1;31m# if freeze count is > 0, we'll recompute on unfreeze\u001b[0m\u001b[1;33m\u001b[0m\u001b[1;33m\u001b[0m\u001b[1;33m\u001b[0m\u001b[0m\n\u001b[0;32m   1059\u001b[0m         \u001b[1;32mif\u001b[0m \u001b[0mself\u001b[0m\u001b[1;33m.\u001b[0m\u001b[0m_all_models_freeze_count\u001b[0m \u001b[1;33m==\u001b[0m \u001b[1;36m0\u001b[0m\u001b[1;33m:\u001b[0m\u001b[1;33m\u001b[0m\u001b[1;33m\u001b[0m\u001b[0m\n\u001b[1;32m-> 1060\u001b[1;33m             \u001b[0mself\u001b[0m\u001b[1;33m.\u001b[0m\u001b[0m_recompute_all_models\u001b[0m\u001b[1;33m(\u001b[0m\u001b[1;33m)\u001b[0m\u001b[1;33m\u001b[0m\u001b[1;33m\u001b[0m\u001b[0m\n\u001b[0m\u001b[0;32m   1061\u001b[0m \u001b[1;33m\u001b[0m\u001b[0m\n\u001b[0;32m   1062\u001b[0m     \u001b[1;32mdef\u001b[0m \u001b[0m_is_single_string_selector\u001b[0m\u001b[1;33m(\u001b[0m\u001b[0mself\u001b[0m\u001b[1;33m,\u001b[0m \u001b[0mselector\u001b[0m\u001b[1;33m,\u001b[0m \u001b[0mfield\u001b[0m\u001b[1;33m)\u001b[0m\u001b[1;33m:\u001b[0m\u001b[1;33m\u001b[0m\u001b[1;33m\u001b[0m\u001b[0m\n",
      "\u001b[1;32m/Users/Uduse/.local/share/virtualenvs/jax-yjI4wS2g/lib/python3.7/site-packages/bokeh/document/document.py\u001b[0m in \u001b[0;36m_recompute_all_models\u001b[1;34m(self)\u001b[0m\n\u001b[0;32m   1110\u001b[0m         \u001b[0mnew_all_models_set\u001b[0m \u001b[1;33m=\u001b[0m \u001b[0mset\u001b[0m\u001b[1;33m(\u001b[0m\u001b[1;33m)\u001b[0m\u001b[1;33m\u001b[0m\u001b[1;33m\u001b[0m\u001b[0m\n\u001b[0;32m   1111\u001b[0m         \u001b[1;32mfor\u001b[0m \u001b[0mr\u001b[0m \u001b[1;32min\u001b[0m \u001b[0mself\u001b[0m\u001b[1;33m.\u001b[0m\u001b[0mroots\u001b[0m\u001b[1;33m:\u001b[0m\u001b[1;33m\u001b[0m\u001b[1;33m\u001b[0m\u001b[0m\n\u001b[1;32m-> 1112\u001b[1;33m             \u001b[0mnew_all_models_set\u001b[0m \u001b[1;33m=\u001b[0m \u001b[0mnew_all_models_set\u001b[0m\u001b[1;33m.\u001b[0m\u001b[0munion\u001b[0m\u001b[1;33m(\u001b[0m\u001b[0mr\u001b[0m\u001b[1;33m.\u001b[0m\u001b[0mreferences\u001b[0m\u001b[1;33m(\u001b[0m\u001b[1;33m)\u001b[0m\u001b[1;33m)\u001b[0m\u001b[1;33m\u001b[0m\u001b[1;33m\u001b[0m\u001b[0m\n\u001b[0m\u001b[0;32m   1113\u001b[0m         \u001b[0mold_all_models_set\u001b[0m \u001b[1;33m=\u001b[0m \u001b[0mset\u001b[0m\u001b[1;33m(\u001b[0m\u001b[0mself\u001b[0m\u001b[1;33m.\u001b[0m\u001b[0m_all_models\u001b[0m\u001b[1;33m.\u001b[0m\u001b[0mvalues\u001b[0m\u001b[1;33m(\u001b[0m\u001b[1;33m)\u001b[0m\u001b[1;33m)\u001b[0m\u001b[1;33m\u001b[0m\u001b[1;33m\u001b[0m\u001b[0m\n\u001b[0;32m   1114\u001b[0m         \u001b[0mto_detach\u001b[0m \u001b[1;33m=\u001b[0m \u001b[0mold_all_models_set\u001b[0m \u001b[1;33m-\u001b[0m \u001b[0mnew_all_models_set\u001b[0m\u001b[1;33m\u001b[0m\u001b[1;33m\u001b[0m\u001b[0m\n",
      "\u001b[1;32m/Users/Uduse/.local/share/virtualenvs/jax-yjI4wS2g/lib/python3.7/site-packages/bokeh/model.py\u001b[0m in \u001b[0;36mreferences\u001b[1;34m(self)\u001b[0m\n\u001b[0;32m    556\u001b[0m \u001b[1;33m\u001b[0m\u001b[0m\n\u001b[0;32m    557\u001b[0m         '''\n\u001b[1;32m--> 558\u001b[1;33m         \u001b[1;32mreturn\u001b[0m \u001b[0mset\u001b[0m\u001b[1;33m(\u001b[0m\u001b[0mcollect_models\u001b[0m\u001b[1;33m(\u001b[0m\u001b[0mself\u001b[0m\u001b[1;33m)\u001b[0m\u001b[1;33m)\u001b[0m\u001b[1;33m\u001b[0m\u001b[1;33m\u001b[0m\u001b[0m\n\u001b[0m\u001b[0;32m    559\u001b[0m \u001b[1;33m\u001b[0m\u001b[0m\n\u001b[0;32m    560\u001b[0m     \u001b[1;32mdef\u001b[0m \u001b[0mselect\u001b[0m\u001b[1;33m(\u001b[0m\u001b[0mself\u001b[0m\u001b[1;33m,\u001b[0m \u001b[0mselector\u001b[0m\u001b[1;33m)\u001b[0m\u001b[1;33m:\u001b[0m\u001b[1;33m\u001b[0m\u001b[1;33m\u001b[0m\u001b[0m\n",
      "\u001b[1;32m/Users/Uduse/.local/share/virtualenvs/jax-yjI4wS2g/lib/python3.7/site-packages/bokeh/model.py\u001b[0m in \u001b[0;36mcollect_models\u001b[1;34m(*input_values)\u001b[0m\n\u001b[0;32m    112\u001b[0m \u001b[1;33m\u001b[0m\u001b[0m\n\u001b[0;32m    113\u001b[0m     '''\n\u001b[1;32m--> 114\u001b[1;33m     \u001b[1;32mreturn\u001b[0m \u001b[0mcollect_filtered_models\u001b[0m\u001b[1;33m(\u001b[0m\u001b[1;32mNone\u001b[0m\u001b[1;33m,\u001b[0m \u001b[1;33m*\u001b[0m\u001b[0minput_values\u001b[0m\u001b[1;33m)\u001b[0m\u001b[1;33m\u001b[0m\u001b[1;33m\u001b[0m\u001b[0m\n\u001b[0m\u001b[0;32m    115\u001b[0m \u001b[1;33m\u001b[0m\u001b[0m\n\u001b[0;32m    116\u001b[0m \u001b[1;32mdef\u001b[0m \u001b[0mget_class\u001b[0m\u001b[1;33m(\u001b[0m\u001b[0mview_model_name\u001b[0m\u001b[1;33m)\u001b[0m\u001b[1;33m:\u001b[0m\u001b[1;33m\u001b[0m\u001b[1;33m\u001b[0m\u001b[0m\n",
      "\u001b[1;32m/Users/Uduse/.local/share/virtualenvs/jax-yjI4wS2g/lib/python3.7/site-packages/bokeh/model.py\u001b[0m in \u001b[0;36mcollect_filtered_models\u001b[1;34m(discard, *input_values)\u001b[0m\n\u001b[0;32m     92\u001b[0m             \u001b[0mids\u001b[0m\u001b[1;33m.\u001b[0m\u001b[0madd\u001b[0m\u001b[1;33m(\u001b[0m\u001b[0mobj\u001b[0m\u001b[1;33m.\u001b[0m\u001b[0mid\u001b[0m\u001b[1;33m)\u001b[0m\u001b[1;33m\u001b[0m\u001b[1;33m\u001b[0m\u001b[0m\n\u001b[0;32m     93\u001b[0m             \u001b[0mcollected\u001b[0m\u001b[1;33m.\u001b[0m\u001b[0mappend\u001b[0m\u001b[1;33m(\u001b[0m\u001b[0mobj\u001b[0m\u001b[1;33m)\u001b[0m\u001b[1;33m\u001b[0m\u001b[1;33m\u001b[0m\u001b[0m\n\u001b[1;32m---> 94\u001b[1;33m             \u001b[0m_visit_immediate_value_references\u001b[0m\u001b[1;33m(\u001b[0m\u001b[0mobj\u001b[0m\u001b[1;33m,\u001b[0m \u001b[0mqueue_one\u001b[0m\u001b[1;33m)\u001b[0m\u001b[1;33m\u001b[0m\u001b[1;33m\u001b[0m\u001b[0m\n\u001b[0m\u001b[0;32m     95\u001b[0m \u001b[1;33m\u001b[0m\u001b[0m\n\u001b[0;32m     96\u001b[0m     \u001b[1;32mreturn\u001b[0m \u001b[0mcollected\u001b[0m\u001b[1;33m\u001b[0m\u001b[1;33m\u001b[0m\u001b[0m\n",
      "\u001b[1;32m/Users/Uduse/.local/share/virtualenvs/jax-yjI4wS2g/lib/python3.7/site-packages/bokeh/model.py\u001b[0m in \u001b[0;36m_visit_immediate_value_references\u001b[1;34m(value, visitor)\u001b[0m\n\u001b[0;32m    814\u001b[0m     \u001b[1;32mif\u001b[0m \u001b[0misinstance\u001b[0m\u001b[1;33m(\u001b[0m\u001b[0mvalue\u001b[0m\u001b[1;33m,\u001b[0m \u001b[0mHasProps\u001b[0m\u001b[1;33m)\u001b[0m\u001b[1;33m:\u001b[0m\u001b[1;33m\u001b[0m\u001b[1;33m\u001b[0m\u001b[0m\n\u001b[0;32m    815\u001b[0m         \u001b[1;32mfor\u001b[0m \u001b[0mattr\u001b[0m \u001b[1;32min\u001b[0m \u001b[0mvalue\u001b[0m\u001b[1;33m.\u001b[0m\u001b[0mproperties_with_refs\u001b[0m\u001b[1;33m(\u001b[0m\u001b[1;33m)\u001b[0m\u001b[1;33m:\u001b[0m\u001b[1;33m\u001b[0m\u001b[1;33m\u001b[0m\u001b[0m\n\u001b[1;32m--> 816\u001b[1;33m             \u001b[0mchild\u001b[0m \u001b[1;33m=\u001b[0m \u001b[0mgetattr\u001b[0m\u001b[1;33m(\u001b[0m\u001b[0mvalue\u001b[0m\u001b[1;33m,\u001b[0m \u001b[0mattr\u001b[0m\u001b[1;33m)\u001b[0m\u001b[1;33m\u001b[0m\u001b[1;33m\u001b[0m\u001b[0m\n\u001b[0m\u001b[0;32m    817\u001b[0m             \u001b[0m_visit_value_and_its_immediate_references\u001b[0m\u001b[1;33m(\u001b[0m\u001b[0mchild\u001b[0m\u001b[1;33m,\u001b[0m \u001b[0mvisitor\u001b[0m\u001b[1;33m)\u001b[0m\u001b[1;33m\u001b[0m\u001b[1;33m\u001b[0m\u001b[0m\n\u001b[0;32m    818\u001b[0m     \u001b[1;32melse\u001b[0m\u001b[1;33m:\u001b[0m\u001b[1;33m\u001b[0m\u001b[1;33m\u001b[0m\u001b[0m\n",
      "\u001b[1;32m/Users/Uduse/.local/share/virtualenvs/jax-yjI4wS2g/lib/python3.7/site-packages/bokeh/core/property/descriptors.py\u001b[0m in \u001b[0;36m__get__\u001b[1;34m(self, obj, owner)\u001b[0m\n\u001b[0;32m    497\u001b[0m         \"\"\"\n\u001b[0;32m    498\u001b[0m         \u001b[1;32mif\u001b[0m \u001b[0mobj\u001b[0m \u001b[1;32mis\u001b[0m \u001b[1;32mnot\u001b[0m \u001b[1;32mNone\u001b[0m\u001b[1;33m:\u001b[0m\u001b[1;33m\u001b[0m\u001b[1;33m\u001b[0m\u001b[0m\n\u001b[1;32m--> 499\u001b[1;33m             \u001b[0mvalue\u001b[0m \u001b[1;33m=\u001b[0m \u001b[0mself\u001b[0m\u001b[1;33m.\u001b[0m\u001b[0m_get\u001b[0m\u001b[1;33m(\u001b[0m\u001b[0mobj\u001b[0m\u001b[1;33m)\u001b[0m\u001b[1;33m\u001b[0m\u001b[1;33m\u001b[0m\u001b[0m\n\u001b[0m\u001b[0;32m    500\u001b[0m \u001b[1;33m\u001b[0m\u001b[0m\n\u001b[0;32m    501\u001b[0m             \u001b[1;32mif\u001b[0m \u001b[0mvalue\u001b[0m \u001b[1;32mis\u001b[0m \u001b[1;32mnot\u001b[0m \u001b[0mUndefined\u001b[0m\u001b[1;33m:\u001b[0m\u001b[1;33m\u001b[0m\u001b[1;33m\u001b[0m\u001b[0m\n",
      "\u001b[1;32m/Users/Uduse/.local/share/virtualenvs/jax-yjI4wS2g/lib/python3.7/site-packages/bokeh/core/property/descriptors.py\u001b[0m in \u001b[0;36m_get\u001b[1;34m(self, obj)\u001b[0m\n\u001b[0;32m    698\u001b[0m \u001b[1;33m\u001b[0m\u001b[0m\n\u001b[0;32m    699\u001b[0m         \u001b[1;32mif\u001b[0m \u001b[0mself\u001b[0m\u001b[1;33m.\u001b[0m\u001b[0mname\u001b[0m \u001b[1;32mnot\u001b[0m \u001b[1;32min\u001b[0m \u001b[0mobj\u001b[0m\u001b[1;33m.\u001b[0m\u001b[0m_property_values\u001b[0m\u001b[1;33m:\u001b[0m\u001b[1;33m\u001b[0m\u001b[1;33m\u001b[0m\u001b[0m\n\u001b[1;32m--> 700\u001b[1;33m             \u001b[1;32mreturn\u001b[0m \u001b[0mself\u001b[0m\u001b[1;33m.\u001b[0m\u001b[0m_get_default\u001b[0m\u001b[1;33m(\u001b[0m\u001b[0mobj\u001b[0m\u001b[1;33m)\u001b[0m\u001b[1;33m\u001b[0m\u001b[1;33m\u001b[0m\u001b[0m\n\u001b[0m\u001b[0;32m    701\u001b[0m         \u001b[1;32melse\u001b[0m\u001b[1;33m:\u001b[0m\u001b[1;33m\u001b[0m\u001b[1;33m\u001b[0m\u001b[0m\n\u001b[0;32m    702\u001b[0m             \u001b[1;32mreturn\u001b[0m \u001b[0mobj\u001b[0m\u001b[1;33m.\u001b[0m\u001b[0m_property_values\u001b[0m\u001b[1;33m[\u001b[0m\u001b[0mself\u001b[0m\u001b[1;33m.\u001b[0m\u001b[0mname\u001b[0m\u001b[1;33m]\u001b[0m\u001b[1;33m\u001b[0m\u001b[1;33m\u001b[0m\u001b[0m\n",
      "\u001b[1;32m/Users/Uduse/.local/share/virtualenvs/jax-yjI4wS2g/lib/python3.7/site-packages/bokeh/core/property/descriptors.py\u001b[0m in \u001b[0;36m_get_default\u001b[1;34m(self, obj)\u001b[0m\n\u001b[0;32m    715\u001b[0m         \u001b[0mis_themed\u001b[0m \u001b[1;33m=\u001b[0m \u001b[0mobj\u001b[0m\u001b[1;33m.\u001b[0m\u001b[0mthemed_values\u001b[0m\u001b[1;33m(\u001b[0m\u001b[1;33m)\u001b[0m \u001b[1;32mis\u001b[0m \u001b[1;32mnot\u001b[0m \u001b[1;32mNone\u001b[0m \u001b[1;32mand\u001b[0m \u001b[0mself\u001b[0m\u001b[1;33m.\u001b[0m\u001b[0mname\u001b[0m \u001b[1;32min\u001b[0m \u001b[0mobj\u001b[0m\u001b[1;33m.\u001b[0m\u001b[0mthemed_values\u001b[0m\u001b[1;33m(\u001b[0m\u001b[1;33m)\u001b[0m\u001b[1;33m\u001b[0m\u001b[1;33m\u001b[0m\u001b[0m\n\u001b[0;32m    716\u001b[0m \u001b[1;33m\u001b[0m\u001b[0m\n\u001b[1;32m--> 717\u001b[1;33m         \u001b[0mdefault\u001b[0m \u001b[1;33m=\u001b[0m \u001b[0mself\u001b[0m\u001b[1;33m.\u001b[0m\u001b[0minstance_default\u001b[0m\u001b[1;33m(\u001b[0m\u001b[0mobj\u001b[0m\u001b[1;33m)\u001b[0m\u001b[1;33m\u001b[0m\u001b[1;33m\u001b[0m\u001b[0m\n\u001b[0m\u001b[0;32m    718\u001b[0m \u001b[1;33m\u001b[0m\u001b[0m\n\u001b[0;32m    719\u001b[0m         \u001b[1;32mif\u001b[0m \u001b[0mis_themed\u001b[0m\u001b[1;33m:\u001b[0m\u001b[1;33m\u001b[0m\u001b[1;33m\u001b[0m\u001b[0m\n",
      "\u001b[1;32m/Users/Uduse/.local/share/virtualenvs/jax-yjI4wS2g/lib/python3.7/site-packages/bokeh/core/property/descriptors.py\u001b[0m in \u001b[0;36minstance_default\u001b[1;34m(self, obj)\u001b[0m\n\u001b[0;32m    592\u001b[0m \u001b[1;33m\u001b[0m\u001b[0m\n\u001b[0;32m    593\u001b[0m         \"\"\"\n\u001b[1;32m--> 594\u001b[1;33m         \u001b[1;32mreturn\u001b[0m \u001b[0mself\u001b[0m\u001b[1;33m.\u001b[0m\u001b[0mproperty\u001b[0m\u001b[1;33m.\u001b[0m\u001b[0mthemed_default\u001b[0m\u001b[1;33m(\u001b[0m\u001b[0mobj\u001b[0m\u001b[1;33m.\u001b[0m\u001b[0m__class__\u001b[0m\u001b[1;33m,\u001b[0m \u001b[0mself\u001b[0m\u001b[1;33m.\u001b[0m\u001b[0mname\u001b[0m\u001b[1;33m,\u001b[0m \u001b[0mobj\u001b[0m\u001b[1;33m.\u001b[0m\u001b[0mthemed_values\u001b[0m\u001b[1;33m(\u001b[0m\u001b[1;33m)\u001b[0m\u001b[1;33m)\u001b[0m\u001b[1;33m\u001b[0m\u001b[1;33m\u001b[0m\u001b[0m\n\u001b[0m\u001b[0;32m    595\u001b[0m \u001b[1;33m\u001b[0m\u001b[0m\n\u001b[0;32m    596\u001b[0m     \u001b[1;32mdef\u001b[0m \u001b[0mset_from_json\u001b[0m\u001b[1;33m(\u001b[0m\u001b[0mself\u001b[0m\u001b[1;33m,\u001b[0m \u001b[0mobj\u001b[0m\u001b[1;33m,\u001b[0m \u001b[0mjson\u001b[0m\u001b[1;33m,\u001b[0m \u001b[0mmodels\u001b[0m\u001b[1;33m=\u001b[0m\u001b[1;32mNone\u001b[0m\u001b[1;33m,\u001b[0m \u001b[0msetter\u001b[0m\u001b[1;33m=\u001b[0m\u001b[1;32mNone\u001b[0m\u001b[1;33m)\u001b[0m\u001b[1;33m:\u001b[0m\u001b[1;33m\u001b[0m\u001b[1;33m\u001b[0m\u001b[0m\n",
      "\u001b[1;32m/Users/Uduse/.local/share/virtualenvs/jax-yjI4wS2g/lib/python3.7/site-packages/bokeh/core/property/bases.py\u001b[0m in \u001b[0;36mthemed_default\u001b[1;34m(self, cls, name, theme_overrides)\u001b[0m\n\u001b[0;32m    192\u001b[0m         \u001b[1;32melse\u001b[0m\u001b[1;33m:\u001b[0m\u001b[1;33m\u001b[0m\u001b[1;33m\u001b[0m\u001b[0m\n\u001b[0;32m    193\u001b[0m             \u001b[0mdefault\u001b[0m \u001b[1;33m=\u001b[0m \u001b[0mself\u001b[0m\u001b[1;33m.\u001b[0m\u001b[0m_raw_default\u001b[0m\u001b[1;33m(\u001b[0m\u001b[1;33m)\u001b[0m\u001b[1;33m\u001b[0m\u001b[1;33m\u001b[0m\u001b[0m\n\u001b[1;32m--> 194\u001b[1;33m         \u001b[1;32mreturn\u001b[0m \u001b[0mself\u001b[0m\u001b[1;33m.\u001b[0m\u001b[0mprepare_value\u001b[0m\u001b[1;33m(\u001b[0m\u001b[0mcls\u001b[0m\u001b[1;33m,\u001b[0m \u001b[0mname\u001b[0m\u001b[1;33m,\u001b[0m \u001b[0mdefault\u001b[0m\u001b[1;33m)\u001b[0m\u001b[1;33m\u001b[0m\u001b[1;33m\u001b[0m\u001b[0m\n\u001b[0m\u001b[0;32m    195\u001b[0m \u001b[1;33m\u001b[0m\u001b[0m\n\u001b[0;32m    196\u001b[0m     \u001b[1;33m@\u001b[0m\u001b[0mproperty\u001b[0m\u001b[1;33m\u001b[0m\u001b[1;33m\u001b[0m\u001b[0m\n",
      "\u001b[1;32m/Users/Uduse/.local/share/virtualenvs/jax-yjI4wS2g/lib/python3.7/site-packages/bokeh/core/property/bases.py\u001b[0m in \u001b[0;36mprepare_value\u001b[1;34m(self, owner, name, value)\u001b[0m\n\u001b[0;32m    335\u001b[0m         \u001b[1;32mtry\u001b[0m\u001b[1;33m:\u001b[0m\u001b[1;33m\u001b[0m\u001b[1;33m\u001b[0m\u001b[0m\n\u001b[0;32m    336\u001b[0m             \u001b[1;32mif\u001b[0m \u001b[0mvalidation_on\u001b[0m\u001b[1;33m(\u001b[0m\u001b[1;33m)\u001b[0m\u001b[1;33m:\u001b[0m\u001b[1;33m\u001b[0m\u001b[1;33m\u001b[0m\u001b[0m\n\u001b[1;32m--> 337\u001b[1;33m                 \u001b[0mself\u001b[0m\u001b[1;33m.\u001b[0m\u001b[0mvalidate\u001b[0m\u001b[1;33m(\u001b[0m\u001b[0mvalue\u001b[0m\u001b[1;33m)\u001b[0m\u001b[1;33m\u001b[0m\u001b[1;33m\u001b[0m\u001b[0m\n\u001b[0m\u001b[0;32m    338\u001b[0m         \u001b[1;32mexcept\u001b[0m \u001b[0mValueError\u001b[0m \u001b[1;32mas\u001b[0m \u001b[0me\u001b[0m\u001b[1;33m:\u001b[0m\u001b[1;33m\u001b[0m\u001b[1;33m\u001b[0m\u001b[0m\n\u001b[0;32m    339\u001b[0m             \u001b[1;32mfor\u001b[0m \u001b[0mtp\u001b[0m\u001b[1;33m,\u001b[0m \u001b[0mconverter\u001b[0m \u001b[1;32min\u001b[0m \u001b[0mself\u001b[0m\u001b[1;33m.\u001b[0m\u001b[0malternatives\u001b[0m\u001b[1;33m:\u001b[0m\u001b[1;33m\u001b[0m\u001b[1;33m\u001b[0m\u001b[0m\n",
      "\u001b[1;32m/Users/Uduse/.local/share/virtualenvs/jax-yjI4wS2g/lib/python3.7/site-packages/bokeh/core/property/either.py\u001b[0m in \u001b[0;36mvalidate\u001b[1;34m(self, value, detail)\u001b[0m\n\u001b[0;32m    105\u001b[0m         \u001b[0msuper\u001b[0m\u001b[1;33m(\u001b[0m\u001b[1;33m)\u001b[0m\u001b[1;33m.\u001b[0m\u001b[0mvalidate\u001b[0m\u001b[1;33m(\u001b[0m\u001b[0mvalue\u001b[0m\u001b[1;33m,\u001b[0m \u001b[0mdetail\u001b[0m\u001b[1;33m)\u001b[0m\u001b[1;33m\u001b[0m\u001b[1;33m\u001b[0m\u001b[0m\n\u001b[0;32m    106\u001b[0m \u001b[1;33m\u001b[0m\u001b[0m\n\u001b[1;32m--> 107\u001b[1;33m         \u001b[1;32mif\u001b[0m \u001b[0many\u001b[0m\u001b[1;33m(\u001b[0m\u001b[0mparam\u001b[0m\u001b[1;33m.\u001b[0m\u001b[0mis_valid\u001b[0m\u001b[1;33m(\u001b[0m\u001b[0mvalue\u001b[0m\u001b[1;33m)\u001b[0m \u001b[1;32mfor\u001b[0m \u001b[0mparam\u001b[0m \u001b[1;32min\u001b[0m \u001b[0mself\u001b[0m\u001b[1;33m.\u001b[0m\u001b[0mtype_params\u001b[0m\u001b[1;33m)\u001b[0m\u001b[1;33m:\u001b[0m\u001b[1;33m\u001b[0m\u001b[1;33m\u001b[0m\u001b[0m\n\u001b[0m\u001b[0;32m    108\u001b[0m             \u001b[1;32mreturn\u001b[0m\u001b[1;33m\u001b[0m\u001b[1;33m\u001b[0m\u001b[0m\n\u001b[0;32m    109\u001b[0m \u001b[1;33m\u001b[0m\u001b[0m\n",
      "\u001b[1;32m/Users/Uduse/.local/share/virtualenvs/jax-yjI4wS2g/lib/python3.7/site-packages/bokeh/core/property/either.py\u001b[0m in \u001b[0;36m<genexpr>\u001b[1;34m(.0)\u001b[0m\n\u001b[0;32m    105\u001b[0m         \u001b[0msuper\u001b[0m\u001b[1;33m(\u001b[0m\u001b[1;33m)\u001b[0m\u001b[1;33m.\u001b[0m\u001b[0mvalidate\u001b[0m\u001b[1;33m(\u001b[0m\u001b[0mvalue\u001b[0m\u001b[1;33m,\u001b[0m \u001b[0mdetail\u001b[0m\u001b[1;33m)\u001b[0m\u001b[1;33m\u001b[0m\u001b[1;33m\u001b[0m\u001b[0m\n\u001b[0;32m    106\u001b[0m \u001b[1;33m\u001b[0m\u001b[0m\n\u001b[1;32m--> 107\u001b[1;33m         \u001b[1;32mif\u001b[0m \u001b[0many\u001b[0m\u001b[1;33m(\u001b[0m\u001b[0mparam\u001b[0m\u001b[1;33m.\u001b[0m\u001b[0mis_valid\u001b[0m\u001b[1;33m(\u001b[0m\u001b[0mvalue\u001b[0m\u001b[1;33m)\u001b[0m \u001b[1;32mfor\u001b[0m \u001b[0mparam\u001b[0m \u001b[1;32min\u001b[0m \u001b[0mself\u001b[0m\u001b[1;33m.\u001b[0m\u001b[0mtype_params\u001b[0m\u001b[1;33m)\u001b[0m\u001b[1;33m:\u001b[0m\u001b[1;33m\u001b[0m\u001b[1;33m\u001b[0m\u001b[0m\n\u001b[0m\u001b[0;32m    108\u001b[0m             \u001b[1;32mreturn\u001b[0m\u001b[1;33m\u001b[0m\u001b[1;33m\u001b[0m\u001b[0m\n\u001b[0;32m    109\u001b[0m \u001b[1;33m\u001b[0m\u001b[0m\n",
      "\u001b[1;32m/Users/Uduse/.local/share/virtualenvs/jax-yjI4wS2g/lib/python3.7/site-packages/bokeh/core/property/bases.py\u001b[0m in \u001b[0;36mis_valid\u001b[1;34m(self, value)\u001b[0m\n\u001b[0;32m    314\u001b[0m         \u001b[1;32mtry\u001b[0m\u001b[1;33m:\u001b[0m\u001b[1;33m\u001b[0m\u001b[1;33m\u001b[0m\u001b[0m\n\u001b[0;32m    315\u001b[0m             \u001b[1;32mif\u001b[0m \u001b[0mvalidation_on\u001b[0m\u001b[1;33m(\u001b[0m\u001b[1;33m)\u001b[0m\u001b[1;33m:\u001b[0m\u001b[1;33m\u001b[0m\u001b[1;33m\u001b[0m\u001b[0m\n\u001b[1;32m--> 316\u001b[1;33m                 \u001b[0mself\u001b[0m\u001b[1;33m.\u001b[0m\u001b[0mvalidate\u001b[0m\u001b[1;33m(\u001b[0m\u001b[0mvalue\u001b[0m\u001b[1;33m,\u001b[0m \u001b[1;32mFalse\u001b[0m\u001b[1;33m)\u001b[0m\u001b[1;33m\u001b[0m\u001b[1;33m\u001b[0m\u001b[0m\n\u001b[0m\u001b[0;32m    317\u001b[0m         \u001b[1;32mexcept\u001b[0m \u001b[0mValueError\u001b[0m\u001b[1;33m:\u001b[0m\u001b[1;33m\u001b[0m\u001b[1;33m\u001b[0m\u001b[0m\n\u001b[0;32m    318\u001b[0m             \u001b[1;32mreturn\u001b[0m \u001b[1;32mFalse\u001b[0m\u001b[1;33m\u001b[0m\u001b[1;33m\u001b[0m\u001b[0m\n",
      "\u001b[1;32m/Users/Uduse/.local/share/virtualenvs/jax-yjI4wS2g/lib/python3.7/site-packages/bokeh/core/property/container.py\u001b[0m in \u001b[0;36mvalidate\u001b[1;34m(self, value, detail)\u001b[0m\n\u001b[0;32m    181\u001b[0m         \u001b[0mkey_is_valid\u001b[0m \u001b[1;33m=\u001b[0m \u001b[0mself\u001b[0m\u001b[1;33m.\u001b[0m\u001b[0mkeys_type\u001b[0m\u001b[1;33m.\u001b[0m\u001b[0mis_valid\u001b[0m\u001b[1;33m\u001b[0m\u001b[1;33m\u001b[0m\u001b[0m\n\u001b[0;32m    182\u001b[0m         \u001b[0mvalue_is_valid\u001b[0m \u001b[1;33m=\u001b[0m \u001b[0mself\u001b[0m\u001b[1;33m.\u001b[0m\u001b[0mvalues_type\u001b[0m\u001b[1;33m.\u001b[0m\u001b[0mis_valid\u001b[0m\u001b[1;33m\u001b[0m\u001b[1;33m\u001b[0m\u001b[0m\n\u001b[1;32m--> 183\u001b[1;33m         \u001b[1;32mif\u001b[0m \u001b[0misinstance\u001b[0m\u001b[1;33m(\u001b[0m\u001b[0mvalue\u001b[0m\u001b[1;33m,\u001b[0m \u001b[0mdict\u001b[0m\u001b[1;33m)\u001b[0m \u001b[1;32mand\u001b[0m \u001b[0mall\u001b[0m\u001b[1;33m(\u001b[0m\u001b[0mkey_is_valid\u001b[0m\u001b[1;33m(\u001b[0m\u001b[0mkey\u001b[0m\u001b[1;33m)\u001b[0m \u001b[1;32mand\u001b[0m \u001b[0mvalue_is_valid\u001b[0m\u001b[1;33m(\u001b[0m\u001b[0mval\u001b[0m\u001b[1;33m)\u001b[0m \u001b[1;32mfor\u001b[0m \u001b[0mkey\u001b[0m\u001b[1;33m,\u001b[0m \u001b[0mval\u001b[0m \u001b[1;32min\u001b[0m \u001b[0mvalue\u001b[0m\u001b[1;33m.\u001b[0m\u001b[0mitems\u001b[0m\u001b[1;33m(\u001b[0m\u001b[1;33m)\u001b[0m\u001b[1;33m)\u001b[0m\u001b[1;33m:\u001b[0m\u001b[1;33m\u001b[0m\u001b[1;33m\u001b[0m\u001b[0m\n\u001b[0m\u001b[0;32m    184\u001b[0m             \u001b[1;32mreturn\u001b[0m\u001b[1;33m\u001b[0m\u001b[1;33m\u001b[0m\u001b[0m\n\u001b[0;32m    185\u001b[0m \u001b[1;33m\u001b[0m\u001b[0m\n",
      "\u001b[1;32m/Users/Uduse/.local/share/virtualenvs/jax-yjI4wS2g/lib/python3.7/site-packages/bokeh/core/property/container.py\u001b[0m in \u001b[0;36m<genexpr>\u001b[1;34m(.0)\u001b[0m\n\u001b[0;32m    181\u001b[0m         \u001b[0mkey_is_valid\u001b[0m \u001b[1;33m=\u001b[0m \u001b[0mself\u001b[0m\u001b[1;33m.\u001b[0m\u001b[0mkeys_type\u001b[0m\u001b[1;33m.\u001b[0m\u001b[0mis_valid\u001b[0m\u001b[1;33m\u001b[0m\u001b[1;33m\u001b[0m\u001b[0m\n\u001b[0;32m    182\u001b[0m         \u001b[0mvalue_is_valid\u001b[0m \u001b[1;33m=\u001b[0m \u001b[0mself\u001b[0m\u001b[1;33m.\u001b[0m\u001b[0mvalues_type\u001b[0m\u001b[1;33m.\u001b[0m\u001b[0mis_valid\u001b[0m\u001b[1;33m\u001b[0m\u001b[1;33m\u001b[0m\u001b[0m\n\u001b[1;32m--> 183\u001b[1;33m         \u001b[1;32mif\u001b[0m \u001b[0misinstance\u001b[0m\u001b[1;33m(\u001b[0m\u001b[0mvalue\u001b[0m\u001b[1;33m,\u001b[0m \u001b[0mdict\u001b[0m\u001b[1;33m)\u001b[0m \u001b[1;32mand\u001b[0m \u001b[0mall\u001b[0m\u001b[1;33m(\u001b[0m\u001b[0mkey_is_valid\u001b[0m\u001b[1;33m(\u001b[0m\u001b[0mkey\u001b[0m\u001b[1;33m)\u001b[0m \u001b[1;32mand\u001b[0m \u001b[0mvalue_is_valid\u001b[0m\u001b[1;33m(\u001b[0m\u001b[0mval\u001b[0m\u001b[1;33m)\u001b[0m \u001b[1;32mfor\u001b[0m \u001b[0mkey\u001b[0m\u001b[1;33m,\u001b[0m \u001b[0mval\u001b[0m \u001b[1;32min\u001b[0m \u001b[0mvalue\u001b[0m\u001b[1;33m.\u001b[0m\u001b[0mitems\u001b[0m\u001b[1;33m(\u001b[0m\u001b[1;33m)\u001b[0m\u001b[1;33m)\u001b[0m\u001b[1;33m:\u001b[0m\u001b[1;33m\u001b[0m\u001b[1;33m\u001b[0m\u001b[0m\n\u001b[0m\u001b[0;32m    184\u001b[0m             \u001b[1;32mreturn\u001b[0m\u001b[1;33m\u001b[0m\u001b[1;33m\u001b[0m\u001b[0m\n\u001b[0;32m    185\u001b[0m \u001b[1;33m\u001b[0m\u001b[0m\n",
      "\u001b[1;32m/Users/Uduse/.local/share/virtualenvs/jax-yjI4wS2g/lib/python3.7/site-packages/bokeh/core/property/bases.py\u001b[0m in \u001b[0;36mis_valid\u001b[1;34m(self, value)\u001b[0m\n\u001b[0;32m    314\u001b[0m         \u001b[1;32mtry\u001b[0m\u001b[1;33m:\u001b[0m\u001b[1;33m\u001b[0m\u001b[1;33m\u001b[0m\u001b[0m\n\u001b[0;32m    315\u001b[0m             \u001b[1;32mif\u001b[0m \u001b[0mvalidation_on\u001b[0m\u001b[1;33m(\u001b[0m\u001b[1;33m)\u001b[0m\u001b[1;33m:\u001b[0m\u001b[1;33m\u001b[0m\u001b[1;33m\u001b[0m\u001b[0m\n\u001b[1;32m--> 316\u001b[1;33m                 \u001b[0mself\u001b[0m\u001b[1;33m.\u001b[0m\u001b[0mvalidate\u001b[0m\u001b[1;33m(\u001b[0m\u001b[0mvalue\u001b[0m\u001b[1;33m,\u001b[0m \u001b[1;32mFalse\u001b[0m\u001b[1;33m)\u001b[0m\u001b[1;33m\u001b[0m\u001b[1;33m\u001b[0m\u001b[0m\n\u001b[0m\u001b[0;32m    317\u001b[0m         \u001b[1;32mexcept\u001b[0m \u001b[0mValueError\u001b[0m\u001b[1;33m:\u001b[0m\u001b[1;33m\u001b[0m\u001b[1;33m\u001b[0m\u001b[0m\n\u001b[0;32m    318\u001b[0m             \u001b[1;32mreturn\u001b[0m \u001b[1;32mFalse\u001b[0m\u001b[1;33m\u001b[0m\u001b[1;33m\u001b[0m\u001b[0m\n",
      "\u001b[1;31mKeyboardInterrupt\u001b[0m: "
     ]
    }
   ],
   "source": [
    "# vis.saver.reset()\n",
    "num_games = 100000\n",
    "wins = {0: 0, 1: 0, 'drawn': 0}\n",
    "for i in tqdm(range(num_games)):\n",
    "    state = game.new_initial_state()\n",
    "    while not state.is_terminal():\n",
    "        player_id = state.current_player()\n",
    "        agent = agents[player_id]\n",
    "        action = agent.step(state)\n",
    "        state.apply_action(action)\n",
    "    for agent in agents:\n",
    "        agent.step(state)\n",
    "        \n",
    "    drawn = False\n",
    "    if state.rewards()[0] > state.rewards()[1]:\n",
    "        winner, loser = 0, 1\n",
    "        wins[winner] += 1\n",
    "    elif state.rewards()[0] < state.rewards()[1]:\n",
    "        winner, loser = 1, 0\n",
    "        wins[winner] += 1\n",
    "    else:\n",
    "        winner, loser = 0, 1\n",
    "        drawn = True\n",
    "        wins['drawn'] += 1\n",
    "    \n",
    "    agents[winner].rating, agents[loser].rating = \\\n",
    "        trueskill.rate_1vs1(agents[winner].rating, agents[loser].rating, drawn=drawn)\n",
    "    \n",
    "    for agent in agents:\n",
    "        if isinstance(agent, PolicyGradientPlayer) and agent.info:\n",
    "            for fig_name, val in agent.info.items():\n",
    "                vis.saver.update({fig_name: {'pg': val}})\n",
    "    \n",
    "    vis.saver.update({\n",
    "        'trueskill': {\n",
    "            'agents[0]': agents[0].rating.mu,\n",
    "            'agents[1]': agents[1].rating.mu\n",
    "        }\n",
    "    })\n",
    "                \n",
    "    if i > 1 and i % 100 == 0:\n",
    "#         print(agents[0].rating.mu, agents[1].rating.mu)\n",
    "#         print(wins)\n",
    "#         print()\n",
    "        vis.push()\n",
    "        for agent in agents:\n",
    "            agent.rating = trueskill.Rating()\n",
    "        wins = {0: 0, 1: 0, 'drawn': 0}"
   ]
  },
  {
   "cell_type": "code",
   "execution_count": null,
   "metadata": {
    "ExecuteTime": {
     "end_time": "2021-05-04T22:17:04.929683Z",
     "start_time": "2021-05-04T22:16:24.532Z"
    }
   },
   "outputs": [],
   "source": [
    "vis.figs['policy_loss'].fig"
   ]
  },
  {
   "cell_type": "code",
   "execution_count": null,
   "metadata": {
    "ExecuteTime": {
     "end_time": "2021-05-04T22:17:04.931473Z",
     "start_time": "2021-05-04T22:16:24.534Z"
    },
    "scrolled": false
   },
   "outputs": [],
   "source": [
    "num_games = 20\n",
    "for i in tqdm(range(num_games)):\n",
    "    state = game.new_initial_state()\n",
    "    while not state.is_terminal():\n",
    "        print(state, '\\n')\n",
    "        player_id = state.current_player()\n",
    "        agent = agents[player_id]\n",
    "        print(player_id)\n",
    "        if isinstance(agent, PolicyGradientPlayer):\n",
    "            print('policy\\n', np.round(agent.get_action_probs(state).reshape(3, 3), 2))\n",
    "            q = np.round(agent.get_q_vals(state), 2)\n",
    "            v = np.round(agent.get_v(state), 2)\n",
    "            a = np.around(q - v, 2)\n",
    "            print('q\\n', q)\n",
    "            print('v\\n', v)\n",
    "            print('a\\n', a)\n",
    "        action = agent.step(state)\n",
    "#         if player_id == 0:\n",
    "#             print(np.round(agent.get_action_probs(state).reshape(3, 3), 2))\n",
    "#         print(np.round(agent.get_action_probs(state).reshape(3, 3), 2))\n",
    "        state.apply_action(action)\n",
    "    print(state, '\\n')"
   ]
  },
  {
   "cell_type": "code",
   "execution_count": null,
   "metadata": {},
   "outputs": [],
   "source": []
  },
  {
   "cell_type": "markdown",
   "metadata": {},
   "source": [
    "## Archive"
   ]
  },
  {
   "cell_type": "raw",
   "metadata": {
    "ExecuteTime": {
     "end_time": "2021-05-04T20:56:05.721768Z",
     "start_time": "2021-05-04T20:56:02.181Z"
    }
   },
   "source": [
    "def traj_to_exps():\n",
    "    state = game.new_initial_state()\n",
    "    obses = []\n",
    "    actions = []\n",
    "    action_masks = []\n",
    "    rewards = []\n",
    "    while not state.is_terminal():\n",
    "        obses.append(np.array(state.observation_tensor()))\n",
    "        action = random.choice(state.legal_actions())\n",
    "        action_mask = np.array(state.legal_actions_mask())\n",
    "        actions.append(action)\n",
    "        action_masks.append(action_mask)\n",
    "        state.apply_action(action)\n",
    "        if state.is_terminal():\n",
    "            reward = state.rewards()[0]\n",
    "        else:\n",
    "            reward = 0\n",
    "        rewards.append(reward)\n",
    "    obses.append(np.array(state.observation_tensor(0)))\n",
    "    exps = []\n",
    "    for i in range(len(actions)):\n",
    "        action = actions[i]\n",
    "        action_mask = action_masks[i]\n",
    "        obs = obses[i]\n",
    "        obs_next = obses[i + 1]\n",
    "        rest_rewards = rewards[i:]\n",
    "        G = 0\n",
    "        for i, r in enumerate(rest_rewards):\n",
    "            G += (gamma ** i) * r\n",
    "        exp = Experience(obs, action, G, a_mask=action_mask)\n",
    "        exps.append(exp)\n",
    "    return exps"
   ]
  },
  {
   "cell_type": "raw",
   "metadata": {
    "ExecuteTime": {
     "end_time": "2021-05-04T20:56:05.723362Z",
     "start_time": "2021-05-04T20:56:02.182Z"
    }
   },
   "source": [
    "for i in tqdm(range(num_games)):\n",
    "    state = game.new_initial_state()\n",
    "    while not state.is_terminal():\n",
    "#         print(state)\n",
    "        if state.current_player() == 0:\n",
    "            a_mask = np.array(state.legal_actions_mask())\n",
    "            batch = {\n",
    "                's': state_to_repr(state),\n",
    "                'a_mask': a_mask\n",
    "            }\n",
    "#             print(a_mask)\n",
    "#             print(action_probs)\n",
    "            action_probs = np.array(policy_forward(params, batch).block_until_ready())\n",
    "#             action_probs[-1] += 1 - np.sum(action_probs)\n",
    "            action = np.random.choice(all_actions, 1, p=action_probs)\n",
    "#             print(action)\n",
    "        else:\n",
    "            action = random.choice(state.legal_actions())\n",
    "        state.apply_action(action)\n",
    "#         print()"
   ]
  },
  {
   "cell_type": "raw",
   "metadata": {
    "ExecuteTime": {
     "end_time": "2021-05-04T20:56:05.724909Z",
     "start_time": "2021-05-04T20:56:02.184Z"
    }
   },
   "source": [
    "for i in tqdm(range(num_games)):\n",
    "    exps = traj_to_exps()\n",
    "    for exp in exps:\n",
    "        buffer.add(exp)"
   ]
  },
  {
   "cell_type": "raw",
   "metadata": {
    "ExecuteTime": {
     "end_time": "2021-05-04T20:56:05.726316Z",
     "start_time": "2021-05-04T20:56:02.185Z"
    }
   },
   "source": [
    "for _ in range(1000):\n",
    "    batch = create_batch(buffer.sample(batch_size))\n",
    "    loss, params, opt_state = policy_update(params, opt_state, batch)\n",
    "    print(loss)"
   ]
  },
  {
   "cell_type": "raw",
   "metadata": {
    "ExecuteTime": {
     "end_time": "2021-05-04T20:56:05.727494Z",
     "start_time": "2021-05-04T20:56:02.186Z"
    },
    "scrolled": false
   },
   "source": [
    "for exp in buffer.sample(20):\n",
    "    if exp:\n",
    "        batch = create_batch([exp])\n",
    "#         print('g', exp.g)\n",
    "        print('loss', policy_loss(params, batch))\n",
    "        print(obs_tensor_to_board(exp.s), '\\n')\n",
    "        action_probs = policy_probs(params, batch)\n",
    "        print(np.round(action_probs.reshape(3,3), 2))\n",
    "        \n",
    "#         for action in range(dim_actions):\n",
    "#         print(obs_tensor_to_board(exp.s_next))\n",
    "        print('\\n\\n')"
   ]
  },
  {
   "cell_type": "raw",
   "metadata": {
    "ExecuteTime": {
     "end_time": "2021-05-04T20:56:05.728753Z",
     "start_time": "2021-05-04T20:56:02.191Z"
    }
   },
   "source": [
    "# @jit\n",
    "# def value_net_forward(value_params, x):\n",
    "#     return value_net.apply(value_params, x)\n",
    "\n",
    "# @jit\n",
    "# def value_net_error(value_params, batch):\n",
    "#     v = value_net_forward(value_params, batch['s'])\n",
    "#     target = batch['g']\n",
    "#     error = target - v\n",
    "#     return error\n",
    "\n",
    "# @jit\n",
    "# def value_net_loss(value_params, batch):\n",
    "#     error = value_net_error(value_params, batch)\n",
    "#     return jnp.mean(jnp.square(error))\n",
    "    \n",
    "# @jit\n",
    "# def value_update(value_params, value_opt_state, batch):\n",
    "#     loss, grads = value_and_grad(value_net_loss)(value_params, batch)\n",
    "#     updates, value_opt_state = value_opt.update(grads, value_opt_state)\n",
    "#     new_params = optax.apply_updates(value_params, updates)\n",
    "#     return loss, new_params, value_opt_state"
   ]
  },
  {
   "cell_type": "raw",
   "metadata": {
    "ExecuteTime": {
     "end_time": "2021-05-04T20:56:05.729828Z",
     "start_time": "2021-05-04T20:56:02.192Z"
    }
   },
   "source": [
    "num_games = 10000\n",
    "buffer = ReplayBuffer(capacity=50000)\n",
    "batch_size = 10000\n",
    "value_net_shape = (batch_size, 27)\n",
    "value_params = value_net.init(value_net_params_init_key, jnp.zeros(value_net_shape))\n",
    "value_opt = optax.adam(1e-5)\n",
    "value_opt_state = value_opt.init(value_params)"
   ]
  },
  {
   "cell_type": "raw",
   "metadata": {
    "ExecuteTime": {
     "end_time": "2021-05-04T20:56:05.731084Z",
     "start_time": "2021-05-04T20:56:02.194Z"
    }
   },
   "source": [
    "for i in tqdm(range(num_games)):\n",
    "    exps = traj_to_exps()\n",
    "    for exp in exps:\n",
    "        buffer.add(exp)\n",
    "\n",
    "    if len(buffer) >= batch_size:\n",
    "        samples = buffer.sample(batch_size)\n",
    "        batch = create_batch(samples)\n",
    "        loss, value_params, value_opt_state = value_update(\n",
    "            value_params, value_opt_state, batch)\n",
    "        if i % 100 == 0:\n",
    "            print(loss)"
   ]
  },
  {
   "cell_type": "raw",
   "metadata": {
    "ExecuteTime": {
     "end_time": "2021-05-04T20:56:05.733788Z",
     "start_time": "2021-05-04T20:56:02.195Z"
    },
    "scrolled": false
   },
   "source": [
    "for exp in buffer.sample(20):\n",
    "    if exp:\n",
    "        batch = create_batch([exp])\n",
    "        print('g', exp.g)\n",
    "        print('v', value_net_forward(value_params, jnp.array(exp.s)))\n",
    "#         v_next = compute_v_next(value_params, batch)\n",
    "#         batch['v_next'] = v_next\n",
    "#         print('v_next', v_next)\n",
    "#         print('target', compute_target(batch))\n",
    "        print('loss', value_net_loss(value_params, batch))\n",
    "        print(obs_tensor_to_board(exp.s), '\\n')\n",
    "        print(obs_tensor_to_board(exp.s_next))\n",
    "        print('\\n\\n')"
   ]
  },
  {
   "cell_type": "code",
   "execution_count": null,
   "metadata": {},
   "outputs": [],
   "source": []
  },
  {
   "cell_type": "code",
   "execution_count": null,
   "metadata": {},
   "outputs": [],
   "source": [
    "\n",
    "\n",
    "\n",
    "\n",
    "\n",
    "\n",
    "\n",
    "\n",
    "\n",
    "\n",
    "\n",
    "\n",
    "\n",
    "\n",
    "\n",
    "\n",
    "\n",
    "\n",
    "\n",
    "\n",
    "\n",
    "\n",
    "\n",
    "\n",
    "\n",
    "\n",
    "\n",
    "\n",
    "\n",
    "\n",
    "\n",
    "\n",
    "\n",
    "\n",
    "\n",
    "\n",
    "\n",
    "\n",
    "\n",
    "\n",
    "\n"
   ]
  }
 ],
 "metadata": {
  "kernelspec": {
   "display_name": "rl_playground_jax",
   "language": "python",
   "name": "rl_playground_jax"
  },
  "language_info": {
   "codemirror_mode": {
    "name": "ipython",
    "version": 3
   },
   "file_extension": ".py",
   "mimetype": "text/x-python",
   "name": "python",
   "nbconvert_exporter": "python",
   "pygments_lexer": "ipython3",
   "version": "3.7.4"
  },
  "varInspector": {
   "cols": {
    "lenName": 16,
    "lenType": 16,
    "lenVar": 40
   },
   "kernels_config": {
    "python": {
     "delete_cmd_postfix": "",
     "delete_cmd_prefix": "del ",
     "library": "var_list.py",
     "varRefreshCmd": "print(var_dic_list())"
    },
    "r": {
     "delete_cmd_postfix": ") ",
     "delete_cmd_prefix": "rm(",
     "library": "var_list.r",
     "varRefreshCmd": "cat(var_dic_list()) "
    }
   },
   "types_to_exclude": [
    "module",
    "function",
    "builtin_function_or_method",
    "instance",
    "_Feature"
   ],
   "window_display": false
  }
 },
 "nbformat": 4,
 "nbformat_minor": 4
}
