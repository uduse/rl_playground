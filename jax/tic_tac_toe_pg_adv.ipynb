{
 "cells": [
  {
   "cell_type": "code",
   "execution_count": 17,
   "metadata": {
    "ExecuteTime": {
     "end_time": "2021-05-10T21:19:37.989228Z",
     "start_time": "2021-05-10T21:19:37.980877Z"
    }
   },
   "outputs": [
    {
     "name": "stdout",
     "output_type": "stream",
     "text": [
      "0.0.5.dev\n"
     ]
    }
   ],
   "source": [
    "import random\n",
    "import copy\n",
    "from collections import namedtuple\n",
    "from dataclasses import dataclass\n",
    "import typing\n",
    "\n",
    "import jax\n",
    "import jax.numpy as jnp\n",
    "from jax import grad, value_and_grad, jit, vmap\n",
    "from jax.experimental import optimizers\n",
    "from jax.experimental import stax\n",
    "import optax\n",
    "import haiku as hk\n",
    "from jax.tree_util import tree_flatten\n",
    "\n",
    "from tqdm.notebook import tqdm\n",
    "import pyspiel\n",
    "import numpy as np\n",
    "import trueskill\n",
    "\n",
    "print(hk.__version__)"
   ]
  },
  {
   "cell_type": "code",
   "execution_count": 18,
   "metadata": {
    "ExecuteTime": {
     "end_time": "2021-05-10T21:19:38.044441Z",
     "start_time": "2021-05-10T21:19:37.991514Z"
    }
   },
   "outputs": [
    {
     "data": {
      "text/html": [
       "\n",
       "    <div class=\"bk-root\">\n",
       "        <a href=\"https://bokeh.org\" target=\"_blank\" class=\"bk-logo bk-logo-small bk-logo-notebook\"></a>\n",
       "        <span id=\"1003\">Loading BokehJS ...</span>\n",
       "    </div>"
      ]
     },
     "metadata": {},
     "output_type": "display_data"
    },
    {
     "data": {
      "application/javascript": [
       "\n",
       "(function(root) {\n",
       "  function now() {\n",
       "    return new Date();\n",
       "  }\n",
       "\n",
       "  var force = true;\n",
       "\n",
       "  if (typeof root._bokeh_onload_callbacks === \"undefined\" || force === true) {\n",
       "    root._bokeh_onload_callbacks = [];\n",
       "    root._bokeh_is_loading = undefined;\n",
       "  }\n",
       "\n",
       "  var JS_MIME_TYPE = 'application/javascript';\n",
       "  var HTML_MIME_TYPE = 'text/html';\n",
       "  var EXEC_MIME_TYPE = 'application/vnd.bokehjs_exec.v0+json';\n",
       "  var CLASS_NAME = 'output_bokeh rendered_html';\n",
       "\n",
       "  /**\n",
       "   * Render data to the DOM node\n",
       "   */\n",
       "  function render(props, node) {\n",
       "    var script = document.createElement(\"script\");\n",
       "    node.appendChild(script);\n",
       "  }\n",
       "\n",
       "  /**\n",
       "   * Handle when an output is cleared or removed\n",
       "   */\n",
       "  function handleClearOutput(event, handle) {\n",
       "    var cell = handle.cell;\n",
       "\n",
       "    var id = cell.output_area._bokeh_element_id;\n",
       "    var server_id = cell.output_area._bokeh_server_id;\n",
       "    // Clean up Bokeh references\n",
       "    if (id != null && id in Bokeh.index) {\n",
       "      Bokeh.index[id].model.document.clear();\n",
       "      delete Bokeh.index[id];\n",
       "    }\n",
       "\n",
       "    if (server_id !== undefined) {\n",
       "      // Clean up Bokeh references\n",
       "      var cmd = \"from bokeh.io.state import curstate; print(curstate().uuid_to_server['\" + server_id + \"'].get_sessions()[0].document.roots[0]._id)\";\n",
       "      cell.notebook.kernel.execute(cmd, {\n",
       "        iopub: {\n",
       "          output: function(msg) {\n",
       "            var id = msg.content.text.trim();\n",
       "            if (id in Bokeh.index) {\n",
       "              Bokeh.index[id].model.document.clear();\n",
       "              delete Bokeh.index[id];\n",
       "            }\n",
       "          }\n",
       "        }\n",
       "      });\n",
       "      // Destroy server and session\n",
       "      var cmd = \"import bokeh.io.notebook as ion; ion.destroy_server('\" + server_id + \"')\";\n",
       "      cell.notebook.kernel.execute(cmd);\n",
       "    }\n",
       "  }\n",
       "\n",
       "  /**\n",
       "   * Handle when a new output is added\n",
       "   */\n",
       "  function handleAddOutput(event, handle) {\n",
       "    var output_area = handle.output_area;\n",
       "    var output = handle.output;\n",
       "\n",
       "    // limit handleAddOutput to display_data with EXEC_MIME_TYPE content only\n",
       "    if ((output.output_type != \"display_data\") || (!Object.prototype.hasOwnProperty.call(output.data, EXEC_MIME_TYPE))) {\n",
       "      return\n",
       "    }\n",
       "\n",
       "    var toinsert = output_area.element.find(\".\" + CLASS_NAME.split(' ')[0]);\n",
       "\n",
       "    if (output.metadata[EXEC_MIME_TYPE][\"id\"] !== undefined) {\n",
       "      toinsert[toinsert.length - 1].firstChild.textContent = output.data[JS_MIME_TYPE];\n",
       "      // store reference to embed id on output_area\n",
       "      output_area._bokeh_element_id = output.metadata[EXEC_MIME_TYPE][\"id\"];\n",
       "    }\n",
       "    if (output.metadata[EXEC_MIME_TYPE][\"server_id\"] !== undefined) {\n",
       "      var bk_div = document.createElement(\"div\");\n",
       "      bk_div.innerHTML = output.data[HTML_MIME_TYPE];\n",
       "      var script_attrs = bk_div.children[0].attributes;\n",
       "      for (var i = 0; i < script_attrs.length; i++) {\n",
       "        toinsert[toinsert.length - 1].firstChild.setAttribute(script_attrs[i].name, script_attrs[i].value);\n",
       "        toinsert[toinsert.length - 1].firstChild.textContent = bk_div.children[0].textContent\n",
       "      }\n",
       "      // store reference to server id on output_area\n",
       "      output_area._bokeh_server_id = output.metadata[EXEC_MIME_TYPE][\"server_id\"];\n",
       "    }\n",
       "  }\n",
       "\n",
       "  function register_renderer(events, OutputArea) {\n",
       "\n",
       "    function append_mime(data, metadata, element) {\n",
       "      // create a DOM node to render to\n",
       "      var toinsert = this.create_output_subarea(\n",
       "        metadata,\n",
       "        CLASS_NAME,\n",
       "        EXEC_MIME_TYPE\n",
       "      );\n",
       "      this.keyboard_manager.register_events(toinsert);\n",
       "      // Render to node\n",
       "      var props = {data: data, metadata: metadata[EXEC_MIME_TYPE]};\n",
       "      render(props, toinsert[toinsert.length - 1]);\n",
       "      element.append(toinsert);\n",
       "      return toinsert\n",
       "    }\n",
       "\n",
       "    /* Handle when an output is cleared or removed */\n",
       "    events.on('clear_output.CodeCell', handleClearOutput);\n",
       "    events.on('delete.Cell', handleClearOutput);\n",
       "\n",
       "    /* Handle when a new output is added */\n",
       "    events.on('output_added.OutputArea', handleAddOutput);\n",
       "\n",
       "    /**\n",
       "     * Register the mime type and append_mime function with output_area\n",
       "     */\n",
       "    OutputArea.prototype.register_mime_type(EXEC_MIME_TYPE, append_mime, {\n",
       "      /* Is output safe? */\n",
       "      safe: true,\n",
       "      /* Index of renderer in `output_area.display_order` */\n",
       "      index: 0\n",
       "    });\n",
       "  }\n",
       "\n",
       "  // register the mime type if in Jupyter Notebook environment and previously unregistered\n",
       "  if (root.Jupyter !== undefined) {\n",
       "    var events = require('base/js/events');\n",
       "    var OutputArea = require('notebook/js/outputarea').OutputArea;\n",
       "\n",
       "    if (OutputArea.prototype.mime_types().indexOf(EXEC_MIME_TYPE) == -1) {\n",
       "      register_renderer(events, OutputArea);\n",
       "    }\n",
       "  }\n",
       "\n",
       "  \n",
       "  if (typeof (root._bokeh_timeout) === \"undefined\" || force === true) {\n",
       "    root._bokeh_timeout = Date.now() + 5000;\n",
       "    root._bokeh_failed_load = false;\n",
       "  }\n",
       "\n",
       "  var NB_LOAD_WARNING = {'data': {'text/html':\n",
       "     \"<div style='background-color: #fdd'>\\n\"+\n",
       "     \"<p>\\n\"+\n",
       "     \"BokehJS does not appear to have successfully loaded. If loading BokehJS from CDN, this \\n\"+\n",
       "     \"may be due to a slow or bad network connection. Possible fixes:\\n\"+\n",
       "     \"</p>\\n\"+\n",
       "     \"<ul>\\n\"+\n",
       "     \"<li>re-rerun `output_notebook()` to attempt to load from CDN again, or</li>\\n\"+\n",
       "     \"<li>use INLINE resources instead, as so:</li>\\n\"+\n",
       "     \"</ul>\\n\"+\n",
       "     \"<code>\\n\"+\n",
       "     \"from bokeh.resources import INLINE\\n\"+\n",
       "     \"output_notebook(resources=INLINE)\\n\"+\n",
       "     \"</code>\\n\"+\n",
       "     \"</div>\"}};\n",
       "\n",
       "  function display_loaded() {\n",
       "    var el = document.getElementById(\"1003\");\n",
       "    if (el != null) {\n",
       "      el.textContent = \"BokehJS is loading...\";\n",
       "    }\n",
       "    if (root.Bokeh !== undefined) {\n",
       "      if (el != null) {\n",
       "        el.textContent = \"BokehJS \" + root.Bokeh.version + \" successfully loaded.\";\n",
       "      }\n",
       "    } else if (Date.now() < root._bokeh_timeout) {\n",
       "      setTimeout(display_loaded, 100)\n",
       "    }\n",
       "  }\n",
       "\n",
       "\n",
       "  function run_callbacks() {\n",
       "    try {\n",
       "      root._bokeh_onload_callbacks.forEach(function(callback) {\n",
       "        if (callback != null)\n",
       "          callback();\n",
       "      });\n",
       "    } finally {\n",
       "      delete root._bokeh_onload_callbacks\n",
       "    }\n",
       "    console.debug(\"Bokeh: all callbacks have finished\");\n",
       "  }\n",
       "\n",
       "  function load_libs(css_urls, js_urls, callback) {\n",
       "    if (css_urls == null) css_urls = [];\n",
       "    if (js_urls == null) js_urls = [];\n",
       "\n",
       "    root._bokeh_onload_callbacks.push(callback);\n",
       "    if (root._bokeh_is_loading > 0) {\n",
       "      console.debug(\"Bokeh: BokehJS is being loaded, scheduling callback at\", now());\n",
       "      return null;\n",
       "    }\n",
       "    if (js_urls == null || js_urls.length === 0) {\n",
       "      run_callbacks();\n",
       "      return null;\n",
       "    }\n",
       "    console.debug(\"Bokeh: BokehJS not loaded, scheduling load and callback at\", now());\n",
       "    root._bokeh_is_loading = css_urls.length + js_urls.length;\n",
       "\n",
       "    function on_load() {\n",
       "      root._bokeh_is_loading--;\n",
       "      if (root._bokeh_is_loading === 0) {\n",
       "        console.debug(\"Bokeh: all BokehJS libraries/stylesheets loaded\");\n",
       "        run_callbacks()\n",
       "      }\n",
       "    }\n",
       "\n",
       "    function on_error(url) {\n",
       "      console.error(\"failed to load \" + url);\n",
       "    }\n",
       "\n",
       "    for (let i = 0; i < css_urls.length; i++) {\n",
       "      const url = css_urls[i];\n",
       "      const element = document.createElement(\"link\");\n",
       "      element.onload = on_load;\n",
       "      element.onerror = on_error.bind(null, url);\n",
       "      element.rel = \"stylesheet\";\n",
       "      element.type = \"text/css\";\n",
       "      element.href = url;\n",
       "      console.debug(\"Bokeh: injecting link tag for BokehJS stylesheet: \", url);\n",
       "      document.body.appendChild(element);\n",
       "    }\n",
       "\n",
       "    const hashes = {\"https://cdn.bokeh.org/bokeh/release/bokeh-2.3.1.min.js\": \"YF85VygJKMVnHE+lLv2AM93Vbstr0yo2TbIu5v8se5Rq3UQAUmcuh4aaJwNlpKwa\", \"https://cdn.bokeh.org/bokeh/release/bokeh-widgets-2.3.1.min.js\": \"KKuas3gevv3PvrlkyCMzffFeaMq5we/a2QsP5AUoS3mJ0jmaCL7jirFJN3GoE/lM\", \"https://cdn.bokeh.org/bokeh/release/bokeh-tables-2.3.1.min.js\": \"MK/uFc3YT18pkvvXRl66tTHjP0/dxoSH2e/eiNMFIguKlun2+WVqaPTWmUy/zvh4\"};\n",
       "\n",
       "    for (let i = 0; i < js_urls.length; i++) {\n",
       "      const url = js_urls[i];\n",
       "      const element = document.createElement('script');\n",
       "      element.onload = on_load;\n",
       "      element.onerror = on_error.bind(null, url);\n",
       "      element.async = false;\n",
       "      element.src = url;\n",
       "      if (url in hashes) {\n",
       "        element.crossOrigin = \"anonymous\";\n",
       "        element.integrity = \"sha384-\" + hashes[url];\n",
       "      }\n",
       "      console.debug(\"Bokeh: injecting script tag for BokehJS library: \", url);\n",
       "      document.head.appendChild(element);\n",
       "    }\n",
       "  };\n",
       "\n",
       "  function inject_raw_css(css) {\n",
       "    const element = document.createElement(\"style\");\n",
       "    element.appendChild(document.createTextNode(css));\n",
       "    document.body.appendChild(element);\n",
       "  }\n",
       "\n",
       "  \n",
       "  var js_urls = [\"https://cdn.bokeh.org/bokeh/release/bokeh-2.3.1.min.js\", \"https://cdn.bokeh.org/bokeh/release/bokeh-widgets-2.3.1.min.js\", \"https://cdn.bokeh.org/bokeh/release/bokeh-tables-2.3.1.min.js\"];\n",
       "  var css_urls = [];\n",
       "  \n",
       "\n",
       "  var inline_js = [\n",
       "    function(Bokeh) {\n",
       "      Bokeh.set_log_level(\"info\");\n",
       "    },\n",
       "    function(Bokeh) {\n",
       "    \n",
       "    \n",
       "    }\n",
       "  ];\n",
       "\n",
       "  function run_inline_js() {\n",
       "    \n",
       "    if (root.Bokeh !== undefined || force === true) {\n",
       "      \n",
       "    for (var i = 0; i < inline_js.length; i++) {\n",
       "      inline_js[i].call(root, root.Bokeh);\n",
       "    }\n",
       "    if (force === true) {\n",
       "        display_loaded();\n",
       "      }} else if (Date.now() < root._bokeh_timeout) {\n",
       "      setTimeout(run_inline_js, 100);\n",
       "    } else if (!root._bokeh_failed_load) {\n",
       "      console.log(\"Bokeh: BokehJS failed to load within specified timeout.\");\n",
       "      root._bokeh_failed_load = true;\n",
       "    } else if (force !== true) {\n",
       "      var cell = $(document.getElementById(\"1003\")).parents('.cell').data().cell;\n",
       "      cell.output_area.append_execute_result(NB_LOAD_WARNING)\n",
       "    }\n",
       "\n",
       "  }\n",
       "\n",
       "  if (root._bokeh_is_loading === 0) {\n",
       "    console.debug(\"Bokeh: BokehJS loaded, going straight to plotting\");\n",
       "    run_inline_js();\n",
       "  } else {\n",
       "    load_libs(css_urls, js_urls, function() {\n",
       "      console.debug(\"Bokeh: BokehJS plotting callback run at\", now());\n",
       "      run_inline_js();\n",
       "    });\n",
       "  }\n",
       "}(window));"
      ],
      "application/vnd.bokehjs_load.v0+json": "\n(function(root) {\n  function now() {\n    return new Date();\n  }\n\n  var force = true;\n\n  if (typeof root._bokeh_onload_callbacks === \"undefined\" || force === true) {\n    root._bokeh_onload_callbacks = [];\n    root._bokeh_is_loading = undefined;\n  }\n\n  \n\n  \n  if (typeof (root._bokeh_timeout) === \"undefined\" || force === true) {\n    root._bokeh_timeout = Date.now() + 5000;\n    root._bokeh_failed_load = false;\n  }\n\n  var NB_LOAD_WARNING = {'data': {'text/html':\n     \"<div style='background-color: #fdd'>\\n\"+\n     \"<p>\\n\"+\n     \"BokehJS does not appear to have successfully loaded. If loading BokehJS from CDN, this \\n\"+\n     \"may be due to a slow or bad network connection. Possible fixes:\\n\"+\n     \"</p>\\n\"+\n     \"<ul>\\n\"+\n     \"<li>re-rerun `output_notebook()` to attempt to load from CDN again, or</li>\\n\"+\n     \"<li>use INLINE resources instead, as so:</li>\\n\"+\n     \"</ul>\\n\"+\n     \"<code>\\n\"+\n     \"from bokeh.resources import INLINE\\n\"+\n     \"output_notebook(resources=INLINE)\\n\"+\n     \"</code>\\n\"+\n     \"</div>\"}};\n\n  function display_loaded() {\n    var el = document.getElementById(\"1003\");\n    if (el != null) {\n      el.textContent = \"BokehJS is loading...\";\n    }\n    if (root.Bokeh !== undefined) {\n      if (el != null) {\n        el.textContent = \"BokehJS \" + root.Bokeh.version + \" successfully loaded.\";\n      }\n    } else if (Date.now() < root._bokeh_timeout) {\n      setTimeout(display_loaded, 100)\n    }\n  }\n\n\n  function run_callbacks() {\n    try {\n      root._bokeh_onload_callbacks.forEach(function(callback) {\n        if (callback != null)\n          callback();\n      });\n    } finally {\n      delete root._bokeh_onload_callbacks\n    }\n    console.debug(\"Bokeh: all callbacks have finished\");\n  }\n\n  function load_libs(css_urls, js_urls, callback) {\n    if (css_urls == null) css_urls = [];\n    if (js_urls == null) js_urls = [];\n\n    root._bokeh_onload_callbacks.push(callback);\n    if (root._bokeh_is_loading > 0) {\n      console.debug(\"Bokeh: BokehJS is being loaded, scheduling callback at\", now());\n      return null;\n    }\n    if (js_urls == null || js_urls.length === 0) {\n      run_callbacks();\n      return null;\n    }\n    console.debug(\"Bokeh: BokehJS not loaded, scheduling load and callback at\", now());\n    root._bokeh_is_loading = css_urls.length + js_urls.length;\n\n    function on_load() {\n      root._bokeh_is_loading--;\n      if (root._bokeh_is_loading === 0) {\n        console.debug(\"Bokeh: all BokehJS libraries/stylesheets loaded\");\n        run_callbacks()\n      }\n    }\n\n    function on_error(url) {\n      console.error(\"failed to load \" + url);\n    }\n\n    for (let i = 0; i < css_urls.length; i++) {\n      const url = css_urls[i];\n      const element = document.createElement(\"link\");\n      element.onload = on_load;\n      element.onerror = on_error.bind(null, url);\n      element.rel = \"stylesheet\";\n      element.type = \"text/css\";\n      element.href = url;\n      console.debug(\"Bokeh: injecting link tag for BokehJS stylesheet: \", url);\n      document.body.appendChild(element);\n    }\n\n    const hashes = {\"https://cdn.bokeh.org/bokeh/release/bokeh-2.3.1.min.js\": \"YF85VygJKMVnHE+lLv2AM93Vbstr0yo2TbIu5v8se5Rq3UQAUmcuh4aaJwNlpKwa\", \"https://cdn.bokeh.org/bokeh/release/bokeh-widgets-2.3.1.min.js\": \"KKuas3gevv3PvrlkyCMzffFeaMq5we/a2QsP5AUoS3mJ0jmaCL7jirFJN3GoE/lM\", \"https://cdn.bokeh.org/bokeh/release/bokeh-tables-2.3.1.min.js\": \"MK/uFc3YT18pkvvXRl66tTHjP0/dxoSH2e/eiNMFIguKlun2+WVqaPTWmUy/zvh4\"};\n\n    for (let i = 0; i < js_urls.length; i++) {\n      const url = js_urls[i];\n      const element = document.createElement('script');\n      element.onload = on_load;\n      element.onerror = on_error.bind(null, url);\n      element.async = false;\n      element.src = url;\n      if (url in hashes) {\n        element.crossOrigin = \"anonymous\";\n        element.integrity = \"sha384-\" + hashes[url];\n      }\n      console.debug(\"Bokeh: injecting script tag for BokehJS library: \", url);\n      document.head.appendChild(element);\n    }\n  };\n\n  function inject_raw_css(css) {\n    const element = document.createElement(\"style\");\n    element.appendChild(document.createTextNode(css));\n    document.body.appendChild(element);\n  }\n\n  \n  var js_urls = [\"https://cdn.bokeh.org/bokeh/release/bokeh-2.3.1.min.js\", \"https://cdn.bokeh.org/bokeh/release/bokeh-widgets-2.3.1.min.js\", \"https://cdn.bokeh.org/bokeh/release/bokeh-tables-2.3.1.min.js\"];\n  var css_urls = [];\n  \n\n  var inline_js = [\n    function(Bokeh) {\n      Bokeh.set_log_level(\"info\");\n    },\n    function(Bokeh) {\n    \n    \n    }\n  ];\n\n  function run_inline_js() {\n    \n    if (root.Bokeh !== undefined || force === true) {\n      \n    for (var i = 0; i < inline_js.length; i++) {\n      inline_js[i].call(root, root.Bokeh);\n    }\n    if (force === true) {\n        display_loaded();\n      }} else if (Date.now() < root._bokeh_timeout) {\n      setTimeout(run_inline_js, 100);\n    } else if (!root._bokeh_failed_load) {\n      console.log(\"Bokeh: BokehJS failed to load within specified timeout.\");\n      root._bokeh_failed_load = true;\n    } else if (force !== true) {\n      var cell = $(document.getElementById(\"1003\")).parents('.cell').data().cell;\n      cell.output_area.append_execute_result(NB_LOAD_WARNING)\n    }\n\n  }\n\n  if (root._bokeh_is_loading === 0) {\n    console.debug(\"Bokeh: BokehJS loaded, going straight to plotting\");\n    run_inline_js();\n  } else {\n    load_libs(css_urls, js_urls, function() {\n      console.debug(\"Bokeh: BokehJS plotting callback run at\", now());\n      run_inline_js();\n    });\n  }\n}(window));"
     },
     "metadata": {},
     "output_type": "display_data"
    }
   ],
   "source": [
    "%run bokeh_lib.ipynb"
   ]
  },
  {
   "cell_type": "code",
   "execution_count": 19,
   "metadata": {
    "ExecuteTime": {
     "end_time": "2021-05-10T21:19:38.055883Z",
     "start_time": "2021-05-10T21:19:38.047608Z"
    }
   },
   "outputs": [],
   "source": [
    "game = pyspiel.load_game('tic_tac_toe')\n",
    "gamma = 0.99\n",
    "key = jax.random.PRNGKey(0)\n",
    "dim_board = game.observation_tensor_size()\n",
    "dim_actions = game.num_distinct_actions()\n",
    "dim_q = dim_board + dim_actions\n",
    "all_actions = list(range(dim_actions))"
   ]
  },
  {
   "cell_type": "code",
   "execution_count": 20,
   "metadata": {
    "ExecuteTime": {
     "end_time": "2021-05-10T21:19:38.071545Z",
     "start_time": "2021-05-10T21:19:38.058405Z"
    }
   },
   "outputs": [],
   "source": [
    "class ReplayBuffer(object):\n",
    "    def __init__(self, capacity):\n",
    "        self._capacity = capacity\n",
    "        self._data = []\n",
    "        self._next_entry_index = 0\n",
    "\n",
    "    def add(self, element):\n",
    "        if len(self._data) < self._capacity:\n",
    "            self._data.append(element)\n",
    "        else:\n",
    "            self._data[self._next_entry_index] = element\n",
    "            self._next_entry_index += 1\n",
    "            self._next_entry_index %= self._capacity\n",
    "    \n",
    "    def extend(self, elements):\n",
    "        for ele in elements:\n",
    "            self.add(ele)\n",
    "\n",
    "    def sample(self, num_samples):\n",
    "        if len(self._data) < num_samples:\n",
    "            raise ValueError(\"{} elements could not be sampled from size {}\".format(\n",
    "              num_samples, len(self._data)))\n",
    "        return random.sample(self._data, num_samples)\n",
    "\n",
    "    def __len__(self):\n",
    "        return len(self._data)\n",
    "\n",
    "    def __iter__(self):\n",
    "        return iter(self._data)"
   ]
  },
  {
   "cell_type": "code",
   "execution_count": 21,
   "metadata": {
    "ExecuteTime": {
     "end_time": "2021-05-10T21:19:38.078238Z",
     "start_time": "2021-05-10T21:19:38.073599Z"
    }
   },
   "outputs": [],
   "source": [
    "@dataclass\n",
    "class Experience(object):\n",
    "    s: np.array\n",
    "    a: np.array\n",
    "    g: float\n",
    "    a_mask: np.array\n",
    "\n",
    "#     def print(self):\n",
    "#         print('r', self.g)\n",
    "#         print(obs_tensor_to_board(self.s), '\\n')\n",
    "#         print(obs_tensor_to_board(self.s_next), '\\n')"
   ]
  },
  {
   "cell_type": "code",
   "execution_count": 22,
   "metadata": {
    "ExecuteTime": {
     "end_time": "2021-05-10T21:19:38.088527Z",
     "start_time": "2021-05-10T21:19:38.080132Z"
    }
   },
   "outputs": [],
   "source": [
    "def policy_net_hk(x):\n",
    "    mlp = hk.nets.MLP([64, 64, dim_actions])\n",
    "    return mlp(x)\n",
    "\n",
    "def q_net_hk(x):\n",
    "    mlp = hk.nets.MLP([64, 64, 1])\n",
    "    return mlp(x)\n",
    "\n",
    "def v_net_hk(x):\n",
    "    mlp = hk.nets.MLP([64, 64, 1])\n",
    "    return mlp(x)\n",
    "\n",
    "policy_net = hk.without_apply_rng(hk.transform(policy_net_hk))\n",
    "q_net = hk.without_apply_rng(hk.transform(q_net_hk))\n",
    "v_net = hk.without_apply_rng(hk.transform(v_net_hk))"
   ]
  },
  {
   "cell_type": "code",
   "execution_count": 23,
   "metadata": {
    "ExecuteTime": {
     "end_time": "2021-05-10T21:19:38.094712Z",
     "start_time": "2021-05-10T21:19:38.090423Z"
    }
   },
   "outputs": [],
   "source": [
    "def create_batch(samples):\n",
    "    batch = {\n",
    "        's': np.stack([sample.s for sample in samples]),\n",
    "        'a': np.stack([sample.a for sample in samples]),\n",
    "        'g': np.stack([sample.g for sample in samples]),\n",
    "#         's_next': np.stack([sample.s_next for sample in samples]),\n",
    "        'a_mask': np.stack([sample.a_mask for sample in samples]),\n",
    "    }\n",
    "    return batch"
   ]
  },
  {
   "cell_type": "code",
   "execution_count": 24,
   "metadata": {
    "ExecuteTime": {
     "end_time": "2021-05-10T21:19:38.102172Z",
     "start_time": "2021-05-10T21:19:38.098620Z"
    }
   },
   "outputs": [],
   "source": [
    "def obs_tensor_to_board(s):\n",
    "    obs = s.reshape(3, 9).T\n",
    "    obs = obs.argmax(axis=-1).reshape(3, 3).squeeze()\n",
    "    return '\\n'.join(map(str, obs)).replace('[', '').replace(']', '') \\\n",
    "                .replace('2', 'x').replace('1', 'o').replace('0', '.')"
   ]
  },
  {
   "cell_type": "code",
   "execution_count": 25,
   "metadata": {
    "ExecuteTime": {
     "end_time": "2021-05-10T21:19:38.108889Z",
     "start_time": "2021-05-10T21:19:38.105094Z"
    }
   },
   "outputs": [],
   "source": [
    "@jit\n",
    "def l2_squared(pytree):\n",
    "    leaves, _ = tree_flatten(pytree)\n",
    "    return sum(jnp.vdot(x, x) for x in leaves)"
   ]
  },
  {
   "cell_type": "code",
   "execution_count": 26,
   "metadata": {
    "ExecuteTime": {
     "end_time": "2021-05-10T21:19:38.113604Z",
     "start_time": "2021-05-10T21:19:38.110757Z"
    }
   },
   "outputs": [],
   "source": [
    "def one_hot_action(action):\n",
    "    vec = np.zeros(dim_actions)\n",
    "    vec[action] = 1\n",
    "    return vec"
   ]
  },
  {
   "cell_type": "code",
   "execution_count": 27,
   "metadata": {
    "ExecuteTime": {
     "end_time": "2021-05-10T21:19:38.123582Z",
     "start_time": "2021-05-10T21:19:38.115229Z"
    }
   },
   "outputs": [],
   "source": [
    "@jit\n",
    "def q_forward(params, batch):\n",
    "    q_repr = jnp.concatenate((batch['s'], batch['a']), axis=-1)\n",
    "    q_val = q_net.apply(params, q_repr)\n",
    "    return q_val\n",
    "\n",
    "@jit\n",
    "def q_loss(params, batch):\n",
    "    q_val = q_forward(params, batch)\n",
    "    g = batch['g']\n",
    "    return jnp.mean(jnp.square(q_val - g))\n",
    "\n",
    "@jit\n",
    "def q_update(params, opt_state, batch):\n",
    "    loss, grads = value_and_grad(q_loss)(params, batch)\n",
    "    updates, opt_state = q_opt.update(grads, opt_state)\n",
    "    new_params = optax.apply_updates(params, updates)\n",
    "    return loss, new_params, opt_state"
   ]
  },
  {
   "cell_type": "code",
   "execution_count": 28,
   "metadata": {
    "ExecuteTime": {
     "end_time": "2021-05-10T21:19:38.132703Z",
     "start_time": "2021-05-10T21:19:38.125361Z"
    }
   },
   "outputs": [],
   "source": [
    "@jit\n",
    "def v_forward(params, batch):\n",
    "    v_val = v_net.apply(params, batch['s'])\n",
    "    return v_val\n",
    "\n",
    "@jit\n",
    "def v_loss(params, batch):\n",
    "    v_val = v_forward(params, batch)\n",
    "    g = batch['g']\n",
    "    return jnp.mean(jnp.square(v_val - g))\n",
    "\n",
    "@jit\n",
    "def v_update(params, opt_state, batch):\n",
    "    loss, grads = value_and_grad(v_loss)(params, batch)\n",
    "    updates, opt_state = v_opt.update(grads, opt_state)\n",
    "    new_params = optax.apply_updates(params, updates)\n",
    "    return loss, new_params, opt_state"
   ]
  },
  {
   "cell_type": "code",
   "execution_count": 29,
   "metadata": {
    "ExecuteTime": {
     "end_time": "2021-05-10T21:19:38.141532Z",
     "start_time": "2021-05-10T21:19:38.134608Z"
    }
   },
   "outputs": [],
   "source": [
    "@jit\n",
    "def policy_logits(params, batch):\n",
    "    logits = policy_net.apply(params, batch['s'])\n",
    "    return logits\n",
    "\n",
    "@jit\n",
    "def policy_logits_masked(params, batch):\n",
    "    logits = policy_net.apply(params, batch['s'])\n",
    "    inf_mask = jnp.log(batch['a_mask'])\n",
    "    return logits + inf_mask\n",
    "\n",
    "@jit\n",
    "def policy_probs(params, batch):\n",
    "    logits = policy_logits_masked(params, batch)\n",
    "    action_probs = jax.nn.softmax(logits - jnp.max(logits, axis=-1, keepdims=True))\n",
    "    return action_probs"
   ]
  },
  {
   "cell_type": "code",
   "execution_count": 30,
   "metadata": {
    "ExecuteTime": {
     "end_time": "2021-05-10T21:19:38.170624Z",
     "start_time": "2021-05-10T21:19:38.143435Z"
    }
   },
   "outputs": [],
   "source": [
    "@jit\n",
    "def policy_loss(params, batch):\n",
    "    action_probs = policy_probs(params, batch)\n",
    "    log_probs = jnp.log(action_probs)\n",
    "    g = jnp.expand_dims(batch['g'], -1)\n",
    "    selected_log_probs = action_probs * batch['a']\n",
    "    return -jnp.mean(g * selected_log_probs)\n",
    "\n",
    "@jit\n",
    "def policy_loss_with_q(params, batch):\n",
    "    action_probs = policy_probs(params, batch)\n",
    "    log_probs = jnp.log(action_probs)\n",
    "    q = batch['q']\n",
    "    selected_log_probs = action_probs * batch['a']\n",
    "    return -jnp.mean(q * selected_log_probs)\n",
    "\n",
    "@jit\n",
    "def policy_loss_with_a(params, batch):\n",
    "    action_probs = policy_probs(params, batch)\n",
    "    log_probs = jnp.log(action_probs)\n",
    "    q = batch['q']\n",
    "    v = batch['v']\n",
    "    selected_log_probs = action_probs * batch['a']\n",
    "    return -jnp.mean((q - v) * selected_log_probs)\n",
    "\n",
    "@jit\n",
    "def policy_update(params, opt_state, batch):\n",
    "    loss, grads = value_and_grad(policy_loss)(params, batch)\n",
    "    updates, opt_state = policy_opt.update(grads, opt_state)\n",
    "    new_params = optax.apply_updates(params, updates)\n",
    "    return loss, new_params, opt_state\n",
    "\n",
    "@jit\n",
    "def policy_update_with_q(params, opt_state, batch):\n",
    "    loss, grads = value_and_grad(policy_loss_with_q)(params, batch)\n",
    "    updates, opt_state = policy_opt.update(grads, opt_state)\n",
    "    new_params = optax.apply_updates(params, updates)\n",
    "    return loss, new_params, opt_state\n",
    "\n",
    "@jit\n",
    "def policy_update_with_a(params, opt_state, batch):\n",
    "    loss, grads = value_and_grad(policy_loss_with_a)(params, batch)\n",
    "    updates, opt_state = policy_opt.update(grads, opt_state)\n",
    "    new_params = optax.apply_updates(params, updates)\n",
    "    return loss, new_params, opt_state"
   ]
  },
  {
   "cell_type": "code",
   "execution_count": 31,
   "metadata": {
    "ExecuteTime": {
     "end_time": "2021-05-10T21:19:38.184492Z",
     "start_time": "2021-05-10T21:19:38.171970Z"
    }
   },
   "outputs": [],
   "source": [
    "class ExpBuilder(object):\n",
    "    def __init__(self):\n",
    "        self.obses = []\n",
    "        self.actions = []\n",
    "        self.action_masks = []\n",
    "        self.reward = None\n",
    "        \n",
    "    def add(self, obs, action, action_mask):\n",
    "        self.actions.append(action)\n",
    "        self.obses.append(obs)\n",
    "        self.action_masks.append(action_mask)\n",
    "        \n",
    "    def set_reward(self, reward):\n",
    "        self.reward = reward\n",
    "            \n",
    "    def to_exps(self):\n",
    "        exps = []\n",
    "        for i in range(len(self.actions)):\n",
    "            action = one_hot_action(self.actions[i])\n",
    "            action_mask = self.action_masks[i]\n",
    "            obs = self.obses[i]\n",
    "            G = gamma ** (len(self.actions) - 1) * self.reward\n",
    "            exp = Experience(obs, action, G, a_mask=action_mask)\n",
    "            exps.append(exp)\n",
    "        return exps\n",
    "    \n",
    "    def reset(self):\n",
    "        self.obses = []\n",
    "        self.actions = []\n",
    "        self.action_masks = []\n",
    "        self.reward = None"
   ]
  },
  {
   "cell_type": "code",
   "execution_count": 32,
   "metadata": {
    "ExecuteTime": {
     "end_time": "2021-05-10T21:19:38.304977Z",
     "start_time": "2021-05-10T21:19:38.186138Z"
    }
   },
   "outputs": [],
   "source": [
    "class Player(object):\n",
    "    def __init__(self):\n",
    "        self.rating = trueskill.Rating()\n",
    "        \n",
    "    def step(self, state):\n",
    "        pass\n",
    "    \n",
    "class RandomPlayer(Player):\n",
    "    def step(self, state):\n",
    "        if not state.is_terminal():\n",
    "            actions = state.legal_actions()\n",
    "            action = random.choice(actions)\n",
    "            return action\n",
    "    \n",
    "class PolicyGradientPlayer(Player):\n",
    "    def __init__(self, player_id, key):\n",
    "        super().__init__()\n",
    "        self.player_id = player_id\n",
    "        \n",
    "        keys = jax.random.split(key, num=3)\n",
    "        \n",
    "        self.policy_params = policy_net.init(keys[0], jnp.zeros((1, dim_board)))\n",
    "        self.policy_params_old = copy.deepcopy(self.policy_params)\n",
    "        self.policy_opt_state = policy_opt.init(self.policy_params)\n",
    "        \n",
    "        self.q_params = q_net.init(keys[1], jnp.zeros((1, dim_q)))\n",
    "        self.q_opt_state = q_opt.init(self.q_params)\n",
    "        \n",
    "        self.v_params = v_net.init(keys[2], jnp.zeros((1, dim_board)))\n",
    "        self.v_opt_state = v_opt.init(self.v_params)\n",
    "\n",
    "        self.batch_size = 100\n",
    "        self.builder = ExpBuilder()\n",
    "        self.buffer = ReplayBuffer(5000)\n",
    "        self.info = None\n",
    "        self.steps = 0\n",
    "        self.sync_per_n_steps = 1000\n",
    "        \n",
    "    def get_q_vals(self, state):\n",
    "        obs = np.array(state.observation_tensor(self.player_id))\n",
    "        q_vals = np.zeros(9)\n",
    "        for action in range(dim_actions):\n",
    "            batch = {'s': obs, 'a': one_hot_action(action)}\n",
    "            q_vals[action] = np.array(q_forward(self.q_params, batch).block_until_ready())\n",
    "        return q_vals.reshape(3, 3)\n",
    "    \n",
    "    def get_v(self, state):\n",
    "        obs = np.array(state.observation_tensor(self.player_id))\n",
    "        batch = {'s': obs}\n",
    "        return np.array(v_forward(self.v_params, batch).block_until_ready())\n",
    "        \n",
    "    def get_action_probs(self, state):\n",
    "        obs = np.array(state.observation_tensor(self.player_id))\n",
    "        a_mask = np.array(state.legal_actions_mask())\n",
    "        batch = {'s': obs, 'a_mask': a_mask}\n",
    "        action_probs = np.array(policy_probs(self.policy_params, batch).block_until_ready())\n",
    "        return action_probs\n",
    "    \n",
    "    def get_action_logits(self, state):\n",
    "        obs = np.array(state.observation_tensor(self.player_id))\n",
    "        a_mask = np.array(state.legal_actions_mask())\n",
    "        batch = {'s': obs, 'a_mask': a_mask}\n",
    "        logits = policy_net.apply(self.policy_params, batch['s'])\n",
    "        return logits\n",
    "        \n",
    "    def step(self, state):\n",
    "        self.steps += 1\n",
    "        self.learn()\n",
    "        \n",
    "        if self.steps % self.sync_per_n_steps == 0:\n",
    "            self.sync()\n",
    "        \n",
    "        if state.is_terminal():\n",
    "            self.builder.set_reward(state.rewards()[self.player_id])\n",
    "            exps = self.builder.to_exps()\n",
    "            self.buffer.extend(exps)\n",
    "            self.builder.reset()\n",
    "        else:\n",
    "            obs = np.array(state.observation_tensor(self.player_id))\n",
    "            a_mask = np.array(state.legal_actions_mask())\n",
    "            batch = {'s': obs, 'a_mask': a_mask}\n",
    "            action_probs = np.array(policy_probs(self.policy_params_old, batch).block_until_ready())\n",
    "            action = np.random.choice(all_actions, 1, p=action_probs)\n",
    "            self.builder.add(obs, action, a_mask)\n",
    "            return action\n",
    "        \n",
    "    def learn(self):\n",
    "        if len(self.buffer) >= self.batch_size:\n",
    "            samples = self.buffer.sample(self.batch_size)\n",
    "            batch = create_batch(samples)\n",
    "            batch['q'] = q_forward(self.q_params, batch)\n",
    "            batch['v'] = v_forward(self.v_params, batch)\n",
    "            policy_loss, self.policy_params, self.policy_opt_state = policy_update_with_q(\n",
    "                self.policy_params, self.policy_opt_state, batch)\n",
    "            q_loss, self.q_params, self.q_opt_state = q_update(\n",
    "                self.q_params, self.q_opt_state, batch)\n",
    "            v_loss, self.v_params, self.v_opt_state = v_update(\n",
    "                self.v_params, self.v_opt_state, batch)\n",
    "            \n",
    "            self.info = {\n",
    "                'policy_loss': float(policy_loss.block_until_ready()),\n",
    "                'q_loss': float(q_loss.block_until_ready()),\n",
    "                'v_loss': float(v_loss.block_until_ready()),\n",
    "            }\n",
    "            \n",
    "    def sync(self):\n",
    "        self.policy_params_old = copy.deepcopy(self.policy_params)"
   ]
  },
  {
   "cell_type": "code",
   "execution_count": 33,
   "metadata": {
    "ExecuteTime": {
     "end_time": "2021-05-10T21:19:38.468747Z",
     "start_time": "2021-05-10T21:19:38.306748Z"
    }
   },
   "outputs": [
    {
     "name": "stderr",
     "output_type": "stream",
     "text": [
      "WARNING:bokeh.core.validation.check:W-1000 (MISSING_RENDERERS): Plot has no renderers: Figure(id='1004', ...)\n",
      "WARNING:bokeh.core.validation.check:W-1000 (MISSING_RENDERERS): Plot has no renderers: Figure(id='1037', ...)\n",
      "WARNING:bokeh.core.validation.check:W-1000 (MISSING_RENDERERS): Plot has no renderers: Figure(id='1070', ...)\n",
      "WARNING:bokeh.core.validation.check:W-1000 (MISSING_RENDERERS): Plot has no renderers: Figure(id='1103', ...)\n",
      "WARNING:bokeh.core.validation.check:W-1000 (MISSING_RENDERERS): Plot has no renderers: Figure(id='1136', ...)\n",
      "WARNING:bokeh.core.validation.check:W-1000 (MISSING_RENDERERS): Plot has no renderers: Figure(id='1169', ...)\n"
     ]
    },
    {
     "data": {
      "text/html": [
       "\n",
       "\n",
       "\n",
       "\n",
       "\n",
       "\n",
       "  <div class=\"bk-root\" id=\"7184ce74-8bad-4066-a8e3-1c8a280e48da\" data-root-id=\"1202\"></div>\n"
      ]
     },
     "metadata": {},
     "output_type": "display_data"
    },
    {
     "data": {
      "application/javascript": [
       "(function(root) {\n",
       "  function embed_document(root) {\n",
       "    \n",
       "  var docs_json = {\"e332d0c9-2cf3-4963-a516-8ac88c6bc465\":{\"defs\":[],\"roots\":{\"references\":[{\"attributes\":{\"children\":[{\"id\":\"1004\"},{\"id\":\"1037\"},{\"id\":\"1070\"},{\"id\":\"1103\"},{\"id\":\"1136\"},{\"id\":\"1169\"}]},\"id\":\"1202\",\"type\":\"Column\"},{\"attributes\":{},\"id\":\"1073\",\"type\":\"DataRange1d\"},{\"attributes\":{\"formatter\":{\"id\":\"1240\"},\"major_label_policy\":{\"id\":\"1239\"},\"ticker\":{\"id\":\"1185\"}},\"id\":\"1184\",\"type\":\"LinearAxis\"},{\"attributes\":{\"overlay\":{\"id\":\"1194\"}},\"id\":\"1190\",\"type\":\"BoxZoomTool\"},{\"attributes\":{},\"id\":\"1106\",\"type\":\"DataRange1d\"},{\"attributes\":{},\"id\":\"1155\",\"type\":\"PanTool\"},{\"attributes\":{},\"id\":\"1156\",\"type\":\"WheelZoomTool\"},{\"attributes\":{},\"id\":\"1189\",\"type\":\"WheelZoomTool\"},{\"attributes\":{\"axis\":{\"id\":\"1151\"},\"dimension\":1,\"ticker\":null},\"id\":\"1154\",\"type\":\"Grid\"},{\"attributes\":{},\"id\":\"1188\",\"type\":\"PanTool\"},{\"attributes\":{},\"id\":\"1209\",\"type\":\"AllLabels\"},{\"attributes\":{\"formatter\":{\"id\":\"1231\"},\"major_label_policy\":{\"id\":\"1230\"},\"ticker\":{\"id\":\"1115\"}},\"id\":\"1114\",\"type\":\"LinearAxis\"},{\"attributes\":{},\"id\":\"1082\",\"type\":\"BasicTicker\"},{\"attributes\":{},\"id\":\"1160\",\"type\":\"HelpTool\"},{\"attributes\":{},\"id\":\"1086\",\"type\":\"BasicTicker\"},{\"attributes\":{\"axis\":{\"id\":\"1081\"},\"ticker\":null},\"id\":\"1084\",\"type\":\"Grid\"},{\"attributes\":{},\"id\":\"1191\",\"type\":\"SaveTool\"},{\"attributes\":{},\"id\":\"1094\",\"type\":\"HelpTool\"},{\"attributes\":{\"axis\":{\"id\":\"1085\"},\"dimension\":1,\"ticker\":null},\"id\":\"1088\",\"type\":\"Grid\"},{\"attributes\":{},\"id\":\"1044\",\"type\":\"LinearScale\"},{\"attributes\":{\"overlay\":{\"id\":\"1161\"}},\"id\":\"1157\",\"type\":\"BoxZoomTool\"},{\"attributes\":{},\"id\":\"1145\",\"type\":\"LinearScale\"},{\"attributes\":{\"axis\":{\"id\":\"1114\"},\"ticker\":null},\"id\":\"1117\",\"type\":\"Grid\"},{\"attributes\":{},\"id\":\"1143\",\"type\":\"LinearScale\"},{\"attributes\":{},\"id\":\"1079\",\"type\":\"LinearScale\"},{\"attributes\":{},\"id\":\"1158\",\"type\":\"SaveTool\"},{\"attributes\":{\"bottom_units\":\"screen\",\"fill_alpha\":0.5,\"fill_color\":\"lightgrey\",\"left_units\":\"screen\",\"level\":\"overlay\",\"line_alpha\":1.0,\"line_color\":\"black\",\"line_dash\":[4,4],\"line_width\":2,\"right_units\":\"screen\",\"syncable\":false,\"top_units\":\"screen\"},\"id\":\"1062\",\"type\":\"BoxAnnotation\"},{\"attributes\":{\"overlay\":{\"id\":\"1095\"}},\"id\":\"1091\",\"type\":\"BoxZoomTool\"},{\"attributes\":{\"text\":\"G\"},\"id\":\"1104\",\"type\":\"Title\"},{\"attributes\":{\"axis\":{\"id\":\"1147\"},\"ticker\":null},\"id\":\"1150\",\"type\":\"Grid\"},{\"attributes\":{},\"id\":\"1159\",\"type\":\"ResetTool\"},{\"attributes\":{\"formatter\":{\"id\":\"1225\"},\"major_label_policy\":{\"id\":\"1224\"},\"ticker\":{\"id\":\"1082\"}},\"id\":\"1081\",\"type\":\"LinearAxis\"},{\"attributes\":{},\"id\":\"1090\",\"type\":\"WheelZoomTool\"},{\"attributes\":{\"bottom_units\":\"screen\",\"fill_alpha\":0.5,\"fill_color\":\"lightgrey\",\"left_units\":\"screen\",\"level\":\"overlay\",\"line_alpha\":1.0,\"line_color\":\"black\",\"line_dash\":[4,4],\"line_width\":2,\"right_units\":\"screen\",\"syncable\":false,\"top_units\":\"screen\"},\"id\":\"1029\",\"type\":\"BoxAnnotation\"},{\"attributes\":{},\"id\":\"1112\",\"type\":\"LinearScale\"},{\"attributes\":{},\"id\":\"1092\",\"type\":\"SaveTool\"},{\"attributes\":{},\"id\":\"1224\",\"type\":\"AllLabels\"},{\"attributes\":{\"axis\":{\"id\":\"1184\"},\"dimension\":1,\"ticker\":null},\"id\":\"1187\",\"type\":\"Grid\"},{\"attributes\":{},\"id\":\"1193\",\"type\":\"HelpTool\"},{\"attributes\":{\"active_multi\":null,\"tools\":[{\"id\":\"1188\"},{\"id\":\"1189\"},{\"id\":\"1190\"},{\"id\":\"1191\"},{\"id\":\"1192\"},{\"id\":\"1193\"}]},\"id\":\"1195\",\"type\":\"Toolbar\"},{\"attributes\":{\"axis\":{\"id\":\"1052\"},\"dimension\":1,\"ticker\":null},\"id\":\"1055\",\"type\":\"Grid\"},{\"attributes\":{\"below\":[{\"id\":\"1180\"}],\"center\":[{\"id\":\"1183\"},{\"id\":\"1187\"}],\"height\":300,\"left\":[{\"id\":\"1184\"}],\"title\":{\"id\":\"1170\"},\"toolbar\":{\"id\":\"1195\"},\"width\":800,\"x_range\":{\"id\":\"1172\"},\"x_scale\":{\"id\":\"1176\"},\"y_range\":{\"id\":\"1174\"},\"y_scale\":{\"id\":\"1178\"}},\"id\":\"1169\",\"subtype\":\"Figure\",\"type\":\"Plot\"},{\"attributes\":{\"formatter\":{\"id\":\"1216\"},\"major_label_policy\":{\"id\":\"1215\"},\"ticker\":{\"id\":\"1053\"}},\"id\":\"1052\",\"type\":\"LinearAxis\"},{\"attributes\":{\"axis\":{\"id\":\"1048\"},\"ticker\":null},\"id\":\"1051\",\"type\":\"Grid\"},{\"attributes\":{},\"id\":\"1234\",\"type\":\"BasicTickFormatter\"},{\"attributes\":{\"bottom_units\":\"screen\",\"fill_alpha\":0.5,\"fill_color\":\"lightgrey\",\"left_units\":\"screen\",\"level\":\"overlay\",\"line_alpha\":1.0,\"line_color\":\"black\",\"line_dash\":[4,4],\"line_width\":2,\"right_units\":\"screen\",\"syncable\":false,\"top_units\":\"screen\"},\"id\":\"1128\",\"type\":\"BoxAnnotation\"},{\"attributes\":{},\"id\":\"1046\",\"type\":\"LinearScale\"},{\"attributes\":{\"formatter\":{\"id\":\"1237\"},\"major_label_policy\":{\"id\":\"1236\"},\"ticker\":{\"id\":\"1148\"}},\"id\":\"1147\",\"type\":\"LinearAxis\"},{\"attributes\":{},\"id\":\"1049\",\"type\":\"BasicTicker\"},{\"attributes\":{\"formatter\":{\"id\":\"1219\"},\"major_label_policy\":{\"id\":\"1218\"},\"ticker\":{\"id\":\"1049\"}},\"id\":\"1048\",\"type\":\"LinearAxis\"},{\"attributes\":{},\"id\":\"1053\",\"type\":\"BasicTicker\"},{\"attributes\":{},\"id\":\"1077\",\"type\":\"LinearScale\"},{\"attributes\":{\"formatter\":{\"id\":\"1228\"},\"major_label_policy\":{\"id\":\"1227\"},\"ticker\":{\"id\":\"1119\"}},\"id\":\"1118\",\"type\":\"LinearAxis\"},{\"attributes\":{\"bottom_units\":\"screen\",\"fill_alpha\":0.5,\"fill_color\":\"lightgrey\",\"left_units\":\"screen\",\"level\":\"overlay\",\"line_alpha\":1.0,\"line_color\":\"black\",\"line_dash\":[4,4],\"line_width\":2,\"right_units\":\"screen\",\"syncable\":false,\"top_units\":\"screen\"},\"id\":\"1161\",\"type\":\"BoxAnnotation\"},{\"attributes\":{},\"id\":\"1056\",\"type\":\"PanTool\"},{\"attributes\":{},\"id\":\"1115\",\"type\":\"BasicTicker\"},{\"attributes\":{},\"id\":\"1148\",\"type\":\"BasicTicker\"},{\"attributes\":{},\"id\":\"1192\",\"type\":\"ResetTool\"},{\"attributes\":{\"text\":\"v_loss\"},\"id\":\"1071\",\"type\":\"Title\"},{\"attributes\":{},\"id\":\"1230\",\"type\":\"AllLabels\"},{\"attributes\":{},\"id\":\"1075\",\"type\":\"DataRange1d\"},{\"attributes\":{},\"id\":\"1057\",\"type\":\"WheelZoomTool\"},{\"attributes\":{},\"id\":\"1061\",\"type\":\"HelpTool\"},{\"attributes\":{},\"id\":\"1222\",\"type\":\"BasicTickFormatter\"},{\"attributes\":{\"below\":[{\"id\":\"1114\"}],\"center\":[{\"id\":\"1117\"},{\"id\":\"1121\"}],\"height\":300,\"left\":[{\"id\":\"1118\"}],\"title\":{\"id\":\"1104\"},\"toolbar\":{\"id\":\"1129\"},\"width\":800,\"x_range\":{\"id\":\"1106\"},\"x_scale\":{\"id\":\"1110\"},\"y_range\":{\"id\":\"1108\"},\"y_scale\":{\"id\":\"1112\"}},\"id\":\"1103\",\"subtype\":\"Figure\",\"type\":\"Plot\"},{\"attributes\":{\"axis\":{\"id\":\"1180\"},\"ticker\":null},\"id\":\"1183\",\"type\":\"Grid\"},{\"attributes\":{\"active_multi\":null,\"tools\":[{\"id\":\"1056\"},{\"id\":\"1057\"},{\"id\":\"1058\"},{\"id\":\"1059\"},{\"id\":\"1060\"},{\"id\":\"1061\"}]},\"id\":\"1063\",\"type\":\"Toolbar\"},{\"attributes\":{\"formatter\":{\"id\":\"1222\"},\"major_label_policy\":{\"id\":\"1221\"},\"ticker\":{\"id\":\"1086\"}},\"id\":\"1085\",\"type\":\"LinearAxis\"},{\"attributes\":{},\"id\":\"1228\",\"type\":\"BasicTickFormatter\"},{\"attributes\":{},\"id\":\"1152\",\"type\":\"BasicTicker\"},{\"attributes\":{\"overlay\":{\"id\":\"1062\"}},\"id\":\"1058\",\"type\":\"BoxZoomTool\"},{\"attributes\":{},\"id\":\"1060\",\"type\":\"ResetTool\"},{\"attributes\":{},\"id\":\"1225\",\"type\":\"BasicTickFormatter\"},{\"attributes\":{},\"id\":\"1227\",\"type\":\"AllLabels\"},{\"attributes\":{\"bottom_units\":\"screen\",\"fill_alpha\":0.5,\"fill_color\":\"lightgrey\",\"left_units\":\"screen\",\"level\":\"overlay\",\"line_alpha\":1.0,\"line_color\":\"black\",\"line_dash\":[4,4],\"line_width\":2,\"right_units\":\"screen\",\"syncable\":false,\"top_units\":\"screen\"},\"id\":\"1194\",\"type\":\"BoxAnnotation\"},{\"attributes\":{\"formatter\":{\"id\":\"1234\"},\"major_label_policy\":{\"id\":\"1233\"},\"ticker\":{\"id\":\"1152\"}},\"id\":\"1151\",\"type\":\"LinearAxis\"},{\"attributes\":{},\"id\":\"1059\",\"type\":\"SaveTool\"},{\"attributes\":{},\"id\":\"1221\",\"type\":\"AllLabels\"},{\"attributes\":{},\"id\":\"1185\",\"type\":\"BasicTicker\"},{\"attributes\":{},\"id\":\"1108\",\"type\":\"DataRange1d\"},{\"attributes\":{},\"id\":\"1127\",\"type\":\"HelpTool\"},{\"attributes\":{\"formatter\":{\"id\":\"1210\"},\"major_label_policy\":{\"id\":\"1209\"},\"ticker\":{\"id\":\"1020\"}},\"id\":\"1019\",\"type\":\"LinearAxis\"},{\"attributes\":{\"below\":[{\"id\":\"1147\"}],\"center\":[{\"id\":\"1150\"},{\"id\":\"1154\"}],\"height\":300,\"left\":[{\"id\":\"1151\"}],\"title\":{\"id\":\"1137\"},\"toolbar\":{\"id\":\"1162\"},\"width\":800,\"x_range\":{\"id\":\"1139\"},\"x_scale\":{\"id\":\"1143\"},\"y_range\":{\"id\":\"1141\"},\"y_scale\":{\"id\":\"1145\"}},\"id\":\"1136\",\"subtype\":\"Figure\",\"type\":\"Plot\"},{\"attributes\":{\"active_multi\":null,\"tools\":[{\"id\":\"1122\"},{\"id\":\"1123\"},{\"id\":\"1124\"},{\"id\":\"1125\"},{\"id\":\"1126\"},{\"id\":\"1127\"}]},\"id\":\"1129\",\"type\":\"Toolbar\"},{\"attributes\":{\"overlay\":{\"id\":\"1029\"}},\"id\":\"1025\",\"type\":\"BoxZoomTool\"},{\"attributes\":{},\"id\":\"1027\",\"type\":\"ResetTool\"},{\"attributes\":{},\"id\":\"1089\",\"type\":\"PanTool\"},{\"attributes\":{},\"id\":\"1042\",\"type\":\"DataRange1d\"},{\"attributes\":{},\"id\":\"1212\",\"type\":\"AllLabels\"},{\"attributes\":{\"active_multi\":null,\"tools\":[{\"id\":\"1155\"},{\"id\":\"1156\"},{\"id\":\"1157\"},{\"id\":\"1158\"},{\"id\":\"1159\"},{\"id\":\"1160\"}]},\"id\":\"1162\",\"type\":\"Toolbar\"},{\"attributes\":{},\"id\":\"1213\",\"type\":\"BasicTickFormatter\"},{\"attributes\":{},\"id\":\"1174\",\"type\":\"DataRange1d\"},{\"attributes\":{},\"id\":\"1026\",\"type\":\"SaveTool\"},{\"attributes\":{},\"id\":\"1210\",\"type\":\"BasicTickFormatter\"},{\"attributes\":{},\"id\":\"1141\",\"type\":\"DataRange1d\"},{\"attributes\":{},\"id\":\"1215\",\"type\":\"AllLabels\"},{\"attributes\":{\"formatter\":{\"id\":\"1213\"},\"major_label_policy\":{\"id\":\"1212\"},\"ticker\":{\"id\":\"1016\"}},\"id\":\"1015\",\"type\":\"LinearAxis\"},{\"attributes\":{},\"id\":\"1216\",\"type\":\"BasicTickFormatter\"},{\"attributes\":{},\"id\":\"1126\",\"type\":\"ResetTool\"},{\"attributes\":{},\"id\":\"1178\",\"type\":\"LinearScale\"},{\"attributes\":{},\"id\":\"1176\",\"type\":\"LinearScale\"},{\"attributes\":{},\"id\":\"1007\",\"type\":\"DataRange1d\"},{\"attributes\":{},\"id\":\"1218\",\"type\":\"AllLabels\"},{\"attributes\":{},\"id\":\"1219\",\"type\":\"BasicTickFormatter\"},{\"attributes\":{},\"id\":\"1009\",\"type\":\"DataRange1d\"},{\"attributes\":{\"text\":\"q_loss\"},\"id\":\"1038\",\"type\":\"Title\"},{\"attributes\":{},\"id\":\"1231\",\"type\":\"BasicTickFormatter\"},{\"attributes\":{\"text\":\"trueskill\"},\"id\":\"1137\",\"type\":\"Title\"},{\"attributes\":{},\"id\":\"1023\",\"type\":\"PanTool\"},{\"attributes\":{},\"id\":\"1236\",\"type\":\"AllLabels\"},{\"attributes\":{},\"id\":\"1123\",\"type\":\"WheelZoomTool\"},{\"attributes\":{},\"id\":\"1237\",\"type\":\"BasicTickFormatter\"},{\"attributes\":{},\"id\":\"1011\",\"type\":\"LinearScale\"},{\"attributes\":{},\"id\":\"1093\",\"type\":\"ResetTool\"},{\"attributes\":{},\"id\":\"1239\",\"type\":\"AllLabels\"},{\"attributes\":{\"text\":\"policy_loss\"},\"id\":\"1005\",\"type\":\"Title\"},{\"attributes\":{},\"id\":\"1240\",\"type\":\"BasicTickFormatter\"},{\"attributes\":{\"below\":[{\"id\":\"1048\"}],\"center\":[{\"id\":\"1051\"},{\"id\":\"1055\"}],\"height\":300,\"left\":[{\"id\":\"1052\"}],\"title\":{\"id\":\"1038\"},\"toolbar\":{\"id\":\"1063\"},\"width\":800,\"x_range\":{\"id\":\"1040\"},\"x_scale\":{\"id\":\"1044\"},\"y_range\":{\"id\":\"1042\"},\"y_scale\":{\"id\":\"1046\"}},\"id\":\"1037\",\"subtype\":\"Figure\",\"type\":\"Plot\"},{\"attributes\":{},\"id\":\"1242\",\"type\":\"AllLabels\"},{\"attributes\":{\"active_multi\":null,\"tools\":[{\"id\":\"1089\"},{\"id\":\"1090\"},{\"id\":\"1091\"},{\"id\":\"1092\"},{\"id\":\"1093\"},{\"id\":\"1094\"}]},\"id\":\"1096\",\"type\":\"Toolbar\"},{\"attributes\":{},\"id\":\"1243\",\"type\":\"BasicTickFormatter\"},{\"attributes\":{},\"id\":\"1172\",\"type\":\"DataRange1d\"},{\"attributes\":{},\"id\":\"1028\",\"type\":\"HelpTool\"},{\"attributes\":{},\"id\":\"1233\",\"type\":\"AllLabels\"},{\"attributes\":{\"active_multi\":null,\"tools\":[{\"id\":\"1023\"},{\"id\":\"1024\"},{\"id\":\"1025\"},{\"id\":\"1026\"},{\"id\":\"1027\"},{\"id\":\"1028\"}]},\"id\":\"1030\",\"type\":\"Toolbar\"},{\"attributes\":{\"below\":[{\"id\":\"1081\"}],\"center\":[{\"id\":\"1084\"},{\"id\":\"1088\"}],\"height\":300,\"left\":[{\"id\":\"1085\"}],\"title\":{\"id\":\"1071\"},\"toolbar\":{\"id\":\"1096\"},\"width\":800,\"x_range\":{\"id\":\"1073\"},\"x_scale\":{\"id\":\"1077\"},\"y_range\":{\"id\":\"1075\"},\"y_scale\":{\"id\":\"1079\"}},\"id\":\"1070\",\"subtype\":\"Figure\",\"type\":\"Plot\"},{\"attributes\":{},\"id\":\"1020\",\"type\":\"BasicTicker\"},{\"attributes\":{},\"id\":\"1016\",\"type\":\"BasicTicker\"},{\"attributes\":{},\"id\":\"1139\",\"type\":\"DataRange1d\"},{\"attributes\":{\"formatter\":{\"id\":\"1243\"},\"major_label_policy\":{\"id\":\"1242\"},\"ticker\":{\"id\":\"1181\"}},\"id\":\"1180\",\"type\":\"LinearAxis\"},{\"attributes\":{},\"id\":\"1110\",\"type\":\"LinearScale\"},{\"attributes\":{\"axis\":{\"id\":\"1015\"},\"ticker\":null},\"id\":\"1018\",\"type\":\"Grid\"},{\"attributes\":{},\"id\":\"1013\",\"type\":\"LinearScale\"},{\"attributes\":{},\"id\":\"1040\",\"type\":\"DataRange1d\"},{\"attributes\":{\"bottom_units\":\"screen\",\"fill_alpha\":0.5,\"fill_color\":\"lightgrey\",\"left_units\":\"screen\",\"level\":\"overlay\",\"line_alpha\":1.0,\"line_color\":\"black\",\"line_dash\":[4,4],\"line_width\":2,\"right_units\":\"screen\",\"syncable\":false,\"top_units\":\"screen\"},\"id\":\"1095\",\"type\":\"BoxAnnotation\"},{\"attributes\":{},\"id\":\"1119\",\"type\":\"BasicTicker\"},{\"attributes\":{\"below\":[{\"id\":\"1015\"}],\"center\":[{\"id\":\"1018\"},{\"id\":\"1022\"}],\"height\":300,\"left\":[{\"id\":\"1019\"}],\"title\":{\"id\":\"1005\"},\"toolbar\":{\"id\":\"1030\"},\"width\":800,\"x_range\":{\"id\":\"1007\"},\"x_scale\":{\"id\":\"1011\"},\"y_range\":{\"id\":\"1009\"},\"y_scale\":{\"id\":\"1013\"}},\"id\":\"1004\",\"subtype\":\"Figure\",\"type\":\"Plot\"},{\"attributes\":{},\"id\":\"1024\",\"type\":\"WheelZoomTool\"},{\"attributes\":{},\"id\":\"1125\",\"type\":\"SaveTool\"},{\"attributes\":{\"axis\":{\"id\":\"1118\"},\"dimension\":1,\"ticker\":null},\"id\":\"1121\",\"type\":\"Grid\"},{\"attributes\":{\"overlay\":{\"id\":\"1128\"}},\"id\":\"1124\",\"type\":\"BoxZoomTool\"},{\"attributes\":{\"axis\":{\"id\":\"1019\"},\"dimension\":1,\"ticker\":null},\"id\":\"1022\",\"type\":\"Grid\"},{\"attributes\":{},\"id\":\"1181\",\"type\":\"BasicTicker\"},{\"attributes\":{},\"id\":\"1122\",\"type\":\"PanTool\"},{\"attributes\":{\"text\":\"entropy\"},\"id\":\"1170\",\"type\":\"Title\"}],\"root_ids\":[\"1202\"]},\"title\":\"Bokeh Application\",\"version\":\"2.3.1\"}};\n",
       "  var render_items = [{\"docid\":\"e332d0c9-2cf3-4963-a516-8ac88c6bc465\",\"notebook_comms_target\":\"1251\",\"root_ids\":[\"1202\"],\"roots\":{\"1202\":\"7184ce74-8bad-4066-a8e3-1c8a280e48da\"}}];\n",
       "  root.Bokeh.embed.embed_items_notebook(docs_json, render_items);\n",
       "\n",
       "  }\n",
       "  if (root.Bokeh !== undefined) {\n",
       "    embed_document(root);\n",
       "  } else {\n",
       "    var attempts = 0;\n",
       "    var timer = setInterval(function(root) {\n",
       "      if (root.Bokeh !== undefined) {\n",
       "        clearInterval(timer);\n",
       "        embed_document(root);\n",
       "      } else {\n",
       "        attempts++;\n",
       "        if (attempts > 100) {\n",
       "          clearInterval(timer);\n",
       "          console.log(\"Bokeh: ERROR: Unable to run BokehJS code because BokehJS library is missing\");\n",
       "        }\n",
       "      }\n",
       "    }, 10, root)\n",
       "  }\n",
       "})(window);"
      ],
      "application/vnd.bokehjs_exec.v0+json": ""
     },
     "metadata": {
      "application/vnd.bokehjs_exec.v0+json": {
       "id": "1202"
      }
     },
     "output_type": "display_data"
    }
   ],
   "source": [
    "vis = VisDashboard([\n",
    "    LineFigure('policy_loss'),\n",
    "    LineFigure('q_loss'),\n",
    "    LineFigure('v_loss'),\n",
    "    LineFigure('G'),\n",
    "    LineFigure('trueskill'),\n",
    "    LineFigure('entropy')\n",
    "])\n",
    "vis.show()"
   ]
  },
  {
   "cell_type": "code",
   "execution_count": 34,
   "metadata": {
    "ExecuteTime": {
     "end_time": "2021-05-10T21:19:38.473700Z",
     "start_time": "2021-05-10T21:19:38.471079Z"
    }
   },
   "outputs": [],
   "source": [
    "policy_opt = optax.adam(3e-7)\n",
    "q_opt = optax.adam(3e-3)\n",
    "v_opt = optax.adam(3e-3)"
   ]
  },
  {
   "cell_type": "code",
   "execution_count": 35,
   "metadata": {
    "ExecuteTime": {
     "end_time": "2021-05-10T21:19:38.698219Z",
     "start_time": "2021-05-10T21:19:38.475752Z"
    }
   },
   "outputs": [],
   "source": [
    "key, new_key, new_key_2 = jax.random.split(key, num=3)"
   ]
  },
  {
   "cell_type": "code",
   "execution_count": 36,
   "metadata": {
    "ExecuteTime": {
     "end_time": "2021-05-10T21:19:40.561585Z",
     "start_time": "2021-05-10T21:19:38.699954Z"
    }
   },
   "outputs": [],
   "source": [
    "agents = [\n",
    "    RandomPlayer(),\n",
    "    PolicyGradientPlayer(1, new_key)\n",
    "]"
   ]
  },
  {
   "cell_type": "code",
   "execution_count": 37,
   "metadata": {
    "ExecuteTime": {
     "end_time": "2021-05-10T21:19:40.565724Z",
     "start_time": "2021-05-10T21:19:40.562873Z"
    }
   },
   "outputs": [],
   "source": [
    "# agents = [\n",
    "#     PolicyGradientPlayer(0, new_key),\n",
    "#     RandomPlayer(),\n",
    "# ]"
   ]
  },
  {
   "cell_type": "code",
   "execution_count": 38,
   "metadata": {
    "ExecuteTime": {
     "end_time": "2021-05-10T21:19:40.570026Z",
     "start_time": "2021-05-10T21:19:40.567995Z"
    }
   },
   "outputs": [],
   "source": [
    "# agents = [\n",
    "#     PolicyGradientPlayer(0, new_key),\n",
    "#     PolicyGradientPlayer(1, new_key_2),\n",
    "# ]"
   ]
  },
  {
   "cell_type": "code",
   "execution_count": 40,
   "metadata": {
    "ExecuteTime": {
     "end_time": "2021-05-10T21:21:51.895859Z",
     "start_time": "2021-05-10T21:21:12.507913Z"
    },
    "scrolled": false
   },
   "outputs": [
    {
     "data": {
      "application/vnd.jupyter.widget-view+json": {
       "model_id": "8907f52e960a418d966c51f64d8668b4",
       "version_major": 2,
       "version_minor": 0
      },
      "text/plain": [
       "  0%|          | 0/1000 [00:00<?, ?it/s]"
      ]
     },
     "metadata": {},
     "output_type": "display_data"
    }
   ],
   "source": [
    "# vis.saver.reset()\n",
    "num_games = 1000\n",
    "wins = {0: 0, 1: 0, 'drawn': 0}\n",
    "for i in tqdm(range(num_games)):\n",
    "    state = game.new_initial_state()\n",
    "    while not state.is_terminal():\n",
    "        player_id = state.current_player()\n",
    "        agent = agents[player_id]\n",
    "        action = agent.step(state)\n",
    "        state.apply_action(action)\n",
    "    for agent in agents:\n",
    "        agent.step(state)\n",
    "        \n",
    "    drawn = False\n",
    "    if state.rewards()[0] > state.rewards()[1]:\n",
    "        winner, loser = 0, 1\n",
    "        wins[winner] += 1\n",
    "    elif state.rewards()[0] < state.rewards()[1]:\n",
    "        winner, loser = 1, 0\n",
    "        wins[winner] += 1\n",
    "    else:\n",
    "        winner, loser = 0, 1\n",
    "        drawn = True\n",
    "        wins['drawn'] += 1\n",
    "    \n",
    "    agents[winner].rating, agents[loser].rating = \\\n",
    "        trueskill.rate_1vs1(agents[winner].rating, agents[loser].rating, drawn=drawn)\n",
    "    \n",
    "    for agent in agents:\n",
    "        if isinstance(agent, PolicyGradientPlayer) and agent.info:\n",
    "            for fig_name, val in agent.info.items():\n",
    "                vis.saver.update({fig_name: {'pg': val}})\n",
    "    \n",
    "    vis.saver.update({\n",
    "        'trueskill': {\n",
    "            'agents[0]': agents[0].rating.mu,\n",
    "            'agents[1]': agents[1].rating.mu\n",
    "        }\n",
    "    })\n",
    "                \n",
    "    if i > 1 and i % 100 == 0:\n",
    "#         print(agents[0].rating.mu, agents[1].rating.mu)\n",
    "#         print(wins)\n",
    "#         print()\n",
    "        vis.push()\n",
    "        for agent in agents:\n",
    "            agent.rating = trueskill.Rating()\n",
    "        wins = {0: 0, 1: 0, 'drawn': 0}"
   ]
  },
  {
   "cell_type": "code",
   "execution_count": null,
   "metadata": {
    "ExecuteTime": {
     "end_time": "2021-05-10T21:21:06.027053Z",
     "start_time": "2021-05-10T21:19:38.017Z"
    },
    "scrolled": false
   },
   "outputs": [],
   "source": [
    "num_games = 20\n",
    "for i in tqdm(range(num_games)):\n",
    "    state = game.new_initial_state()\n",
    "    while not state.is_terminal():\n",
    "        print(state, '\\n')\n",
    "        player_id = state.current_player()\n",
    "        agent = agents[player_id]\n",
    "        print(player_id)\n",
    "        if isinstance(agent, PolicyGradientPlayer):\n",
    "            print('policy\\n', np.round(agent.get_action_probs(state).reshape(3, 3), 2))\n",
    "            q = np.round(agent.get_q_vals(state), 2)\n",
    "            v = np.round(agent.get_v(state), 2)\n",
    "            a = np.around(q - v, 2)\n",
    "            print('q\\n', q)\n",
    "            print('v\\n', v)\n",
    "            print('a\\n', a)\n",
    "        action = agent.step(state)\n",
    "#         if player_id == 0:\n",
    "#             print(np.round(agent.get_action_probs(state).reshape(3, 3), 2))\n",
    "#         print(np.round(agent.get_action_probs(state).reshape(3, 3), 2))\n",
    "        state.apply_action(action)\n",
    "    print(state, '\\n')"
   ]
  }
 ],
 "metadata": {
  "kernelspec": {
   "display_name": "rl_playground_jax",
   "language": "python",
   "name": "rl_playground_jax"
  },
  "language_info": {
   "codemirror_mode": {
    "name": "ipython",
    "version": 3
   },
   "file_extension": ".py",
   "mimetype": "text/x-python",
   "name": "python",
   "nbconvert_exporter": "python",
   "pygments_lexer": "ipython3",
   "version": "3.7.4"
  },
  "varInspector": {
   "cols": {
    "lenName": 16,
    "lenType": 16,
    "lenVar": 40
   },
   "kernels_config": {
    "python": {
     "delete_cmd_postfix": "",
     "delete_cmd_prefix": "del ",
     "library": "var_list.py",
     "varRefreshCmd": "print(var_dic_list())"
    },
    "r": {
     "delete_cmd_postfix": ") ",
     "delete_cmd_prefix": "rm(",
     "library": "var_list.r",
     "varRefreshCmd": "cat(var_dic_list()) "
    }
   },
   "types_to_exclude": [
    "module",
    "function",
    "builtin_function_or_method",
    "instance",
    "_Feature"
   ],
   "window_display": false
  }
 },
 "nbformat": 4,
 "nbformat_minor": 4
}
