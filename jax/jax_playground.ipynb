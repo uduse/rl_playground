{
 "cells": [
  {
   "cell_type": "code",
   "execution_count": 712,
   "metadata": {
    "ExecuteTime": {
     "end_time": "2021-04-11T19:31:33.303594Z",
     "start_time": "2021-04-11T19:31:33.300523Z"
    }
   },
   "outputs": [],
   "source": [
    "import jax\n",
    "import jax.numpy as jnp\n",
    "from jax import grad, jit, vmap, value_and_grad\n",
    "from jax.experimental import optimizers"
   ]
  },
  {
   "cell_type": "markdown",
   "metadata": {
    "heading_collapsed": true
   },
   "source": [
    "## Use JIT to make things faster"
   ]
  },
  {
   "cell_type": "code",
   "execution_count": 43,
   "metadata": {
    "ExecuteTime": {
     "end_time": "2021-04-10T17:25:22.178416Z",
     "start_time": "2021-04-10T17:25:22.175631Z"
    },
    "hidden": true
   },
   "outputs": [],
   "source": [
    "def sigmoid(x):\n",
    "    return jnp.exp(x) / (1 + jnp.exp(-x))"
   ]
  },
  {
   "cell_type": "code",
   "execution_count": 44,
   "metadata": {
    "ExecuteTime": {
     "end_time": "2021-04-10T17:25:22.327784Z",
     "start_time": "2021-04-10T17:25:22.323769Z"
    },
    "hidden": true
   },
   "outputs": [],
   "source": [
    "x = jnp.ones((1000, 1000))"
   ]
  },
  {
   "cell_type": "code",
   "execution_count": 49,
   "metadata": {
    "ExecuteTime": {
     "end_time": "2021-04-10T17:26:38.514312Z",
     "start_time": "2021-04-10T17:26:35.972022Z"
    },
    "hidden": true
   },
   "outputs": [
    {
     "name": "stdout",
     "output_type": "stream",
     "text": [
      "2.54 ms ± 144 µs per loop (mean ± std. dev. of 100 runs, 10 loops each)\n"
     ]
    }
   ],
   "source": [
    "%timeit -n 10 -r 100 sigmoid(x).block_until_ready()"
   ]
  },
  {
   "cell_type": "code",
   "execution_count": null,
   "metadata": {
    "ExecuteTime": {
     "end_time": "2021-04-10T17:28:04.264873Z",
     "start_time": "2021-04-10T17:28:03.635271Z"
    },
    "hidden": true
   },
   "outputs": [],
   "source": [
    "jitted_sigmoid = jit(sigmoid)"
   ]
  },
  {
   "cell_type": "code",
   "execution_count": 52,
   "metadata": {
    "ExecuteTime": {
     "end_time": "2021-04-10T17:28:09.885158Z",
     "start_time": "2021-04-10T17:28:09.269412Z"
    },
    "hidden": true
   },
   "outputs": [
    {
     "name": "stdout",
     "output_type": "stream",
     "text": [
      "611 µs ± 113 µs per loop (mean ± std. dev. of 100 runs, 10 loops each)\n"
     ]
    }
   ],
   "source": [
    "%timeit -n 10 -r 100 jitted_sigmoid(x).block_until_ready()"
   ]
  },
  {
   "cell_type": "markdown",
   "metadata": {
    "hidden": true
   },
   "source": [
    "This is ~5 times speedup!"
   ]
  },
  {
   "cell_type": "markdown",
   "metadata": {
    "heading_collapsed": true
   },
   "source": [
    "## vmap"
   ]
  },
  {
   "cell_type": "code",
   "execution_count": 72,
   "metadata": {
    "ExecuteTime": {
     "end_time": "2021-04-10T19:26:24.366622Z",
     "start_time": "2021-04-10T19:26:24.135010Z"
    },
    "hidden": true
   },
   "outputs": [],
   "source": [
    "key = jax.random.PRNGKey(618)\n",
    "x = random.normal(key, (30,))\n",
    "batch_x = random.normal(key, (20, 30))\n",
    "W = random.normal(key, (50, 30))\n",
    "\n",
    "def forward(x, W):\n",
    "    return x @ W.T"
   ]
  },
  {
   "cell_type": "code",
   "execution_count": 80,
   "metadata": {
    "ExecuteTime": {
     "end_time": "2021-04-10T19:29:01.196504Z",
     "start_time": "2021-04-10T19:29:00.860179Z"
    },
    "hidden": true
   },
   "outputs": [
    {
     "name": "stdout",
     "output_type": "stream",
     "text": [
      "332 µs ± 51.2 µs per loop (mean ± std. dev. of 10 runs, 100 loops each)\n"
     ]
    }
   ],
   "source": [
    "%timeit -n 100 -r 10 forward(x, W).block_until_ready()"
   ]
  },
  {
   "cell_type": "code",
   "execution_count": 115,
   "metadata": {
    "ExecuteTime": {
     "end_time": "2021-04-10T19:59:49.954184Z",
     "start_time": "2021-04-10T19:59:49.951426Z"
    },
    "hidden": true
   },
   "outputs": [],
   "source": [
    "@jit\n",
    "def forward_jit(x, W):\n",
    "    return forward(x, W)"
   ]
  },
  {
   "cell_type": "code",
   "execution_count": 116,
   "metadata": {
    "ExecuteTime": {
     "end_time": "2021-04-10T19:59:50.235480Z",
     "start_time": "2021-04-10T19:59:50.136870Z"
    },
    "hidden": true
   },
   "outputs": [
    {
     "name": "stdout",
     "output_type": "stream",
     "text": [
      "The slowest run took 11.45 times longer than the fastest. This could mean that an intermediate result is being cached.\n",
      "94.3 µs ± 133 µs per loop (mean ± std. dev. of 10 runs, 100 loops each)\n"
     ]
    }
   ],
   "source": [
    "%timeit -n 100 -r 10 forward_jit(x, W).block_until_ready()"
   ]
  },
  {
   "cell_type": "code",
   "execution_count": 141,
   "metadata": {
    "ExecuteTime": {
     "end_time": "2021-04-10T20:09:29.436357Z",
     "start_time": "2021-04-10T20:09:29.431228Z"
    },
    "hidden": true
   },
   "outputs": [],
   "source": [
    "def forward(x, W):\n",
    "    return x @ W.T\n",
    "\n",
    "def loop_forward(batch_x, W):\n",
    "    return jnp.stack([forward(x, W) for v in batch_x])\n",
    "\n",
    "def batch_forward(batch_x, W):\n",
    "    return batch_x @ W.T\n",
    "\n",
    "vmap_forward = vmap(forward, in_axes=(0, None))\n",
    "\n",
    "loop_forward_jit = jit(loop_forward)\n",
    "batch_forward_jit = jit(batch_forward)\n",
    "vmap_forward_jit = jit(vmap_forward)"
   ]
  },
  {
   "cell_type": "code",
   "execution_count": 156,
   "metadata": {
    "ExecuteTime": {
     "end_time": "2021-04-10T20:13:43.389528Z",
     "start_time": "2021-04-10T20:13:42.282106Z"
    },
    "hidden": true
   },
   "outputs": [
    {
     "name": "stdout",
     "output_type": "stream",
     "text": [
      "9.49 ms ± 771 µs per loop (mean ± std. dev. of 10 runs, 10 loops each)\n",
      "36.7 µs ± 10.8 µs per loop (mean ± std. dev. of 10 runs, 10 loops each)\n",
      "305 µs ± 19.6 µs per loop (mean ± std. dev. of 10 runs, 10 loops each)\n",
      "40.2 µs ± 10.5 µs per loop (mean ± std. dev. of 10 runs, 10 loops each)\n",
      "968 µs ± 132 µs per loop (mean ± std. dev. of 10 runs, 10 loops each)\n",
      "55.2 µs ± 15.8 µs per loop (mean ± std. dev. of 10 runs, 10 loops each)\n"
     ]
    }
   ],
   "source": [
    "%timeit -n 10 -r 10 loop_forward(batch_x, W).block_until_ready()\n",
    "%timeit -n 10 -r 10 loop_forward_jit(batch_x, W).block_until_ready()\n",
    "%timeit -n 10 -r 10 batch_forward(batch_x, W).block_until_ready()\n",
    "%timeit -n 10 -r 10 batch_forward_jit(batch_x, W).block_until_ready()\n",
    "%timeit -n 10 -r 10 vmap_forward(batch_x, W).block_until_ready()\n",
    "%timeit -n 10 -r 10 vmap_forward_jit(batch_x, W).block_until_ready()"
   ]
  },
  {
   "cell_type": "markdown",
   "metadata": {
    "hidden": true
   },
   "source": [
    "Only slightly slower than the batched version."
   ]
  },
  {
   "cell_type": "markdown",
   "metadata": {
    "ExecuteTime": {
     "end_time": "2021-04-10T17:42:17.235206Z",
     "start_time": "2021-04-10T17:42:17.232844Z"
    },
    "heading_collapsed": true
   },
   "source": [
    "## Simple Prediction "
   ]
  },
  {
   "cell_type": "code",
   "execution_count": 297,
   "metadata": {
    "ExecuteTime": {
     "end_time": "2021-04-10T23:10:01.366946Z",
     "start_time": "2021-04-10T23:10:01.358083Z"
    },
    "hidden": true
   },
   "outputs": [
    {
     "data": {
      "text/html": [
       "\n",
       "    <div class=\"bk-root\">\n",
       "        <a href=\"https://bokeh.org\" target=\"_blank\" class=\"bk-logo bk-logo-small bk-logo-notebook\"></a>\n",
       "        <span id=\"91380\">Loading BokehJS ...</span>\n",
       "    </div>"
      ]
     },
     "metadata": {},
     "output_type": "display_data"
    },
    {
     "data": {
      "application/javascript": [
       "\n",
       "(function(root) {\n",
       "  function now() {\n",
       "    return new Date();\n",
       "  }\n",
       "\n",
       "  var force = true;\n",
       "\n",
       "  if (typeof root._bokeh_onload_callbacks === \"undefined\" || force === true) {\n",
       "    root._bokeh_onload_callbacks = [];\n",
       "    root._bokeh_is_loading = undefined;\n",
       "  }\n",
       "\n",
       "  var JS_MIME_TYPE = 'application/javascript';\n",
       "  var HTML_MIME_TYPE = 'text/html';\n",
       "  var EXEC_MIME_TYPE = 'application/vnd.bokehjs_exec.v0+json';\n",
       "  var CLASS_NAME = 'output_bokeh rendered_html';\n",
       "\n",
       "  /**\n",
       "   * Render data to the DOM node\n",
       "   */\n",
       "  function render(props, node) {\n",
       "    var script = document.createElement(\"script\");\n",
       "    node.appendChild(script);\n",
       "  }\n",
       "\n",
       "  /**\n",
       "   * Handle when an output is cleared or removed\n",
       "   */\n",
       "  function handleClearOutput(event, handle) {\n",
       "    var cell = handle.cell;\n",
       "\n",
       "    var id = cell.output_area._bokeh_element_id;\n",
       "    var server_id = cell.output_area._bokeh_server_id;\n",
       "    // Clean up Bokeh references\n",
       "    if (id != null && id in Bokeh.index) {\n",
       "      Bokeh.index[id].model.document.clear();\n",
       "      delete Bokeh.index[id];\n",
       "    }\n",
       "\n",
       "    if (server_id !== undefined) {\n",
       "      // Clean up Bokeh references\n",
       "      var cmd = \"from bokeh.io.state import curstate; print(curstate().uuid_to_server['\" + server_id + \"'].get_sessions()[0].document.roots[0]._id)\";\n",
       "      cell.notebook.kernel.execute(cmd, {\n",
       "        iopub: {\n",
       "          output: function(msg) {\n",
       "            var id = msg.content.text.trim();\n",
       "            if (id in Bokeh.index) {\n",
       "              Bokeh.index[id].model.document.clear();\n",
       "              delete Bokeh.index[id];\n",
       "            }\n",
       "          }\n",
       "        }\n",
       "      });\n",
       "      // Destroy server and session\n",
       "      var cmd = \"import bokeh.io.notebook as ion; ion.destroy_server('\" + server_id + \"')\";\n",
       "      cell.notebook.kernel.execute(cmd);\n",
       "    }\n",
       "  }\n",
       "\n",
       "  /**\n",
       "   * Handle when a new output is added\n",
       "   */\n",
       "  function handleAddOutput(event, handle) {\n",
       "    var output_area = handle.output_area;\n",
       "    var output = handle.output;\n",
       "\n",
       "    // limit handleAddOutput to display_data with EXEC_MIME_TYPE content only\n",
       "    if ((output.output_type != \"display_data\") || (!Object.prototype.hasOwnProperty.call(output.data, EXEC_MIME_TYPE))) {\n",
       "      return\n",
       "    }\n",
       "\n",
       "    var toinsert = output_area.element.find(\".\" + CLASS_NAME.split(' ')[0]);\n",
       "\n",
       "    if (output.metadata[EXEC_MIME_TYPE][\"id\"] !== undefined) {\n",
       "      toinsert[toinsert.length - 1].firstChild.textContent = output.data[JS_MIME_TYPE];\n",
       "      // store reference to embed id on output_area\n",
       "      output_area._bokeh_element_id = output.metadata[EXEC_MIME_TYPE][\"id\"];\n",
       "    }\n",
       "    if (output.metadata[EXEC_MIME_TYPE][\"server_id\"] !== undefined) {\n",
       "      var bk_div = document.createElement(\"div\");\n",
       "      bk_div.innerHTML = output.data[HTML_MIME_TYPE];\n",
       "      var script_attrs = bk_div.children[0].attributes;\n",
       "      for (var i = 0; i < script_attrs.length; i++) {\n",
       "        toinsert[toinsert.length - 1].firstChild.setAttribute(script_attrs[i].name, script_attrs[i].value);\n",
       "        toinsert[toinsert.length - 1].firstChild.textContent = bk_div.children[0].textContent\n",
       "      }\n",
       "      // store reference to server id on output_area\n",
       "      output_area._bokeh_server_id = output.metadata[EXEC_MIME_TYPE][\"server_id\"];\n",
       "    }\n",
       "  }\n",
       "\n",
       "  function register_renderer(events, OutputArea) {\n",
       "\n",
       "    function append_mime(data, metadata, element) {\n",
       "      // create a DOM node to render to\n",
       "      var toinsert = this.create_output_subarea(\n",
       "        metadata,\n",
       "        CLASS_NAME,\n",
       "        EXEC_MIME_TYPE\n",
       "      );\n",
       "      this.keyboard_manager.register_events(toinsert);\n",
       "      // Render to node\n",
       "      var props = {data: data, metadata: metadata[EXEC_MIME_TYPE]};\n",
       "      render(props, toinsert[toinsert.length - 1]);\n",
       "      element.append(toinsert);\n",
       "      return toinsert\n",
       "    }\n",
       "\n",
       "    /* Handle when an output is cleared or removed */\n",
       "    events.on('clear_output.CodeCell', handleClearOutput);\n",
       "    events.on('delete.Cell', handleClearOutput);\n",
       "\n",
       "    /* Handle when a new output is added */\n",
       "    events.on('output_added.OutputArea', handleAddOutput);\n",
       "\n",
       "    /**\n",
       "     * Register the mime type and append_mime function with output_area\n",
       "     */\n",
       "    OutputArea.prototype.register_mime_type(EXEC_MIME_TYPE, append_mime, {\n",
       "      /* Is output safe? */\n",
       "      safe: true,\n",
       "      /* Index of renderer in `output_area.display_order` */\n",
       "      index: 0\n",
       "    });\n",
       "  }\n",
       "\n",
       "  // register the mime type if in Jupyter Notebook environment and previously unregistered\n",
       "  if (root.Jupyter !== undefined) {\n",
       "    var events = require('base/js/events');\n",
       "    var OutputArea = require('notebook/js/outputarea').OutputArea;\n",
       "\n",
       "    if (OutputArea.prototype.mime_types().indexOf(EXEC_MIME_TYPE) == -1) {\n",
       "      register_renderer(events, OutputArea);\n",
       "    }\n",
       "  }\n",
       "\n",
       "  \n",
       "  if (typeof (root._bokeh_timeout) === \"undefined\" || force === true) {\n",
       "    root._bokeh_timeout = Date.now() + 5000;\n",
       "    root._bokeh_failed_load = false;\n",
       "  }\n",
       "\n",
       "  var NB_LOAD_WARNING = {'data': {'text/html':\n",
       "     \"<div style='background-color: #fdd'>\\n\"+\n",
       "     \"<p>\\n\"+\n",
       "     \"BokehJS does not appear to have successfully loaded. If loading BokehJS from CDN, this \\n\"+\n",
       "     \"may be due to a slow or bad network connection. Possible fixes:\\n\"+\n",
       "     \"</p>\\n\"+\n",
       "     \"<ul>\\n\"+\n",
       "     \"<li>re-rerun `output_notebook()` to attempt to load from CDN again, or</li>\\n\"+\n",
       "     \"<li>use INLINE resources instead, as so:</li>\\n\"+\n",
       "     \"</ul>\\n\"+\n",
       "     \"<code>\\n\"+\n",
       "     \"from bokeh.resources import INLINE\\n\"+\n",
       "     \"output_notebook(resources=INLINE)\\n\"+\n",
       "     \"</code>\\n\"+\n",
       "     \"</div>\"}};\n",
       "\n",
       "  function display_loaded() {\n",
       "    var el = document.getElementById(\"91380\");\n",
       "    if (el != null) {\n",
       "      el.textContent = \"BokehJS is loading...\";\n",
       "    }\n",
       "    if (root.Bokeh !== undefined) {\n",
       "      if (el != null) {\n",
       "        el.textContent = \"BokehJS \" + root.Bokeh.version + \" successfully loaded.\";\n",
       "      }\n",
       "    } else if (Date.now() < root._bokeh_timeout) {\n",
       "      setTimeout(display_loaded, 100)\n",
       "    }\n",
       "  }\n",
       "\n",
       "\n",
       "  function run_callbacks() {\n",
       "    try {\n",
       "      root._bokeh_onload_callbacks.forEach(function(callback) {\n",
       "        if (callback != null)\n",
       "          callback();\n",
       "      });\n",
       "    } finally {\n",
       "      delete root._bokeh_onload_callbacks\n",
       "    }\n",
       "    console.debug(\"Bokeh: all callbacks have finished\");\n",
       "  }\n",
       "\n",
       "  function load_libs(css_urls, js_urls, callback) {\n",
       "    if (css_urls == null) css_urls = [];\n",
       "    if (js_urls == null) js_urls = [];\n",
       "\n",
       "    root._bokeh_onload_callbacks.push(callback);\n",
       "    if (root._bokeh_is_loading > 0) {\n",
       "      console.debug(\"Bokeh: BokehJS is being loaded, scheduling callback at\", now());\n",
       "      return null;\n",
       "    }\n",
       "    if (js_urls == null || js_urls.length === 0) {\n",
       "      run_callbacks();\n",
       "      return null;\n",
       "    }\n",
       "    console.debug(\"Bokeh: BokehJS not loaded, scheduling load and callback at\", now());\n",
       "    root._bokeh_is_loading = css_urls.length + js_urls.length;\n",
       "\n",
       "    function on_load() {\n",
       "      root._bokeh_is_loading--;\n",
       "      if (root._bokeh_is_loading === 0) {\n",
       "        console.debug(\"Bokeh: all BokehJS libraries/stylesheets loaded\");\n",
       "        run_callbacks()\n",
       "      }\n",
       "    }\n",
       "\n",
       "    function on_error(url) {\n",
       "      console.error(\"failed to load \" + url);\n",
       "    }\n",
       "\n",
       "    for (let i = 0; i < css_urls.length; i++) {\n",
       "      const url = css_urls[i];\n",
       "      const element = document.createElement(\"link\");\n",
       "      element.onload = on_load;\n",
       "      element.onerror = on_error.bind(null, url);\n",
       "      element.rel = \"stylesheet\";\n",
       "      element.type = \"text/css\";\n",
       "      element.href = url;\n",
       "      console.debug(\"Bokeh: injecting link tag for BokehJS stylesheet: \", url);\n",
       "      document.body.appendChild(element);\n",
       "    }\n",
       "\n",
       "    const hashes = {\"https://cdn.bokeh.org/bokeh/release/bokeh-2.3.1.min.js\": \"YF85VygJKMVnHE+lLv2AM93Vbstr0yo2TbIu5v8se5Rq3UQAUmcuh4aaJwNlpKwa\", \"https://cdn.bokeh.org/bokeh/release/bokeh-widgets-2.3.1.min.js\": \"KKuas3gevv3PvrlkyCMzffFeaMq5we/a2QsP5AUoS3mJ0jmaCL7jirFJN3GoE/lM\", \"https://cdn.bokeh.org/bokeh/release/bokeh-tables-2.3.1.min.js\": \"MK/uFc3YT18pkvvXRl66tTHjP0/dxoSH2e/eiNMFIguKlun2+WVqaPTWmUy/zvh4\"};\n",
       "\n",
       "    for (let i = 0; i < js_urls.length; i++) {\n",
       "      const url = js_urls[i];\n",
       "      const element = document.createElement('script');\n",
       "      element.onload = on_load;\n",
       "      element.onerror = on_error.bind(null, url);\n",
       "      element.async = false;\n",
       "      element.src = url;\n",
       "      if (url in hashes) {\n",
       "        element.crossOrigin = \"anonymous\";\n",
       "        element.integrity = \"sha384-\" + hashes[url];\n",
       "      }\n",
       "      console.debug(\"Bokeh: injecting script tag for BokehJS library: \", url);\n",
       "      document.head.appendChild(element);\n",
       "    }\n",
       "  };\n",
       "\n",
       "  function inject_raw_css(css) {\n",
       "    const element = document.createElement(\"style\");\n",
       "    element.appendChild(document.createTextNode(css));\n",
       "    document.body.appendChild(element);\n",
       "  }\n",
       "\n",
       "  \n",
       "  var js_urls = [\"https://cdn.bokeh.org/bokeh/release/bokeh-2.3.1.min.js\", \"https://cdn.bokeh.org/bokeh/release/bokeh-widgets-2.3.1.min.js\", \"https://cdn.bokeh.org/bokeh/release/bokeh-tables-2.3.1.min.js\"];\n",
       "  var css_urls = [];\n",
       "  \n",
       "\n",
       "  var inline_js = [\n",
       "    function(Bokeh) {\n",
       "      Bokeh.set_log_level(\"info\");\n",
       "    },\n",
       "    function(Bokeh) {\n",
       "    \n",
       "    \n",
       "    }\n",
       "  ];\n",
       "\n",
       "  function run_inline_js() {\n",
       "    \n",
       "    if (root.Bokeh !== undefined || force === true) {\n",
       "      \n",
       "    for (var i = 0; i < inline_js.length; i++) {\n",
       "      inline_js[i].call(root, root.Bokeh);\n",
       "    }\n",
       "    if (force === true) {\n",
       "        display_loaded();\n",
       "      }} else if (Date.now() < root._bokeh_timeout) {\n",
       "      setTimeout(run_inline_js, 100);\n",
       "    } else if (!root._bokeh_failed_load) {\n",
       "      console.log(\"Bokeh: BokehJS failed to load within specified timeout.\");\n",
       "      root._bokeh_failed_load = true;\n",
       "    } else if (force !== true) {\n",
       "      var cell = $(document.getElementById(\"91380\")).parents('.cell').data().cell;\n",
       "      cell.output_area.append_execute_result(NB_LOAD_WARNING)\n",
       "    }\n",
       "\n",
       "  }\n",
       "\n",
       "  if (root._bokeh_is_loading === 0) {\n",
       "    console.debug(\"Bokeh: BokehJS loaded, going straight to plotting\");\n",
       "    run_inline_js();\n",
       "  } else {\n",
       "    load_libs(css_urls, js_urls, function() {\n",
       "      console.debug(\"Bokeh: BokehJS plotting callback run at\", now());\n",
       "      run_inline_js();\n",
       "    });\n",
       "  }\n",
       "}(window));"
      ],
      "application/vnd.bokehjs_load.v0+json": "\n(function(root) {\n  function now() {\n    return new Date();\n  }\n\n  var force = true;\n\n  if (typeof root._bokeh_onload_callbacks === \"undefined\" || force === true) {\n    root._bokeh_onload_callbacks = [];\n    root._bokeh_is_loading = undefined;\n  }\n\n  \n\n  \n  if (typeof (root._bokeh_timeout) === \"undefined\" || force === true) {\n    root._bokeh_timeout = Date.now() + 5000;\n    root._bokeh_failed_load = false;\n  }\n\n  var NB_LOAD_WARNING = {'data': {'text/html':\n     \"<div style='background-color: #fdd'>\\n\"+\n     \"<p>\\n\"+\n     \"BokehJS does not appear to have successfully loaded. If loading BokehJS from CDN, this \\n\"+\n     \"may be due to a slow or bad network connection. Possible fixes:\\n\"+\n     \"</p>\\n\"+\n     \"<ul>\\n\"+\n     \"<li>re-rerun `output_notebook()` to attempt to load from CDN again, or</li>\\n\"+\n     \"<li>use INLINE resources instead, as so:</li>\\n\"+\n     \"</ul>\\n\"+\n     \"<code>\\n\"+\n     \"from bokeh.resources import INLINE\\n\"+\n     \"output_notebook(resources=INLINE)\\n\"+\n     \"</code>\\n\"+\n     \"</div>\"}};\n\n  function display_loaded() {\n    var el = document.getElementById(\"91380\");\n    if (el != null) {\n      el.textContent = \"BokehJS is loading...\";\n    }\n    if (root.Bokeh !== undefined) {\n      if (el != null) {\n        el.textContent = \"BokehJS \" + root.Bokeh.version + \" successfully loaded.\";\n      }\n    } else if (Date.now() < root._bokeh_timeout) {\n      setTimeout(display_loaded, 100)\n    }\n  }\n\n\n  function run_callbacks() {\n    try {\n      root._bokeh_onload_callbacks.forEach(function(callback) {\n        if (callback != null)\n          callback();\n      });\n    } finally {\n      delete root._bokeh_onload_callbacks\n    }\n    console.debug(\"Bokeh: all callbacks have finished\");\n  }\n\n  function load_libs(css_urls, js_urls, callback) {\n    if (css_urls == null) css_urls = [];\n    if (js_urls == null) js_urls = [];\n\n    root._bokeh_onload_callbacks.push(callback);\n    if (root._bokeh_is_loading > 0) {\n      console.debug(\"Bokeh: BokehJS is being loaded, scheduling callback at\", now());\n      return null;\n    }\n    if (js_urls == null || js_urls.length === 0) {\n      run_callbacks();\n      return null;\n    }\n    console.debug(\"Bokeh: BokehJS not loaded, scheduling load and callback at\", now());\n    root._bokeh_is_loading = css_urls.length + js_urls.length;\n\n    function on_load() {\n      root._bokeh_is_loading--;\n      if (root._bokeh_is_loading === 0) {\n        console.debug(\"Bokeh: all BokehJS libraries/stylesheets loaded\");\n        run_callbacks()\n      }\n    }\n\n    function on_error(url) {\n      console.error(\"failed to load \" + url);\n    }\n\n    for (let i = 0; i < css_urls.length; i++) {\n      const url = css_urls[i];\n      const element = document.createElement(\"link\");\n      element.onload = on_load;\n      element.onerror = on_error.bind(null, url);\n      element.rel = \"stylesheet\";\n      element.type = \"text/css\";\n      element.href = url;\n      console.debug(\"Bokeh: injecting link tag for BokehJS stylesheet: \", url);\n      document.body.appendChild(element);\n    }\n\n    const hashes = {\"https://cdn.bokeh.org/bokeh/release/bokeh-2.3.1.min.js\": \"YF85VygJKMVnHE+lLv2AM93Vbstr0yo2TbIu5v8se5Rq3UQAUmcuh4aaJwNlpKwa\", \"https://cdn.bokeh.org/bokeh/release/bokeh-widgets-2.3.1.min.js\": \"KKuas3gevv3PvrlkyCMzffFeaMq5we/a2QsP5AUoS3mJ0jmaCL7jirFJN3GoE/lM\", \"https://cdn.bokeh.org/bokeh/release/bokeh-tables-2.3.1.min.js\": \"MK/uFc3YT18pkvvXRl66tTHjP0/dxoSH2e/eiNMFIguKlun2+WVqaPTWmUy/zvh4\"};\n\n    for (let i = 0; i < js_urls.length; i++) {\n      const url = js_urls[i];\n      const element = document.createElement('script');\n      element.onload = on_load;\n      element.onerror = on_error.bind(null, url);\n      element.async = false;\n      element.src = url;\n      if (url in hashes) {\n        element.crossOrigin = \"anonymous\";\n        element.integrity = \"sha384-\" + hashes[url];\n      }\n      console.debug(\"Bokeh: injecting script tag for BokehJS library: \", url);\n      document.head.appendChild(element);\n    }\n  };\n\n  function inject_raw_css(css) {\n    const element = document.createElement(\"style\");\n    element.appendChild(document.createTextNode(css));\n    document.body.appendChild(element);\n  }\n\n  \n  var js_urls = [\"https://cdn.bokeh.org/bokeh/release/bokeh-2.3.1.min.js\", \"https://cdn.bokeh.org/bokeh/release/bokeh-widgets-2.3.1.min.js\", \"https://cdn.bokeh.org/bokeh/release/bokeh-tables-2.3.1.min.js\"];\n  var css_urls = [];\n  \n\n  var inline_js = [\n    function(Bokeh) {\n      Bokeh.set_log_level(\"info\");\n    },\n    function(Bokeh) {\n    \n    \n    }\n  ];\n\n  function run_inline_js() {\n    \n    if (root.Bokeh !== undefined || force === true) {\n      \n    for (var i = 0; i < inline_js.length; i++) {\n      inline_js[i].call(root, root.Bokeh);\n    }\n    if (force === true) {\n        display_loaded();\n      }} else if (Date.now() < root._bokeh_timeout) {\n      setTimeout(run_inline_js, 100);\n    } else if (!root._bokeh_failed_load) {\n      console.log(\"Bokeh: BokehJS failed to load within specified timeout.\");\n      root._bokeh_failed_load = true;\n    } else if (force !== true) {\n      var cell = $(document.getElementById(\"91380\")).parents('.cell').data().cell;\n      cell.output_area.append_execute_result(NB_LOAD_WARNING)\n    }\n\n  }\n\n  if (root._bokeh_is_loading === 0) {\n    console.debug(\"Bokeh: BokehJS loaded, going straight to plotting\");\n    run_inline_js();\n  } else {\n    load_libs(css_urls, js_urls, function() {\n      console.debug(\"Bokeh: BokehJS plotting callback run at\", now());\n      run_inline_js();\n    });\n  }\n}(window));"
     },
     "metadata": {},
     "output_type": "display_data"
    }
   ],
   "source": [
    "import bokeh\n",
    "from bokeh.plotting import figure\n",
    "from bokeh.plotting import output_notebook\n",
    "from bokeh.plotting import show\n",
    "import numpy as np\n",
    "output_notebook()"
   ]
  },
  {
   "cell_type": "code",
   "execution_count": 298,
   "metadata": {
    "ExecuteTime": {
     "end_time": "2021-04-10T23:10:01.536363Z",
     "start_time": "2021-04-10T23:10:01.532257Z"
    },
    "hidden": true
   },
   "outputs": [],
   "source": [
    "n = 100\n",
    "dim_in = 1\n",
    "dim_out = 1\n",
    "xs = np.random.normal(size=(n, dim_in))\n",
    "noise = np.random.normal(scale=1, size=xs.shape)\n",
    "ys = xs * 3 - 1 + noise"
   ]
  },
  {
   "cell_type": "code",
   "execution_count": 299,
   "metadata": {
    "ExecuteTime": {
     "end_time": "2021-04-10T23:10:01.698540Z",
     "start_time": "2021-04-10T23:10:01.694831Z"
    },
    "hidden": true
   },
   "outputs": [],
   "source": [
    "def plot(xs, ys, ys_pred=None):\n",
    "    xs = xs.squeeze()\n",
    "    ys = ys.squeeze()\n",
    "    fig = figure(title='source data')\n",
    "    fig.circle(x=xs, y=ys)\n",
    "    if ys_pred is not None:\n",
    "        ys_pred = ys_pred.squeeze()\n",
    "        fig.line(x=xs, y=ys_pred)\n",
    "    show(fig)"
   ]
  },
  {
   "cell_type": "code",
   "execution_count": 300,
   "metadata": {
    "ExecuteTime": {
     "end_time": "2021-04-10T23:10:01.856702Z",
     "start_time": "2021-04-10T23:10:01.853764Z"
    },
    "hidden": true
   },
   "outputs": [],
   "source": [
    "def predict(x, A, b):\n",
    "    return x @ A.T + b"
   ]
  },
  {
   "cell_type": "code",
   "execution_count": 301,
   "metadata": {
    "ExecuteTime": {
     "end_time": "2021-04-10T23:10:02.059691Z",
     "start_time": "2021-04-10T23:10:02.056956Z"
    },
    "hidden": true
   },
   "outputs": [],
   "source": [
    "def loss(y_pred, y_true):\n",
    "    return np.mean((y_pred - y_true) ** 2)"
   ]
  },
  {
   "cell_type": "code",
   "execution_count": 302,
   "metadata": {
    "ExecuteTime": {
     "end_time": "2021-04-10T23:10:02.191434Z",
     "start_time": "2021-04-10T23:10:02.187249Z"
    },
    "hidden": true
   },
   "outputs": [],
   "source": [
    "@jit\n",
    "def forward(x, A, b, y_true):\n",
    "    y_pred = predict(x, A, b)\n",
    "    return loss(y_pred, y_true)"
   ]
  },
  {
   "cell_type": "code",
   "execution_count": 303,
   "metadata": {
    "ExecuteTime": {
     "end_time": "2021-04-10T23:10:02.499732Z",
     "start_time": "2021-04-10T23:10:02.496164Z"
    },
    "hidden": true
   },
   "outputs": [],
   "source": [
    "A = np.random.randn(dim_out, dim_in)\n",
    "b = np.random.randn(dim_out)\n",
    "take_grad = grad(forward, argnums=(1, 2))"
   ]
  },
  {
   "cell_type": "code",
   "execution_count": 304,
   "metadata": {
    "ExecuteTime": {
     "end_time": "2021-04-10T23:10:04.327925Z",
     "start_time": "2021-04-10T23:10:03.073609Z"
    },
    "hidden": true,
    "scrolled": false
   },
   "outputs": [
    {
     "data": {
      "text/html": [
       "\n",
       "\n",
       "\n",
       "\n",
       "\n",
       "\n",
       "  <div class=\"bk-root\" id=\"e63df953-7621-431d-bba6-ccb6bc65f89f\" data-root-id=\"91381\"></div>\n"
      ]
     },
     "metadata": {},
     "output_type": "display_data"
    },
    {
     "data": {
      "application/javascript": [
       "(function(root) {\n",
       "  function embed_document(root) {\n",
       "    \n",
       "  var docs_json = {\"6fac8bf4-2808-42b0-866b-924a43411fc1\":{\"defs\":[],\"roots\":{\"references\":[{\"attributes\":{\"below\":[{\"id\":\"91392\"}],\"center\":[{\"id\":\"91395\"},{\"id\":\"91399\"}],\"left\":[{\"id\":\"91396\"}],\"renderers\":[{\"id\":\"91417\"},{\"id\":\"91422\"}],\"title\":{\"id\":\"91382\"},\"toolbar\":{\"id\":\"91407\"},\"x_range\":{\"id\":\"91384\"},\"x_scale\":{\"id\":\"91388\"},\"y_range\":{\"id\":\"91386\"},\"y_scale\":{\"id\":\"91390\"}},\"id\":\"91381\",\"subtype\":\"Figure\",\"type\":\"Plot\"},{\"attributes\":{\"formatter\":{\"id\":\"92791\"},\"major_label_policy\":{\"id\":\"92790\"},\"ticker\":{\"id\":\"91393\"}},\"id\":\"91392\",\"type\":\"LinearAxis\"},{\"attributes\":{\"bottom_units\":\"screen\",\"fill_alpha\":0.5,\"fill_color\":\"lightgrey\",\"left_units\":\"screen\",\"level\":\"overlay\",\"line_alpha\":1.0,\"line_color\":\"black\",\"line_dash\":[4,4],\"line_width\":2,\"right_units\":\"screen\",\"syncable\":false,\"top_units\":\"screen\"},\"id\":\"91406\",\"type\":\"BoxAnnotation\"},{\"attributes\":{\"active_multi\":null,\"tools\":[{\"id\":\"91400\"},{\"id\":\"91401\"},{\"id\":\"91402\"},{\"id\":\"91403\"},{\"id\":\"91404\"},{\"id\":\"91405\"}]},\"id\":\"91407\",\"type\":\"Toolbar\"},{\"attributes\":{},\"id\":\"91400\",\"type\":\"PanTool\"},{\"attributes\":{},\"id\":\"91386\",\"type\":\"DataRange1d\"},{\"attributes\":{\"formatter\":{\"id\":\"92794\"},\"major_label_policy\":{\"id\":\"92793\"},\"ticker\":{\"id\":\"91397\"}},\"id\":\"91396\",\"type\":\"LinearAxis\"},{\"attributes\":{},\"id\":\"91401\",\"type\":\"WheelZoomTool\"},{\"attributes\":{\"source\":{\"id\":\"91414\"}},\"id\":\"91418\",\"type\":\"CDSView\"},{\"attributes\":{\"overlay\":{\"id\":\"91406\"}},\"id\":\"91402\",\"type\":\"BoxZoomTool\"},{\"attributes\":{\"data\":{\"x\":{\"__ndarray__\":\"AZAibDU33b+xGc2je8/FP+0QF0T1deC/zCMdf3ES2T+l6T3OFDzmv/Wi5e8NYfM/dhDUCVyAxr9ILPDhFYCtv/ckF+FtcvG/PjzN3yMO9T/c8K+803wBQM+sTDEu9M2/lueVod0z7L8/4uWHt0+3P+pWYNsFvAFAmEX8rx00/z9d7cxlzkerP0QAg5RzLf2/AjZg26dI3z+86vPTvjnjP8Veby2DS8G/oZ8WXatzyj8Ca+HjqG3RP5qx9ypWAQRAS4PWPgUA7b/8ikfvuI3qP/ATRy4+VeA/n4jN/jdixz8Cf4Nfm/fmP+ohHjSlK9g/UH3pPeSb+b+Fd4CR0IL0P5WNrFUFwOO/PMN56D5TBsBDRl6Ar2zhv0R3C5a45su/k5JiGcXI4j/plPldSJX0v+vI73kATOY/4bxpLP9p9j//1HnmDsHoPwyfw6s4t/O/qbx+1Z3tBMA0x2Vs9+H5P3o4Uxgz884/DWwZRMG97T+ET0jcTkXuv1PboMShEue/xQ30OhMN4L8aDjM/nr/0v22BzMUsvuG/TUOGGRJZ6b+qLWTQOpXQv9nLvsEOQ/G/Uh5UEwXw/D8X+xlbJo3bPzcOQbSMfOc/iylmZ4I7xb93OVRr3pHVvx7BOnUB2uy/qaIEPzRm/T8NBJxqIvHwPzOgeGZZLNY/cx+ieYfXy7//w0XiCtWWPzgWmAFm3fQ/XIZdOzOH8j9fctuuDFDqv8LJmVWLtMO/m91E3B+d2r+uctXs/eHgv8QloqKzrug/k/kUEJSL6j+PLjIznmf8v7M4PWD/c/M/ctRQ4Tdj5j82vTCN9i6xv2TOUpwB+te/87uY+7xk4j+w6TlsFNTnP83xIxrES+u/Ol3+QSo58L9c8UtCkOn3P75Ehed0dvq/NzYJ407L9z/DnUZNOIfkv9SCipK3Mu+/Mp04LjuAsb8Gdzls7KkFQMTYf3lNNNa/XKX6Syjg0D+92PTClE76vxAEgLaiRPS/KIbBOVSu7b+0V/uIc2DTP4zN8zuxpfg/9j/tgCc67T90hWb73+D5v36rGyxw5vM/oMZex9e+8T8=\",\"dtype\":\"float64\",\"order\":\"little\",\"shape\":[100]},\"y\":{\"__ndarray__\":\"ba+per6tD8Do3hBjxTz5v2f7wzw6fwTAroNS+qnK7T+8sVYJ7+UFwBOuvlzxDwdAMZ7LhzobAcBVVfJLcpn1v0wqwrAYlQ3APAmWB5p1FUBwkHK+xhYbQPxdOQBsZAfAa7b1asB9EcCTpe2vxpT5v9VFoVrdpRhAhUArutBsEUBHtuIkpPjjv8o1Inq1UxTAqejtDyXm3z80wZNpgKoAQC+aB3D1luu/ZWWQdURjBMC2sc3f01rIP5Fdt2NH6xpATA1K2b5CAcCIe0ZHsTr5P+iPWaHOza0//e0ygY298L8ICWl3TmbRv9ZXe8EVRPE/Fz9g7WQWEcAmHqTF4ikGQAi3DMCeUArAPlB0e/kOJ8BrOSj4FX70vwAqrkfhXMI/u9P0nn4G2j9eRnbyBHYOwEIFKOW+X+Q/aUcFv78s/D8UrqbhaVHqPwtFIK5M8w/AbwbE/adtI8Br+izJmpv+P3Km60yYZvC/qpjduufk8D9WCGUJwjIDwAdykEGtewzAFjp6GaFt47+eYwRdrxwXwP/RJ982iwDAm5mTLqK/CsBoG/0Cg2LzvzHRTcr1shHAoGIyGWkCFEDoe3ed+CrlP1fNpookkf0/J6Hk+38dAcB2/iAMehrtv9toBGMxIA/As5Bc9e3vEkBpmIV4HofyPxghaU+jGNa/k91z+9Hj9b8rJ1pfJGcEwKmBD6QecwZAxl8ONqCVCkD5S7hz2mQUwPOScNu2OP2/h/eevSyFBcBKMsUjVwwNwMw03GBNp/g/JPNEWfo52D+lthHkNrQawGVFNPMZmA1AoFZOb94Q/D/bdWZv7fDgv1juMkQoAvy/WYt29Kni0z820R/Md2bQP7BOzTCFkeG//kxkk+XrEMASWSYVnJUHQEBHYwRmLA7AQptBV2F0CkCyMrtph+n6vx0pivGRexPAYLsbz7g5yb/PxOuV6G4fQIhIuIAGKs+/o9moxlMX8D8eEyf7bV4TwE4CDW+6PgzAYf9YrCsqEMAy336fEGDwv/g8WhymJAhAlAKeZwp35j/ZRJzVmOIYwJJVUEGd7gxAc15fINXUBkA=\",\"dtype\":\"float64\",\"order\":\"little\",\"shape\":[100]}},\"selected\":{\"id\":\"92796\"},\"selection_policy\":{\"id\":\"92797\"}},\"id\":\"91414\",\"type\":\"ColumnDataSource\"},{\"attributes\":{},\"id\":\"92798\",\"type\":\"Selection\"},{\"attributes\":{},\"id\":\"91403\",\"type\":\"SaveTool\"},{\"attributes\":{},\"id\":\"92791\",\"type\":\"BasicTickFormatter\"},{\"attributes\":{\"data\":{\"x\":{\"__ndarray__\":\"AZAibDU33b+xGc2je8/FP+0QF0T1deC/zCMdf3ES2T+l6T3OFDzmv/Wi5e8NYfM/dhDUCVyAxr9ILPDhFYCtv/ckF+FtcvG/PjzN3yMO9T/c8K+803wBQM+sTDEu9M2/lueVod0z7L8/4uWHt0+3P+pWYNsFvAFAmEX8rx00/z9d7cxlzkerP0QAg5RzLf2/AjZg26dI3z+86vPTvjnjP8Veby2DS8G/oZ8WXatzyj8Ca+HjqG3RP5qx9ypWAQRAS4PWPgUA7b/8ikfvuI3qP/ATRy4+VeA/n4jN/jdixz8Cf4Nfm/fmP+ohHjSlK9g/UH3pPeSb+b+Fd4CR0IL0P5WNrFUFwOO/PMN56D5TBsBDRl6Ar2zhv0R3C5a45su/k5JiGcXI4j/plPldSJX0v+vI73kATOY/4bxpLP9p9j//1HnmDsHoPwyfw6s4t/O/qbx+1Z3tBMA0x2Vs9+H5P3o4Uxgz884/DWwZRMG97T+ET0jcTkXuv1PboMShEue/xQ30OhMN4L8aDjM/nr/0v22BzMUsvuG/TUOGGRJZ6b+qLWTQOpXQv9nLvsEOQ/G/Uh5UEwXw/D8X+xlbJo3bPzcOQbSMfOc/iylmZ4I7xb93OVRr3pHVvx7BOnUB2uy/qaIEPzRm/T8NBJxqIvHwPzOgeGZZLNY/cx+ieYfXy7//w0XiCtWWPzgWmAFm3fQ/XIZdOzOH8j9fctuuDFDqv8LJmVWLtMO/m91E3B+d2r+uctXs/eHgv8QloqKzrug/k/kUEJSL6j+PLjIznmf8v7M4PWD/c/M/ctRQ4Tdj5j82vTCN9i6xv2TOUpwB+te/87uY+7xk4j+w6TlsFNTnP83xIxrES+u/Ol3+QSo58L9c8UtCkOn3P75Ehed0dvq/NzYJ407L9z/DnUZNOIfkv9SCipK3Mu+/Mp04LjuAsb8Gdzls7KkFQMTYf3lNNNa/XKX6Syjg0D+92PTClE76vxAEgLaiRPS/KIbBOVSu7b+0V/uIc2DTP4zN8zuxpfg/9j/tgCc67T90hWb73+D5v36rGyxw5vM/oMZex9e+8T8=\",\"dtype\":\"float64\",\"order\":\"little\",\"shape\":[100]},\"y\":{\"__ndarray__\":\"StDV7i5IvT8s0sVFMVGCvxpXrsFdGcA/iX2UYxbgqr9IApLWhKTEP9rSO+x4Wsu/nk9TU05Krj8ienb/HWOiP6BynY+5ms4/cTXXD8f9zb+wZn9rD/PZv2TFS+LLE7I/wvmzJ8BWyT9Y30GIBEt7P4SNqu2EVtq/krJnSkT71r+6jfXWAN6MP55zUOp5iNg/eMYPkmZTsr8c44wSQfe3v3l1mQd5Mao/vhVZmZd2kL+oROv46LCdv7MxtpBn6d2/ITQwA2f3yT/LEjQJ27/Bv0z3ZXHVabO/bNiT1txEh7/evCdjwtq9v30a5SDadKm/A262yZW51T/tJLkCgSLNv94X/tL+r8I/9cuMlrta4j8nRTvehNvAP8IsfSINRbE/mHTLXnNFt78cWCQoI8XRP5DhneauzLy/Ye20DZ8Q0L9nJpZ+WlXAv6oU9gdlFtE/xqChY09B4T/OC0YNYMvSv/AP6c/lipe/miZmVABCxL+Kt8EBYPfKP/+GI/FZTcU/6qtnSqqNvz9rY+Kcc+bRP1a5f9mkG8E/mthF6K0Xxz/e6DS1U1ezP0RUuZsrUM4/hDN2QMgy1b9rUUzpAMeuvzISqdn8q76/yMUrc61KrT8q0Ibt7UO3P0RmGvR82ck/n4FzZ8iP1b995bxCiITHv6GOpoEpUKa/ZQzj8BI/sT88oQkz8KyUP5NT9hgRsc2/GZxMqpsDyr+DSqqnB9rHP16pt78FF6w/WACUpAg8uz8a3/8bYW7APwIEUJboRsC/M+9GHyu+wb9PXy13zOzXPwNtpRVJeMu/rI1IxTjxvL9JKlV5NVijP0z6q3jGKLk/3HS6tQSotr/6lRymvjW/v86NIcwboMg/sxuXyrOtzD+C5yVbdD7Rv9qS4ZmTZdY/8PZSbqUm0b+CaD5ev0zDP7th8usxsss/D7qyLS94oz/e022U0ELgv2gxeCDAw7c/dK+suYLzm797oEqxMkbWP7fMzNishdE/Qk5CXZGAyj+Po54Md+mhv6wxUsx+0tG/w+nZdHHaw7/vc15y3u/VP4C2tBNlLMy/ZoT19UfIyL8=\",\"dtype\":\"float64\",\"order\":\"little\",\"shape\":[100]}},\"selected\":{\"id\":\"92798\"},\"selection_policy\":{\"id\":\"92799\"}},\"id\":\"91419\",\"type\":\"ColumnDataSource\"},{\"attributes\":{},\"id\":\"91404\",\"type\":\"ResetTool\"},{\"attributes\":{},\"id\":\"92797\",\"type\":\"UnionRenderers\"},{\"attributes\":{\"data_source\":{\"id\":\"91419\"},\"glyph\":{\"id\":\"91420\"},\"hover_glyph\":null,\"muted_glyph\":null,\"nonselection_glyph\":{\"id\":\"91421\"},\"view\":{\"id\":\"91423\"}},\"id\":\"91422\",\"type\":\"GlyphRenderer\"},{\"attributes\":{},\"id\":\"91393\",\"type\":\"BasicTicker\"},{\"attributes\":{},\"id\":\"92793\",\"type\":\"AllLabels\"},{\"attributes\":{\"line_color\":\"#1f77b4\",\"x\":{\"field\":\"x\"},\"y\":{\"field\":\"y\"}},\"id\":\"91420\",\"type\":\"Line\"},{\"attributes\":{},\"id\":\"91405\",\"type\":\"HelpTool\"},{\"attributes\":{\"line_alpha\":0.1,\"line_color\":\"#1f77b4\",\"x\":{\"field\":\"x\"},\"y\":{\"field\":\"y\"}},\"id\":\"91421\",\"type\":\"Line\"},{\"attributes\":{\"source\":{\"id\":\"91419\"}},\"id\":\"91423\",\"type\":\"CDSView\"},{\"attributes\":{},\"id\":\"91397\",\"type\":\"BasicTicker\"},{\"attributes\":{},\"id\":\"91388\",\"type\":\"LinearScale\"},{\"attributes\":{},\"id\":\"92794\",\"type\":\"BasicTickFormatter\"},{\"attributes\":{},\"id\":\"91390\",\"type\":\"LinearScale\"},{\"attributes\":{},\"id\":\"91384\",\"type\":\"DataRange1d\"},{\"attributes\":{\"data_source\":{\"id\":\"91414\"},\"glyph\":{\"id\":\"91415\"},\"hover_glyph\":null,\"muted_glyph\":null,\"nonselection_glyph\":{\"id\":\"91416\"},\"view\":{\"id\":\"91418\"}},\"id\":\"91417\",\"type\":\"GlyphRenderer\"},{\"attributes\":{\"fill_color\":{\"value\":\"#1f77b4\"},\"line_color\":{\"value\":\"#1f77b4\"},\"x\":{\"field\":\"x\"},\"y\":{\"field\":\"y\"}},\"id\":\"91415\",\"type\":\"Circle\"},{\"attributes\":{\"axis\":{\"id\":\"91396\"},\"dimension\":1,\"ticker\":null},\"id\":\"91399\",\"type\":\"Grid\"},{\"attributes\":{\"fill_alpha\":{\"value\":0.1},\"fill_color\":{\"value\":\"#1f77b4\"},\"line_alpha\":{\"value\":0.1},\"line_color\":{\"value\":\"#1f77b4\"},\"x\":{\"field\":\"x\"},\"y\":{\"field\":\"y\"}},\"id\":\"91416\",\"type\":\"Circle\"},{\"attributes\":{\"text\":\"source data\"},\"id\":\"91382\",\"type\":\"Title\"},{\"attributes\":{},\"id\":\"92796\",\"type\":\"Selection\"},{\"attributes\":{},\"id\":\"92799\",\"type\":\"UnionRenderers\"},{\"attributes\":{\"axis\":{\"id\":\"91392\"},\"ticker\":null},\"id\":\"91395\",\"type\":\"Grid\"},{\"attributes\":{},\"id\":\"92790\",\"type\":\"AllLabels\"}],\"root_ids\":[\"91381\"]},\"title\":\"Bokeh Application\",\"version\":\"2.3.1\"}};\n",
       "  var render_items = [{\"docid\":\"6fac8bf4-2808-42b0-866b-924a43411fc1\",\"root_ids\":[\"91381\"],\"roots\":{\"91381\":\"e63df953-7621-431d-bba6-ccb6bc65f89f\"}}];\n",
       "  root.Bokeh.embed.embed_items_notebook(docs_json, render_items);\n",
       "\n",
       "  }\n",
       "  if (root.Bokeh !== undefined) {\n",
       "    embed_document(root);\n",
       "  } else {\n",
       "    var attempts = 0;\n",
       "    var timer = setInterval(function(root) {\n",
       "      if (root.Bokeh !== undefined) {\n",
       "        clearInterval(timer);\n",
       "        embed_document(root);\n",
       "      } else {\n",
       "        attempts++;\n",
       "        if (attempts > 100) {\n",
       "          clearInterval(timer);\n",
       "          console.log(\"Bokeh: ERROR: Unable to run BokehJS code because BokehJS library is missing\");\n",
       "        }\n",
       "      }\n",
       "    }, 10, root)\n",
       "  }\n",
       "})(window);"
      ],
      "application/vnd.bokehjs_exec.v0+json": ""
     },
     "metadata": {
      "application/vnd.bokehjs_exec.v0+json": {
       "id": "91381"
      }
     },
     "output_type": "display_data"
    },
    {
     "data": {
      "text/html": [
       "\n",
       "\n",
       "\n",
       "\n",
       "\n",
       "\n",
       "  <div class=\"bk-root\" id=\"2c154ed0-4dfe-47b8-85f1-98adfada607f\" data-root-id=\"92860\"></div>\n"
      ]
     },
     "metadata": {},
     "output_type": "display_data"
    },
    {
     "data": {
      "application/javascript": [
       "(function(root) {\n",
       "  function embed_document(root) {\n",
       "    \n",
       "  var docs_json = {\"d22fabf7-cd31-4b97-ad25-4e525d91591c\":{\"defs\":[],\"roots\":{\"references\":[{\"attributes\":{\"below\":[{\"id\":\"92871\"}],\"center\":[{\"id\":\"92874\"},{\"id\":\"92878\"}],\"left\":[{\"id\":\"92875\"}],\"renderers\":[{\"id\":\"92896\"},{\"id\":\"92901\"}],\"title\":{\"id\":\"92861\"},\"toolbar\":{\"id\":\"92886\"},\"x_range\":{\"id\":\"92863\"},\"x_scale\":{\"id\":\"92867\"},\"y_range\":{\"id\":\"92865\"},\"y_scale\":{\"id\":\"92869\"}},\"id\":\"92860\",\"subtype\":\"Figure\",\"type\":\"Plot\"},{\"attributes\":{},\"id\":\"92879\",\"type\":\"PanTool\"},{\"attributes\":{},\"id\":\"92872\",\"type\":\"BasicTicker\"},{\"attributes\":{\"bottom_units\":\"screen\",\"fill_alpha\":0.5,\"fill_color\":\"lightgrey\",\"left_units\":\"screen\",\"level\":\"overlay\",\"line_alpha\":1.0,\"line_color\":\"black\",\"line_dash\":[4,4],\"line_width\":2,\"right_units\":\"screen\",\"syncable\":false,\"top_units\":\"screen\"},\"id\":\"92885\",\"type\":\"BoxAnnotation\"},{\"attributes\":{},\"id\":\"94282\",\"type\":\"BasicTickFormatter\"},{\"attributes\":{\"source\":{\"id\":\"92898\"}},\"id\":\"92902\",\"type\":\"CDSView\"},{\"attributes\":{},\"id\":\"92880\",\"type\":\"WheelZoomTool\"},{\"attributes\":{},\"id\":\"92882\",\"type\":\"SaveTool\"},{\"attributes\":{},\"id\":\"92869\",\"type\":\"LinearScale\"},{\"attributes\":{\"source\":{\"id\":\"92893\"}},\"id\":\"92897\",\"type\":\"CDSView\"},{\"attributes\":{\"text\":\"source data\"},\"id\":\"92861\",\"type\":\"Title\"},{\"attributes\":{},\"id\":\"94285\",\"type\":\"BasicTickFormatter\"},{\"attributes\":{},\"id\":\"92883\",\"type\":\"ResetTool\"},{\"attributes\":{},\"id\":\"94289\",\"type\":\"Selection\"},{\"attributes\":{},\"id\":\"94284\",\"type\":\"AllLabels\"},{\"attributes\":{\"active_multi\":null,\"tools\":[{\"id\":\"92879\"},{\"id\":\"92880\"},{\"id\":\"92881\"},{\"id\":\"92882\"},{\"id\":\"92883\"},{\"id\":\"92884\"}]},\"id\":\"92886\",\"type\":\"Toolbar\"},{\"attributes\":{},\"id\":\"94287\",\"type\":\"Selection\"},{\"attributes\":{\"axis\":{\"id\":\"92871\"},\"ticker\":null},\"id\":\"92874\",\"type\":\"Grid\"},{\"attributes\":{},\"id\":\"94281\",\"type\":\"AllLabels\"},{\"attributes\":{\"data_source\":{\"id\":\"92898\"},\"glyph\":{\"id\":\"92899\"},\"hover_glyph\":null,\"muted_glyph\":null,\"nonselection_glyph\":{\"id\":\"92900\"},\"view\":{\"id\":\"92902\"}},\"id\":\"92901\",\"type\":\"GlyphRenderer\"},{\"attributes\":{},\"id\":\"92865\",\"type\":\"DataRange1d\"},{\"attributes\":{\"data\":{\"x\":{\"__ndarray__\":\"AZAibDU33b+xGc2je8/FP+0QF0T1deC/zCMdf3ES2T+l6T3OFDzmv/Wi5e8NYfM/dhDUCVyAxr9ILPDhFYCtv/ckF+FtcvG/PjzN3yMO9T/c8K+803wBQM+sTDEu9M2/lueVod0z7L8/4uWHt0+3P+pWYNsFvAFAmEX8rx00/z9d7cxlzkerP0QAg5RzLf2/AjZg26dI3z+86vPTvjnjP8Veby2DS8G/oZ8WXatzyj8Ca+HjqG3RP5qx9ypWAQRAS4PWPgUA7b/8ikfvuI3qP/ATRy4+VeA/n4jN/jdixz8Cf4Nfm/fmP+ohHjSlK9g/UH3pPeSb+b+Fd4CR0IL0P5WNrFUFwOO/PMN56D5TBsBDRl6Ar2zhv0R3C5a45su/k5JiGcXI4j/plPldSJX0v+vI73kATOY/4bxpLP9p9j//1HnmDsHoPwyfw6s4t/O/qbx+1Z3tBMA0x2Vs9+H5P3o4Uxgz884/DWwZRMG97T+ET0jcTkXuv1PboMShEue/xQ30OhMN4L8aDjM/nr/0v22BzMUsvuG/TUOGGRJZ6b+qLWTQOpXQv9nLvsEOQ/G/Uh5UEwXw/D8X+xlbJo3bPzcOQbSMfOc/iylmZ4I7xb93OVRr3pHVvx7BOnUB2uy/qaIEPzRm/T8NBJxqIvHwPzOgeGZZLNY/cx+ieYfXy7//w0XiCtWWPzgWmAFm3fQ/XIZdOzOH8j9fctuuDFDqv8LJmVWLtMO/m91E3B+d2r+uctXs/eHgv8QloqKzrug/k/kUEJSL6j+PLjIznmf8v7M4PWD/c/M/ctRQ4Tdj5j82vTCN9i6xv2TOUpwB+te/87uY+7xk4j+w6TlsFNTnP83xIxrES+u/Ol3+QSo58L9c8UtCkOn3P75Ehed0dvq/NzYJ407L9z/DnUZNOIfkv9SCipK3Mu+/Mp04LjuAsb8Gdzls7KkFQMTYf3lNNNa/XKX6Syjg0D+92PTClE76vxAEgLaiRPS/KIbBOVSu7b+0V/uIc2DTP4zN8zuxpfg/9j/tgCc67T90hWb73+D5v36rGyxw5vM/oMZex9e+8T8=\",\"dtype\":\"float64\",\"order\":\"little\",\"shape\":[100]},\"y\":{\"__ndarray__\":\"ba+per6tD8Do3hBjxTz5v2f7wzw6fwTAroNS+qnK7T+8sVYJ7+UFwBOuvlzxDwdAMZ7LhzobAcBVVfJLcpn1v0wqwrAYlQ3APAmWB5p1FUBwkHK+xhYbQPxdOQBsZAfAa7b1asB9EcCTpe2vxpT5v9VFoVrdpRhAhUArutBsEUBHtuIkpPjjv8o1Inq1UxTAqejtDyXm3z80wZNpgKoAQC+aB3D1luu/ZWWQdURjBMC2sc3f01rIP5Fdt2NH6xpATA1K2b5CAcCIe0ZHsTr5P+iPWaHOza0//e0ygY298L8ICWl3TmbRv9ZXe8EVRPE/Fz9g7WQWEcAmHqTF4ikGQAi3DMCeUArAPlB0e/kOJ8BrOSj4FX70vwAqrkfhXMI/u9P0nn4G2j9eRnbyBHYOwEIFKOW+X+Q/aUcFv78s/D8UrqbhaVHqPwtFIK5M8w/AbwbE/adtI8Br+izJmpv+P3Km60yYZvC/qpjduufk8D9WCGUJwjIDwAdykEGtewzAFjp6GaFt47+eYwRdrxwXwP/RJ982iwDAm5mTLqK/CsBoG/0Cg2LzvzHRTcr1shHAoGIyGWkCFEDoe3ed+CrlP1fNpookkf0/J6Hk+38dAcB2/iAMehrtv9toBGMxIA/As5Bc9e3vEkBpmIV4HofyPxghaU+jGNa/k91z+9Hj9b8rJ1pfJGcEwKmBD6QecwZAxl8ONqCVCkD5S7hz2mQUwPOScNu2OP2/h/eevSyFBcBKMsUjVwwNwMw03GBNp/g/JPNEWfo52D+lthHkNrQawGVFNPMZmA1AoFZOb94Q/D/bdWZv7fDgv1juMkQoAvy/WYt29Kni0z820R/Md2bQP7BOzTCFkeG//kxkk+XrEMASWSYVnJUHQEBHYwRmLA7AQptBV2F0CkCyMrtph+n6vx0pivGRexPAYLsbz7g5yb/PxOuV6G4fQIhIuIAGKs+/o9moxlMX8D8eEyf7bV4TwE4CDW+6PgzAYf9YrCsqEMAy336fEGDwv/g8WhymJAhAlAKeZwp35j/ZRJzVmOIYwJJVUEGd7gxAc15fINXUBkA=\",\"dtype\":\"float64\",\"order\":\"little\",\"shape\":[100]}},\"selected\":{\"id\":\"94287\"},\"selection_policy\":{\"id\":\"94288\"}},\"id\":\"92893\",\"type\":\"ColumnDataSource\"},{\"attributes\":{},\"id\":\"92863\",\"type\":\"DataRange1d\"},{\"attributes\":{\"formatter\":{\"id\":\"94282\"},\"major_label_policy\":{\"id\":\"94281\"},\"ticker\":{\"id\":\"92872\"}},\"id\":\"92871\",\"type\":\"LinearAxis\"},{\"attributes\":{\"overlay\":{\"id\":\"92885\"}},\"id\":\"92881\",\"type\":\"BoxZoomTool\"},{\"attributes\":{\"data_source\":{\"id\":\"92893\"},\"glyph\":{\"id\":\"92894\"},\"hover_glyph\":null,\"muted_glyph\":null,\"nonselection_glyph\":{\"id\":\"92895\"},\"view\":{\"id\":\"92897\"}},\"id\":\"92896\",\"type\":\"GlyphRenderer\"},{\"attributes\":{},\"id\":\"94290\",\"type\":\"UnionRenderers\"},{\"attributes\":{\"line_color\":\"#1f77b4\",\"x\":{\"field\":\"x\"},\"y\":{\"field\":\"y\"}},\"id\":\"92899\",\"type\":\"Line\"},{\"attributes\":{\"line_alpha\":0.1,\"line_color\":\"#1f77b4\",\"x\":{\"field\":\"x\"},\"y\":{\"field\":\"y\"}},\"id\":\"92900\",\"type\":\"Line\"},{\"attributes\":{},\"id\":\"94288\",\"type\":\"UnionRenderers\"},{\"attributes\":{\"data\":{\"x\":{\"__ndarray__\":\"AZAibDU33b+xGc2je8/FP+0QF0T1deC/zCMdf3ES2T+l6T3OFDzmv/Wi5e8NYfM/dhDUCVyAxr9ILPDhFYCtv/ckF+FtcvG/PjzN3yMO9T/c8K+803wBQM+sTDEu9M2/lueVod0z7L8/4uWHt0+3P+pWYNsFvAFAmEX8rx00/z9d7cxlzkerP0QAg5RzLf2/AjZg26dI3z+86vPTvjnjP8Veby2DS8G/oZ8WXatzyj8Ca+HjqG3RP5qx9ypWAQRAS4PWPgUA7b/8ikfvuI3qP/ATRy4+VeA/n4jN/jdixz8Cf4Nfm/fmP+ohHjSlK9g/UH3pPeSb+b+Fd4CR0IL0P5WNrFUFwOO/PMN56D5TBsBDRl6Ar2zhv0R3C5a45su/k5JiGcXI4j/plPldSJX0v+vI73kATOY/4bxpLP9p9j//1HnmDsHoPwyfw6s4t/O/qbx+1Z3tBMA0x2Vs9+H5P3o4Uxgz884/DWwZRMG97T+ET0jcTkXuv1PboMShEue/xQ30OhMN4L8aDjM/nr/0v22BzMUsvuG/TUOGGRJZ6b+qLWTQOpXQv9nLvsEOQ/G/Uh5UEwXw/D8X+xlbJo3bPzcOQbSMfOc/iylmZ4I7xb93OVRr3pHVvx7BOnUB2uy/qaIEPzRm/T8NBJxqIvHwPzOgeGZZLNY/cx+ieYfXy7//w0XiCtWWPzgWmAFm3fQ/XIZdOzOH8j9fctuuDFDqv8LJmVWLtMO/m91E3B+d2r+uctXs/eHgv8QloqKzrug/k/kUEJSL6j+PLjIznmf8v7M4PWD/c/M/ctRQ4Tdj5j82vTCN9i6xv2TOUpwB+te/87uY+7xk4j+w6TlsFNTnP83xIxrES+u/Ol3+QSo58L9c8UtCkOn3P75Ehed0dvq/NzYJ407L9z/DnUZNOIfkv9SCipK3Mu+/Mp04LjuAsb8Gdzls7KkFQMTYf3lNNNa/XKX6Syjg0D+92PTClE76vxAEgLaiRPS/KIbBOVSu7b+0V/uIc2DTP4zN8zuxpfg/9j/tgCc67T90hWb73+D5v36rGyxw5vM/oMZex9e+8T8=\",\"dtype\":\"float64\",\"order\":\"little\",\"shape\":[100]},\"y\":[-1.9489471912384033,-0.28738734126091003,-2.1024222373962402,0.2993142008781433,-2.580662250518799,2.471238613128662,-1.2049496173858643,-0.8917302489280701,-3.6292014122009277,2.7488961219787598,5.054814338684082,-1.3592664003372192,-3.074970245361328,-0.4976615309715271,5.136600971221924,4.430022716522217,-0.597791314125061,-5.57243013381958,0.5565672516822815,0.8533936142921448,-1.0971404314041138,-0.19127923250198364,-0.017240047454833984,5.8889265060424805,-3.141023635864258,1.460357427597046,0.6138072609901428,-0.25481149554252625,1.1633052825927734,0.2619773745536804,-4.981273651123047,2.6587400436401367,-2.3748679161071777,-8.13558292388916,-2.1822497844696045,-1.3167638778686523,0.8168409466743469,-4.1487202644348145,1.107783317565918,2.9739909172058105,1.3113114833831787,-4.005026340484619,-7.672746181488037,3.548588275909424,-0.09813612699508667,1.7243809700012207,-3.2462689876556396,-2.6500792503356934,-2.0684878826141357,-4.1761155128479,-2.208615303039551,-2.83852481842041,-1.4257776737213135,-3.5985476970672607,4.054647922515869,0.4019924998283386,1.2063183784484863,-1.1786737442016602,-1.63230299949646,-3.1287240982055664,4.131124019622803,2.0675055980682373,0.17926359176635742,-1.315535068511963,-0.6799169778823853,2.717355728149414,2.3302671909332275,-2.918433666229248,-1.147049903869629,-1.8411929607391357,-2.137376070022583,1.3053724765777588,1.4596638679504395,-5.444413661956787,2.48349666595459,1.1152949333190918,-0.9169231653213501,-1.7319772243499756,0.784476101398468,1.2346382141113281,-2.999875545501709,-3.4264907836914062,3.222193717956543,-5.122704982757568,3.202615737915039,-2.4393177032470703,-3.3230814933776855,-0.9202098846435547,6.438419342041016,-1.6585803031921387,-0.040131330490112305,-5.096901893615723,-4.096534729003906,-3.197420358657837,0.06345081329345703,3.343930244445801,1.6818022727966309,-5.025912284851074,2.5575499534606934,2.200617551803589]},\"selected\":{\"id\":\"94289\"},\"selection_policy\":{\"id\":\"94290\"}},\"id\":\"92898\",\"type\":\"ColumnDataSource\"},{\"attributes\":{},\"id\":\"92867\",\"type\":\"LinearScale\"},{\"attributes\":{},\"id\":\"92876\",\"type\":\"BasicTicker\"},{\"attributes\":{\"axis\":{\"id\":\"92875\"},\"dimension\":1,\"ticker\":null},\"id\":\"92878\",\"type\":\"Grid\"},{\"attributes\":{\"fill_color\":{\"value\":\"#1f77b4\"},\"line_color\":{\"value\":\"#1f77b4\"},\"x\":{\"field\":\"x\"},\"y\":{\"field\":\"y\"}},\"id\":\"92894\",\"type\":\"Circle\"},{\"attributes\":{\"fill_alpha\":{\"value\":0.1},\"fill_color\":{\"value\":\"#1f77b4\"},\"line_alpha\":{\"value\":0.1},\"line_color\":{\"value\":\"#1f77b4\"},\"x\":{\"field\":\"x\"},\"y\":{\"field\":\"y\"}},\"id\":\"92895\",\"type\":\"Circle\"},{\"attributes\":{},\"id\":\"92884\",\"type\":\"HelpTool\"},{\"attributes\":{\"formatter\":{\"id\":\"94285\"},\"major_label_policy\":{\"id\":\"94284\"},\"ticker\":{\"id\":\"92876\"}},\"id\":\"92875\",\"type\":\"LinearAxis\"}],\"root_ids\":[\"92860\"]},\"title\":\"Bokeh Application\",\"version\":\"2.3.1\"}};\n",
       "  var render_items = [{\"docid\":\"d22fabf7-cd31-4b97-ad25-4e525d91591c\",\"root_ids\":[\"92860\"],\"roots\":{\"92860\":\"2c154ed0-4dfe-47b8-85f1-98adfada607f\"}}];\n",
       "  root.Bokeh.embed.embed_items_notebook(docs_json, render_items);\n",
       "\n",
       "  }\n",
       "  if (root.Bokeh !== undefined) {\n",
       "    embed_document(root);\n",
       "  } else {\n",
       "    var attempts = 0;\n",
       "    var timer = setInterval(function(root) {\n",
       "      if (root.Bokeh !== undefined) {\n",
       "        clearInterval(timer);\n",
       "        embed_document(root);\n",
       "      } else {\n",
       "        attempts++;\n",
       "        if (attempts > 100) {\n",
       "          clearInterval(timer);\n",
       "          console.log(\"Bokeh: ERROR: Unable to run BokehJS code because BokehJS library is missing\");\n",
       "        }\n",
       "      }\n",
       "    }, 10, root)\n",
       "  }\n",
       "})(window);"
      ],
      "application/vnd.bokehjs_exec.v0+json": ""
     },
     "metadata": {
      "application/vnd.bokehjs_exec.v0+json": {
       "id": "92860"
      }
     },
     "output_type": "display_data"
    }
   ],
   "source": [
    "# before\n",
    "ys_pred = predict(xs, A, b)\n",
    "plot(xs, ys, ys_pred)\n",
    "\n",
    "# train\n",
    "alpha = 0.01\n",
    "for _ in range(100):\n",
    "    dydA, dydb = take_grad(xs, A, b, ys)\n",
    "    A -= alpha * dydA\n",
    "    b -= alpha * dydb\n",
    "\n",
    "# after\n",
    "ys_pred = predict(xs, A, b)\n",
    "plot(xs, ys, ys_pred)"
   ]
  },
  {
   "cell_type": "markdown",
   "metadata": {},
   "source": [
    "## Simple MLP for MNIST"
   ]
  },
  {
   "cell_type": "code",
   "execution_count": 553,
   "metadata": {
    "ExecuteTime": {
     "end_time": "2021-04-11T04:01:25.623464Z",
     "start_time": "2021-04-11T04:01:25.620773Z"
    }
   },
   "outputs": [],
   "source": [
    "import torchvision\n",
    "import torch\n",
    "from string import ascii_lowercase\n",
    "import random\n",
    "from collections import namedtuple"
   ]
  },
  {
   "cell_type": "code",
   "execution_count": 548,
   "metadata": {
    "ExecuteTime": {
     "end_time": "2021-04-11T03:27:43.053485Z",
     "start_time": "2021-04-11T03:27:43.049238Z"
    }
   },
   "outputs": [],
   "source": [
    "def get_random_name():\n",
    "    num_chars = 10\n",
    "    return ''.join([random.choice(ascii_lowercase) for _ in range(num_chars)])"
   ]
  },
  {
   "cell_type": "code",
   "execution_count": 1001,
   "metadata": {
    "ExecuteTime": {
     "end_time": "2021-04-12T01:20:57.058550Z",
     "start_time": "2021-04-12T01:20:57.053146Z"
    }
   },
   "outputs": [],
   "source": [
    "class MLP(object):\n",
    "    def __init__(self, dim_in, dim_out):\n",
    "        self.dim_in = dim_in\n",
    "        self.dim_out = dim_out\n",
    "        self.name = get_random_name()\n",
    "        \n",
    "    @staticmethod\n",
    "    def initialize_params(key, mlp):\n",
    "        keys = jax.random.split(key, 2)\n",
    "        # kaiming initialization\n",
    "        A = jax.random.normal(keys[0], (mlp.dim_out, mlp.dim_in)) * (jnp.sqrt(2 / mlp.dim_out))\n",
    "        b = jax.random.normal(keys[0], (mlp.dim_out,)) * (jnp.sqrt(2 / mlp.dim_out))\n",
    "        return {mlp.name: (A, b)}\n",
    "        \n",
    "    @staticmethod\n",
    "    def forward(params, x):\n",
    "        A, b = params\n",
    "        return x @ A.T + b"
   ]
  },
  {
   "cell_type": "code",
   "execution_count": 1002,
   "metadata": {
    "ExecuteTime": {
     "end_time": "2021-04-12T01:20:57.375974Z",
     "start_time": "2021-04-12T01:20:57.371235Z"
    }
   },
   "outputs": [],
   "source": [
    "def relu(x):\n",
    "    return x * (x > 0)\n",
    "\n",
    "def softmax(x):\n",
    "    return jnp.exp(x) / jnp.sum(jnp.exp(x), keepdims=True)\n",
    "    \n",
    "eps = jnp.finfo(jnp.float32).eps\n",
    "def cross_entropy_loss(y_pred, y_true):\n",
    "    y_pred += eps\n",
    "    return jnp.sum(y_true * -jnp.log(y_pred))\n",
    "\n",
    "def one_hot(x, num_classes):\n",
    "    vec = jnp.zeros(num_classes)\n",
    "    vec = vec.at[x].set(1)\n",
    "    return vec"
   ]
  },
  {
   "cell_type": "code",
   "execution_count": 1057,
   "metadata": {
    "ExecuteTime": {
     "end_time": "2021-04-12T02:04:15.460839Z",
     "start_time": "2021-04-12T02:04:15.451719Z"
    }
   },
   "outputs": [],
   "source": [
    "class Module(object):\n",
    "    @staticmethod\n",
    "    def get_config(dim_in, dim_out, hidden_sizes):\n",
    "        mlps = []\n",
    "        all_sizes = [dim_in, *hidden_sizes, dim_out]\n",
    "        for i in range(len(hidden_sizes)):\n",
    "            layer_dim_in = all_sizes[i]\n",
    "            layer_dim_out = all_sizes[i + 1]\n",
    "            mlps.append(MLP(layer_dim_in, layer_dim_out))\n",
    "        return {\n",
    "            'mlps': mlps,\n",
    "            'l2_lambda': 1e-7\n",
    "        }\n",
    "    \n",
    "    @staticmethod\n",
    "    def initialize_params(key, config):\n",
    "        params = {}\n",
    "        for mlp in config['mlps']:\n",
    "            key, new_key = jax.random.split(key)\n",
    "            params.update(MLP.initialize_params(new_key, mlp))\n",
    "        return params\n",
    "            \n",
    "    @staticmethod\n",
    "    def forward(params, config, x, y_true):\n",
    "        for mlp in config['mlps']:\n",
    "            x = mlp.forward(params[mlp.name], x)\n",
    "            x = relu(x)\n",
    "            \n",
    "        y_pred = softmax(x)\n",
    "        \n",
    "        num_classes = config['mlps'][-1].dim_out\n",
    "        y_true = one_hot(y_true, num_classes)\n",
    "        \n",
    "        pred_loss = cross_entropy_loss(y_pred, y_true)\n",
    "        \n",
    "        reg_loss = 0\n",
    "        for mlp in config['mlps']:\n",
    "            for w in params[mlp.name]:\n",
    "                reg_loss += jnp.sum(config['l2_lambda'] * (w ** 2))\n",
    "        \n",
    "        return pred_loss + reg_loss\n",
    "\n",
    "@jit\n",
    "def update(params, config, x, y_true, opt_state, opt_update):\n",
    "    forward = vmap(Module.forward, in_axes=(None, None, 0, 0))\n",
    "    loss, grads = value_and_grad(forward)(params, config, x, y_true)\n",
    "    opt_update(0, )"
   ]
  },
  {
   "cell_type": "code",
   "execution_count": 1058,
   "metadata": {
    "ExecuteTime": {
     "end_time": "2021-04-12T02:04:15.770350Z",
     "start_time": "2021-04-12T02:04:15.767982Z"
    }
   },
   "outputs": [],
   "source": [
    "batch_size = 128"
   ]
  },
  {
   "cell_type": "code",
   "execution_count": 1059,
   "metadata": {
    "ExecuteTime": {
     "end_time": "2021-04-12T02:04:16.059739Z",
     "start_time": "2021-04-12T02:04:16.018885Z"
    }
   },
   "outputs": [],
   "source": [
    "train_loader = torch.utils.data.DataLoader(\n",
    "    torchvision.datasets.MNIST(\n",
    "        '/tmp/', train=True, download=True,\n",
    "        transform=torchvision.transforms.Compose([\n",
    "            torchvision.transforms.ToTensor(),\n",
    "            torchvision.transforms.Normalize((0.1307,), (0.3081,)),\n",
    "            np.ravel\n",
    "        ])\n",
    "    ),\n",
    "    batch_size=batch_size,\n",
    "    shuffle=True\n",
    ")"
   ]
  },
  {
   "cell_type": "code",
   "execution_count": 1060,
   "metadata": {
    "ExecuteTime": {
     "end_time": "2021-04-12T02:04:16.366809Z",
     "start_time": "2021-04-12T02:04:16.356303Z"
    }
   },
   "outputs": [],
   "source": [
    "test_loader = torch.utils.data.DataLoader(\n",
    "    torchvision.datasets.MNIST(\n",
    "        '/tmp/', train=False, download=True,\n",
    "        transform=torchvision.transforms.Compose([\n",
    "            torchvision.transforms.ToTensor(),\n",
    "            torchvision.transforms.Normalize((0.1307,), (0.3081,)),\n",
    "            np.ravel\n",
    "        ])\n",
    "    ),\n",
    "    batch_size=batch_size,\n",
    "    shuffle=True\n",
    ")"
   ]
  },
  {
   "cell_type": "code",
   "execution_count": 1061,
   "metadata": {
    "ExecuteTime": {
     "end_time": "2021-04-12T02:04:16.650481Z",
     "start_time": "2021-04-12T02:04:16.618528Z"
    }
   },
   "outputs": [],
   "source": [
    "sample_x, sample_y = next(iter(train_loader))\n",
    "sample_x = jnp.asarray(sample_x)\n",
    "sample_y = jnp.asarray(sample_y)"
   ]
  },
  {
   "cell_type": "code",
   "execution_count": 1062,
   "metadata": {
    "ExecuteTime": {
     "end_time": "2021-04-12T02:04:16.899531Z",
     "start_time": "2021-04-12T02:04:16.895638Z"
    }
   },
   "outputs": [],
   "source": [
    "dim_in = sample_x.shape[1]\n",
    "hidden_sizes = [32, 16, 10]\n",
    "dim_out = jnp.max(sample_y)"
   ]
  },
  {
   "cell_type": "code",
   "execution_count": 1063,
   "metadata": {
    "ExecuteTime": {
     "end_time": "2021-04-12T02:04:17.150728Z",
     "start_time": "2021-04-12T02:04:17.128133Z"
    }
   },
   "outputs": [],
   "source": [
    "key = jax.random.PRNGKey(0)\n",
    "config = Module.get_config(dim_in, dim_out, hidden_sizes)\n",
    "key, new_key = jax.random.split(key)\n",
    "params = Module.initialize_params(new_key, config)"
   ]
  },
  {
   "cell_type": "code",
   "execution_count": 1064,
   "metadata": {
    "ExecuteTime": {
     "end_time": "2021-04-12T02:07:12.236476Z",
     "start_time": "2021-04-12T02:04:17.359558Z"
    },
    "scrolled": false
   },
   "outputs": [
    {
     "name": "stdout",
     "output_type": "stream",
     "text": [
      "loss 199.77393\n",
      "loss 96.81453\n",
      "loss 76.54293\n"
     ]
    },
    {
     "ename": "KeyboardInterrupt",
     "evalue": "",
     "output_type": "error",
     "traceback": [
      "\u001b[1;31m---------------------------------------------------------------------------\u001b[0m",
      "\u001b[1;31mKeyboardInterrupt\u001b[0m                         Traceback (most recent call last)",
      "\u001b[1;32m<ipython-input-1064-6e70bebda82c>\u001b[0m in \u001b[0;36m<module>\u001b[1;34m\u001b[0m\n\u001b[0;32m     15\u001b[0m         \u001b[0mbatch_y\u001b[0m \u001b[1;33m=\u001b[0m \u001b[0mjnp\u001b[0m\u001b[1;33m.\u001b[0m\u001b[0masarray\u001b[0m\u001b[1;33m(\u001b[0m\u001b[0mbatch_y\u001b[0m\u001b[1;33m)\u001b[0m\u001b[1;33m\u001b[0m\u001b[1;33m\u001b[0m\u001b[0m\n\u001b[0;32m     16\u001b[0m         \u001b[0mupdate_fn\u001b[0m \u001b[1;33m=\u001b[0m \u001b[0mvalue_and_grad\u001b[0m\u001b[1;33m(\u001b[0m\u001b[0mbatch_forward_sum_loss\u001b[0m\u001b[1;33m)\u001b[0m\u001b[1;33m\u001b[0m\u001b[1;33m\u001b[0m\u001b[0m\n\u001b[1;32m---> 17\u001b[1;33m         \u001b[0mloss\u001b[0m\u001b[1;33m,\u001b[0m \u001b[0mgrads\u001b[0m \u001b[1;33m=\u001b[0m \u001b[0mupdate_fn\u001b[0m\u001b[1;33m(\u001b[0m\u001b[0mparams\u001b[0m\u001b[1;33m,\u001b[0m \u001b[0mconfig\u001b[0m\u001b[1;33m,\u001b[0m \u001b[0mbatch_x\u001b[0m\u001b[1;33m,\u001b[0m \u001b[0mbatch_y\u001b[0m\u001b[1;33m)\u001b[0m\u001b[1;33m\u001b[0m\u001b[1;33m\u001b[0m\u001b[0m\n\u001b[0m\u001b[0;32m     18\u001b[0m         \u001b[0mlosses\u001b[0m\u001b[1;33m.\u001b[0m\u001b[0mappend\u001b[0m\u001b[1;33m(\u001b[0m\u001b[0mloss\u001b[0m\u001b[1;33m)\u001b[0m\u001b[1;33m\u001b[0m\u001b[1;33m\u001b[0m\u001b[0m\n\u001b[0;32m     19\u001b[0m         \u001b[0mopt_state\u001b[0m \u001b[1;33m=\u001b[0m \u001b[0mopt_update\u001b[0m\u001b[1;33m(\u001b[0m\u001b[0midx\u001b[0m\u001b[1;33m,\u001b[0m \u001b[0mgrads\u001b[0m\u001b[1;33m,\u001b[0m \u001b[0mopt_state\u001b[0m\u001b[1;33m)\u001b[0m\u001b[1;33m\u001b[0m\u001b[1;33m\u001b[0m\u001b[0m\n",
      "\u001b[1;32m~/.local/share/virtualenvs/jax-yjI4wS2g/lib/python3.7/site-packages/jax/_src/traceback_util.py\u001b[0m in \u001b[0;36mreraise_with_filtered_traceback\u001b[1;34m(*args, **kwargs)\u001b[0m\n\u001b[0;32m    137\u001b[0m   \u001b[1;32mdef\u001b[0m \u001b[0mreraise_with_filtered_traceback\u001b[0m\u001b[1;33m(\u001b[0m\u001b[1;33m*\u001b[0m\u001b[0margs\u001b[0m\u001b[1;33m,\u001b[0m \u001b[1;33m**\u001b[0m\u001b[0mkwargs\u001b[0m\u001b[1;33m)\u001b[0m\u001b[1;33m:\u001b[0m\u001b[1;33m\u001b[0m\u001b[1;33m\u001b[0m\u001b[0m\n\u001b[0;32m    138\u001b[0m     \u001b[1;32mtry\u001b[0m\u001b[1;33m:\u001b[0m\u001b[1;33m\u001b[0m\u001b[1;33m\u001b[0m\u001b[0m\n\u001b[1;32m--> 139\u001b[1;33m       \u001b[1;32mreturn\u001b[0m \u001b[0mfun\u001b[0m\u001b[1;33m(\u001b[0m\u001b[1;33m*\u001b[0m\u001b[0margs\u001b[0m\u001b[1;33m,\u001b[0m \u001b[1;33m**\u001b[0m\u001b[0mkwargs\u001b[0m\u001b[1;33m)\u001b[0m\u001b[1;33m\u001b[0m\u001b[1;33m\u001b[0m\u001b[0m\n\u001b[0m\u001b[0;32m    140\u001b[0m     \u001b[1;32mexcept\u001b[0m \u001b[0mException\u001b[0m \u001b[1;32mas\u001b[0m \u001b[0me\u001b[0m\u001b[1;33m:\u001b[0m\u001b[1;33m\u001b[0m\u001b[1;33m\u001b[0m\u001b[0m\n\u001b[0;32m    141\u001b[0m       \u001b[1;32mif\u001b[0m \u001b[1;32mnot\u001b[0m \u001b[0mis_under_reraiser\u001b[0m\u001b[1;33m(\u001b[0m\u001b[0me\u001b[0m\u001b[1;33m)\u001b[0m\u001b[1;33m:\u001b[0m\u001b[1;33m\u001b[0m\u001b[1;33m\u001b[0m\u001b[0m\n",
      "\u001b[1;32m~/.local/share/virtualenvs/jax-yjI4wS2g/lib/python3.7/site-packages/jax/api.py\u001b[0m in \u001b[0;36mvalue_and_grad_f\u001b[1;34m(*args, **kwargs)\u001b[0m\n\u001b[0;32m    807\u001b[0m     \u001b[0mtree_map\u001b[0m\u001b[1;33m(\u001b[0m\u001b[0mpartial\u001b[0m\u001b[1;33m(\u001b[0m\u001b[0m_check_input_dtype_grad\u001b[0m\u001b[1;33m,\u001b[0m \u001b[0mholomorphic\u001b[0m\u001b[1;33m,\u001b[0m \u001b[0mallow_int\u001b[0m\u001b[1;33m)\u001b[0m\u001b[1;33m,\u001b[0m \u001b[0mdyn_args\u001b[0m\u001b[1;33m)\u001b[0m\u001b[1;33m\u001b[0m\u001b[1;33m\u001b[0m\u001b[0m\n\u001b[0;32m    808\u001b[0m     \u001b[1;32mif\u001b[0m \u001b[1;32mnot\u001b[0m \u001b[0mhas_aux\u001b[0m\u001b[1;33m:\u001b[0m\u001b[1;33m\u001b[0m\u001b[1;33m\u001b[0m\u001b[0m\n\u001b[1;32m--> 809\u001b[1;33m       \u001b[0mans\u001b[0m\u001b[1;33m,\u001b[0m \u001b[0mvjp_py\u001b[0m \u001b[1;33m=\u001b[0m \u001b[0m_vjp\u001b[0m\u001b[1;33m(\u001b[0m\u001b[0mf_partial\u001b[0m\u001b[1;33m,\u001b[0m \u001b[1;33m*\u001b[0m\u001b[0mdyn_args\u001b[0m\u001b[1;33m)\u001b[0m\u001b[1;33m\u001b[0m\u001b[1;33m\u001b[0m\u001b[0m\n\u001b[0m\u001b[0;32m    810\u001b[0m     \u001b[1;32melse\u001b[0m\u001b[1;33m:\u001b[0m\u001b[1;33m\u001b[0m\u001b[1;33m\u001b[0m\u001b[0m\n\u001b[0;32m    811\u001b[0m       \u001b[0mans\u001b[0m\u001b[1;33m,\u001b[0m \u001b[0mvjp_py\u001b[0m\u001b[1;33m,\u001b[0m \u001b[0maux\u001b[0m \u001b[1;33m=\u001b[0m \u001b[0m_vjp\u001b[0m\u001b[1;33m(\u001b[0m\u001b[0mf_partial\u001b[0m\u001b[1;33m,\u001b[0m \u001b[1;33m*\u001b[0m\u001b[0mdyn_args\u001b[0m\u001b[1;33m,\u001b[0m \u001b[0mhas_aux\u001b[0m\u001b[1;33m=\u001b[0m\u001b[1;32mTrue\u001b[0m\u001b[1;33m)\u001b[0m\u001b[1;33m\u001b[0m\u001b[1;33m\u001b[0m\u001b[0m\n",
      "\u001b[1;32m~/.local/share/virtualenvs/jax-yjI4wS2g/lib/python3.7/site-packages/jax/api.py\u001b[0m in \u001b[0;36m_vjp\u001b[1;34m(fun, has_aux, *primals)\u001b[0m\n\u001b[0;32m   1876\u001b[0m   \u001b[1;32mif\u001b[0m \u001b[1;32mnot\u001b[0m \u001b[0mhas_aux\u001b[0m\u001b[1;33m:\u001b[0m\u001b[1;33m\u001b[0m\u001b[1;33m\u001b[0m\u001b[0m\n\u001b[0;32m   1877\u001b[0m     \u001b[0mflat_fun\u001b[0m\u001b[1;33m,\u001b[0m \u001b[0mout_tree\u001b[0m \u001b[1;33m=\u001b[0m \u001b[0mflatten_fun_nokwargs\u001b[0m\u001b[1;33m(\u001b[0m\u001b[0mfun\u001b[0m\u001b[1;33m,\u001b[0m \u001b[0min_tree\u001b[0m\u001b[1;33m)\u001b[0m\u001b[1;33m\u001b[0m\u001b[1;33m\u001b[0m\u001b[0m\n\u001b[1;32m-> 1878\u001b[1;33m     \u001b[0mout_primal\u001b[0m\u001b[1;33m,\u001b[0m \u001b[0mout_vjp\u001b[0m \u001b[1;33m=\u001b[0m \u001b[0mad\u001b[0m\u001b[1;33m.\u001b[0m\u001b[0mvjp\u001b[0m\u001b[1;33m(\u001b[0m\u001b[0mflat_fun\u001b[0m\u001b[1;33m,\u001b[0m \u001b[0mprimals_flat\u001b[0m\u001b[1;33m)\u001b[0m\u001b[1;33m\u001b[0m\u001b[1;33m\u001b[0m\u001b[0m\n\u001b[0m\u001b[0;32m   1879\u001b[0m     \u001b[0mout_tree\u001b[0m \u001b[1;33m=\u001b[0m \u001b[0mout_tree\u001b[0m\u001b[1;33m(\u001b[0m\u001b[1;33m)\u001b[0m\u001b[1;33m\u001b[0m\u001b[1;33m\u001b[0m\u001b[0m\n\u001b[0;32m   1880\u001b[0m   \u001b[1;32melse\u001b[0m\u001b[1;33m:\u001b[0m\u001b[1;33m\u001b[0m\u001b[1;33m\u001b[0m\u001b[0m\n",
      "\u001b[1;32m~/.local/share/virtualenvs/jax-yjI4wS2g/lib/python3.7/site-packages/jax/interpreters/ad.py\u001b[0m in \u001b[0;36mvjp\u001b[1;34m(traceable, primals, has_aux)\u001b[0m\n\u001b[0;32m    112\u001b[0m \u001b[1;32mdef\u001b[0m \u001b[0mvjp\u001b[0m\u001b[1;33m(\u001b[0m\u001b[0mtraceable\u001b[0m\u001b[1;33m,\u001b[0m \u001b[0mprimals\u001b[0m\u001b[1;33m,\u001b[0m \u001b[0mhas_aux\u001b[0m\u001b[1;33m=\u001b[0m\u001b[1;32mFalse\u001b[0m\u001b[1;33m)\u001b[0m\u001b[1;33m:\u001b[0m\u001b[1;33m\u001b[0m\u001b[1;33m\u001b[0m\u001b[0m\n\u001b[0;32m    113\u001b[0m   \u001b[1;32mif\u001b[0m \u001b[1;32mnot\u001b[0m \u001b[0mhas_aux\u001b[0m\u001b[1;33m:\u001b[0m\u001b[1;33m\u001b[0m\u001b[1;33m\u001b[0m\u001b[0m\n\u001b[1;32m--> 114\u001b[1;33m     \u001b[0mout_primals\u001b[0m\u001b[1;33m,\u001b[0m \u001b[0mpvals\u001b[0m\u001b[1;33m,\u001b[0m \u001b[0mjaxpr\u001b[0m\u001b[1;33m,\u001b[0m \u001b[0mconsts\u001b[0m \u001b[1;33m=\u001b[0m \u001b[0mlinearize\u001b[0m\u001b[1;33m(\u001b[0m\u001b[0mtraceable\u001b[0m\u001b[1;33m,\u001b[0m \u001b[1;33m*\u001b[0m\u001b[0mprimals\u001b[0m\u001b[1;33m)\u001b[0m\u001b[1;33m\u001b[0m\u001b[1;33m\u001b[0m\u001b[0m\n\u001b[0m\u001b[0;32m    115\u001b[0m   \u001b[1;32melse\u001b[0m\u001b[1;33m:\u001b[0m\u001b[1;33m\u001b[0m\u001b[1;33m\u001b[0m\u001b[0m\n\u001b[0;32m    116\u001b[0m     \u001b[0mout_primals\u001b[0m\u001b[1;33m,\u001b[0m \u001b[0mpvals\u001b[0m\u001b[1;33m,\u001b[0m \u001b[0mjaxpr\u001b[0m\u001b[1;33m,\u001b[0m \u001b[0mconsts\u001b[0m\u001b[1;33m,\u001b[0m \u001b[0maux\u001b[0m \u001b[1;33m=\u001b[0m \u001b[0mlinearize\u001b[0m\u001b[1;33m(\u001b[0m\u001b[0mtraceable\u001b[0m\u001b[1;33m,\u001b[0m \u001b[1;33m*\u001b[0m\u001b[0mprimals\u001b[0m\u001b[1;33m,\u001b[0m \u001b[0mhas_aux\u001b[0m\u001b[1;33m=\u001b[0m\u001b[1;32mTrue\u001b[0m\u001b[1;33m)\u001b[0m\u001b[1;33m\u001b[0m\u001b[1;33m\u001b[0m\u001b[0m\n",
      "\u001b[1;32m~/.local/share/virtualenvs/jax-yjI4wS2g/lib/python3.7/site-packages/jax/interpreters/ad.py\u001b[0m in \u001b[0;36mlinearize\u001b[1;34m(traceable, *primals, **kwargs)\u001b[0m\n\u001b[0;32m     99\u001b[0m   \u001b[0m_\u001b[0m\u001b[1;33m,\u001b[0m \u001b[0min_tree\u001b[0m \u001b[1;33m=\u001b[0m \u001b[0mtree_flatten\u001b[0m\u001b[1;33m(\u001b[0m\u001b[1;33m(\u001b[0m\u001b[1;33m(\u001b[0m\u001b[0mprimals\u001b[0m\u001b[1;33m,\u001b[0m \u001b[0mprimals\u001b[0m\u001b[1;33m)\u001b[0m\u001b[1;33m,\u001b[0m \u001b[1;33m{\u001b[0m\u001b[1;33m}\u001b[0m\u001b[1;33m)\u001b[0m\u001b[1;33m)\u001b[0m\u001b[1;33m\u001b[0m\u001b[1;33m\u001b[0m\u001b[0m\n\u001b[0;32m    100\u001b[0m   \u001b[0mjvpfun_flat\u001b[0m\u001b[1;33m,\u001b[0m \u001b[0mout_tree\u001b[0m \u001b[1;33m=\u001b[0m \u001b[0mflatten_fun\u001b[0m\u001b[1;33m(\u001b[0m\u001b[0mjvpfun\u001b[0m\u001b[1;33m,\u001b[0m \u001b[0min_tree\u001b[0m\u001b[1;33m)\u001b[0m\u001b[1;33m\u001b[0m\u001b[1;33m\u001b[0m\u001b[0m\n\u001b[1;32m--> 101\u001b[1;33m   \u001b[0mjaxpr\u001b[0m\u001b[1;33m,\u001b[0m \u001b[0mout_pvals\u001b[0m\u001b[1;33m,\u001b[0m \u001b[0mconsts\u001b[0m \u001b[1;33m=\u001b[0m \u001b[0mpe\u001b[0m\u001b[1;33m.\u001b[0m\u001b[0mtrace_to_jaxpr\u001b[0m\u001b[1;33m(\u001b[0m\u001b[0mjvpfun_flat\u001b[0m\u001b[1;33m,\u001b[0m \u001b[0min_pvals\u001b[0m\u001b[1;33m)\u001b[0m\u001b[1;33m\u001b[0m\u001b[1;33m\u001b[0m\u001b[0m\n\u001b[0m\u001b[0;32m    102\u001b[0m   \u001b[0mout_primals_pvals\u001b[0m\u001b[1;33m,\u001b[0m \u001b[0mout_tangents_pvals\u001b[0m \u001b[1;33m=\u001b[0m \u001b[0mtree_unflatten\u001b[0m\u001b[1;33m(\u001b[0m\u001b[0mout_tree\u001b[0m\u001b[1;33m(\u001b[0m\u001b[1;33m)\u001b[0m\u001b[1;33m,\u001b[0m \u001b[0mout_pvals\u001b[0m\u001b[1;33m)\u001b[0m\u001b[1;33m\u001b[0m\u001b[1;33m\u001b[0m\u001b[0m\n\u001b[0;32m    103\u001b[0m   \u001b[1;32massert\u001b[0m \u001b[0mall\u001b[0m\u001b[1;33m(\u001b[0m\u001b[0mout_primal_pval\u001b[0m\u001b[1;33m.\u001b[0m\u001b[0mis_known\u001b[0m\u001b[1;33m(\u001b[0m\u001b[1;33m)\u001b[0m \u001b[1;32mfor\u001b[0m \u001b[0mout_primal_pval\u001b[0m \u001b[1;32min\u001b[0m \u001b[0mout_primals_pvals\u001b[0m\u001b[1;33m)\u001b[0m\u001b[1;33m\u001b[0m\u001b[1;33m\u001b[0m\u001b[0m\n",
      "\u001b[1;32m~/.local/share/virtualenvs/jax-yjI4wS2g/lib/python3.7/site-packages/jax/interpreters/partial_eval.py\u001b[0m in \u001b[0;36mtrace_to_jaxpr\u001b[1;34m(fun, pvals, instantiate)\u001b[0m\n\u001b[0;32m    496\u001b[0m   \u001b[1;32mwith\u001b[0m \u001b[0mcore\u001b[0m\u001b[1;33m.\u001b[0m\u001b[0mnew_main\u001b[0m\u001b[1;33m(\u001b[0m\u001b[0mJaxprTrace\u001b[0m\u001b[1;33m)\u001b[0m \u001b[1;32mas\u001b[0m \u001b[0mmain\u001b[0m\u001b[1;33m:\u001b[0m\u001b[1;33m\u001b[0m\u001b[1;33m\u001b[0m\u001b[0m\n\u001b[0;32m    497\u001b[0m     \u001b[0mfun\u001b[0m \u001b[1;33m=\u001b[0m \u001b[0mtrace_to_subjaxpr\u001b[0m\u001b[1;33m(\u001b[0m\u001b[0mfun\u001b[0m\u001b[1;33m,\u001b[0m \u001b[0mmain\u001b[0m\u001b[1;33m,\u001b[0m \u001b[0minstantiate\u001b[0m\u001b[1;33m)\u001b[0m\u001b[1;33m\u001b[0m\u001b[1;33m\u001b[0m\u001b[0m\n\u001b[1;32m--> 498\u001b[1;33m     \u001b[0mjaxpr\u001b[0m\u001b[1;33m,\u001b[0m \u001b[1;33m(\u001b[0m\u001b[0mout_pvals\u001b[0m\u001b[1;33m,\u001b[0m \u001b[0mconsts\u001b[0m\u001b[1;33m,\u001b[0m \u001b[0menv\u001b[0m\u001b[1;33m)\u001b[0m \u001b[1;33m=\u001b[0m \u001b[0mfun\u001b[0m\u001b[1;33m.\u001b[0m\u001b[0mcall_wrapped\u001b[0m\u001b[1;33m(\u001b[0m\u001b[0mpvals\u001b[0m\u001b[1;33m)\u001b[0m\u001b[1;33m\u001b[0m\u001b[1;33m\u001b[0m\u001b[0m\n\u001b[0m\u001b[0;32m    499\u001b[0m     \u001b[1;32massert\u001b[0m \u001b[1;32mnot\u001b[0m \u001b[0menv\u001b[0m\u001b[1;33m\u001b[0m\u001b[1;33m\u001b[0m\u001b[0m\n\u001b[0;32m    500\u001b[0m     \u001b[1;32mdel\u001b[0m \u001b[0mmain\u001b[0m\u001b[1;33m,\u001b[0m \u001b[0mfun\u001b[0m\u001b[1;33m,\u001b[0m \u001b[0menv\u001b[0m\u001b[1;33m\u001b[0m\u001b[1;33m\u001b[0m\u001b[0m\n",
      "\u001b[1;32m~/.local/share/virtualenvs/jax-yjI4wS2g/lib/python3.7/site-packages/jax/linear_util.py\u001b[0m in \u001b[0;36mcall_wrapped\u001b[1;34m(self, *args, **kwargs)\u001b[0m\n\u001b[0;32m    164\u001b[0m \u001b[1;33m\u001b[0m\u001b[0m\n\u001b[0;32m    165\u001b[0m     \u001b[1;32mtry\u001b[0m\u001b[1;33m:\u001b[0m\u001b[1;33m\u001b[0m\u001b[1;33m\u001b[0m\u001b[0m\n\u001b[1;32m--> 166\u001b[1;33m       \u001b[0mans\u001b[0m \u001b[1;33m=\u001b[0m \u001b[0mself\u001b[0m\u001b[1;33m.\u001b[0m\u001b[0mf\u001b[0m\u001b[1;33m(\u001b[0m\u001b[1;33m*\u001b[0m\u001b[0margs\u001b[0m\u001b[1;33m,\u001b[0m \u001b[1;33m**\u001b[0m\u001b[0mdict\u001b[0m\u001b[1;33m(\u001b[0m\u001b[0mself\u001b[0m\u001b[1;33m.\u001b[0m\u001b[0mparams\u001b[0m\u001b[1;33m,\u001b[0m \u001b[1;33m**\u001b[0m\u001b[0mkwargs\u001b[0m\u001b[1;33m)\u001b[0m\u001b[1;33m)\u001b[0m\u001b[1;33m\u001b[0m\u001b[1;33m\u001b[0m\u001b[0m\n\u001b[0m\u001b[0;32m    167\u001b[0m     \u001b[1;32mexcept\u001b[0m\u001b[1;33m:\u001b[0m\u001b[1;33m\u001b[0m\u001b[1;33m\u001b[0m\u001b[0m\n\u001b[0;32m    168\u001b[0m       \u001b[1;31m# Some transformations yield from inside context managers, so we have to\u001b[0m\u001b[1;33m\u001b[0m\u001b[1;33m\u001b[0m\u001b[1;33m\u001b[0m\u001b[0m\n",
      "\u001b[1;32m<ipython-input-1064-6e70bebda82c>\u001b[0m in \u001b[0;36mbatch_forward_sum_loss\u001b[1;34m(params, config, batch_x, batch_y)\u001b[0m\n\u001b[0;32m      6\u001b[0m \u001b[0mbatch_forward\u001b[0m \u001b[1;33m=\u001b[0m \u001b[0mvmap\u001b[0m\u001b[1;33m(\u001b[0m\u001b[0mModule\u001b[0m\u001b[1;33m.\u001b[0m\u001b[0mforward\u001b[0m\u001b[1;33m,\u001b[0m \u001b[0min_axes\u001b[0m\u001b[1;33m=\u001b[0m\u001b[1;33m(\u001b[0m\u001b[1;32mNone\u001b[0m\u001b[1;33m,\u001b[0m \u001b[1;32mNone\u001b[0m\u001b[1;33m,\u001b[0m \u001b[1;36m0\u001b[0m\u001b[1;33m,\u001b[0m \u001b[1;36m0\u001b[0m\u001b[1;33m)\u001b[0m\u001b[1;33m)\u001b[0m\u001b[1;33m\u001b[0m\u001b[1;33m\u001b[0m\u001b[0m\n\u001b[0;32m      7\u001b[0m \u001b[1;32mdef\u001b[0m \u001b[0mbatch_forward_sum_loss\u001b[0m\u001b[1;33m(\u001b[0m\u001b[0mparams\u001b[0m\u001b[1;33m,\u001b[0m \u001b[0mconfig\u001b[0m\u001b[1;33m,\u001b[0m \u001b[0mbatch_x\u001b[0m\u001b[1;33m,\u001b[0m \u001b[0mbatch_y\u001b[0m\u001b[1;33m)\u001b[0m\u001b[1;33m:\u001b[0m\u001b[1;33m\u001b[0m\u001b[1;33m\u001b[0m\u001b[0m\n\u001b[1;32m----> 8\u001b[1;33m     \u001b[0mloss\u001b[0m \u001b[1;33m=\u001b[0m \u001b[0mbatch_forward\u001b[0m\u001b[1;33m(\u001b[0m\u001b[0mparams\u001b[0m\u001b[1;33m,\u001b[0m \u001b[0mconfig\u001b[0m\u001b[1;33m,\u001b[0m \u001b[0mbatch_x\u001b[0m\u001b[1;33m,\u001b[0m \u001b[0mbatch_y\u001b[0m\u001b[1;33m)\u001b[0m\u001b[1;33m\u001b[0m\u001b[1;33m\u001b[0m\u001b[0m\n\u001b[0m\u001b[0;32m      9\u001b[0m     \u001b[1;32mreturn\u001b[0m \u001b[0mjnp\u001b[0m\u001b[1;33m.\u001b[0m\u001b[0msum\u001b[0m\u001b[1;33m(\u001b[0m\u001b[0mloss\u001b[0m\u001b[1;33m)\u001b[0m\u001b[1;33m\u001b[0m\u001b[1;33m\u001b[0m\u001b[0m\n\u001b[0;32m     10\u001b[0m \u001b[1;33m\u001b[0m\u001b[0m\n",
      "\u001b[1;32m~/.local/share/virtualenvs/jax-yjI4wS2g/lib/python3.7/site-packages/jax/_src/traceback_util.py\u001b[0m in \u001b[0;36mreraise_with_filtered_traceback\u001b[1;34m(*args, **kwargs)\u001b[0m\n\u001b[0;32m    137\u001b[0m   \u001b[1;32mdef\u001b[0m \u001b[0mreraise_with_filtered_traceback\u001b[0m\u001b[1;33m(\u001b[0m\u001b[1;33m*\u001b[0m\u001b[0margs\u001b[0m\u001b[1;33m,\u001b[0m \u001b[1;33m**\u001b[0m\u001b[0mkwargs\u001b[0m\u001b[1;33m)\u001b[0m\u001b[1;33m:\u001b[0m\u001b[1;33m\u001b[0m\u001b[1;33m\u001b[0m\u001b[0m\n\u001b[0;32m    138\u001b[0m     \u001b[1;32mtry\u001b[0m\u001b[1;33m:\u001b[0m\u001b[1;33m\u001b[0m\u001b[1;33m\u001b[0m\u001b[0m\n\u001b[1;32m--> 139\u001b[1;33m       \u001b[1;32mreturn\u001b[0m \u001b[0mfun\u001b[0m\u001b[1;33m(\u001b[0m\u001b[1;33m*\u001b[0m\u001b[0margs\u001b[0m\u001b[1;33m,\u001b[0m \u001b[1;33m**\u001b[0m\u001b[0mkwargs\u001b[0m\u001b[1;33m)\u001b[0m\u001b[1;33m\u001b[0m\u001b[1;33m\u001b[0m\u001b[0m\n\u001b[0m\u001b[0;32m    140\u001b[0m     \u001b[1;32mexcept\u001b[0m \u001b[0mException\u001b[0m \u001b[1;32mas\u001b[0m \u001b[0me\u001b[0m\u001b[1;33m:\u001b[0m\u001b[1;33m\u001b[0m\u001b[1;33m\u001b[0m\u001b[0m\n\u001b[0;32m    141\u001b[0m       \u001b[1;32mif\u001b[0m \u001b[1;32mnot\u001b[0m \u001b[0mis_under_reraiser\u001b[0m\u001b[1;33m(\u001b[0m\u001b[0me\u001b[0m\u001b[1;33m)\u001b[0m\u001b[1;33m:\u001b[0m\u001b[1;33m\u001b[0m\u001b[1;33m\u001b[0m\u001b[0m\n",
      "\u001b[1;32m~/.local/share/virtualenvs/jax-yjI4wS2g/lib/python3.7/site-packages/jax/api.py\u001b[0m in \u001b[0;36mbatched_fun\u001b[1;34m(*args, **kwargs)\u001b[0m\n\u001b[0;32m   1224\u001b[0m         \u001b[0mflat_fun\u001b[0m\u001b[1;33m,\u001b[0m \u001b[0maxis_name\u001b[0m\u001b[1;33m,\u001b[0m \u001b[0maxis_size\u001b[0m\u001b[1;33m,\u001b[0m \u001b[0min_axes_flat\u001b[0m\u001b[1;33m,\u001b[0m\u001b[1;33m\u001b[0m\u001b[1;33m\u001b[0m\u001b[0m\n\u001b[0;32m   1225\u001b[0m         \u001b[1;32mlambda\u001b[0m\u001b[1;33m:\u001b[0m \u001b[0mflatten_axes\u001b[0m\u001b[1;33m(\u001b[0m\u001b[1;34m\"vmap out_axes\"\u001b[0m\u001b[1;33m,\u001b[0m \u001b[0mout_tree\u001b[0m\u001b[1;33m(\u001b[0m\u001b[1;33m)\u001b[0m\u001b[1;33m,\u001b[0m \u001b[0mout_axes\u001b[0m\u001b[1;33m)\u001b[0m\u001b[1;33m\u001b[0m\u001b[1;33m\u001b[0m\u001b[0m\n\u001b[1;32m-> 1226\u001b[1;33m     ).call_wrapped(*args_flat)\n\u001b[0m\u001b[0;32m   1227\u001b[0m     \u001b[1;32mreturn\u001b[0m \u001b[0mtree_unflatten\u001b[0m\u001b[1;33m(\u001b[0m\u001b[0mout_tree\u001b[0m\u001b[1;33m(\u001b[0m\u001b[1;33m)\u001b[0m\u001b[1;33m,\u001b[0m \u001b[0mout_flat\u001b[0m\u001b[1;33m)\u001b[0m\u001b[1;33m\u001b[0m\u001b[1;33m\u001b[0m\u001b[0m\n\u001b[0;32m   1228\u001b[0m \u001b[1;33m\u001b[0m\u001b[0m\n",
      "\u001b[1;32m~/.local/share/virtualenvs/jax-yjI4wS2g/lib/python3.7/site-packages/jax/linear_util.py\u001b[0m in \u001b[0;36mcall_wrapped\u001b[1;34m(self, *args, **kwargs)\u001b[0m\n\u001b[0;32m    164\u001b[0m \u001b[1;33m\u001b[0m\u001b[0m\n\u001b[0;32m    165\u001b[0m     \u001b[1;32mtry\u001b[0m\u001b[1;33m:\u001b[0m\u001b[1;33m\u001b[0m\u001b[1;33m\u001b[0m\u001b[0m\n\u001b[1;32m--> 166\u001b[1;33m       \u001b[0mans\u001b[0m \u001b[1;33m=\u001b[0m \u001b[0mself\u001b[0m\u001b[1;33m.\u001b[0m\u001b[0mf\u001b[0m\u001b[1;33m(\u001b[0m\u001b[1;33m*\u001b[0m\u001b[0margs\u001b[0m\u001b[1;33m,\u001b[0m \u001b[1;33m**\u001b[0m\u001b[0mdict\u001b[0m\u001b[1;33m(\u001b[0m\u001b[0mself\u001b[0m\u001b[1;33m.\u001b[0m\u001b[0mparams\u001b[0m\u001b[1;33m,\u001b[0m \u001b[1;33m**\u001b[0m\u001b[0mkwargs\u001b[0m\u001b[1;33m)\u001b[0m\u001b[1;33m)\u001b[0m\u001b[1;33m\u001b[0m\u001b[1;33m\u001b[0m\u001b[0m\n\u001b[0m\u001b[0;32m    167\u001b[0m     \u001b[1;32mexcept\u001b[0m\u001b[1;33m:\u001b[0m\u001b[1;33m\u001b[0m\u001b[1;33m\u001b[0m\u001b[0m\n\u001b[0;32m    168\u001b[0m       \u001b[1;31m# Some transformations yield from inside context managers, so we have to\u001b[0m\u001b[1;33m\u001b[0m\u001b[1;33m\u001b[0m\u001b[1;33m\u001b[0m\u001b[0m\n",
      "\u001b[1;32m<ipython-input-1057-17a04fc4a631>\u001b[0m in \u001b[0;36mforward\u001b[1;34m(params, config, x, y_true)\u001b[0m\n\u001b[0;32m     30\u001b[0m \u001b[1;33m\u001b[0m\u001b[0m\n\u001b[0;32m     31\u001b[0m         \u001b[0mnum_classes\u001b[0m \u001b[1;33m=\u001b[0m \u001b[0mconfig\u001b[0m\u001b[1;33m[\u001b[0m\u001b[1;34m'mlps'\u001b[0m\u001b[1;33m]\u001b[0m\u001b[1;33m[\u001b[0m\u001b[1;33m-\u001b[0m\u001b[1;36m1\u001b[0m\u001b[1;33m]\u001b[0m\u001b[1;33m.\u001b[0m\u001b[0mdim_out\u001b[0m\u001b[1;33m\u001b[0m\u001b[1;33m\u001b[0m\u001b[0m\n\u001b[1;32m---> 32\u001b[1;33m         \u001b[0my_true\u001b[0m \u001b[1;33m=\u001b[0m \u001b[0mone_hot\u001b[0m\u001b[1;33m(\u001b[0m\u001b[0my_true\u001b[0m\u001b[1;33m,\u001b[0m \u001b[0mnum_classes\u001b[0m\u001b[1;33m)\u001b[0m\u001b[1;33m\u001b[0m\u001b[1;33m\u001b[0m\u001b[0m\n\u001b[0m\u001b[0;32m     33\u001b[0m \u001b[1;33m\u001b[0m\u001b[0m\n\u001b[0;32m     34\u001b[0m         \u001b[0mpred_loss\u001b[0m \u001b[1;33m=\u001b[0m \u001b[0mcross_entropy_loss\u001b[0m\u001b[1;33m(\u001b[0m\u001b[0my_pred\u001b[0m\u001b[1;33m,\u001b[0m \u001b[0my_true\u001b[0m\u001b[1;33m)\u001b[0m\u001b[1;33m\u001b[0m\u001b[1;33m\u001b[0m\u001b[0m\n",
      "\u001b[1;32m<ipython-input-1002-4cbc9f889d2c>\u001b[0m in \u001b[0;36mone_hot\u001b[1;34m(x, num_classes)\u001b[0m\n\u001b[0;32m     12\u001b[0m \u001b[1;32mdef\u001b[0m \u001b[0mone_hot\u001b[0m\u001b[1;33m(\u001b[0m\u001b[0mx\u001b[0m\u001b[1;33m,\u001b[0m \u001b[0mnum_classes\u001b[0m\u001b[1;33m)\u001b[0m\u001b[1;33m:\u001b[0m\u001b[1;33m\u001b[0m\u001b[1;33m\u001b[0m\u001b[0m\n\u001b[0;32m     13\u001b[0m     \u001b[0mvec\u001b[0m \u001b[1;33m=\u001b[0m \u001b[0mjnp\u001b[0m\u001b[1;33m.\u001b[0m\u001b[0mzeros\u001b[0m\u001b[1;33m(\u001b[0m\u001b[0mnum_classes\u001b[0m\u001b[1;33m)\u001b[0m\u001b[1;33m\u001b[0m\u001b[1;33m\u001b[0m\u001b[0m\n\u001b[1;32m---> 14\u001b[1;33m     \u001b[0mvec\u001b[0m \u001b[1;33m=\u001b[0m \u001b[0mvec\u001b[0m\u001b[1;33m.\u001b[0m\u001b[0mat\u001b[0m\u001b[1;33m[\u001b[0m\u001b[0mx\u001b[0m\u001b[1;33m]\u001b[0m\u001b[1;33m.\u001b[0m\u001b[0mset\u001b[0m\u001b[1;33m(\u001b[0m\u001b[1;36m1\u001b[0m\u001b[1;33m)\u001b[0m\u001b[1;33m\u001b[0m\u001b[1;33m\u001b[0m\u001b[0m\n\u001b[0m\u001b[0;32m     15\u001b[0m     \u001b[1;32mreturn\u001b[0m \u001b[0mvec\u001b[0m\u001b[1;33m\u001b[0m\u001b[1;33m\u001b[0m\u001b[0m\n",
      "\u001b[1;32m~/.local/share/virtualenvs/jax-yjI4wS2g/lib/python3.7/site-packages/jax/_src/numpy/lax_numpy.py\u001b[0m in \u001b[0;36mset\u001b[1;34m(self, values, indices_are_sorted, unique_indices)\u001b[0m\n\u001b[0;32m   5593\u001b[0m     return ops.index_update(self.array, self.index, values,\n\u001b[0;32m   5594\u001b[0m                             \u001b[0mindices_are_sorted\u001b[0m\u001b[1;33m=\u001b[0m\u001b[0mindices_are_sorted\u001b[0m\u001b[1;33m,\u001b[0m\u001b[1;33m\u001b[0m\u001b[1;33m\u001b[0m\u001b[0m\n\u001b[1;32m-> 5595\u001b[1;33m                             unique_indices=unique_indices)\n\u001b[0m\u001b[0;32m   5596\u001b[0m \u001b[1;33m\u001b[0m\u001b[0m\n\u001b[0;32m   5597\u001b[0m   \u001b[1;32mdef\u001b[0m \u001b[0madd\u001b[0m\u001b[1;33m(\u001b[0m\u001b[0mself\u001b[0m\u001b[1;33m,\u001b[0m \u001b[0mvalues\u001b[0m\u001b[1;33m,\u001b[0m \u001b[0mindices_are_sorted\u001b[0m\u001b[1;33m=\u001b[0m\u001b[1;32mFalse\u001b[0m\u001b[1;33m,\u001b[0m \u001b[0munique_indices\u001b[0m\u001b[1;33m=\u001b[0m\u001b[1;32mFalse\u001b[0m\u001b[1;33m)\u001b[0m\u001b[1;33m:\u001b[0m\u001b[1;33m\u001b[0m\u001b[1;33m\u001b[0m\u001b[0m\n",
      "\u001b[1;32m~/.local/share/virtualenvs/jax-yjI4wS2g/lib/python3.7/site-packages/jax/_src/ops/scatter.py\u001b[0m in \u001b[0;36mindex_update\u001b[1;34m(x, idx, y, indices_are_sorted, unique_indices)\u001b[0m\n\u001b[0;32m    344\u001b[0m   \"\"\"\n\u001b[0;32m    345\u001b[0m   return _scatter_update(\n\u001b[1;32m--> 346\u001b[1;33m       x, idx, y, lax.scatter, indices_are_sorted, unique_indices)\n\u001b[0m\u001b[0;32m    347\u001b[0m \u001b[1;33m\u001b[0m\u001b[0m\n\u001b[0;32m    348\u001b[0m def segment_sum(data: Array,\n",
      "\u001b[1;32m~/.local/share/virtualenvs/jax-yjI4wS2g/lib/python3.7/site-packages/jax/_src/ops/scatter.py\u001b[0m in \u001b[0;36m_scatter_update\u001b[1;34m(x, idx, y, scatter_op, indices_are_sorted, unique_indices, normalize_indices)\u001b[0m\n\u001b[0;32m     66\u001b[0m   \u001b[0mtreedef\u001b[0m\u001b[1;33m,\u001b[0m \u001b[0mstatic_idx\u001b[0m\u001b[1;33m,\u001b[0m \u001b[0mdynamic_idx\u001b[0m \u001b[1;33m=\u001b[0m \u001b[0mjnp\u001b[0m\u001b[1;33m.\u001b[0m\u001b[0m_split_index_for_jit\u001b[0m\u001b[1;33m(\u001b[0m\u001b[0midx\u001b[0m\u001b[1;33m)\u001b[0m\u001b[1;33m\u001b[0m\u001b[1;33m\u001b[0m\u001b[0m\n\u001b[0;32m     67\u001b[0m   return _scatter_impl(x, y, scatter_op, treedef, static_idx, dynamic_idx,\n\u001b[1;32m---> 68\u001b[1;33m                        indices_are_sorted, unique_indices, normalize_indices)\n\u001b[0m\u001b[0;32m     69\u001b[0m \u001b[1;33m\u001b[0m\u001b[0m\n\u001b[0;32m     70\u001b[0m \u001b[1;33m\u001b[0m\u001b[0m\n",
      "\u001b[1;32m~/.local/share/virtualenvs/jax-yjI4wS2g/lib/python3.7/site-packages/jax/_src/ops/scatter.py\u001b[0m in \u001b[0;36m_scatter_impl\u001b[1;34m(x, y, scatter_op, treedef, static_idx, dynamic_idx, indices_are_sorted, unique_indices, normalize_indices)\u001b[0m\n\u001b[0;32m     79\u001b[0m   \u001b[0midx\u001b[0m \u001b[1;33m=\u001b[0m \u001b[0mjnp\u001b[0m\u001b[1;33m.\u001b[0m\u001b[0m_merge_static_and_dynamic_indices\u001b[0m\u001b[1;33m(\u001b[0m\u001b[0mtreedef\u001b[0m\u001b[1;33m,\u001b[0m \u001b[0mstatic_idx\u001b[0m\u001b[1;33m,\u001b[0m \u001b[0mdynamic_idx\u001b[0m\u001b[1;33m)\u001b[0m\u001b[1;33m\u001b[0m\u001b[1;33m\u001b[0m\u001b[0m\n\u001b[0;32m     80\u001b[0m   indexer = jnp._index_to_gather(jnp.shape(x), idx,\n\u001b[1;32m---> 81\u001b[1;33m                                  normalize_indices=normalize_indices)\n\u001b[0m\u001b[0;32m     82\u001b[0m \u001b[1;33m\u001b[0m\u001b[0m\n\u001b[0;32m     83\u001b[0m   \u001b[1;31m# Broadcast `y` to the slice output shape.\u001b[0m\u001b[1;33m\u001b[0m\u001b[1;33m\u001b[0m\u001b[1;33m\u001b[0m\u001b[0m\n",
      "\u001b[1;32m~/.local/share/virtualenvs/jax-yjI4wS2g/lib/python3.7/site-packages/jax/_src/numpy/lax_numpy.py\u001b[0m in \u001b[0;36m_index_to_gather\u001b[1;34m(x_shape, idx, normalize_indices)\u001b[0m\n\u001b[0;32m   4690\u001b[0m         \u001b[0mi\u001b[0m \u001b[1;33m=\u001b[0m \u001b[1;36m0\u001b[0m\u001b[1;33m\u001b[0m\u001b[1;33m\u001b[0m\u001b[0m\n\u001b[0;32m   4691\u001b[0m       \u001b[0mi\u001b[0m \u001b[1;33m=\u001b[0m \u001b[0mlax\u001b[0m\u001b[1;33m.\u001b[0m\u001b[0mconvert_element_type\u001b[0m\u001b[1;33m(\u001b[0m\u001b[0mi\u001b[0m\u001b[1;33m,\u001b[0m \u001b[0mindex_dtype\u001b[0m\u001b[1;33m)\u001b[0m\u001b[1;33m\u001b[0m\u001b[1;33m\u001b[0m\u001b[0m\n\u001b[1;32m-> 4692\u001b[1;33m       \u001b[0mi\u001b[0m \u001b[1;33m=\u001b[0m \u001b[0mbroadcast_to\u001b[0m\u001b[1;33m(\u001b[0m\u001b[0mi\u001b[0m\u001b[1;33m,\u001b[0m \u001b[0mtuple\u001b[0m\u001b[1;33m(\u001b[0m\u001b[0mgather_indices\u001b[0m\u001b[1;33m.\u001b[0m\u001b[0mshape\u001b[0m\u001b[1;33m[\u001b[0m\u001b[1;33m:\u001b[0m\u001b[1;33m-\u001b[0m\u001b[1;36m1\u001b[0m\u001b[1;33m]\u001b[0m\u001b[1;33m)\u001b[0m \u001b[1;33m+\u001b[0m \u001b[1;33m(\u001b[0m\u001b[1;36m1\u001b[0m\u001b[1;33m,\u001b[0m\u001b[1;33m)\u001b[0m\u001b[1;33m)\u001b[0m\u001b[1;33m\u001b[0m\u001b[1;33m\u001b[0m\u001b[0m\n\u001b[0m\u001b[0;32m   4693\u001b[0m       \u001b[0mgather_indices\u001b[0m \u001b[1;33m=\u001b[0m \u001b[0mconcatenate\u001b[0m\u001b[1;33m(\u001b[0m\u001b[1;33m(\u001b[0m\u001b[0mgather_indices\u001b[0m\u001b[1;33m,\u001b[0m \u001b[0mi\u001b[0m\u001b[1;33m)\u001b[0m\u001b[1;33m,\u001b[0m \u001b[1;33m-\u001b[0m\u001b[1;36m1\u001b[0m\u001b[1;33m)\u001b[0m\u001b[1;33m\u001b[0m\u001b[1;33m\u001b[0m\u001b[0m\n\u001b[0;32m   4694\u001b[0m       \u001b[0mcollapsed_slice_dims\u001b[0m\u001b[1;33m.\u001b[0m\u001b[0mappend\u001b[0m\u001b[1;33m(\u001b[0m\u001b[0mx_axis\u001b[0m\u001b[1;33m)\u001b[0m\u001b[1;33m\u001b[0m\u001b[1;33m\u001b[0m\u001b[0m\n",
      "\u001b[1;32m~/.local/share/virtualenvs/jax-yjI4wS2g/lib/python3.7/site-packages/jax/_src/numpy/lax_numpy.py\u001b[0m in \u001b[0;36mbroadcast_to\u001b[1;34m(arr, shape)\u001b[0m\n\u001b[0;32m   1778\u001b[0m     \u001b[0mnew_dims\u001b[0m \u001b[1;33m=\u001b[0m \u001b[0mtuple\u001b[0m\u001b[1;33m(\u001b[0m\u001b[0mrange\u001b[0m\u001b[1;33m(\u001b[0m\u001b[0mnlead\u001b[0m\u001b[1;33m)\u001b[0m\u001b[1;33m)\u001b[0m \u001b[1;33m+\u001b[0m \u001b[0mtuple\u001b[0m\u001b[1;33m(\u001b[0m\u001b[0mnlead\u001b[0m \u001b[1;33m+\u001b[0m \u001b[0mdiff\u001b[0m\u001b[1;33m)\u001b[0m\u001b[1;33m\u001b[0m\u001b[1;33m\u001b[0m\u001b[0m\n\u001b[0;32m   1779\u001b[0m     \u001b[0mkept_dims\u001b[0m \u001b[1;33m=\u001b[0m \u001b[0mtuple\u001b[0m\u001b[1;33m(\u001b[0m\u001b[0mnp\u001b[0m\u001b[1;33m.\u001b[0m\u001b[0mdelete\u001b[0m\u001b[1;33m(\u001b[0m\u001b[0mnp\u001b[0m\u001b[1;33m.\u001b[0m\u001b[0marange\u001b[0m\u001b[1;33m(\u001b[0m\u001b[0mlen\u001b[0m\u001b[1;33m(\u001b[0m\u001b[0mshape\u001b[0m\u001b[1;33m)\u001b[0m\u001b[1;33m)\u001b[0m\u001b[1;33m,\u001b[0m \u001b[0mnew_dims\u001b[0m\u001b[1;33m)\u001b[0m\u001b[1;33m)\u001b[0m\u001b[1;33m\u001b[0m\u001b[1;33m\u001b[0m\u001b[0m\n\u001b[1;32m-> 1780\u001b[1;33m     \u001b[1;32mreturn\u001b[0m \u001b[0mlax\u001b[0m\u001b[1;33m.\u001b[0m\u001b[0mbroadcast_in_dim\u001b[0m\u001b[1;33m(\u001b[0m\u001b[0msqueeze\u001b[0m\u001b[1;33m(\u001b[0m\u001b[0marr\u001b[0m\u001b[1;33m,\u001b[0m \u001b[0mtuple\u001b[0m\u001b[1;33m(\u001b[0m\u001b[0mdiff\u001b[0m\u001b[1;33m)\u001b[0m\u001b[1;33m)\u001b[0m\u001b[1;33m,\u001b[0m \u001b[0mshape\u001b[0m\u001b[1;33m,\u001b[0m \u001b[0mkept_dims\u001b[0m\u001b[1;33m)\u001b[0m\u001b[1;33m\u001b[0m\u001b[1;33m\u001b[0m\u001b[0m\n\u001b[0m\u001b[0;32m   1781\u001b[0m \u001b[1;33m\u001b[0m\u001b[0m\n\u001b[0;32m   1782\u001b[0m \u001b[1;33m\u001b[0m\u001b[0m\n",
      "\u001b[1;32m~/.local/share/virtualenvs/jax-yjI4wS2g/lib/python3.7/site-packages/jax/_src/numpy/lax_numpy.py\u001b[0m in \u001b[0;36msqueeze\u001b[1;34m(a, axis)\u001b[0m\n\u001b[0;32m   1414\u001b[0m \u001b[1;33m@\u001b[0m\u001b[0m_wraps\u001b[0m\u001b[1;33m(\u001b[0m\u001b[0mnp\u001b[0m\u001b[1;33m.\u001b[0m\u001b[0msqueeze\u001b[0m\u001b[1;33m)\u001b[0m\u001b[1;33m\u001b[0m\u001b[1;33m\u001b[0m\u001b[0m\n\u001b[0;32m   1415\u001b[0m \u001b[1;32mdef\u001b[0m \u001b[0msqueeze\u001b[0m\u001b[1;33m(\u001b[0m\u001b[0ma\u001b[0m\u001b[1;33m,\u001b[0m \u001b[0maxis\u001b[0m\u001b[1;33m:\u001b[0m \u001b[0mOptional\u001b[0m\u001b[1;33m[\u001b[0m\u001b[0mUnion\u001b[0m\u001b[1;33m[\u001b[0m\u001b[0mint\u001b[0m\u001b[1;33m,\u001b[0m \u001b[0mTuple\u001b[0m\u001b[1;33m[\u001b[0m\u001b[0mint\u001b[0m\u001b[1;33m,\u001b[0m \u001b[1;33m...\u001b[0m\u001b[1;33m]\u001b[0m\u001b[1;33m]\u001b[0m\u001b[1;33m]\u001b[0m \u001b[1;33m=\u001b[0m \u001b[1;32mNone\u001b[0m\u001b[1;33m)\u001b[0m\u001b[1;33m:\u001b[0m\u001b[1;33m\u001b[0m\u001b[1;33m\u001b[0m\u001b[0m\n\u001b[1;32m-> 1416\u001b[1;33m   \u001b[0m_check_arraylike\u001b[0m\u001b[1;33m(\u001b[0m\u001b[1;34m\"squeeze\"\u001b[0m\u001b[1;33m,\u001b[0m \u001b[0ma\u001b[0m\u001b[1;33m)\u001b[0m\u001b[1;33m\u001b[0m\u001b[1;33m\u001b[0m\u001b[0m\n\u001b[0m\u001b[0;32m   1417\u001b[0m   \u001b[1;32mif\u001b[0m \u001b[0maxis\u001b[0m \u001b[1;32mis\u001b[0m \u001b[1;32mNone\u001b[0m\u001b[1;33m:\u001b[0m\u001b[1;33m\u001b[0m\u001b[1;33m\u001b[0m\u001b[0m\n\u001b[0;32m   1418\u001b[0m     \u001b[0ma_shape\u001b[0m \u001b[1;33m=\u001b[0m \u001b[0mshape\u001b[0m\u001b[1;33m(\u001b[0m\u001b[0ma\u001b[0m\u001b[1;33m)\u001b[0m\u001b[1;33m\u001b[0m\u001b[1;33m\u001b[0m\u001b[0m\n",
      "\u001b[1;32m~/.local/share/virtualenvs/jax-yjI4wS2g/lib/python3.7/site-packages/jax/_src/numpy/lax_numpy.py\u001b[0m in \u001b[0;36m_check_arraylike\u001b[1;34m(fun_name, *args)\u001b[0m\n\u001b[0;32m    299\u001b[0m   \u001b[1;34m\"\"\"Check if all args fit JAX's definition of arraylike.\"\"\"\u001b[0m\u001b[1;33m\u001b[0m\u001b[1;33m\u001b[0m\u001b[0m\n\u001b[0;32m    300\u001b[0m   \u001b[1;32massert\u001b[0m \u001b[0misinstance\u001b[0m\u001b[1;33m(\u001b[0m\u001b[0mfun_name\u001b[0m\u001b[1;33m,\u001b[0m \u001b[0mstr\u001b[0m\u001b[1;33m)\u001b[0m\u001b[1;33m,\u001b[0m \u001b[1;34mf\"fun_name must be a string. Got {fun_name}\"\u001b[0m\u001b[1;33m\u001b[0m\u001b[1;33m\u001b[0m\u001b[0m\n\u001b[1;32m--> 301\u001b[1;33m   \u001b[1;32mif\u001b[0m \u001b[0m_any\u001b[0m\u001b[1;33m(\u001b[0m\u001b[1;32mnot\u001b[0m \u001b[0m_arraylike\u001b[0m\u001b[1;33m(\u001b[0m\u001b[0marg\u001b[0m\u001b[1;33m)\u001b[0m \u001b[1;32mfor\u001b[0m \u001b[0marg\u001b[0m \u001b[1;32min\u001b[0m \u001b[0margs\u001b[0m\u001b[1;33m)\u001b[0m\u001b[1;33m:\u001b[0m\u001b[1;33m\u001b[0m\u001b[1;33m\u001b[0m\u001b[0m\n\u001b[0m\u001b[0;32m    302\u001b[0m     pos, arg = next((i, arg) for i, arg in enumerate(args)\n\u001b[0;32m    303\u001b[0m                     if not _arraylike(arg))\n",
      "\u001b[1;32m~/.local/share/virtualenvs/jax-yjI4wS2g/lib/python3.7/site-packages/jax/_src/numpy/lax_numpy.py\u001b[0m in \u001b[0;36m<genexpr>\u001b[1;34m(.0)\u001b[0m\n\u001b[0;32m    299\u001b[0m   \u001b[1;34m\"\"\"Check if all args fit JAX's definition of arraylike.\"\"\"\u001b[0m\u001b[1;33m\u001b[0m\u001b[1;33m\u001b[0m\u001b[0m\n\u001b[0;32m    300\u001b[0m   \u001b[1;32massert\u001b[0m \u001b[0misinstance\u001b[0m\u001b[1;33m(\u001b[0m\u001b[0mfun_name\u001b[0m\u001b[1;33m,\u001b[0m \u001b[0mstr\u001b[0m\u001b[1;33m)\u001b[0m\u001b[1;33m,\u001b[0m \u001b[1;34mf\"fun_name must be a string. Got {fun_name}\"\u001b[0m\u001b[1;33m\u001b[0m\u001b[1;33m\u001b[0m\u001b[0m\n\u001b[1;32m--> 301\u001b[1;33m   \u001b[1;32mif\u001b[0m \u001b[0m_any\u001b[0m\u001b[1;33m(\u001b[0m\u001b[1;32mnot\u001b[0m \u001b[0m_arraylike\u001b[0m\u001b[1;33m(\u001b[0m\u001b[0marg\u001b[0m\u001b[1;33m)\u001b[0m \u001b[1;32mfor\u001b[0m \u001b[0marg\u001b[0m \u001b[1;32min\u001b[0m \u001b[0margs\u001b[0m\u001b[1;33m)\u001b[0m\u001b[1;33m:\u001b[0m\u001b[1;33m\u001b[0m\u001b[1;33m\u001b[0m\u001b[0m\n\u001b[0m\u001b[0;32m    302\u001b[0m     pos, arg = next((i, arg) for i, arg in enumerate(args)\n\u001b[0;32m    303\u001b[0m                     if not _arraylike(arg))\n",
      "\u001b[1;32m~/.local/share/virtualenvs/jax-yjI4wS2g/lib/python3.7/site-packages/jax/_src/numpy/lax_numpy.py\u001b[0m in \u001b[0;36m_arraylike\u001b[1;34m(x)\u001b[0m\n\u001b[0;32m    294\u001b[0m \u001b[1;33m\u001b[0m\u001b[0m\n\u001b[0;32m    295\u001b[0m \u001b[1;32mdef\u001b[0m \u001b[0m_arraylike\u001b[0m\u001b[1;33m(\u001b[0m\u001b[0mx\u001b[0m\u001b[1;33m)\u001b[0m\u001b[1;33m:\u001b[0m\u001b[1;33m\u001b[0m\u001b[1;33m\u001b[0m\u001b[0m\n\u001b[1;32m--> 296\u001b[1;33m   \u001b[1;32mreturn\u001b[0m \u001b[0misinstance\u001b[0m\u001b[1;33m(\u001b[0m\u001b[0mx\u001b[0m\u001b[1;33m,\u001b[0m \u001b[0mndarray\u001b[0m\u001b[1;33m)\u001b[0m \u001b[1;32mor\u001b[0m \u001b[0misscalar\u001b[0m\u001b[1;33m(\u001b[0m\u001b[0mx\u001b[0m\u001b[1;33m)\u001b[0m \u001b[1;32mor\u001b[0m \u001b[0mhasattr\u001b[0m\u001b[1;33m(\u001b[0m\u001b[0mx\u001b[0m\u001b[1;33m,\u001b[0m \u001b[1;34m'__jax_array__'\u001b[0m\u001b[1;33m)\u001b[0m\u001b[1;33m\u001b[0m\u001b[1;33m\u001b[0m\u001b[0m\n\u001b[0m\u001b[0;32m    297\u001b[0m \u001b[1;33m\u001b[0m\u001b[0m\n\u001b[0;32m    298\u001b[0m \u001b[1;32mdef\u001b[0m \u001b[0m_check_arraylike\u001b[0m\u001b[1;33m(\u001b[0m\u001b[0mfun_name\u001b[0m\u001b[1;33m,\u001b[0m \u001b[1;33m*\u001b[0m\u001b[0margs\u001b[0m\u001b[1;33m)\u001b[0m\u001b[1;33m:\u001b[0m\u001b[1;33m\u001b[0m\u001b[1;33m\u001b[0m\u001b[0m\n",
      "\u001b[1;32m~/.local/share/virtualenvs/jax-yjI4wS2g/lib/python3.7/site-packages/jax/_src/numpy/lax_numpy.py\u001b[0m in \u001b[0;36m__instancecheck__\u001b[1;34m(self, instance)\u001b[0m\n\u001b[0;32m    103\u001b[0m   \u001b[1;32mdef\u001b[0m \u001b[0m__instancecheck__\u001b[0m\u001b[1;33m(\u001b[0m\u001b[0mself\u001b[0m\u001b[1;33m,\u001b[0m \u001b[0minstance\u001b[0m\u001b[1;33m)\u001b[0m\u001b[1;33m:\u001b[0m\u001b[1;33m\u001b[0m\u001b[1;33m\u001b[0m\u001b[0m\n\u001b[0;32m    104\u001b[0m     \u001b[1;32mtry\u001b[0m\u001b[1;33m:\u001b[0m\u001b[1;33m\u001b[0m\u001b[1;33m\u001b[0m\u001b[0m\n\u001b[1;32m--> 105\u001b[1;33m       \u001b[1;32mreturn\u001b[0m \u001b[0misinstance\u001b[0m\u001b[1;33m(\u001b[0m\u001b[0minstance\u001b[0m\u001b[1;33m.\u001b[0m\u001b[0maval\u001b[0m\u001b[1;33m,\u001b[0m \u001b[0m_arraylike_types\u001b[0m\u001b[1;33m)\u001b[0m\u001b[1;33m\u001b[0m\u001b[1;33m\u001b[0m\u001b[0m\n\u001b[0m\u001b[0;32m    106\u001b[0m     \u001b[1;32mexcept\u001b[0m \u001b[0mAttributeError\u001b[0m\u001b[1;33m:\u001b[0m\u001b[1;33m\u001b[0m\u001b[1;33m\u001b[0m\u001b[0m\n\u001b[0;32m    107\u001b[0m       \u001b[1;32mreturn\u001b[0m \u001b[0misinstance\u001b[0m\u001b[1;33m(\u001b[0m\u001b[0minstance\u001b[0m\u001b[1;33m,\u001b[0m \u001b[0m_arraylike_types\u001b[0m\u001b[1;33m)\u001b[0m\u001b[1;33m\u001b[0m\u001b[1;33m\u001b[0m\u001b[0m\n",
      "\u001b[1;32m~/.local/share/virtualenvs/jax-yjI4wS2g/lib/python3.7/site-packages/jax/interpreters/batching.py\u001b[0m in \u001b[0;36maval\u001b[1;34m(self)\u001b[0m\n\u001b[0;32m     99\u001b[0m   \u001b[1;33m@\u001b[0m\u001b[0mproperty\u001b[0m\u001b[1;33m\u001b[0m\u001b[1;33m\u001b[0m\u001b[0m\n\u001b[0;32m    100\u001b[0m   \u001b[1;32mdef\u001b[0m \u001b[0maval\u001b[0m\u001b[1;33m(\u001b[0m\u001b[0mself\u001b[0m\u001b[1;33m)\u001b[0m\u001b[1;33m:\u001b[0m\u001b[1;33m\u001b[0m\u001b[1;33m\u001b[0m\u001b[0m\n\u001b[1;32m--> 101\u001b[1;33m     \u001b[0maval\u001b[0m \u001b[1;33m=\u001b[0m \u001b[0mraise_to_shaped\u001b[0m\u001b[1;33m(\u001b[0m\u001b[0mcore\u001b[0m\u001b[1;33m.\u001b[0m\u001b[0mget_aval\u001b[0m\u001b[1;33m(\u001b[0m\u001b[0mself\u001b[0m\u001b[1;33m.\u001b[0m\u001b[0mval\u001b[0m\u001b[1;33m)\u001b[0m\u001b[1;33m)\u001b[0m\u001b[1;33m\u001b[0m\u001b[1;33m\u001b[0m\u001b[0m\n\u001b[0m\u001b[0;32m    102\u001b[0m     \u001b[1;32mif\u001b[0m \u001b[0mself\u001b[0m\u001b[1;33m.\u001b[0m\u001b[0mbatch_dim\u001b[0m \u001b[1;32mis\u001b[0m \u001b[0mnot_mapped\u001b[0m \u001b[1;32mor\u001b[0m \u001b[0maval\u001b[0m \u001b[1;32mis\u001b[0m \u001b[0mcore\u001b[0m\u001b[1;33m.\u001b[0m\u001b[0mabstract_unit\u001b[0m\u001b[1;33m:\u001b[0m\u001b[1;33m\u001b[0m\u001b[1;33m\u001b[0m\u001b[0m\n\u001b[0;32m    103\u001b[0m       \u001b[1;32mreturn\u001b[0m \u001b[0maval\u001b[0m\u001b[1;33m\u001b[0m\u001b[1;33m\u001b[0m\u001b[0m\n",
      "\u001b[1;32m~/.local/share/virtualenvs/jax-yjI4wS2g/lib/python3.7/site-packages/jax/core.py\u001b[0m in \u001b[0;36mget_aval\u001b[1;34m(x)\u001b[0m\n\u001b[0;32m    925\u001b[0m     \u001b[1;32mreturn\u001b[0m \u001b[0mx\u001b[0m\u001b[1;33m.\u001b[0m\u001b[0maval\u001b[0m\u001b[1;33m\u001b[0m\u001b[1;33m\u001b[0m\u001b[0m\n\u001b[0;32m    926\u001b[0m   \u001b[1;32melse\u001b[0m\u001b[1;33m:\u001b[0m\u001b[1;33m\u001b[0m\u001b[1;33m\u001b[0m\u001b[0m\n\u001b[1;32m--> 927\u001b[1;33m     \u001b[1;32mreturn\u001b[0m \u001b[0mconcrete_aval\u001b[0m\u001b[1;33m(\u001b[0m\u001b[0mx\u001b[0m\u001b[1;33m)\u001b[0m\u001b[1;33m\u001b[0m\u001b[1;33m\u001b[0m\u001b[0m\n\u001b[0m\u001b[0;32m    928\u001b[0m \u001b[1;33m\u001b[0m\u001b[0m\n\u001b[0;32m    929\u001b[0m \u001b[1;33m\u001b[0m\u001b[0m\n",
      "\u001b[1;32m~/.local/share/virtualenvs/jax-yjI4wS2g/lib/python3.7/site-packages/jax/core.py\u001b[0m in \u001b[0;36mconcrete_aval\u001b[1;34m(x)\u001b[0m\n\u001b[0;32m    912\u001b[0m \u001b[1;33m\u001b[0m\u001b[0m\n\u001b[0;32m    913\u001b[0m \u001b[1;32mdef\u001b[0m \u001b[0mconcrete_aval\u001b[0m\u001b[1;33m(\u001b[0m\u001b[0mx\u001b[0m\u001b[1;33m)\u001b[0m\u001b[1;33m:\u001b[0m\u001b[1;33m\u001b[0m\u001b[1;33m\u001b[0m\u001b[0m\n\u001b[1;32m--> 914\u001b[1;33m   \u001b[1;32mfor\u001b[0m \u001b[0mtyp\u001b[0m \u001b[1;32min\u001b[0m \u001b[0mtype\u001b[0m\u001b[1;33m(\u001b[0m\u001b[0mx\u001b[0m\u001b[1;33m)\u001b[0m\u001b[1;33m.\u001b[0m\u001b[0mmro\u001b[0m\u001b[1;33m(\u001b[0m\u001b[1;33m)\u001b[0m\u001b[1;33m:\u001b[0m\u001b[1;33m\u001b[0m\u001b[1;33m\u001b[0m\u001b[0m\n\u001b[0m\u001b[0;32m    915\u001b[0m     \u001b[0mhandler\u001b[0m \u001b[1;33m=\u001b[0m \u001b[0mpytype_aval_mappings\u001b[0m\u001b[1;33m.\u001b[0m\u001b[0mget\u001b[0m\u001b[1;33m(\u001b[0m\u001b[0mtyp\u001b[0m\u001b[1;33m)\u001b[0m\u001b[1;33m\u001b[0m\u001b[1;33m\u001b[0m\u001b[0m\n\u001b[0;32m    916\u001b[0m     \u001b[1;32mif\u001b[0m \u001b[0mhandler\u001b[0m\u001b[1;33m:\u001b[0m \u001b[1;32mreturn\u001b[0m \u001b[0mhandler\u001b[0m\u001b[1;33m(\u001b[0m\u001b[0mx\u001b[0m\u001b[1;33m)\u001b[0m\u001b[1;33m\u001b[0m\u001b[1;33m\u001b[0m\u001b[0m\n",
      "\u001b[1;31mKeyboardInterrupt\u001b[0m: "
     ]
    }
   ],
   "source": [
    "num_epochs = 10\n",
    "opt_step_size = 1e-3\n",
    "opt_init, opt_update, get_params = optimizers.adam(step_size)\n",
    "opt_state = opt_init(params)\n",
    "\n",
    "batch_forward = vmap(Module.forward, in_axes=(None, None, 0, 0))\n",
    "def batch_forward_sum_loss(params, config, batch_x, batch_y):\n",
    "    loss = batch_forward(params, config, batch_x, batch_y)\n",
    "    return jnp.sum(loss)\n",
    "\n",
    "for epoch in range(num_epochs):\n",
    "    losses = []\n",
    "    for idx, (batch_x, batch_y) in enumerate(train_loader):\n",
    "        batch_x = jnp.asarray(batch_x)\n",
    "        batch_y = jnp.asarray(batch_y)\n",
    "        update_fn = value_and_grad(batch_forward_sum_loss)\n",
    "        loss, grads = update_fn(params, config, batch_x, batch_y)\n",
    "        losses.append(loss)\n",
    "        opt_state = opt_update(idx, grads, opt_state)\n",
    "        params = get_params(opt_state)\n",
    "    print('loss', np.mean(losses))"
   ]
  },
  {
   "cell_type": "code",
   "execution_count": null,
   "metadata": {},
   "outputs": [],
   "source": []
  },
  {
   "cell_type": "code",
   "execution_count": null,
   "metadata": {},
   "outputs": [],
   "source": [
    "\n",
    "\n",
    "\n",
    "\n",
    "\n",
    "\n",
    "\n",
    "\n",
    "\n",
    "\n",
    "\n",
    "\n",
    "\n",
    "\n",
    "\n",
    "\n",
    "\n",
    "\n",
    "\n",
    "\n",
    "\n",
    "\n",
    "\n",
    "\n",
    "\n",
    "\n",
    "\n",
    "\n",
    "\n",
    "\n",
    "\n",
    "\n",
    "\n",
    "\n",
    "\n",
    "\n",
    "\n",
    "\n",
    "\n",
    "\n",
    "\n",
    "\n",
    "\n",
    "\n",
    "\n",
    "\n",
    "\n",
    "\n",
    "\n",
    "\n",
    "\n",
    "\n",
    "\n",
    "\n",
    "\n",
    "\n",
    "\n",
    "\n",
    "\n",
    "\n",
    "\n",
    "\n",
    "\n",
    "\n",
    "\n",
    "\n"
   ]
  }
 ],
 "metadata": {
  "kernelspec": {
   "display_name": "rl_playground_jax",
   "language": "python",
   "name": "rl_playground_jax"
  },
  "language_info": {
   "codemirror_mode": {
    "name": "ipython",
    "version": 3
   },
   "file_extension": ".py",
   "mimetype": "text/x-python",
   "name": "python",
   "nbconvert_exporter": "python",
   "pygments_lexer": "ipython3",
   "version": "3.7.4"
  },
  "varInspector": {
   "cols": {
    "lenName": 16,
    "lenType": 16,
    "lenVar": 40
   },
   "kernels_config": {
    "python": {
     "delete_cmd_postfix": "",
     "delete_cmd_prefix": "del ",
     "library": "var_list.py",
     "varRefreshCmd": "print(var_dic_list())"
    },
    "r": {
     "delete_cmd_postfix": ") ",
     "delete_cmd_prefix": "rm(",
     "library": "var_list.r",
     "varRefreshCmd": "cat(var_dic_list()) "
    }
   },
   "types_to_exclude": [
    "module",
    "function",
    "builtin_function_or_method",
    "instance",
    "_Feature"
   ],
   "window_display": false
  }
 },
 "nbformat": 4,
 "nbformat_minor": 4
}
