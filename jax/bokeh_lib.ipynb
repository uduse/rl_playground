{
 "cells": [
  {
   "cell_type": "code",
   "execution_count": 3,
   "id": "0b29cc79",
   "metadata": {
    "ExecuteTime": {
     "end_time": "2021-05-05T02:33:14.210657Z",
     "start_time": "2021-05-05T02:33:13.836469Z"
    }
   },
   "outputs": [
    {
     "data": {
      "text/html": [
       "\n",
       "    <div class=\"bk-root\">\n",
       "        <a href=\"https://bokeh.org\" target=\"_blank\" class=\"bk-logo bk-logo-small bk-logo-notebook\"></a>\n",
       "        <span id=\"1002\">Loading BokehJS ...</span>\n",
       "    </div>"
      ]
     },
     "metadata": {},
     "output_type": "display_data"
    },
    {
     "data": {
      "application/javascript": [
       "\n",
       "(function(root) {\n",
       "  function now() {\n",
       "    return new Date();\n",
       "  }\n",
       "\n",
       "  var force = true;\n",
       "\n",
       "  if (typeof root._bokeh_onload_callbacks === \"undefined\" || force === true) {\n",
       "    root._bokeh_onload_callbacks = [];\n",
       "    root._bokeh_is_loading = undefined;\n",
       "  }\n",
       "\n",
       "  var JS_MIME_TYPE = 'application/javascript';\n",
       "  var HTML_MIME_TYPE = 'text/html';\n",
       "  var EXEC_MIME_TYPE = 'application/vnd.bokehjs_exec.v0+json';\n",
       "  var CLASS_NAME = 'output_bokeh rendered_html';\n",
       "\n",
       "  /**\n",
       "   * Render data to the DOM node\n",
       "   */\n",
       "  function render(props, node) {\n",
       "    var script = document.createElement(\"script\");\n",
       "    node.appendChild(script);\n",
       "  }\n",
       "\n",
       "  /**\n",
       "   * Handle when an output is cleared or removed\n",
       "   */\n",
       "  function handleClearOutput(event, handle) {\n",
       "    var cell = handle.cell;\n",
       "\n",
       "    var id = cell.output_area._bokeh_element_id;\n",
       "    var server_id = cell.output_area._bokeh_server_id;\n",
       "    // Clean up Bokeh references\n",
       "    if (id != null && id in Bokeh.index) {\n",
       "      Bokeh.index[id].model.document.clear();\n",
       "      delete Bokeh.index[id];\n",
       "    }\n",
       "\n",
       "    if (server_id !== undefined) {\n",
       "      // Clean up Bokeh references\n",
       "      var cmd = \"from bokeh.io.state import curstate; print(curstate().uuid_to_server['\" + server_id + \"'].get_sessions()[0].document.roots[0]._id)\";\n",
       "      cell.notebook.kernel.execute(cmd, {\n",
       "        iopub: {\n",
       "          output: function(msg) {\n",
       "            var id = msg.content.text.trim();\n",
       "            if (id in Bokeh.index) {\n",
       "              Bokeh.index[id].model.document.clear();\n",
       "              delete Bokeh.index[id];\n",
       "            }\n",
       "          }\n",
       "        }\n",
       "      });\n",
       "      // Destroy server and session\n",
       "      var cmd = \"import bokeh.io.notebook as ion; ion.destroy_server('\" + server_id + \"')\";\n",
       "      cell.notebook.kernel.execute(cmd);\n",
       "    }\n",
       "  }\n",
       "\n",
       "  /**\n",
       "   * Handle when a new output is added\n",
       "   */\n",
       "  function handleAddOutput(event, handle) {\n",
       "    var output_area = handle.output_area;\n",
       "    var output = handle.output;\n",
       "\n",
       "    // limit handleAddOutput to display_data with EXEC_MIME_TYPE content only\n",
       "    if ((output.output_type != \"display_data\") || (!Object.prototype.hasOwnProperty.call(output.data, EXEC_MIME_TYPE))) {\n",
       "      return\n",
       "    }\n",
       "\n",
       "    var toinsert = output_area.element.find(\".\" + CLASS_NAME.split(' ')[0]);\n",
       "\n",
       "    if (output.metadata[EXEC_MIME_TYPE][\"id\"] !== undefined) {\n",
       "      toinsert[toinsert.length - 1].firstChild.textContent = output.data[JS_MIME_TYPE];\n",
       "      // store reference to embed id on output_area\n",
       "      output_area._bokeh_element_id = output.metadata[EXEC_MIME_TYPE][\"id\"];\n",
       "    }\n",
       "    if (output.metadata[EXEC_MIME_TYPE][\"server_id\"] !== undefined) {\n",
       "      var bk_div = document.createElement(\"div\");\n",
       "      bk_div.innerHTML = output.data[HTML_MIME_TYPE];\n",
       "      var script_attrs = bk_div.children[0].attributes;\n",
       "      for (var i = 0; i < script_attrs.length; i++) {\n",
       "        toinsert[toinsert.length - 1].firstChild.setAttribute(script_attrs[i].name, script_attrs[i].value);\n",
       "        toinsert[toinsert.length - 1].firstChild.textContent = bk_div.children[0].textContent\n",
       "      }\n",
       "      // store reference to server id on output_area\n",
       "      output_area._bokeh_server_id = output.metadata[EXEC_MIME_TYPE][\"server_id\"];\n",
       "    }\n",
       "  }\n",
       "\n",
       "  function register_renderer(events, OutputArea) {\n",
       "\n",
       "    function append_mime(data, metadata, element) {\n",
       "      // create a DOM node to render to\n",
       "      var toinsert = this.create_output_subarea(\n",
       "        metadata,\n",
       "        CLASS_NAME,\n",
       "        EXEC_MIME_TYPE\n",
       "      );\n",
       "      this.keyboard_manager.register_events(toinsert);\n",
       "      // Render to node\n",
       "      var props = {data: data, metadata: metadata[EXEC_MIME_TYPE]};\n",
       "      render(props, toinsert[toinsert.length - 1]);\n",
       "      element.append(toinsert);\n",
       "      return toinsert\n",
       "    }\n",
       "\n",
       "    /* Handle when an output is cleared or removed */\n",
       "    events.on('clear_output.CodeCell', handleClearOutput);\n",
       "    events.on('delete.Cell', handleClearOutput);\n",
       "\n",
       "    /* Handle when a new output is added */\n",
       "    events.on('output_added.OutputArea', handleAddOutput);\n",
       "\n",
       "    /**\n",
       "     * Register the mime type and append_mime function with output_area\n",
       "     */\n",
       "    OutputArea.prototype.register_mime_type(EXEC_MIME_TYPE, append_mime, {\n",
       "      /* Is output safe? */\n",
       "      safe: true,\n",
       "      /* Index of renderer in `output_area.display_order` */\n",
       "      index: 0\n",
       "    });\n",
       "  }\n",
       "\n",
       "  // register the mime type if in Jupyter Notebook environment and previously unregistered\n",
       "  if (root.Jupyter !== undefined) {\n",
       "    var events = require('base/js/events');\n",
       "    var OutputArea = require('notebook/js/outputarea').OutputArea;\n",
       "\n",
       "    if (OutputArea.prototype.mime_types().indexOf(EXEC_MIME_TYPE) == -1) {\n",
       "      register_renderer(events, OutputArea);\n",
       "    }\n",
       "  }\n",
       "\n",
       "  \n",
       "  if (typeof (root._bokeh_timeout) === \"undefined\" || force === true) {\n",
       "    root._bokeh_timeout = Date.now() + 5000;\n",
       "    root._bokeh_failed_load = false;\n",
       "  }\n",
       "\n",
       "  var NB_LOAD_WARNING = {'data': {'text/html':\n",
       "     \"<div style='background-color: #fdd'>\\n\"+\n",
       "     \"<p>\\n\"+\n",
       "     \"BokehJS does not appear to have successfully loaded. If loading BokehJS from CDN, this \\n\"+\n",
       "     \"may be due to a slow or bad network connection. Possible fixes:\\n\"+\n",
       "     \"</p>\\n\"+\n",
       "     \"<ul>\\n\"+\n",
       "     \"<li>re-rerun `output_notebook()` to attempt to load from CDN again, or</li>\\n\"+\n",
       "     \"<li>use INLINE resources instead, as so:</li>\\n\"+\n",
       "     \"</ul>\\n\"+\n",
       "     \"<code>\\n\"+\n",
       "     \"from bokeh.resources import INLINE\\n\"+\n",
       "     \"output_notebook(resources=INLINE)\\n\"+\n",
       "     \"</code>\\n\"+\n",
       "     \"</div>\"}};\n",
       "\n",
       "  function display_loaded() {\n",
       "    var el = document.getElementById(\"1002\");\n",
       "    if (el != null) {\n",
       "      el.textContent = \"BokehJS is loading...\";\n",
       "    }\n",
       "    if (root.Bokeh !== undefined) {\n",
       "      if (el != null) {\n",
       "        el.textContent = \"BokehJS \" + root.Bokeh.version + \" successfully loaded.\";\n",
       "      }\n",
       "    } else if (Date.now() < root._bokeh_timeout) {\n",
       "      setTimeout(display_loaded, 100)\n",
       "    }\n",
       "  }\n",
       "\n",
       "\n",
       "  function run_callbacks() {\n",
       "    try {\n",
       "      root._bokeh_onload_callbacks.forEach(function(callback) {\n",
       "        if (callback != null)\n",
       "          callback();\n",
       "      });\n",
       "    } finally {\n",
       "      delete root._bokeh_onload_callbacks\n",
       "    }\n",
       "    console.debug(\"Bokeh: all callbacks have finished\");\n",
       "  }\n",
       "\n",
       "  function load_libs(css_urls, js_urls, callback) {\n",
       "    if (css_urls == null) css_urls = [];\n",
       "    if (js_urls == null) js_urls = [];\n",
       "\n",
       "    root._bokeh_onload_callbacks.push(callback);\n",
       "    if (root._bokeh_is_loading > 0) {\n",
       "      console.debug(\"Bokeh: BokehJS is being loaded, scheduling callback at\", now());\n",
       "      return null;\n",
       "    }\n",
       "    if (js_urls == null || js_urls.length === 0) {\n",
       "      run_callbacks();\n",
       "      return null;\n",
       "    }\n",
       "    console.debug(\"Bokeh: BokehJS not loaded, scheduling load and callback at\", now());\n",
       "    root._bokeh_is_loading = css_urls.length + js_urls.length;\n",
       "\n",
       "    function on_load() {\n",
       "      root._bokeh_is_loading--;\n",
       "      if (root._bokeh_is_loading === 0) {\n",
       "        console.debug(\"Bokeh: all BokehJS libraries/stylesheets loaded\");\n",
       "        run_callbacks()\n",
       "      }\n",
       "    }\n",
       "\n",
       "    function on_error(url) {\n",
       "      console.error(\"failed to load \" + url);\n",
       "    }\n",
       "\n",
       "    for (let i = 0; i < css_urls.length; i++) {\n",
       "      const url = css_urls[i];\n",
       "      const element = document.createElement(\"link\");\n",
       "      element.onload = on_load;\n",
       "      element.onerror = on_error.bind(null, url);\n",
       "      element.rel = \"stylesheet\";\n",
       "      element.type = \"text/css\";\n",
       "      element.href = url;\n",
       "      console.debug(\"Bokeh: injecting link tag for BokehJS stylesheet: \", url);\n",
       "      document.body.appendChild(element);\n",
       "    }\n",
       "\n",
       "    const hashes = {\"https://cdn.bokeh.org/bokeh/release/bokeh-2.3.1.min.js\": \"YF85VygJKMVnHE+lLv2AM93Vbstr0yo2TbIu5v8se5Rq3UQAUmcuh4aaJwNlpKwa\", \"https://cdn.bokeh.org/bokeh/release/bokeh-widgets-2.3.1.min.js\": \"KKuas3gevv3PvrlkyCMzffFeaMq5we/a2QsP5AUoS3mJ0jmaCL7jirFJN3GoE/lM\", \"https://cdn.bokeh.org/bokeh/release/bokeh-tables-2.3.1.min.js\": \"MK/uFc3YT18pkvvXRl66tTHjP0/dxoSH2e/eiNMFIguKlun2+WVqaPTWmUy/zvh4\"};\n",
       "\n",
       "    for (let i = 0; i < js_urls.length; i++) {\n",
       "      const url = js_urls[i];\n",
       "      const element = document.createElement('script');\n",
       "      element.onload = on_load;\n",
       "      element.onerror = on_error.bind(null, url);\n",
       "      element.async = false;\n",
       "      element.src = url;\n",
       "      if (url in hashes) {\n",
       "        element.crossOrigin = \"anonymous\";\n",
       "        element.integrity = \"sha384-\" + hashes[url];\n",
       "      }\n",
       "      console.debug(\"Bokeh: injecting script tag for BokehJS library: \", url);\n",
       "      document.head.appendChild(element);\n",
       "    }\n",
       "  };\n",
       "\n",
       "  function inject_raw_css(css) {\n",
       "    const element = document.createElement(\"style\");\n",
       "    element.appendChild(document.createTextNode(css));\n",
       "    document.body.appendChild(element);\n",
       "  }\n",
       "\n",
       "  \n",
       "  var js_urls = [\"https://cdn.bokeh.org/bokeh/release/bokeh-2.3.1.min.js\", \"https://cdn.bokeh.org/bokeh/release/bokeh-widgets-2.3.1.min.js\", \"https://cdn.bokeh.org/bokeh/release/bokeh-tables-2.3.1.min.js\"];\n",
       "  var css_urls = [];\n",
       "  \n",
       "\n",
       "  var inline_js = [\n",
       "    function(Bokeh) {\n",
       "      Bokeh.set_log_level(\"info\");\n",
       "    },\n",
       "    function(Bokeh) {\n",
       "    \n",
       "    \n",
       "    }\n",
       "  ];\n",
       "\n",
       "  function run_inline_js() {\n",
       "    \n",
       "    if (root.Bokeh !== undefined || force === true) {\n",
       "      \n",
       "    for (var i = 0; i < inline_js.length; i++) {\n",
       "      inline_js[i].call(root, root.Bokeh);\n",
       "    }\n",
       "    if (force === true) {\n",
       "        display_loaded();\n",
       "      }} else if (Date.now() < root._bokeh_timeout) {\n",
       "      setTimeout(run_inline_js, 100);\n",
       "    } else if (!root._bokeh_failed_load) {\n",
       "      console.log(\"Bokeh: BokehJS failed to load within specified timeout.\");\n",
       "      root._bokeh_failed_load = true;\n",
       "    } else if (force !== true) {\n",
       "      var cell = $(document.getElementById(\"1002\")).parents('.cell').data().cell;\n",
       "      cell.output_area.append_execute_result(NB_LOAD_WARNING)\n",
       "    }\n",
       "\n",
       "  }\n",
       "\n",
       "  if (root._bokeh_is_loading === 0) {\n",
       "    console.debug(\"Bokeh: BokehJS loaded, going straight to plotting\");\n",
       "    run_inline_js();\n",
       "  } else {\n",
       "    load_libs(css_urls, js_urls, function() {\n",
       "      console.debug(\"Bokeh: BokehJS plotting callback run at\", now());\n",
       "      run_inline_js();\n",
       "    });\n",
       "  }\n",
       "}(window));"
      ],
      "application/vnd.bokehjs_load.v0+json": "\n(function(root) {\n  function now() {\n    return new Date();\n  }\n\n  var force = true;\n\n  if (typeof root._bokeh_onload_callbacks === \"undefined\" || force === true) {\n    root._bokeh_onload_callbacks = [];\n    root._bokeh_is_loading = undefined;\n  }\n\n  \n\n  \n  if (typeof (root._bokeh_timeout) === \"undefined\" || force === true) {\n    root._bokeh_timeout = Date.now() + 5000;\n    root._bokeh_failed_load = false;\n  }\n\n  var NB_LOAD_WARNING = {'data': {'text/html':\n     \"<div style='background-color: #fdd'>\\n\"+\n     \"<p>\\n\"+\n     \"BokehJS does not appear to have successfully loaded. If loading BokehJS from CDN, this \\n\"+\n     \"may be due to a slow or bad network connection. Possible fixes:\\n\"+\n     \"</p>\\n\"+\n     \"<ul>\\n\"+\n     \"<li>re-rerun `output_notebook()` to attempt to load from CDN again, or</li>\\n\"+\n     \"<li>use INLINE resources instead, as so:</li>\\n\"+\n     \"</ul>\\n\"+\n     \"<code>\\n\"+\n     \"from bokeh.resources import INLINE\\n\"+\n     \"output_notebook(resources=INLINE)\\n\"+\n     \"</code>\\n\"+\n     \"</div>\"}};\n\n  function display_loaded() {\n    var el = document.getElementById(\"1002\");\n    if (el != null) {\n      el.textContent = \"BokehJS is loading...\";\n    }\n    if (root.Bokeh !== undefined) {\n      if (el != null) {\n        el.textContent = \"BokehJS \" + root.Bokeh.version + \" successfully loaded.\";\n      }\n    } else if (Date.now() < root._bokeh_timeout) {\n      setTimeout(display_loaded, 100)\n    }\n  }\n\n\n  function run_callbacks() {\n    try {\n      root._bokeh_onload_callbacks.forEach(function(callback) {\n        if (callback != null)\n          callback();\n      });\n    } finally {\n      delete root._bokeh_onload_callbacks\n    }\n    console.debug(\"Bokeh: all callbacks have finished\");\n  }\n\n  function load_libs(css_urls, js_urls, callback) {\n    if (css_urls == null) css_urls = [];\n    if (js_urls == null) js_urls = [];\n\n    root._bokeh_onload_callbacks.push(callback);\n    if (root._bokeh_is_loading > 0) {\n      console.debug(\"Bokeh: BokehJS is being loaded, scheduling callback at\", now());\n      return null;\n    }\n    if (js_urls == null || js_urls.length === 0) {\n      run_callbacks();\n      return null;\n    }\n    console.debug(\"Bokeh: BokehJS not loaded, scheduling load and callback at\", now());\n    root._bokeh_is_loading = css_urls.length + js_urls.length;\n\n    function on_load() {\n      root._bokeh_is_loading--;\n      if (root._bokeh_is_loading === 0) {\n        console.debug(\"Bokeh: all BokehJS libraries/stylesheets loaded\");\n        run_callbacks()\n      }\n    }\n\n    function on_error(url) {\n      console.error(\"failed to load \" + url);\n    }\n\n    for (let i = 0; i < css_urls.length; i++) {\n      const url = css_urls[i];\n      const element = document.createElement(\"link\");\n      element.onload = on_load;\n      element.onerror = on_error.bind(null, url);\n      element.rel = \"stylesheet\";\n      element.type = \"text/css\";\n      element.href = url;\n      console.debug(\"Bokeh: injecting link tag for BokehJS stylesheet: \", url);\n      document.body.appendChild(element);\n    }\n\n    const hashes = {\"https://cdn.bokeh.org/bokeh/release/bokeh-2.3.1.min.js\": \"YF85VygJKMVnHE+lLv2AM93Vbstr0yo2TbIu5v8se5Rq3UQAUmcuh4aaJwNlpKwa\", \"https://cdn.bokeh.org/bokeh/release/bokeh-widgets-2.3.1.min.js\": \"KKuas3gevv3PvrlkyCMzffFeaMq5we/a2QsP5AUoS3mJ0jmaCL7jirFJN3GoE/lM\", \"https://cdn.bokeh.org/bokeh/release/bokeh-tables-2.3.1.min.js\": \"MK/uFc3YT18pkvvXRl66tTHjP0/dxoSH2e/eiNMFIguKlun2+WVqaPTWmUy/zvh4\"};\n\n    for (let i = 0; i < js_urls.length; i++) {\n      const url = js_urls[i];\n      const element = document.createElement('script');\n      element.onload = on_load;\n      element.onerror = on_error.bind(null, url);\n      element.async = false;\n      element.src = url;\n      if (url in hashes) {\n        element.crossOrigin = \"anonymous\";\n        element.integrity = \"sha384-\" + hashes[url];\n      }\n      console.debug(\"Bokeh: injecting script tag for BokehJS library: \", url);\n      document.head.appendChild(element);\n    }\n  };\n\n  function inject_raw_css(css) {\n    const element = document.createElement(\"style\");\n    element.appendChild(document.createTextNode(css));\n    document.body.appendChild(element);\n  }\n\n  \n  var js_urls = [\"https://cdn.bokeh.org/bokeh/release/bokeh-2.3.1.min.js\", \"https://cdn.bokeh.org/bokeh/release/bokeh-widgets-2.3.1.min.js\", \"https://cdn.bokeh.org/bokeh/release/bokeh-tables-2.3.1.min.js\"];\n  var css_urls = [];\n  \n\n  var inline_js = [\n    function(Bokeh) {\n      Bokeh.set_log_level(\"info\");\n    },\n    function(Bokeh) {\n    \n    \n    }\n  ];\n\n  function run_inline_js() {\n    \n    if (root.Bokeh !== undefined || force === true) {\n      \n    for (var i = 0; i < inline_js.length; i++) {\n      inline_js[i].call(root, root.Bokeh);\n    }\n    if (force === true) {\n        display_loaded();\n      }} else if (Date.now() < root._bokeh_timeout) {\n      setTimeout(run_inline_js, 100);\n    } else if (!root._bokeh_failed_load) {\n      console.log(\"Bokeh: BokehJS failed to load within specified timeout.\");\n      root._bokeh_failed_load = true;\n    } else if (force !== true) {\n      var cell = $(document.getElementById(\"1002\")).parents('.cell').data().cell;\n      cell.output_area.append_execute_result(NB_LOAD_WARNING)\n    }\n\n  }\n\n  if (root._bokeh_is_loading === 0) {\n    console.debug(\"Bokeh: BokehJS loaded, going straight to plotting\");\n    run_inline_js();\n  } else {\n    load_libs(css_urls, js_urls, function() {\n      console.debug(\"Bokeh: BokehJS plotting callback run at\", now());\n      run_inline_js();\n    });\n  }\n}(window));"
     },
     "metadata": {},
     "output_type": "display_data"
    }
   ],
   "source": [
    "import time\n",
    "import numpy as np\n",
    "from dataclasses import dataclass\n",
    "from collections import defaultdict\n",
    "\n",
    "import bokeh\n",
    "from bokeh.io import push_notebook, show, output_notebook\n",
    "from bokeh import layouts\n",
    "from bokeh.plotting import figure\n",
    "from bokeh.palettes import Category10\n",
    "\n",
    "output_notebook()"
   ]
  },
  {
   "cell_type": "code",
   "execution_count": 4,
   "id": "fa6de60d",
   "metadata": {
    "ExecuteTime": {
     "end_time": "2021-05-05T02:33:14.833593Z",
     "start_time": "2021-05-05T02:33:14.829767Z"
    }
   },
   "outputs": [],
   "source": [
    "color_registry = {}\n",
    "color_iter = iter(Category10[10])\n",
    "def get_color(name):\n",
    "    if name not in color_registry:\n",
    "        color = next(color_iter)\n",
    "        color_registry[name] = color\n",
    "    return color_registry[name]"
   ]
  },
  {
   "cell_type": "code",
   "execution_count": 5,
   "id": "91c7e2e4",
   "metadata": {
    "ExecuteTime": {
     "end_time": "2021-05-05T02:33:15.010574Z",
     "start_time": "2021-05-05T02:33:15.007061Z"
    }
   },
   "outputs": [],
   "source": [
    "def moving_average(x, w):\n",
    "    cumsum = np.cumsum(np.insert(x, 0, 0)) \n",
    "    return (cumsum[w:] - cumsum[:-w]) / float(w)"
   ]
  },
  {
   "cell_type": "code",
   "execution_count": 6,
   "id": "179d519d",
   "metadata": {
    "ExecuteTime": {
     "end_time": "2021-05-05T02:33:15.178525Z",
     "start_time": "2021-05-05T02:33:15.172569Z"
    }
   },
   "outputs": [],
   "source": [
    "class DataStreamSaver(object):\n",
    "    def __init__(self):\n",
    "        self.data = defaultdict(lambda: defaultdict(list))\n",
    "        \n",
    "    def update(self, data):\n",
    "        for fig_name in data:\n",
    "            for glyph_name in data[fig_name]:\n",
    "                self.data[fig_name][glyph_name].append(data[fig_name][glyph_name])\n",
    "                \n",
    "    def reset(self):\n",
    "        for fig_name in self.data:\n",
    "            for glyph_name in self.data[fig_name]:\n",
    "                self.data[fig_name][glyph_name] = []"
   ]
  },
  {
   "cell_type": "code",
   "execution_count": 7,
   "id": "baa64033",
   "metadata": {
    "ExecuteTime": {
     "end_time": "2021-05-05T02:33:15.364045Z",
     "start_time": "2021-05-05T02:33:15.358832Z"
    }
   },
   "outputs": [],
   "source": [
    "def to_data_source(y, average_width=5, max_ticks=100):\n",
    "    y = np.array(y)\n",
    "    y = moving_average(y, average_width)\n",
    "    if y.size >= max_ticks:\n",
    "        tick = int(np.ceil(y.size / max_ticks))\n",
    "        y = y[::tick]\n",
    "    x = np.arange(y.size)\n",
    "    return bokeh.models.ColumnDataSource({\n",
    "        'x': x,\n",
    "        'y': y\n",
    "    })"
   ]
  },
  {
   "cell_type": "code",
   "execution_count": 66,
   "id": "7b010ae7",
   "metadata": {
    "ExecuteTime": {
     "end_time": "2021-05-05T02:45:42.003817Z",
     "start_time": "2021-05-05T02:45:41.995595Z"
    }
   },
   "outputs": [],
   "source": [
    "class LineFigure(object):\n",
    "    def __init__(self, title, **kwargs):\n",
    "        self.fig = figure(title=title, width=800, height=300, **kwargs)\n",
    "        self.glyphs = {}\n",
    "        \n",
    "    def update_glyph(self, glyph_name, data_source):\n",
    "#         if glyph_name in self.glyphs:\n",
    "#             self.fig.renderers.remove(self.glyphs[glyph_name])\n",
    "\n",
    "        if glyph_name not in self.glyphs:\n",
    "            self.glyphs[glyph_name] = self.fig.line(\n",
    "                legend_label=glyph_name,\n",
    "                color=get_color(glyph_name),\n",
    "                alpha=0.7,\n",
    "                line_width=2,\n",
    "                name=glyph_name\n",
    "            )\n",
    "            self.fig.legend.location = 'top_left'\n",
    "#         print('update!')\n",
    "        self.glyphs[glyph_name].data_source = data_source\n",
    "        self.glyphs[glyph_name].trigger"
   ]
  },
  {
   "cell_type": "code",
   "execution_count": 67,
   "id": "c229bfba",
   "metadata": {
    "ExecuteTime": {
     "end_time": "2021-05-05T02:45:42.911666Z",
     "start_time": "2021-05-05T02:45:42.900210Z"
    }
   },
   "outputs": [],
   "source": [
    "class VisDashboard(object):\n",
    "    def __init__(self, figs):\n",
    "        self.figs = {fig.fig.title.text: fig for fig in figs}\n",
    "        self.saver = DataStreamSaver()\n",
    "        self.handle = None\n",
    "        \n",
    "    def _sync_figures(self):\n",
    "        for fig_name in self.saver.data:\n",
    "            for glyph_name in self.saver.data[fig_name]:\n",
    "                data_source = to_data_source(self.saver.data[fig_name][glyph_name])\n",
    "                self.figs[fig_name].update_glyph(glyph_name, data_source)\n",
    "            \n",
    "    def push(self):\n",
    "        self._sync_figures()\n",
    "        push_notebook(handle=self.handle)\n",
    "        \n",
    "    def show(self):\n",
    "        figs = [fig.fig for fig in self.figs.values()]\n",
    "        self.handle = show(layouts.column(figs), notebook_handle=True)"
   ]
  },
  {
   "cell_type": "code",
   "execution_count": 68,
   "id": "b49a6f3d",
   "metadata": {
    "ExecuteTime": {
     "end_time": "2021-05-05T02:45:43.077048Z",
     "start_time": "2021-05-05T02:45:43.073685Z"
    }
   },
   "outputs": [],
   "source": [
    "if '__file__' in globals():\n",
    "    class StopExecution(Exception):\n",
    "        def _render_traceback_(self):\n",
    "            pass\n",
    "    raise StopExecution"
   ]
  },
  {
   "cell_type": "code",
   "execution_count": 106,
   "id": "75464a4c",
   "metadata": {
    "ExecuteTime": {
     "end_time": "2021-05-05T02:49:37.873552Z",
     "start_time": "2021-05-05T02:49:37.763982Z"
    }
   },
   "outputs": [
    {
     "name": "stderr",
     "output_type": "stream",
     "text": [
      "WARNING:bokeh.core.validation.check:W-1000 (MISSING_RENDERERS): Plot has no renderers: Figure(id='11771', ...)\n",
      "WARNING:bokeh.core.validation.check:W-1000 (MISSING_RENDERERS): Plot has no renderers: Figure(id='11804', ...)\n"
     ]
    },
    {
     "data": {
      "text/html": [
       "\n",
       "\n",
       "\n",
       "\n",
       "\n",
       "\n",
       "  <div class=\"bk-root\" id=\"caec4522-079a-4cf3-8f1c-a0e55bd523db\" data-root-id=\"11837\"></div>\n"
      ]
     },
     "metadata": {},
     "output_type": "display_data"
    },
    {
     "data": {
      "application/javascript": [
       "(function(root) {\n",
       "  function embed_document(root) {\n",
       "    \n",
       "  var docs_json = {\"598f45be-427f-4a24-a4f1-3726eeb0ec22\":{\"defs\":[],\"roots\":{\"references\":[{\"attributes\":{\"children\":[{\"id\":\"11771\"},{\"id\":\"11804\"}]},\"id\":\"11837\",\"type\":\"Column\"},{\"attributes\":{},\"id\":\"11980\",\"type\":\"AllLabels\"},{\"attributes\":{\"text\":\"fig_a\"},\"id\":\"11772\",\"type\":\"Title\"},{\"attributes\":{},\"id\":\"11780\",\"type\":\"LinearScale\"},{\"attributes\":{\"below\":[{\"id\":\"11782\"}],\"center\":[{\"id\":\"11785\"},{\"id\":\"11789\"}],\"height\":300,\"left\":[{\"id\":\"11786\"}],\"title\":{\"id\":\"11772\"},\"toolbar\":{\"id\":\"11797\"},\"width\":800,\"x_range\":{\"id\":\"11774\"},\"x_scale\":{\"id\":\"11778\"},\"y_range\":{\"id\":\"11776\"},\"y_scale\":{\"id\":\"11780\"}},\"id\":\"11771\",\"subtype\":\"Figure\",\"type\":\"Plot\"},{\"attributes\":{\"axis\":{\"id\":\"11815\"},\"ticker\":null},\"id\":\"11818\",\"type\":\"Grid\"},{\"attributes\":{},\"id\":\"11978\",\"type\":\"BasicTickFormatter\"},{\"attributes\":{\"formatter\":{\"id\":\"11981\"},\"major_label_policy\":{\"id\":\"11980\"},\"ticker\":{\"id\":\"11820\"}},\"id\":\"11819\",\"type\":\"LinearAxis\"},{\"attributes\":{},\"id\":\"11984\",\"type\":\"BasicTickFormatter\"},{\"attributes\":{\"bottom_units\":\"screen\",\"fill_alpha\":0.5,\"fill_color\":\"lightgrey\",\"left_units\":\"screen\",\"level\":\"overlay\",\"line_alpha\":1.0,\"line_color\":\"black\",\"line_dash\":[4,4],\"line_width\":2,\"right_units\":\"screen\",\"syncable\":false,\"top_units\":\"screen\"},\"id\":\"11796\",\"type\":\"BoxAnnotation\"},{\"attributes\":{\"axis\":{\"id\":\"11786\"},\"dimension\":1,\"ticker\":null},\"id\":\"11789\",\"type\":\"Grid\"},{\"attributes\":{\"below\":[{\"id\":\"11815\"}],\"center\":[{\"id\":\"11818\"},{\"id\":\"11822\"}],\"height\":300,\"left\":[{\"id\":\"11819\"}],\"title\":{\"id\":\"11805\"},\"toolbar\":{\"id\":\"11830\"},\"width\":800,\"x_range\":{\"id\":\"11807\"},\"x_scale\":{\"id\":\"11811\"},\"y_range\":{\"id\":\"11809\"},\"y_scale\":{\"id\":\"11813\"}},\"id\":\"11804\",\"subtype\":\"Figure\",\"type\":\"Plot\"},{\"attributes\":{},\"id\":\"11787\",\"type\":\"BasicTicker\"},{\"attributes\":{\"formatter\":{\"id\":\"11984\"},\"major_label_policy\":{\"id\":\"11983\"},\"ticker\":{\"id\":\"11816\"}},\"id\":\"11815\",\"type\":\"LinearAxis\"},{\"attributes\":{},\"id\":\"11826\",\"type\":\"SaveTool\"},{\"attributes\":{},\"id\":\"11778\",\"type\":\"LinearScale\"},{\"attributes\":{},\"id\":\"11795\",\"type\":\"HelpTool\"},{\"attributes\":{\"active_multi\":null,\"tools\":[{\"id\":\"11790\"},{\"id\":\"11791\"},{\"id\":\"11792\"},{\"id\":\"11793\"},{\"id\":\"11794\"},{\"id\":\"11795\"}]},\"id\":\"11797\",\"type\":\"Toolbar\"},{\"attributes\":{},\"id\":\"11807\",\"type\":\"DataRange1d\"},{\"attributes\":{\"overlay\":{\"id\":\"11829\"}},\"id\":\"11825\",\"type\":\"BoxZoomTool\"},{\"attributes\":{},\"id\":\"11974\",\"type\":\"AllLabels\"},{\"attributes\":{},\"id\":\"11790\",\"type\":\"PanTool\"},{\"attributes\":{},\"id\":\"11823\",\"type\":\"PanTool\"},{\"attributes\":{},\"id\":\"11816\",\"type\":\"BasicTicker\"},{\"attributes\":{},\"id\":\"11811\",\"type\":\"LinearScale\"},{\"attributes\":{\"active_multi\":null,\"tools\":[{\"id\":\"11823\"},{\"id\":\"11824\"},{\"id\":\"11825\"},{\"id\":\"11826\"},{\"id\":\"11827\"},{\"id\":\"11828\"}]},\"id\":\"11830\",\"type\":\"Toolbar\"},{\"attributes\":{},\"id\":\"11809\",\"type\":\"DataRange1d\"},{\"attributes\":{},\"id\":\"11828\",\"type\":\"HelpTool\"},{\"attributes\":{},\"id\":\"11791\",\"type\":\"WheelZoomTool\"},{\"attributes\":{},\"id\":\"11981\",\"type\":\"BasicTickFormatter\"},{\"attributes\":{},\"id\":\"11774\",\"type\":\"DataRange1d\"},{\"attributes\":{},\"id\":\"11824\",\"type\":\"WheelZoomTool\"},{\"attributes\":{\"axis\":{\"id\":\"11819\"},\"dimension\":1,\"ticker\":null},\"id\":\"11822\",\"type\":\"Grid\"},{\"attributes\":{},\"id\":\"11983\",\"type\":\"AllLabels\"},{\"attributes\":{},\"id\":\"11793\",\"type\":\"SaveTool\"},{\"attributes\":{},\"id\":\"11794\",\"type\":\"ResetTool\"},{\"attributes\":{},\"id\":\"11820\",\"type\":\"BasicTicker\"},{\"attributes\":{\"bottom_units\":\"screen\",\"fill_alpha\":0.5,\"fill_color\":\"lightgrey\",\"left_units\":\"screen\",\"level\":\"overlay\",\"line_alpha\":1.0,\"line_color\":\"black\",\"line_dash\":[4,4],\"line_width\":2,\"right_units\":\"screen\",\"syncable\":false,\"top_units\":\"screen\"},\"id\":\"11829\",\"type\":\"BoxAnnotation\"},{\"attributes\":{},\"id\":\"11813\",\"type\":\"LinearScale\"},{\"attributes\":{\"formatter\":{\"id\":\"11975\"},\"major_label_policy\":{\"id\":\"11974\"},\"ticker\":{\"id\":\"11787\"}},\"id\":\"11786\",\"type\":\"LinearAxis\"},{\"attributes\":{},\"id\":\"11783\",\"type\":\"BasicTicker\"},{\"attributes\":{},\"id\":\"11776\",\"type\":\"DataRange1d\"},{\"attributes\":{\"text\":\"fig_b\"},\"id\":\"11805\",\"type\":\"Title\"},{\"attributes\":{},\"id\":\"11975\",\"type\":\"BasicTickFormatter\"},{\"attributes\":{\"axis\":{\"id\":\"11782\"},\"ticker\":null},\"id\":\"11785\",\"type\":\"Grid\"},{\"attributes\":{},\"id\":\"11977\",\"type\":\"AllLabels\"},{\"attributes\":{},\"id\":\"11827\",\"type\":\"ResetTool\"},{\"attributes\":{\"formatter\":{\"id\":\"11978\"},\"major_label_policy\":{\"id\":\"11977\"},\"ticker\":{\"id\":\"11783\"}},\"id\":\"11782\",\"type\":\"LinearAxis\"},{\"attributes\":{\"overlay\":{\"id\":\"11796\"}},\"id\":\"11792\",\"type\":\"BoxZoomTool\"}],\"root_ids\":[\"11837\"]},\"title\":\"Bokeh Application\",\"version\":\"2.3.1\"}};\n",
       "  var render_items = [{\"docid\":\"598f45be-427f-4a24-a4f1-3726eeb0ec22\",\"notebook_comms_target\":\"11988\",\"root_ids\":[\"11837\"],\"roots\":{\"11837\":\"caec4522-079a-4cf3-8f1c-a0e55bd523db\"}}];\n",
       "  root.Bokeh.embed.embed_items_notebook(docs_json, render_items);\n",
       "\n",
       "  }\n",
       "  if (root.Bokeh !== undefined) {\n",
       "    embed_document(root);\n",
       "  } else {\n",
       "    var attempts = 0;\n",
       "    var timer = setInterval(function(root) {\n",
       "      if (root.Bokeh !== undefined) {\n",
       "        clearInterval(timer);\n",
       "        embed_document(root);\n",
       "      } else {\n",
       "        attempts++;\n",
       "        if (attempts > 100) {\n",
       "          clearInterval(timer);\n",
       "          console.log(\"Bokeh: ERROR: Unable to run BokehJS code because BokehJS library is missing\");\n",
       "        }\n",
       "      }\n",
       "    }, 10, root)\n",
       "  }\n",
       "})(window);"
      ],
      "application/vnd.bokehjs_exec.v0+json": ""
     },
     "metadata": {
      "application/vnd.bokehjs_exec.v0+json": {
       "id": "11837"
      }
     },
     "output_type": "display_data"
    }
   ],
   "source": [
    "vis = VisDashboard([\n",
    "    LineFigure('fig_a'),\n",
    "    LineFigure('fig_b'),\n",
    "])\n",
    "vis.show()"
   ]
  },
  {
   "cell_type": "code",
   "execution_count": 113,
   "id": "8d174b4c",
   "metadata": {
    "ExecuteTime": {
     "end_time": "2021-05-05T02:49:59.104516Z",
     "start_time": "2021-05-05T02:49:59.102090Z"
    }
   },
   "outputs": [],
   "source": [
    "f = vis.figs['fig_b'].fig"
   ]
  },
  {
   "cell_type": "code",
   "execution_count": 75,
   "id": "56320dc2",
   "metadata": {
    "ExecuteTime": {
     "end_time": "2021-05-05T02:45:55.367452Z",
     "start_time": "2021-05-05T02:45:55.119620Z"
    }
   },
   "outputs": [],
   "source": [
    "for i in range(10):\n",
    "    l.data_source = to_data_source(np.sin(np.arange(20 + i)))\n",
    "    l.visible = False\n",
    "    \n",
    "    push_notebook(handle=vis.handle)"
   ]
  },
  {
   "cell_type": "code",
   "execution_count": 65,
   "id": "97d66415",
   "metadata": {
    "ExecuteTime": {
     "end_time": "2021-05-05T02:44:46.364567Z",
     "start_time": "2021-05-05T02:44:46.359128Z"
    }
   },
   "outputs": [
    {
     "data": {
      "text/html": [
       "<div style=\"display: table;\"><div style=\"display: table-row;\"><div style=\"display: table-cell;\"><b title=\"bokeh.plotting.figure.Figure\">Figure</b>(</div><div style=\"display: table-cell;\">id&nbsp;=&nbsp;'2908', <span id=\"7401\" style=\"cursor: pointer;\">&hellip;)</span></div></div><div class=\"7400\" style=\"display: none;\"><div style=\"display: table-cell;\"></div><div style=\"display: table-cell;\">above&nbsp;=&nbsp;[],</div></div><div class=\"7400\" style=\"display: none;\"><div style=\"display: table-cell;\"></div><div style=\"display: table-cell;\">align&nbsp;=&nbsp;'start',</div></div><div class=\"7400\" style=\"display: none;\"><div style=\"display: table-cell;\"></div><div style=\"display: table-cell;\">aspect_ratio&nbsp;=&nbsp;None,</div></div><div class=\"7400\" style=\"display: none;\"><div style=\"display: table-cell;\"></div><div style=\"display: table-cell;\">aspect_scale&nbsp;=&nbsp;1,</div></div><div class=\"7400\" style=\"display: none;\"><div style=\"display: table-cell;\"></div><div style=\"display: table-cell;\">background&nbsp;=&nbsp;None,</div></div><div class=\"7400\" style=\"display: none;\"><div style=\"display: table-cell;\"></div><div style=\"display: table-cell;\">background_fill_alpha&nbsp;=&nbsp;1.0,</div></div><div class=\"7400\" style=\"display: none;\"><div style=\"display: table-cell;\"></div><div style=\"display: table-cell;\">background_fill_color&nbsp;=&nbsp;'#ffffff',</div></div><div class=\"7400\" style=\"display: none;\"><div style=\"display: table-cell;\"></div><div style=\"display: table-cell;\">below&nbsp;=&nbsp;[LinearAxis(id='2919', ...)],</div></div><div class=\"7400\" style=\"display: none;\"><div style=\"display: table-cell;\"></div><div style=\"display: table-cell;\">border_fill_alpha&nbsp;=&nbsp;1.0,</div></div><div class=\"7400\" style=\"display: none;\"><div style=\"display: table-cell;\"></div><div style=\"display: table-cell;\">border_fill_color&nbsp;=&nbsp;'#ffffff',</div></div><div class=\"7400\" style=\"display: none;\"><div style=\"display: table-cell;\"></div><div style=\"display: table-cell;\">center&nbsp;=&nbsp;[Grid(id='2922', ...), Grid(id='2926', ...)],</div></div><div class=\"7400\" style=\"display: none;\"><div style=\"display: table-cell;\"></div><div style=\"display: table-cell;\">css_classes&nbsp;=&nbsp;[],</div></div><div class=\"7400\" style=\"display: none;\"><div style=\"display: table-cell;\"></div><div style=\"display: table-cell;\">disabled&nbsp;=&nbsp;False,</div></div><div class=\"7400\" style=\"display: none;\"><div style=\"display: table-cell;\"></div><div style=\"display: table-cell;\">extra_x_ranges&nbsp;=&nbsp;{},</div></div><div class=\"7400\" style=\"display: none;\"><div style=\"display: table-cell;\"></div><div style=\"display: table-cell;\">extra_y_ranges&nbsp;=&nbsp;{},</div></div><div class=\"7400\" style=\"display: none;\"><div style=\"display: table-cell;\"></div><div style=\"display: table-cell;\">frame_height&nbsp;=&nbsp;None,</div></div><div class=\"7400\" style=\"display: none;\"><div style=\"display: table-cell;\"></div><div style=\"display: table-cell;\">frame_width&nbsp;=&nbsp;None,</div></div><div class=\"7400\" style=\"display: none;\"><div style=\"display: table-cell;\"></div><div style=\"display: table-cell;\">height&nbsp;=&nbsp;300,</div></div><div class=\"7400\" style=\"display: none;\"><div style=\"display: table-cell;\"></div><div style=\"display: table-cell;\">height_policy&nbsp;=&nbsp;'auto',</div></div><div class=\"7400\" style=\"display: none;\"><div style=\"display: table-cell;\"></div><div style=\"display: table-cell;\">hidpi&nbsp;=&nbsp;True,</div></div><div class=\"7400\" style=\"display: none;\"><div style=\"display: table-cell;\"></div><div style=\"display: table-cell;\">inner_height&nbsp;=&nbsp;0,</div></div><div class=\"7400\" style=\"display: none;\"><div style=\"display: table-cell;\"></div><div style=\"display: table-cell;\">inner_width&nbsp;=&nbsp;0,</div></div><div class=\"7400\" style=\"display: none;\"><div style=\"display: table-cell;\"></div><div style=\"display: table-cell;\">js_event_callbacks&nbsp;=&nbsp;{},</div></div><div class=\"7400\" style=\"display: none;\"><div style=\"display: table-cell;\"></div><div style=\"display: table-cell;\">js_property_callbacks&nbsp;=&nbsp;{},</div></div><div class=\"7400\" style=\"display: none;\"><div style=\"display: table-cell;\"></div><div style=\"display: table-cell;\">left&nbsp;=&nbsp;[LinearAxis(id='2923', ...)],</div></div><div class=\"7400\" style=\"display: none;\"><div style=\"display: table-cell;\"></div><div style=\"display: table-cell;\">lod_factor&nbsp;=&nbsp;10,</div></div><div class=\"7400\" style=\"display: none;\"><div style=\"display: table-cell;\"></div><div style=\"display: table-cell;\">lod_interval&nbsp;=&nbsp;300,</div></div><div class=\"7400\" style=\"display: none;\"><div style=\"display: table-cell;\"></div><div style=\"display: table-cell;\">lod_threshold&nbsp;=&nbsp;2000,</div></div><div class=\"7400\" style=\"display: none;\"><div style=\"display: table-cell;\"></div><div style=\"display: table-cell;\">lod_timeout&nbsp;=&nbsp;500,</div></div><div class=\"7400\" style=\"display: none;\"><div style=\"display: table-cell;\"></div><div style=\"display: table-cell;\">margin&nbsp;=&nbsp;(0, 0, 0, 0),</div></div><div class=\"7400\" style=\"display: none;\"><div style=\"display: table-cell;\"></div><div style=\"display: table-cell;\">match_aspect&nbsp;=&nbsp;False,</div></div><div class=\"7400\" style=\"display: none;\"><div style=\"display: table-cell;\"></div><div style=\"display: table-cell;\">max_height&nbsp;=&nbsp;None,</div></div><div class=\"7400\" style=\"display: none;\"><div style=\"display: table-cell;\"></div><div style=\"display: table-cell;\">max_width&nbsp;=&nbsp;None,</div></div><div class=\"7400\" style=\"display: none;\"><div style=\"display: table-cell;\"></div><div style=\"display: table-cell;\">min_border&nbsp;=&nbsp;5,</div></div><div class=\"7400\" style=\"display: none;\"><div style=\"display: table-cell;\"></div><div style=\"display: table-cell;\">min_border_bottom&nbsp;=&nbsp;None,</div></div><div class=\"7400\" style=\"display: none;\"><div style=\"display: table-cell;\"></div><div style=\"display: table-cell;\">min_border_left&nbsp;=&nbsp;None,</div></div><div class=\"7400\" style=\"display: none;\"><div style=\"display: table-cell;\"></div><div style=\"display: table-cell;\">min_border_right&nbsp;=&nbsp;None,</div></div><div class=\"7400\" style=\"display: none;\"><div style=\"display: table-cell;\"></div><div style=\"display: table-cell;\">min_border_top&nbsp;=&nbsp;None,</div></div><div class=\"7400\" style=\"display: none;\"><div style=\"display: table-cell;\"></div><div style=\"display: table-cell;\">min_height&nbsp;=&nbsp;None,</div></div><div class=\"7400\" style=\"display: none;\"><div style=\"display: table-cell;\"></div><div style=\"display: table-cell;\">min_width&nbsp;=&nbsp;None,</div></div><div class=\"7400\" style=\"display: none;\"><div style=\"display: table-cell;\"></div><div style=\"display: table-cell;\">name&nbsp;=&nbsp;None,</div></div><div class=\"7400\" style=\"display: none;\"><div style=\"display: table-cell;\"></div><div style=\"display: table-cell;\">outer_height&nbsp;=&nbsp;0,</div></div><div class=\"7400\" style=\"display: none;\"><div style=\"display: table-cell;\"></div><div style=\"display: table-cell;\">outer_width&nbsp;=&nbsp;0,</div></div><div class=\"7400\" style=\"display: none;\"><div style=\"display: table-cell;\"></div><div style=\"display: table-cell;\">outline_line_alpha&nbsp;=&nbsp;1.0,</div></div><div class=\"7400\" style=\"display: none;\"><div style=\"display: table-cell;\"></div><div style=\"display: table-cell;\">outline_line_cap&nbsp;=&nbsp;'butt',</div></div><div class=\"7400\" style=\"display: none;\"><div style=\"display: table-cell;\"></div><div style=\"display: table-cell;\">outline_line_color&nbsp;=&nbsp;'#e5e5e5',</div></div><div class=\"7400\" style=\"display: none;\"><div style=\"display: table-cell;\"></div><div style=\"display: table-cell;\">outline_line_dash&nbsp;=&nbsp;[],</div></div><div class=\"7400\" style=\"display: none;\"><div style=\"display: table-cell;\"></div><div style=\"display: table-cell;\">outline_line_dash_offset&nbsp;=&nbsp;0,</div></div><div class=\"7400\" style=\"display: none;\"><div style=\"display: table-cell;\"></div><div style=\"display: table-cell;\">outline_line_join&nbsp;=&nbsp;'bevel',</div></div><div class=\"7400\" style=\"display: none;\"><div style=\"display: table-cell;\"></div><div style=\"display: table-cell;\">outline_line_width&nbsp;=&nbsp;1,</div></div><div class=\"7400\" style=\"display: none;\"><div style=\"display: table-cell;\"></div><div style=\"display: table-cell;\">output_backend&nbsp;=&nbsp;'canvas',</div></div><div class=\"7400\" style=\"display: none;\"><div style=\"display: table-cell;\"></div><div style=\"display: table-cell;\">renderers&nbsp;=&nbsp;[],</div></div><div class=\"7400\" style=\"display: none;\"><div style=\"display: table-cell;\"></div><div style=\"display: table-cell;\">reset_policy&nbsp;=&nbsp;'standard',</div></div><div class=\"7400\" style=\"display: none;\"><div style=\"display: table-cell;\"></div><div style=\"display: table-cell;\">right&nbsp;=&nbsp;[],</div></div><div class=\"7400\" style=\"display: none;\"><div style=\"display: table-cell;\"></div><div style=\"display: table-cell;\">sizing_mode&nbsp;=&nbsp;None,</div></div><div class=\"7400\" style=\"display: none;\"><div style=\"display: table-cell;\"></div><div style=\"display: table-cell;\">subscribed_events&nbsp;=&nbsp;[],</div></div><div class=\"7400\" style=\"display: none;\"><div style=\"display: table-cell;\"></div><div style=\"display: table-cell;\">syncable&nbsp;=&nbsp;True,</div></div><div class=\"7400\" style=\"display: none;\"><div style=\"display: table-cell;\"></div><div style=\"display: table-cell;\">tags&nbsp;=&nbsp;[],</div></div><div class=\"7400\" style=\"display: none;\"><div style=\"display: table-cell;\"></div><div style=\"display: table-cell;\">title&nbsp;=&nbsp;Title(id='2909', ...),</div></div><div class=\"7400\" style=\"display: none;\"><div style=\"display: table-cell;\"></div><div style=\"display: table-cell;\">title_location&nbsp;=&nbsp;'above',</div></div><div class=\"7400\" style=\"display: none;\"><div style=\"display: table-cell;\"></div><div style=\"display: table-cell;\">toolbar&nbsp;=&nbsp;Toolbar(id='2934', ...),</div></div><div class=\"7400\" style=\"display: none;\"><div style=\"display: table-cell;\"></div><div style=\"display: table-cell;\">toolbar_location&nbsp;=&nbsp;'right',</div></div><div class=\"7400\" style=\"display: none;\"><div style=\"display: table-cell;\"></div><div style=\"display: table-cell;\">toolbar_sticky&nbsp;=&nbsp;True,</div></div><div class=\"7400\" style=\"display: none;\"><div style=\"display: table-cell;\"></div><div style=\"display: table-cell;\">visible&nbsp;=&nbsp;True,</div></div><div class=\"7400\" style=\"display: none;\"><div style=\"display: table-cell;\"></div><div style=\"display: table-cell;\">width&nbsp;=&nbsp;800,</div></div><div class=\"7400\" style=\"display: none;\"><div style=\"display: table-cell;\"></div><div style=\"display: table-cell;\">width_policy&nbsp;=&nbsp;'auto',</div></div><div class=\"7400\" style=\"display: none;\"><div style=\"display: table-cell;\"></div><div style=\"display: table-cell;\">x_range&nbsp;=&nbsp;DataRange1d(id='2911', ...),</div></div><div class=\"7400\" style=\"display: none;\"><div style=\"display: table-cell;\"></div><div style=\"display: table-cell;\">x_scale&nbsp;=&nbsp;LinearScale(id='2915', ...),</div></div><div class=\"7400\" style=\"display: none;\"><div style=\"display: table-cell;\"></div><div style=\"display: table-cell;\">y_range&nbsp;=&nbsp;DataRange1d(id='2913', ...),</div></div><div class=\"7400\" style=\"display: none;\"><div style=\"display: table-cell;\"></div><div style=\"display: table-cell;\">y_scale&nbsp;=&nbsp;LinearScale(id='2917', ...))</div></div></div>\n",
       "<script>\n",
       "(function() {\n",
       "  var expanded = false;\n",
       "  var ellipsis = document.getElementById(\"7401\");\n",
       "  ellipsis.addEventListener(\"click\", function() {\n",
       "    var rows = document.getElementsByClassName(\"7400\");\n",
       "    for (var i = 0; i < rows.length; i++) {\n",
       "      var el = rows[i];\n",
       "      el.style.display = expanded ? \"none\" : \"table-row\";\n",
       "    }\n",
       "    ellipsis.innerHTML = expanded ? \"&hellip;)\" : \"&lsaquo;&lsaquo;&lsaquo;\";\n",
       "    expanded = !expanded;\n",
       "  });\n",
       "})();\n",
       "</script>\n"
      ],
      "text/plain": [
       "Figure(id='2908', ...)"
      ]
     },
     "execution_count": 65,
     "metadata": {},
     "output_type": "execute_result"
    }
   ],
   "source": [
    "f.select_one"
   ]
  },
  {
   "cell_type": "code",
   "execution_count": 114,
   "id": "79aa9b8d",
   "metadata": {
    "ExecuteTime": {
     "end_time": "2021-05-05T02:50:02.912504Z",
     "start_time": "2021-05-05T02:50:02.861376Z"
    }
   },
   "outputs": [],
   "source": [
    "l = f.line(name='myline')"
   ]
  },
  {
   "cell_type": "code",
   "execution_count": 120,
   "id": "50848a5d",
   "metadata": {
    "ExecuteTime": {
     "end_time": "2021-05-05T02:50:11.117116Z",
     "start_time": "2021-05-05T02:50:11.063750Z"
    }
   },
   "outputs": [],
   "source": [
    "l.data_source = to_data_source(np.random.randn(30))"
   ]
  },
  {
   "cell_type": "code",
   "execution_count": 133,
   "id": "94cbe06d",
   "metadata": {
    "ExecuteTime": {
     "end_time": "2021-05-05T02:52:14.983742Z",
     "start_time": "2021-05-05T02:52:14.931087Z"
    },
    "scrolled": true
   },
   "outputs": [],
   "source": [
    "l = f.select_one({'name': 'myline'})\n",
    "l.data_source = to_data_source(np.random.randn(30))"
   ]
  },
  {
   "cell_type": "code",
   "execution_count": 134,
   "id": "8b4286cf",
   "metadata": {
    "ExecuteTime": {
     "end_time": "2021-05-05T02:52:16.275291Z",
     "start_time": "2021-05-05T02:52:16.272828Z"
    }
   },
   "outputs": [],
   "source": [
    "push_notebook(handle=vis.handle)"
   ]
  },
  {
   "cell_type": "code",
   "execution_count": 13,
   "id": "27a64f3e",
   "metadata": {
    "ExecuteTime": {
     "end_time": "2021-05-05T02:33:25.104146Z",
     "start_time": "2021-05-05T02:33:24.809124Z"
    }
   },
   "outputs": [],
   "source": [
    "for j in range(10):\n",
    "    for i in range(60):\n",
    "        vis.saver.update({'fig_a': {'gly_a': j ** 2 + i}})\n",
    "        vis.saver.update({'fig_b': {'gly_a': np.log(i * j + 1), 'gyl_b': np.log(i * j * 2 + 1)}})\n",
    "\n",
    "    vis.push()"
   ]
  },
  {
   "cell_type": "code",
   "execution_count": 13,
   "id": "0341a00d",
   "metadata": {
    "ExecuteTime": {
     "end_time": "2021-05-05T02:28:39.914408Z",
     "start_time": "2021-05-05T02:28:39.911113Z"
    }
   },
   "outputs": [],
   "source": [
    "# y = np.array(vis.saver.data['fig_a']['gly_a'])\n",
    "\n",
    "# y = y[::int(y.size / vis.saver.max_ticks)]\n",
    "# moving_average(y, 5)\n",
    "\n",
    "# vis.saver.to_data_source('fig_a', 'gly_a').data"
   ]
  }
 ],
 "metadata": {
  "kernelspec": {
   "display_name": "rl_playground_jax",
   "language": "python",
   "name": "rl_playground_jax"
  },
  "language_info": {
   "codemirror_mode": {
    "name": "ipython",
    "version": 3
   },
   "file_extension": ".py",
   "mimetype": "text/x-python",
   "name": "python",
   "nbconvert_exporter": "python",
   "pygments_lexer": "ipython3",
   "version": "3.7.4"
  },
  "varInspector": {
   "cols": {
    "lenName": 16,
    "lenType": 16,
    "lenVar": 40
   },
   "kernels_config": {
    "python": {
     "delete_cmd_postfix": "",
     "delete_cmd_prefix": "del ",
     "library": "var_list.py",
     "varRefreshCmd": "print(var_dic_list())"
    },
    "r": {
     "delete_cmd_postfix": ") ",
     "delete_cmd_prefix": "rm(",
     "library": "var_list.r",
     "varRefreshCmd": "cat(var_dic_list()) "
    }
   },
   "types_to_exclude": [
    "module",
    "function",
    "builtin_function_or_method",
    "instance",
    "_Feature"
   ],
   "window_display": false
  }
 },
 "nbformat": 4,
 "nbformat_minor": 5
}
