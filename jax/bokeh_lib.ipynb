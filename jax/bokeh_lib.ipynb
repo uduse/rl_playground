{
 "cells": [
  {
   "cell_type": "code",
   "execution_count": 1,
   "metadata": {
    "ExecuteTime": {
     "end_time": "2021-05-10T21:02:16.600885Z",
     "start_time": "2021-05-10T21:02:16.229140Z"
    }
   },
   "outputs": [
    {
     "data": {
      "text/html": [
       "\n",
       "    <div class=\"bk-root\">\n",
       "        <a href=\"https://bokeh.org\" target=\"_blank\" class=\"bk-logo bk-logo-small bk-logo-notebook\"></a>\n",
       "        <span id=\"1002\">Loading BokehJS ...</span>\n",
       "    </div>"
      ]
     },
     "metadata": {},
     "output_type": "display_data"
    },
    {
     "data": {
      "application/javascript": [
       "\n",
       "(function(root) {\n",
       "  function now() {\n",
       "    return new Date();\n",
       "  }\n",
       "\n",
       "  var force = true;\n",
       "\n",
       "  if (typeof root._bokeh_onload_callbacks === \"undefined\" || force === true) {\n",
       "    root._bokeh_onload_callbacks = [];\n",
       "    root._bokeh_is_loading = undefined;\n",
       "  }\n",
       "\n",
       "  var JS_MIME_TYPE = 'application/javascript';\n",
       "  var HTML_MIME_TYPE = 'text/html';\n",
       "  var EXEC_MIME_TYPE = 'application/vnd.bokehjs_exec.v0+json';\n",
       "  var CLASS_NAME = 'output_bokeh rendered_html';\n",
       "\n",
       "  /**\n",
       "   * Render data to the DOM node\n",
       "   */\n",
       "  function render(props, node) {\n",
       "    var script = document.createElement(\"script\");\n",
       "    node.appendChild(script);\n",
       "  }\n",
       "\n",
       "  /**\n",
       "   * Handle when an output is cleared or removed\n",
       "   */\n",
       "  function handleClearOutput(event, handle) {\n",
       "    var cell = handle.cell;\n",
       "\n",
       "    var id = cell.output_area._bokeh_element_id;\n",
       "    var server_id = cell.output_area._bokeh_server_id;\n",
       "    // Clean up Bokeh references\n",
       "    if (id != null && id in Bokeh.index) {\n",
       "      Bokeh.index[id].model.document.clear();\n",
       "      delete Bokeh.index[id];\n",
       "    }\n",
       "\n",
       "    if (server_id !== undefined) {\n",
       "      // Clean up Bokeh references\n",
       "      var cmd = \"from bokeh.io.state import curstate; print(curstate().uuid_to_server['\" + server_id + \"'].get_sessions()[0].document.roots[0]._id)\";\n",
       "      cell.notebook.kernel.execute(cmd, {\n",
       "        iopub: {\n",
       "          output: function(msg) {\n",
       "            var id = msg.content.text.trim();\n",
       "            if (id in Bokeh.index) {\n",
       "              Bokeh.index[id].model.document.clear();\n",
       "              delete Bokeh.index[id];\n",
       "            }\n",
       "          }\n",
       "        }\n",
       "      });\n",
       "      // Destroy server and session\n",
       "      var cmd = \"import bokeh.io.notebook as ion; ion.destroy_server('\" + server_id + \"')\";\n",
       "      cell.notebook.kernel.execute(cmd);\n",
       "    }\n",
       "  }\n",
       "\n",
       "  /**\n",
       "   * Handle when a new output is added\n",
       "   */\n",
       "  function handleAddOutput(event, handle) {\n",
       "    var output_area = handle.output_area;\n",
       "    var output = handle.output;\n",
       "\n",
       "    // limit handleAddOutput to display_data with EXEC_MIME_TYPE content only\n",
       "    if ((output.output_type != \"display_data\") || (!Object.prototype.hasOwnProperty.call(output.data, EXEC_MIME_TYPE))) {\n",
       "      return\n",
       "    }\n",
       "\n",
       "    var toinsert = output_area.element.find(\".\" + CLASS_NAME.split(' ')[0]);\n",
       "\n",
       "    if (output.metadata[EXEC_MIME_TYPE][\"id\"] !== undefined) {\n",
       "      toinsert[toinsert.length - 1].firstChild.textContent = output.data[JS_MIME_TYPE];\n",
       "      // store reference to embed id on output_area\n",
       "      output_area._bokeh_element_id = output.metadata[EXEC_MIME_TYPE][\"id\"];\n",
       "    }\n",
       "    if (output.metadata[EXEC_MIME_TYPE][\"server_id\"] !== undefined) {\n",
       "      var bk_div = document.createElement(\"div\");\n",
       "      bk_div.innerHTML = output.data[HTML_MIME_TYPE];\n",
       "      var script_attrs = bk_div.children[0].attributes;\n",
       "      for (var i = 0; i < script_attrs.length; i++) {\n",
       "        toinsert[toinsert.length - 1].firstChild.setAttribute(script_attrs[i].name, script_attrs[i].value);\n",
       "        toinsert[toinsert.length - 1].firstChild.textContent = bk_div.children[0].textContent\n",
       "      }\n",
       "      // store reference to server id on output_area\n",
       "      output_area._bokeh_server_id = output.metadata[EXEC_MIME_TYPE][\"server_id\"];\n",
       "    }\n",
       "  }\n",
       "\n",
       "  function register_renderer(events, OutputArea) {\n",
       "\n",
       "    function append_mime(data, metadata, element) {\n",
       "      // create a DOM node to render to\n",
       "      var toinsert = this.create_output_subarea(\n",
       "        metadata,\n",
       "        CLASS_NAME,\n",
       "        EXEC_MIME_TYPE\n",
       "      );\n",
       "      this.keyboard_manager.register_events(toinsert);\n",
       "      // Render to node\n",
       "      var props = {data: data, metadata: metadata[EXEC_MIME_TYPE]};\n",
       "      render(props, toinsert[toinsert.length - 1]);\n",
       "      element.append(toinsert);\n",
       "      return toinsert\n",
       "    }\n",
       "\n",
       "    /* Handle when an output is cleared or removed */\n",
       "    events.on('clear_output.CodeCell', handleClearOutput);\n",
       "    events.on('delete.Cell', handleClearOutput);\n",
       "\n",
       "    /* Handle when a new output is added */\n",
       "    events.on('output_added.OutputArea', handleAddOutput);\n",
       "\n",
       "    /**\n",
       "     * Register the mime type and append_mime function with output_area\n",
       "     */\n",
       "    OutputArea.prototype.register_mime_type(EXEC_MIME_TYPE, append_mime, {\n",
       "      /* Is output safe? */\n",
       "      safe: true,\n",
       "      /* Index of renderer in `output_area.display_order` */\n",
       "      index: 0\n",
       "    });\n",
       "  }\n",
       "\n",
       "  // register the mime type if in Jupyter Notebook environment and previously unregistered\n",
       "  if (root.Jupyter !== undefined) {\n",
       "    var events = require('base/js/events');\n",
       "    var OutputArea = require('notebook/js/outputarea').OutputArea;\n",
       "\n",
       "    if (OutputArea.prototype.mime_types().indexOf(EXEC_MIME_TYPE) == -1) {\n",
       "      register_renderer(events, OutputArea);\n",
       "    }\n",
       "  }\n",
       "\n",
       "  \n",
       "  if (typeof (root._bokeh_timeout) === \"undefined\" || force === true) {\n",
       "    root._bokeh_timeout = Date.now() + 5000;\n",
       "    root._bokeh_failed_load = false;\n",
       "  }\n",
       "\n",
       "  var NB_LOAD_WARNING = {'data': {'text/html':\n",
       "     \"<div style='background-color: #fdd'>\\n\"+\n",
       "     \"<p>\\n\"+\n",
       "     \"BokehJS does not appear to have successfully loaded. If loading BokehJS from CDN, this \\n\"+\n",
       "     \"may be due to a slow or bad network connection. Possible fixes:\\n\"+\n",
       "     \"</p>\\n\"+\n",
       "     \"<ul>\\n\"+\n",
       "     \"<li>re-rerun `output_notebook()` to attempt to load from CDN again, or</li>\\n\"+\n",
       "     \"<li>use INLINE resources instead, as so:</li>\\n\"+\n",
       "     \"</ul>\\n\"+\n",
       "     \"<code>\\n\"+\n",
       "     \"from bokeh.resources import INLINE\\n\"+\n",
       "     \"output_notebook(resources=INLINE)\\n\"+\n",
       "     \"</code>\\n\"+\n",
       "     \"</div>\"}};\n",
       "\n",
       "  function display_loaded() {\n",
       "    var el = document.getElementById(\"1002\");\n",
       "    if (el != null) {\n",
       "      el.textContent = \"BokehJS is loading...\";\n",
       "    }\n",
       "    if (root.Bokeh !== undefined) {\n",
       "      if (el != null) {\n",
       "        el.textContent = \"BokehJS \" + root.Bokeh.version + \" successfully loaded.\";\n",
       "      }\n",
       "    } else if (Date.now() < root._bokeh_timeout) {\n",
       "      setTimeout(display_loaded, 100)\n",
       "    }\n",
       "  }\n",
       "\n",
       "\n",
       "  function run_callbacks() {\n",
       "    try {\n",
       "      root._bokeh_onload_callbacks.forEach(function(callback) {\n",
       "        if (callback != null)\n",
       "          callback();\n",
       "      });\n",
       "    } finally {\n",
       "      delete root._bokeh_onload_callbacks\n",
       "    }\n",
       "    console.debug(\"Bokeh: all callbacks have finished\");\n",
       "  }\n",
       "\n",
       "  function load_libs(css_urls, js_urls, callback) {\n",
       "    if (css_urls == null) css_urls = [];\n",
       "    if (js_urls == null) js_urls = [];\n",
       "\n",
       "    root._bokeh_onload_callbacks.push(callback);\n",
       "    if (root._bokeh_is_loading > 0) {\n",
       "      console.debug(\"Bokeh: BokehJS is being loaded, scheduling callback at\", now());\n",
       "      return null;\n",
       "    }\n",
       "    if (js_urls == null || js_urls.length === 0) {\n",
       "      run_callbacks();\n",
       "      return null;\n",
       "    }\n",
       "    console.debug(\"Bokeh: BokehJS not loaded, scheduling load and callback at\", now());\n",
       "    root._bokeh_is_loading = css_urls.length + js_urls.length;\n",
       "\n",
       "    function on_load() {\n",
       "      root._bokeh_is_loading--;\n",
       "      if (root._bokeh_is_loading === 0) {\n",
       "        console.debug(\"Bokeh: all BokehJS libraries/stylesheets loaded\");\n",
       "        run_callbacks()\n",
       "      }\n",
       "    }\n",
       "\n",
       "    function on_error(url) {\n",
       "      console.error(\"failed to load \" + url);\n",
       "    }\n",
       "\n",
       "    for (let i = 0; i < css_urls.length; i++) {\n",
       "      const url = css_urls[i];\n",
       "      const element = document.createElement(\"link\");\n",
       "      element.onload = on_load;\n",
       "      element.onerror = on_error.bind(null, url);\n",
       "      element.rel = \"stylesheet\";\n",
       "      element.type = \"text/css\";\n",
       "      element.href = url;\n",
       "      console.debug(\"Bokeh: injecting link tag for BokehJS stylesheet: \", url);\n",
       "      document.body.appendChild(element);\n",
       "    }\n",
       "\n",
       "    const hashes = {\"https://cdn.bokeh.org/bokeh/release/bokeh-2.3.1.min.js\": \"YF85VygJKMVnHE+lLv2AM93Vbstr0yo2TbIu5v8se5Rq3UQAUmcuh4aaJwNlpKwa\", \"https://cdn.bokeh.org/bokeh/release/bokeh-widgets-2.3.1.min.js\": \"KKuas3gevv3PvrlkyCMzffFeaMq5we/a2QsP5AUoS3mJ0jmaCL7jirFJN3GoE/lM\", \"https://cdn.bokeh.org/bokeh/release/bokeh-tables-2.3.1.min.js\": \"MK/uFc3YT18pkvvXRl66tTHjP0/dxoSH2e/eiNMFIguKlun2+WVqaPTWmUy/zvh4\"};\n",
       "\n",
       "    for (let i = 0; i < js_urls.length; i++) {\n",
       "      const url = js_urls[i];\n",
       "      const element = document.createElement('script');\n",
       "      element.onload = on_load;\n",
       "      element.onerror = on_error.bind(null, url);\n",
       "      element.async = false;\n",
       "      element.src = url;\n",
       "      if (url in hashes) {\n",
       "        element.crossOrigin = \"anonymous\";\n",
       "        element.integrity = \"sha384-\" + hashes[url];\n",
       "      }\n",
       "      console.debug(\"Bokeh: injecting script tag for BokehJS library: \", url);\n",
       "      document.head.appendChild(element);\n",
       "    }\n",
       "  };\n",
       "\n",
       "  function inject_raw_css(css) {\n",
       "    const element = document.createElement(\"style\");\n",
       "    element.appendChild(document.createTextNode(css));\n",
       "    document.body.appendChild(element);\n",
       "  }\n",
       "\n",
       "  \n",
       "  var js_urls = [\"https://cdn.bokeh.org/bokeh/release/bokeh-2.3.1.min.js\", \"https://cdn.bokeh.org/bokeh/release/bokeh-widgets-2.3.1.min.js\", \"https://cdn.bokeh.org/bokeh/release/bokeh-tables-2.3.1.min.js\"];\n",
       "  var css_urls = [];\n",
       "  \n",
       "\n",
       "  var inline_js = [\n",
       "    function(Bokeh) {\n",
       "      Bokeh.set_log_level(\"info\");\n",
       "    },\n",
       "    function(Bokeh) {\n",
       "    \n",
       "    \n",
       "    }\n",
       "  ];\n",
       "\n",
       "  function run_inline_js() {\n",
       "    \n",
       "    if (root.Bokeh !== undefined || force === true) {\n",
       "      \n",
       "    for (var i = 0; i < inline_js.length; i++) {\n",
       "      inline_js[i].call(root, root.Bokeh);\n",
       "    }\n",
       "    if (force === true) {\n",
       "        display_loaded();\n",
       "      }} else if (Date.now() < root._bokeh_timeout) {\n",
       "      setTimeout(run_inline_js, 100);\n",
       "    } else if (!root._bokeh_failed_load) {\n",
       "      console.log(\"Bokeh: BokehJS failed to load within specified timeout.\");\n",
       "      root._bokeh_failed_load = true;\n",
       "    } else if (force !== true) {\n",
       "      var cell = $(document.getElementById(\"1002\")).parents('.cell').data().cell;\n",
       "      cell.output_area.append_execute_result(NB_LOAD_WARNING)\n",
       "    }\n",
       "\n",
       "  }\n",
       "\n",
       "  if (root._bokeh_is_loading === 0) {\n",
       "    console.debug(\"Bokeh: BokehJS loaded, going straight to plotting\");\n",
       "    run_inline_js();\n",
       "  } else {\n",
       "    load_libs(css_urls, js_urls, function() {\n",
       "      console.debug(\"Bokeh: BokehJS plotting callback run at\", now());\n",
       "      run_inline_js();\n",
       "    });\n",
       "  }\n",
       "}(window));"
      ],
      "application/vnd.bokehjs_load.v0+json": "\n(function(root) {\n  function now() {\n    return new Date();\n  }\n\n  var force = true;\n\n  if (typeof root._bokeh_onload_callbacks === \"undefined\" || force === true) {\n    root._bokeh_onload_callbacks = [];\n    root._bokeh_is_loading = undefined;\n  }\n\n  \n\n  \n  if (typeof (root._bokeh_timeout) === \"undefined\" || force === true) {\n    root._bokeh_timeout = Date.now() + 5000;\n    root._bokeh_failed_load = false;\n  }\n\n  var NB_LOAD_WARNING = {'data': {'text/html':\n     \"<div style='background-color: #fdd'>\\n\"+\n     \"<p>\\n\"+\n     \"BokehJS does not appear to have successfully loaded. If loading BokehJS from CDN, this \\n\"+\n     \"may be due to a slow or bad network connection. Possible fixes:\\n\"+\n     \"</p>\\n\"+\n     \"<ul>\\n\"+\n     \"<li>re-rerun `output_notebook()` to attempt to load from CDN again, or</li>\\n\"+\n     \"<li>use INLINE resources instead, as so:</li>\\n\"+\n     \"</ul>\\n\"+\n     \"<code>\\n\"+\n     \"from bokeh.resources import INLINE\\n\"+\n     \"output_notebook(resources=INLINE)\\n\"+\n     \"</code>\\n\"+\n     \"</div>\"}};\n\n  function display_loaded() {\n    var el = document.getElementById(\"1002\");\n    if (el != null) {\n      el.textContent = \"BokehJS is loading...\";\n    }\n    if (root.Bokeh !== undefined) {\n      if (el != null) {\n        el.textContent = \"BokehJS \" + root.Bokeh.version + \" successfully loaded.\";\n      }\n    } else if (Date.now() < root._bokeh_timeout) {\n      setTimeout(display_loaded, 100)\n    }\n  }\n\n\n  function run_callbacks() {\n    try {\n      root._bokeh_onload_callbacks.forEach(function(callback) {\n        if (callback != null)\n          callback();\n      });\n    } finally {\n      delete root._bokeh_onload_callbacks\n    }\n    console.debug(\"Bokeh: all callbacks have finished\");\n  }\n\n  function load_libs(css_urls, js_urls, callback) {\n    if (css_urls == null) css_urls = [];\n    if (js_urls == null) js_urls = [];\n\n    root._bokeh_onload_callbacks.push(callback);\n    if (root._bokeh_is_loading > 0) {\n      console.debug(\"Bokeh: BokehJS is being loaded, scheduling callback at\", now());\n      return null;\n    }\n    if (js_urls == null || js_urls.length === 0) {\n      run_callbacks();\n      return null;\n    }\n    console.debug(\"Bokeh: BokehJS not loaded, scheduling load and callback at\", now());\n    root._bokeh_is_loading = css_urls.length + js_urls.length;\n\n    function on_load() {\n      root._bokeh_is_loading--;\n      if (root._bokeh_is_loading === 0) {\n        console.debug(\"Bokeh: all BokehJS libraries/stylesheets loaded\");\n        run_callbacks()\n      }\n    }\n\n    function on_error(url) {\n      console.error(\"failed to load \" + url);\n    }\n\n    for (let i = 0; i < css_urls.length; i++) {\n      const url = css_urls[i];\n      const element = document.createElement(\"link\");\n      element.onload = on_load;\n      element.onerror = on_error.bind(null, url);\n      element.rel = \"stylesheet\";\n      element.type = \"text/css\";\n      element.href = url;\n      console.debug(\"Bokeh: injecting link tag for BokehJS stylesheet: \", url);\n      document.body.appendChild(element);\n    }\n\n    const hashes = {\"https://cdn.bokeh.org/bokeh/release/bokeh-2.3.1.min.js\": \"YF85VygJKMVnHE+lLv2AM93Vbstr0yo2TbIu5v8se5Rq3UQAUmcuh4aaJwNlpKwa\", \"https://cdn.bokeh.org/bokeh/release/bokeh-widgets-2.3.1.min.js\": \"KKuas3gevv3PvrlkyCMzffFeaMq5we/a2QsP5AUoS3mJ0jmaCL7jirFJN3GoE/lM\", \"https://cdn.bokeh.org/bokeh/release/bokeh-tables-2.3.1.min.js\": \"MK/uFc3YT18pkvvXRl66tTHjP0/dxoSH2e/eiNMFIguKlun2+WVqaPTWmUy/zvh4\"};\n\n    for (let i = 0; i < js_urls.length; i++) {\n      const url = js_urls[i];\n      const element = document.createElement('script');\n      element.onload = on_load;\n      element.onerror = on_error.bind(null, url);\n      element.async = false;\n      element.src = url;\n      if (url in hashes) {\n        element.crossOrigin = \"anonymous\";\n        element.integrity = \"sha384-\" + hashes[url];\n      }\n      console.debug(\"Bokeh: injecting script tag for BokehJS library: \", url);\n      document.head.appendChild(element);\n    }\n  };\n\n  function inject_raw_css(css) {\n    const element = document.createElement(\"style\");\n    element.appendChild(document.createTextNode(css));\n    document.body.appendChild(element);\n  }\n\n  \n  var js_urls = [\"https://cdn.bokeh.org/bokeh/release/bokeh-2.3.1.min.js\", \"https://cdn.bokeh.org/bokeh/release/bokeh-widgets-2.3.1.min.js\", \"https://cdn.bokeh.org/bokeh/release/bokeh-tables-2.3.1.min.js\"];\n  var css_urls = [];\n  \n\n  var inline_js = [\n    function(Bokeh) {\n      Bokeh.set_log_level(\"info\");\n    },\n    function(Bokeh) {\n    \n    \n    }\n  ];\n\n  function run_inline_js() {\n    \n    if (root.Bokeh !== undefined || force === true) {\n      \n    for (var i = 0; i < inline_js.length; i++) {\n      inline_js[i].call(root, root.Bokeh);\n    }\n    if (force === true) {\n        display_loaded();\n      }} else if (Date.now() < root._bokeh_timeout) {\n      setTimeout(run_inline_js, 100);\n    } else if (!root._bokeh_failed_load) {\n      console.log(\"Bokeh: BokehJS failed to load within specified timeout.\");\n      root._bokeh_failed_load = true;\n    } else if (force !== true) {\n      var cell = $(document.getElementById(\"1002\")).parents('.cell').data().cell;\n      cell.output_area.append_execute_result(NB_LOAD_WARNING)\n    }\n\n  }\n\n  if (root._bokeh_is_loading === 0) {\n    console.debug(\"Bokeh: BokehJS loaded, going straight to plotting\");\n    run_inline_js();\n  } else {\n    load_libs(css_urls, js_urls, function() {\n      console.debug(\"Bokeh: BokehJS plotting callback run at\", now());\n      run_inline_js();\n    });\n  }\n}(window));"
     },
     "metadata": {},
     "output_type": "display_data"
    }
   ],
   "source": [
    "import time\n",
    "import numpy as np\n",
    "from dataclasses import dataclass\n",
    "from collections import defaultdict\n",
    "\n",
    "import bokeh\n",
    "from bokeh.io import push_notebook, show, output_notebook\n",
    "from bokeh import layouts\n",
    "from bokeh.plotting import figure\n",
    "from bokeh.palettes import Category10\n",
    "\n",
    "output_notebook()"
   ]
  },
  {
   "cell_type": "code",
   "execution_count": 2,
   "metadata": {
    "ExecuteTime": {
     "end_time": "2021-05-10T21:02:17.216996Z",
     "start_time": "2021-05-10T21:02:17.212997Z"
    }
   },
   "outputs": [],
   "source": [
    "color_registry = {}\n",
    "color_iter = iter(Category10[10])\n",
    "def get_color(name):\n",
    "    if name not in color_registry:\n",
    "        color = next(color_iter)\n",
    "        color_registry[name] = color\n",
    "    return color_registry[name]"
   ]
  },
  {
   "cell_type": "code",
   "execution_count": 3,
   "metadata": {
    "ExecuteTime": {
     "end_time": "2021-05-10T21:02:17.591484Z",
     "start_time": "2021-05-10T21:02:17.588401Z"
    }
   },
   "outputs": [],
   "source": [
    "def moving_average(x, w):\n",
    "    cumsum = np.cumsum(np.insert(x, 0, 0)) \n",
    "    return (cumsum[w:] - cumsum[:-w]) / float(w)"
   ]
  },
  {
   "cell_type": "code",
   "execution_count": 4,
   "metadata": {
    "ExecuteTime": {
     "end_time": "2021-05-10T21:02:18.040472Z",
     "start_time": "2021-05-10T21:02:18.031940Z"
    }
   },
   "outputs": [],
   "source": [
    "class DataStreamSaver(object):\n",
    "    def __init__(self):\n",
    "        self.data = defaultdict(lambda: defaultdict(list))\n",
    "        \n",
    "    def update(self, data):\n",
    "        for fig_name in data:\n",
    "            for glyph_name in data[fig_name]:\n",
    "                self.data[fig_name][glyph_name].append(data[fig_name][glyph_name])\n",
    "                \n",
    "    def reset(self):\n",
    "        for fig_name in self.data:\n",
    "            for glyph_name in self.data[fig_name]:\n",
    "                self.data[fig_name][glyph_name] = []"
   ]
  },
  {
   "cell_type": "code",
   "execution_count": 5,
   "metadata": {
    "ExecuteTime": {
     "end_time": "2021-05-10T21:02:18.510698Z",
     "start_time": "2021-05-10T21:02:18.505613Z"
    }
   },
   "outputs": [],
   "source": [
    "def to_data_source(y, average_width=5, max_ticks=200):\n",
    "    y = np.array(y)\n",
    "    y = moving_average(y, average_width)\n",
    "    x = np.arange(y.size)\n",
    "    if y.size >= max_ticks:\n",
    "        tick = int(np.ceil(y.size / max_ticks))\n",
    "        y = y[::tick]\n",
    "        x = x[::tick]\n",
    "    y = moving_average(y, average_width)\n",
    "    x = x[len(x) - len(y):]\n",
    "    return bokeh.models.ColumnDataSource({\n",
    "        'x': x,\n",
    "        'y': y\n",
    "    })"
   ]
  },
  {
   "cell_type": "code",
   "execution_count": 36,
   "metadata": {
    "ExecuteTime": {
     "end_time": "2021-05-10T21:05:27.370884Z",
     "start_time": "2021-05-10T21:05:27.363217Z"
    }
   },
   "outputs": [],
   "source": [
    "class LineFigure(object):\n",
    "    def __init__(self, title, **kwargs):\n",
    "        self.fig = figure(title=title, width=800, height=300, **kwargs)\n",
    "        self.glyphs = {}\n",
    "        \n",
    "    def update_glyph(self, glyph_name, data_source):\n",
    "        if glyph_name in self.glyphs:\n",
    "            glyph = self.glyphs[glyph_name]\n",
    "            if glyph in self.fig.renderers:\n",
    "                self.fig.renderers.remove(glyph)\n",
    "\n",
    "#         if glyph_name not in self.glyphs:\n",
    "        self.glyphs[glyph_name] = self.fig.line(\n",
    "            legend_label=glyph_name,\n",
    "            color=get_color(glyph_name),\n",
    "            alpha=0.7,\n",
    "            line_width=2,\n",
    "            name=glyph_name\n",
    "        )\n",
    "        self.fig.legend.location = 'top_left'\n",
    "        self.glyphs[glyph_name].data_source = data_source"
   ]
  },
  {
   "cell_type": "code",
   "execution_count": 37,
   "metadata": {
    "ExecuteTime": {
     "end_time": "2021-05-10T21:05:27.562111Z",
     "start_time": "2021-05-10T21:05:27.550806Z"
    }
   },
   "outputs": [],
   "source": [
    "class VisDashboard(object):\n",
    "    def __init__(self, figs):\n",
    "        self.figs = {fig.fig.title.text: fig for fig in figs}\n",
    "        self.saver = DataStreamSaver()\n",
    "        self.handle = None\n",
    "        \n",
    "    def _sync_figures(self):\n",
    "        for fig_name in self.saver.data:\n",
    "            for glyph_name in self.saver.data[fig_name]:\n",
    "                data_source = to_data_source(self.saver.data[fig_name][glyph_name])\n",
    "                self.figs[fig_name].update_glyph(glyph_name, data_source)\n",
    "            \n",
    "    def push(self):\n",
    "        self._sync_figures()\n",
    "        push_notebook(handle=self.handle)\n",
    "        \n",
    "    def show(self):\n",
    "        figs = [fig.fig for fig in self.figs.values()]\n",
    "        self.handle = show(layouts.column(figs), notebook_handle=True)"
   ]
  },
  {
   "cell_type": "code",
   "execution_count": 38,
   "metadata": {
    "ExecuteTime": {
     "end_time": "2021-05-10T21:05:27.726959Z",
     "start_time": "2021-05-10T21:05:27.723838Z"
    }
   },
   "outputs": [],
   "source": [
    "if '__file__' in globals():\n",
    "    class StopExecution(Exception):\n",
    "        def _render_traceback_(self):\n",
    "            pass\n",
    "    raise StopExecution"
   ]
  },
  {
   "cell_type": "code",
   "execution_count": 39,
   "metadata": {
    "ExecuteTime": {
     "end_time": "2021-05-10T21:05:27.998978Z",
     "start_time": "2021-05-10T21:05:27.882077Z"
    }
   },
   "outputs": [
    {
     "name": "stderr",
     "output_type": "stream",
     "text": [
      "WARNING:bokeh.core.validation.check:W-1000 (MISSING_RENDERERS): Plot has no renderers: Figure(id='16459', ...)\n",
      "WARNING:bokeh.core.validation.check:W-1000 (MISSING_RENDERERS): Plot has no renderers: Figure(id='16492', ...)\n"
     ]
    },
    {
     "data": {
      "text/html": [
       "\n",
       "\n",
       "\n",
       "\n",
       "\n",
       "\n",
       "  <div class=\"bk-root\" id=\"fb1df9ca-17c9-4642-8e96-0f1d1863a98e\" data-root-id=\"16525\"></div>\n"
      ]
     },
     "metadata": {},
     "output_type": "display_data"
    },
    {
     "data": {
      "application/javascript": [
       "(function(root) {\n",
       "  function embed_document(root) {\n",
       "    \n",
       "  var docs_json = {\"e6da9c4f-75bf-4213-9317-8bd7cf9acb61\":{\"defs\":[],\"roots\":{\"references\":[{\"attributes\":{\"children\":[{\"id\":\"16459\"},{\"id\":\"16492\"}]},\"id\":\"16525\",\"type\":\"Column\"},{\"attributes\":{},\"id\":\"16464\",\"type\":\"DataRange1d\"},{\"attributes\":{},\"id\":\"16482\",\"type\":\"ResetTool\"},{\"attributes\":{\"bottom_units\":\"screen\",\"fill_alpha\":0.5,\"fill_color\":\"lightgrey\",\"left_units\":\"screen\",\"level\":\"overlay\",\"line_alpha\":1.0,\"line_color\":\"black\",\"line_dash\":[4,4],\"line_width\":2,\"right_units\":\"screen\",\"syncable\":false,\"top_units\":\"screen\"},\"id\":\"16517\",\"type\":\"BoxAnnotation\"},{\"attributes\":{},\"id\":\"16466\",\"type\":\"LinearScale\"},{\"attributes\":{},\"id\":\"16670\",\"type\":\"AllLabels\"},{\"attributes\":{},\"id\":\"16671\",\"type\":\"BasicTickFormatter\"},{\"attributes\":{},\"id\":\"16662\",\"type\":\"BasicTickFormatter\"},{\"attributes\":{},\"id\":\"16667\",\"type\":\"AllLabels\"},{\"attributes\":{},\"id\":\"16495\",\"type\":\"DataRange1d\"},{\"attributes\":{},\"id\":\"16499\",\"type\":\"LinearScale\"},{\"attributes\":{\"text\":\"fig_b\"},\"id\":\"16493\",\"type\":\"Title\"},{\"attributes\":{},\"id\":\"16483\",\"type\":\"HelpTool\"},{\"attributes\":{},\"id\":\"16511\",\"type\":\"PanTool\"},{\"attributes\":{},\"id\":\"16462\",\"type\":\"DataRange1d\"},{\"attributes\":{},\"id\":\"16501\",\"type\":\"LinearScale\"},{\"attributes\":{},\"id\":\"16475\",\"type\":\"BasicTicker\"},{\"attributes\":{\"formatter\":{\"id\":\"16668\"},\"major_label_policy\":{\"id\":\"16667\"},\"ticker\":{\"id\":\"16504\"}},\"id\":\"16503\",\"type\":\"LinearAxis\"},{\"attributes\":{\"formatter\":{\"id\":\"16671\"},\"major_label_policy\":{\"id\":\"16670\"},\"ticker\":{\"id\":\"16508\"}},\"id\":\"16507\",\"type\":\"LinearAxis\"},{\"attributes\":{},\"id\":\"16512\",\"type\":\"WheelZoomTool\"},{\"attributes\":{\"below\":[{\"id\":\"16470\"}],\"center\":[{\"id\":\"16473\"},{\"id\":\"16477\"}],\"height\":300,\"left\":[{\"id\":\"16474\"}],\"title\":{\"id\":\"16460\"},\"toolbar\":{\"id\":\"16485\"},\"width\":800,\"x_range\":{\"id\":\"16462\"},\"x_scale\":{\"id\":\"16466\"},\"y_range\":{\"id\":\"16464\"},\"y_scale\":{\"id\":\"16468\"}},\"id\":\"16459\",\"subtype\":\"Figure\",\"type\":\"Plot\"},{\"attributes\":{},\"id\":\"16664\",\"type\":\"AllLabels\"},{\"attributes\":{},\"id\":\"16468\",\"type\":\"LinearScale\"},{\"attributes\":{\"overlay\":{\"id\":\"16517\"}},\"id\":\"16513\",\"type\":\"BoxZoomTool\"},{\"attributes\":{\"overlay\":{\"id\":\"16484\"}},\"id\":\"16480\",\"type\":\"BoxZoomTool\"},{\"attributes\":{},\"id\":\"16508\",\"type\":\"BasicTicker\"},{\"attributes\":{},\"id\":\"16479\",\"type\":\"WheelZoomTool\"},{\"attributes\":{},\"id\":\"16481\",\"type\":\"SaveTool\"},{\"attributes\":{},\"id\":\"16514\",\"type\":\"SaveTool\"},{\"attributes\":{},\"id\":\"16471\",\"type\":\"BasicTicker\"},{\"attributes\":{\"below\":[{\"id\":\"16503\"}],\"center\":[{\"id\":\"16506\"},{\"id\":\"16510\"}],\"height\":300,\"left\":[{\"id\":\"16507\"}],\"title\":{\"id\":\"16493\"},\"toolbar\":{\"id\":\"16518\"},\"width\":800,\"x_range\":{\"id\":\"16495\"},\"x_scale\":{\"id\":\"16499\"},\"y_range\":{\"id\":\"16497\"},\"y_scale\":{\"id\":\"16501\"}},\"id\":\"16492\",\"subtype\":\"Figure\",\"type\":\"Plot\"},{\"attributes\":{},\"id\":\"16515\",\"type\":\"ResetTool\"},{\"attributes\":{},\"id\":\"16668\",\"type\":\"BasicTickFormatter\"},{\"attributes\":{},\"id\":\"16504\",\"type\":\"BasicTicker\"},{\"attributes\":{\"axis\":{\"id\":\"16470\"},\"ticker\":null},\"id\":\"16473\",\"type\":\"Grid\"},{\"attributes\":{\"text\":\"fig_a\"},\"id\":\"16460\",\"type\":\"Title\"},{\"attributes\":{},\"id\":\"16516\",\"type\":\"HelpTool\"},{\"attributes\":{\"axis\":{\"id\":\"16474\"},\"dimension\":1,\"ticker\":null},\"id\":\"16477\",\"type\":\"Grid\"},{\"attributes\":{},\"id\":\"16661\",\"type\":\"AllLabels\"},{\"attributes\":{\"axis\":{\"id\":\"16507\"},\"dimension\":1,\"ticker\":null},\"id\":\"16510\",\"type\":\"Grid\"},{\"attributes\":{\"axis\":{\"id\":\"16503\"},\"ticker\":null},\"id\":\"16506\",\"type\":\"Grid\"},{\"attributes\":{},\"id\":\"16497\",\"type\":\"DataRange1d\"},{\"attributes\":{\"bottom_units\":\"screen\",\"fill_alpha\":0.5,\"fill_color\":\"lightgrey\",\"left_units\":\"screen\",\"level\":\"overlay\",\"line_alpha\":1.0,\"line_color\":\"black\",\"line_dash\":[4,4],\"line_width\":2,\"right_units\":\"screen\",\"syncable\":false,\"top_units\":\"screen\"},\"id\":\"16484\",\"type\":\"BoxAnnotation\"},{\"attributes\":{\"formatter\":{\"id\":\"16662\"},\"major_label_policy\":{\"id\":\"16661\"},\"ticker\":{\"id\":\"16471\"}},\"id\":\"16470\",\"type\":\"LinearAxis\"},{\"attributes\":{},\"id\":\"16478\",\"type\":\"PanTool\"},{\"attributes\":{\"active_multi\":null,\"tools\":[{\"id\":\"16478\"},{\"id\":\"16479\"},{\"id\":\"16480\"},{\"id\":\"16481\"},{\"id\":\"16482\"},{\"id\":\"16483\"}]},\"id\":\"16485\",\"type\":\"Toolbar\"},{\"attributes\":{\"formatter\":{\"id\":\"16665\"},\"major_label_policy\":{\"id\":\"16664\"},\"ticker\":{\"id\":\"16475\"}},\"id\":\"16474\",\"type\":\"LinearAxis\"},{\"attributes\":{},\"id\":\"16665\",\"type\":\"BasicTickFormatter\"},{\"attributes\":{\"active_multi\":null,\"tools\":[{\"id\":\"16511\"},{\"id\":\"16512\"},{\"id\":\"16513\"},{\"id\":\"16514\"},{\"id\":\"16515\"},{\"id\":\"16516\"}]},\"id\":\"16518\",\"type\":\"Toolbar\"}],\"root_ids\":[\"16525\"]},\"title\":\"Bokeh Application\",\"version\":\"2.3.1\"}};\n",
       "  var render_items = [{\"docid\":\"e6da9c4f-75bf-4213-9317-8bd7cf9acb61\",\"notebook_comms_target\":\"16674\",\"root_ids\":[\"16525\"],\"roots\":{\"16525\":\"fb1df9ca-17c9-4642-8e96-0f1d1863a98e\"}}];\n",
       "  root.Bokeh.embed.embed_items_notebook(docs_json, render_items);\n",
       "\n",
       "  }\n",
       "  if (root.Bokeh !== undefined) {\n",
       "    embed_document(root);\n",
       "  } else {\n",
       "    var attempts = 0;\n",
       "    var timer = setInterval(function(root) {\n",
       "      if (root.Bokeh !== undefined) {\n",
       "        clearInterval(timer);\n",
       "        embed_document(root);\n",
       "      } else {\n",
       "        attempts++;\n",
       "        if (attempts > 100) {\n",
       "          clearInterval(timer);\n",
       "          console.log(\"Bokeh: ERROR: Unable to run BokehJS code because BokehJS library is missing\");\n",
       "        }\n",
       "      }\n",
       "    }, 10, root)\n",
       "  }\n",
       "})(window);"
      ],
      "application/vnd.bokehjs_exec.v0+json": ""
     },
     "metadata": {
      "application/vnd.bokehjs_exec.v0+json": {
       "id": "16525"
      }
     },
     "output_type": "display_data"
    }
   ],
   "source": [
    "vis = VisDashboard([\n",
    "    LineFigure('fig_a'),\n",
    "    LineFigure('fig_b'),\n",
    "])\n",
    "vis.show()"
   ]
  },
  {
   "cell_type": "code",
   "execution_count": 40,
   "metadata": {
    "ExecuteTime": {
     "end_time": "2021-05-10T21:05:38.844042Z",
     "start_time": "2021-05-10T21:05:28.068869Z"
    }
   },
   "outputs": [],
   "source": [
    "for j in range(10):\n",
    "    for i in range(60):\n",
    "        vis.saver.update({'fig_a': {'gly_a': j ** 2 + i}})\n",
    "        vis.saver.update({'fig_b': {'gly_a': np.log(i * j + 1), 'gyl_b': np.log(i * j * 2 + 1)}})\n",
    "\n",
    "    vis.push()\n",
    "    time.sleep(0.5)"
   ]
  },
  {
   "cell_type": "code",
   "execution_count": 13,
   "metadata": {
    "ExecuteTime": {
     "end_time": "2021-05-05T02:28:39.914408Z",
     "start_time": "2021-05-05T02:28:39.911113Z"
    }
   },
   "outputs": [],
   "source": [
    "# y = np.array(vis.saver.data['fig_a']['gly_a'])\n",
    "\n",
    "# y = y[::int(y.size / vis.saver.max_ticks)]\n",
    "# moving_average(y, 5)\n",
    "\n",
    "# vis.saver.to_data_source('fig_a', 'gly_a').data"
   ]
  }
 ],
 "metadata": {
  "kernelspec": {
   "display_name": "rl_playground_jax",
   "language": "python",
   "name": "rl_playground_jax"
  },
  "language_info": {
   "codemirror_mode": {
    "name": "ipython",
    "version": 3
   },
   "file_extension": ".py",
   "mimetype": "text/x-python",
   "name": "python",
   "nbconvert_exporter": "python",
   "pygments_lexer": "ipython3",
   "version": "3.7.4"
  },
  "varInspector": {
   "cols": {
    "lenName": 16,
    "lenType": 16,
    "lenVar": 40
   },
   "kernels_config": {
    "python": {
     "delete_cmd_postfix": "",
     "delete_cmd_prefix": "del ",
     "library": "var_list.py",
     "varRefreshCmd": "print(var_dic_list())"
    },
    "r": {
     "delete_cmd_postfix": ") ",
     "delete_cmd_prefix": "rm(",
     "library": "var_list.r",
     "varRefreshCmd": "cat(var_dic_list()) "
    }
   },
   "types_to_exclude": [
    "module",
    "function",
    "builtin_function_or_method",
    "instance",
    "_Feature"
   ],
   "window_display": false
  }
 },
 "nbformat": 4,
 "nbformat_minor": 5
}
