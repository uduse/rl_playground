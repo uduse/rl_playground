{
 "cells": [
  {
   "cell_type": "code",
   "execution_count": 2,
   "metadata": {
    "ExecuteTime": {
     "end_time": "2021-05-02T01:57:06.696398Z",
     "start_time": "2021-05-02T01:57:05.790975Z"
    }
   },
   "outputs": [
    {
     "name": "stdout",
     "output_type": "stream",
     "text": [
      "0.0.5.dev\n"
     ]
    }
   ],
   "source": [
    "import random\n",
    "import copy\n",
    "from collections import namedtuple\n",
    "\n",
    "import pyspiel\n",
    "import numpy as np\n",
    "\n",
    "import jax\n",
    "import jax.numpy as jnp\n",
    "from jax import grad, value_and_grad, jit, vmap\n",
    "from jax.experimental import optimizers\n",
    "from jax.experimental import stax\n",
    "\n",
    "import optax\n",
    "import haiku as hk\n",
    "from tqdm.notebook import tqdm\n",
    "\n",
    "print(hk.__version__)"
   ]
  },
  {
   "cell_type": "code",
   "execution_count": 3,
   "metadata": {
    "ExecuteTime": {
     "end_time": "2021-05-02T01:57:07.459187Z",
     "start_time": "2021-05-02T01:57:07.400831Z"
    }
   },
   "outputs": [
    {
     "name": "stderr",
     "output_type": "stream",
     "text": [
      "WARNING:absl:No GPU/TPU found, falling back to CPU. (Set TF_CPP_MIN_LOG_LEVEL=0 and rerun for more info.)\n"
     ]
    }
   ],
   "source": [
    "game = pyspiel.load_game('tic_tac_toe')\n",
    "gamma = 0.99\n",
    "key = jax.random.PRNGKey(0)\n",
    "dim_board = game.observation_tensor_size()"
   ]
  },
  {
   "cell_type": "code",
   "execution_count": 4,
   "metadata": {
    "ExecuteTime": {
     "end_time": "2021-05-02T01:57:10.431702Z",
     "start_time": "2021-05-02T01:57:10.428497Z"
    }
   },
   "outputs": [],
   "source": [
    "def state_to_repr(state, player):\n",
    "    board_obs = np.asarray(state.observation_tensor(0))\n",
    "    player_obs = np.asarray(player).reshape((1,))\n",
    "    return np.concatenate((board_obs, player_obs))"
   ]
  },
  {
   "cell_type": "code",
   "execution_count": 5,
   "metadata": {
    "ExecuteTime": {
     "end_time": "2021-05-02T01:57:18.195843Z",
     "start_time": "2021-05-02T01:57:18.184263Z"
    }
   },
   "outputs": [],
   "source": [
    "class ReplayBuffer(object):\n",
    "    def __init__(self, capacity):\n",
    "        self._capacity = capacity\n",
    "        self._data = []\n",
    "        self._next_entry_index = 0\n",
    "\n",
    "    def add(self, element):\n",
    "        if len(self._data) < self._capacity:\n",
    "            self._data.append(element)\n",
    "        else:\n",
    "            self._data[self._next_entry_index] = element\n",
    "            self._next_entry_index += 1\n",
    "            self._next_entry_index %= self._capacity\n",
    "\n",
    "    def sample(self, num_samples):\n",
    "        if len(self._data) < num_samples:\n",
    "            raise ValueError(\"{} elements could not be sampled from size {}\".format(\n",
    "              num_samples, len(self._data)))\n",
    "        return random.sample(self._data, num_samples)\n",
    "\n",
    "    def __len__(self):\n",
    "        return len(self._data)\n",
    "\n",
    "    def __iter__(self):\n",
    "        return iter(self._data)"
   ]
  },
  {
   "cell_type": "code",
   "execution_count": 24,
   "metadata": {
    "ExecuteTime": {
     "end_time": "2021-05-02T02:01:54.270286Z",
     "start_time": "2021-05-02T02:01:54.265870Z"
    }
   },
   "outputs": [],
   "source": [
    "Experience = namedtuple(\n",
    "    'Experience', \n",
    "    ['s', 'a', 'g', 's_next']\n",
    ")\n",
    "\n",
    "def f(self):\n",
    "    print('r', self.g)\n",
    "    print(obs_tensor_to_board(self.s), '\\n')\n",
    "    print(obs_tensor_to_board(self.s_next), '\\n')\n",
    "\n",
    "Experience.print = f"
   ]
  },
  {
   "cell_type": "code",
   "execution_count": 25,
   "metadata": {
    "ExecuteTime": {
     "end_time": "2021-05-02T02:01:54.581233Z",
     "start_time": "2021-05-02T02:01:54.578681Z"
    }
   },
   "outputs": [],
   "source": [
    "key, value_net_params_init_key = jax.random.split(key)"
   ]
  },
  {
   "cell_type": "code",
   "execution_count": 75,
   "metadata": {
    "ExecuteTime": {
     "end_time": "2021-05-02T02:19:11.717331Z",
     "start_time": "2021-05-02T02:19:11.713594Z"
    }
   },
   "outputs": [],
   "source": [
    "def value_net_hk(x):\n",
    "    mlp = hk.nets.MLP([64, 32, 16, 1])\n",
    "    return jnp.tanh(mlp(x))\n",
    "\n",
    "value_net = hk.without_apply_rng(hk.transform(value_net_hk))"
   ]
  },
  {
   "cell_type": "code",
   "execution_count": 76,
   "metadata": {
    "ExecuteTime": {
     "end_time": "2021-05-02T02:19:16.887410Z",
     "start_time": "2021-05-02T02:19:16.811959Z"
    }
   },
   "outputs": [
    {
     "name": "stdout",
     "output_type": "stream",
     "text": [
      "+-------------------------+-----------------------------------------+-----------------+------------+------------+---------------+---------------+\n",
      "| Module                  | Config                                  | Module params   | Input      | Output     |   Param count |   Param bytes |\n",
      "+=========================+=========================================+=================+============+============+===============+===============+\n",
      "| mlp (MLP)               | MLP(output_sizes=[64, 32, 16, 1])       |                 | f32[12,28] | f32[12,1]  |         4,481 |      17.92 KB |\n",
      "+-------------------------+-----------------------------------------+-----------------+------------+------------+---------------+---------------+\n",
      "| mlp/~/linear_0 (Linear) | Linear(output_size=64, name='linear_0') | w: f32[28,64]   | f32[12,28] | f32[12,64] |         1,856 |       7.42 KB |\n",
      "|  └ mlp (MLP)            |                                         | b: f32[64]      |            |            |               |               |\n",
      "+-------------------------+-----------------------------------------+-----------------+------------+------------+---------------+---------------+\n",
      "| mlp/~/linear_1 (Linear) | Linear(output_size=32, name='linear_1') | w: f32[64,32]   | f32[12,64] | f32[12,32] |         2,080 |       8.32 KB |\n",
      "|  └ mlp (MLP)            |                                         | b: f32[32]      |            |            |               |               |\n",
      "+-------------------------+-----------------------------------------+-----------------+------------+------------+---------------+---------------+\n",
      "| mlp/~/linear_2 (Linear) | Linear(output_size=16, name='linear_2') | w: f32[32,16]   | f32[12,32] | f32[12,16] |           528 |       2.11 KB |\n",
      "|  └ mlp (MLP)            |                                         | b: f32[16]      |            |            |               |               |\n",
      "+-------------------------+-----------------------------------------+-----------------+------------+------------+---------------+---------------+\n",
      "| mlp/~/linear_3 (Linear) | Linear(output_size=1, name='linear_3')  | w: f32[16,1]    | f32[12,16] | f32[12,1]  |            17 |       68.00 B |\n",
      "|  └ mlp (MLP)            |                                         | b: f32[1]       |            |            |               |               |\n",
      "+-------------------------+-----------------------------------------+-----------------+------------+------------+---------------+---------------+\n"
     ]
    }
   ],
   "source": [
    "print(hk.experimental.tabulate(value_net)(jnp.zeros((12, 28))))"
   ]
  },
  {
   "cell_type": "code",
   "execution_count": 77,
   "metadata": {
    "ExecuteTime": {
     "end_time": "2021-05-02T02:19:22.444805Z",
     "start_time": "2021-05-02T02:19:22.437614Z"
    }
   },
   "outputs": [],
   "source": [
    "def state_to_exp(state):\n",
    "    player = state.current_player()\n",
    "    state_repr = state_to_repr(state, player)\n",
    "\n",
    "    action = random.choice(state.legal_actions())\n",
    "    state.apply_action(action)\n",
    "\n",
    "    reward = (state.rewards()[0] + 1) / 2\n",
    "\n",
    "    if state.is_terminal():\n",
    "        next_state_repr = state_to_repr(state, player)\n",
    "        v_next_mask = 0\n",
    "        reward = state.rewards()[0]\n",
    "    else:\n",
    "        next_state_repr = state_to_repr(state, state.current_player())\n",
    "        v_next_mask = 1\n",
    "        reward = 0\n",
    "    exp = Experience(state_repr, action, reward, next_state_repr, v_next_mask)\n",
    "    return exp"
   ]
  },
  {
   "cell_type": "code",
   "execution_count": 78,
   "metadata": {
    "ExecuteTime": {
     "end_time": "2021-05-02T02:19:27.617012Z",
     "start_time": "2021-05-02T02:19:27.612540Z"
    }
   },
   "outputs": [],
   "source": [
    "def create_batch(samples):\n",
    "    batch = {\n",
    "        's': np.stack([sample.s for sample in samples]),\n",
    "        'a': np.stack([sample.a for sample in samples]),\n",
    "        'g': np.stack([sample.g for sample in samples]),\n",
    "        's_next': np.stack([sample.s_next for sample in samples]),\n",
    "#         'v_next_mask': np.stack([sample.v_next_mask for sample in samples]),\n",
    "    }\n",
    "    return batch"
   ]
  },
  {
   "cell_type": "code",
   "execution_count": 79,
   "metadata": {
    "ExecuteTime": {
     "end_time": "2021-05-02T02:19:33.022608Z",
     "start_time": "2021-05-02T02:19:33.019337Z"
    }
   },
   "outputs": [],
   "source": [
    "def obs_tensor_to_board(s):\n",
    "    obs = s[:27].reshape(3, 9).T\n",
    "    obs = obs.argmax(axis=-1).reshape(3, 3).squeeze()\n",
    "    return '\\n'.join(map(str, obs)).replace('[', '').replace(']', '') \\\n",
    "                .replace('2', 'x').replace('1', 'o').replace('0', '.')"
   ]
  },
  {
   "cell_type": "code",
   "execution_count": 80,
   "metadata": {
    "ExecuteTime": {
     "end_time": "2021-05-02T02:19:38.279389Z",
     "start_time": "2021-05-02T02:19:38.263734Z"
    }
   },
   "outputs": [],
   "source": [
    "def traj_to_exps():\n",
    "    state = game.new_initial_state()\n",
    "    obses = []\n",
    "    actions = []\n",
    "    rewards = []\n",
    "    while not state.is_terminal():\n",
    "        obses.append(np.array(state.observation_tensor()))\n",
    "        action = random.choice(state.legal_actions())\n",
    "        actions.append(action)\n",
    "        state.apply_action(action)\n",
    "        if state.is_terminal():\n",
    "            reward = state.rewards()[0]\n",
    "        else:\n",
    "            reward = 0\n",
    "        rewards.append(reward)\n",
    "    obses.append(np.array(state.observation_tensor(0)))\n",
    "    exps = []\n",
    "    for i in range(len(actions)):\n",
    "        action = actions[i]\n",
    "        obs = obses[i]\n",
    "        obs_next = obses[i + 1]\n",
    "        rest_rewards = rewards[i:]\n",
    "        G = 0\n",
    "        for i, r in enumerate(rest_rewards):\n",
    "            G += (gamma ** i) * r\n",
    "        exp = Experience(obs, action, G, obs_next)\n",
    "        exps.append(exp)\n",
    "    return exps"
   ]
  },
  {
   "cell_type": "code",
   "execution_count": 81,
   "metadata": {
    "ExecuteTime": {
     "end_time": "2021-05-02T02:19:43.430525Z",
     "start_time": "2021-05-02T02:19:43.416886Z"
    }
   },
   "outputs": [],
   "source": [
    "@jit\n",
    "def value_net_forward(value_params, x):\n",
    "    return value_net.apply(value_params, x)\n",
    "\n",
    "@jit\n",
    "def value_net_error(value_params, batch):\n",
    "    v = value_net_forward(value_params, batch['s'])\n",
    "    target = batch['g']\n",
    "    error = target - v\n",
    "    return error\n",
    "\n",
    "@jit\n",
    "def value_net_loss(value_params, batch):\n",
    "    error = value_net_error(value_params, batch)\n",
    "    return jnp.mean(jnp.square(error))\n",
    "    \n",
    "@jit\n",
    "def value_update(value_params, value_opt_state, batch):\n",
    "    loss, grads = value_and_grad(value_net_loss)(value_params, batch)\n",
    "    updates, value_opt_state = value_opt.update(grads, value_opt_state)\n",
    "    new_params = optax.apply_updates(value_params, updates)\n",
    "    return loss, new_params, value_opt_state"
   ]
  },
  {
   "cell_type": "code",
   "execution_count": 82,
   "metadata": {
    "ExecuteTime": {
     "end_time": "2021-05-02T02:19:49.597134Z",
     "start_time": "2021-05-02T02:19:48.522573Z"
    }
   },
   "outputs": [],
   "source": [
    "num_games = 10000\n",
    "buffer = ReplayBuffer(capacity=50000)\n",
    "batch_size = 10000\n",
    "value_net_shape = (batch_size, 27)\n",
    "value_params = value_net.init(value_net_params_init_key, jnp.zeros(value_net_shape))\n",
    "value_opt = optax.adam(1e-5)\n",
    "value_opt_state = value_opt.init(value_params)"
   ]
  },
  {
   "cell_type": "code",
   "execution_count": 83,
   "metadata": {
    "ExecuteTime": {
     "end_time": "2021-05-02T03:00:18.692933Z",
     "start_time": "2021-05-02T02:19:54.733462Z"
    }
   },
   "outputs": [
    {
     "data": {
      "application/vnd.jupyter.widget-view+json": {
       "model_id": "41f5d62adff74984bca8fda93183230d",
       "version_major": 2,
       "version_minor": 0
      },
      "text/plain": [
       "  0%|          | 0/10000 [00:00<?, ?it/s]"
      ]
     },
     "metadata": {},
     "output_type": "display_data"
    },
    {
     "name": "stdout",
     "output_type": "stream",
     "text": [
      "1.0148703\n",
      "0.96990997\n",
      "0.93185925\n",
      "0.89520526\n",
      "0.8625934\n",
      "0.83349895\n",
      "0.81524986\n",
      "0.7956222\n",
      "0.7784736\n",
      "0.77110577\n",
      "0.76101637\n",
      "0.7475865\n",
      "0.7465021\n",
      "0.74434775\n",
      "0.7380743\n",
      "0.7283181\n",
      "0.7287822\n",
      "0.7232114\n",
      "0.72803485\n",
      "0.7231534\n",
      "0.72571677\n",
      "0.7234094\n",
      "0.72699136\n",
      "0.72109526\n",
      "0.7206454\n",
      "0.7182596\n",
      "0.7223592\n",
      "0.71361727\n",
      "0.7157363\n",
      "0.71845025\n",
      "0.7214123\n",
      "0.7173888\n",
      "0.72139233\n",
      "0.71385425\n",
      "0.7240179\n",
      "0.72471005\n",
      "0.7163072\n",
      "0.71658295\n",
      "0.71804607\n",
      "0.7123363\n",
      "0.7289148\n",
      "0.7242673\n",
      "0.71860015\n",
      "0.71782094\n",
      "0.7137435\n",
      "0.7203043\n",
      "0.72692895\n",
      "0.71798325\n",
      "0.7139135\n",
      "0.7201965\n",
      "0.7109823\n",
      "0.71637493\n",
      "0.72145087\n",
      "0.72466135\n",
      "0.7188185\n",
      "0.7305182\n",
      "0.7210333\n",
      "0.72334933\n",
      "0.72515905\n",
      "0.7245476\n",
      "0.7263353\n",
      "0.73957455\n",
      "0.7295589\n",
      "0.72910696\n",
      "0.7245447\n",
      "0.71502465\n",
      "0.7234984\n",
      "0.7243146\n",
      "0.73208576\n",
      "0.7229909\n",
      "0.72236717\n",
      "0.7322102\n",
      "0.72220933\n",
      "0.72389066\n",
      "0.72880167\n",
      "0.7219267\n",
      "0.71846545\n",
      "0.7192258\n",
      "0.7244987\n",
      "0.7144807\n",
      "0.72690594\n",
      "0.72516406\n",
      "0.7336955\n",
      "0.7275932\n",
      "0.73303455\n",
      "0.7206732\n"
     ]
    }
   ],
   "source": [
    "for i in tqdm(range(num_games)):\n",
    "    exps = traj_to_exps()\n",
    "    for exp in exps:\n",
    "        buffer.add(exp)\n",
    "\n",
    "    if len(buffer) >= batch_size:\n",
    "        samples = buffer.sample(batch_size)\n",
    "        batch = create_batch(samples)\n",
    "        loss, value_params, value_opt_state = value_update(\n",
    "            value_params, value_opt_state, batch)\n",
    "        if i % 100 == 0:\n",
    "            print(loss)"
   ]
  },
  {
   "cell_type": "code",
   "execution_count": 84,
   "metadata": {
    "ExecuteTime": {
     "end_time": "2021-05-02T03:52:23.670124Z",
     "start_time": "2021-05-02T03:52:23.433002Z"
    },
    "scrolled": false
   },
   "outputs": [
    {
     "name": "stdout",
     "output_type": "stream",
     "text": [
      "g 0.9509900498999999\n",
      "v [0.27829367]\n",
      "loss 0.45252037\n",
      "x . .\n",
      ". . .\n",
      ". . . \n",
      "\n",
      "x . .\n",
      ". . o\n",
      ". . .\n",
      "\n",
      "\n",
      "\n",
      "g 0.9801\n",
      "v [0.2504881]\n",
      "loss 0.5323335\n",
      "x . o\n",
      "o x o\n",
      "x . . \n",
      "\n",
      "x . o\n",
      "o x o\n",
      "x x .\n",
      "\n",
      "\n",
      "\n",
      "g 0.96059601\n",
      "v [0.27224517]\n",
      "loss 0.47382692\n",
      "x . o\n",
      ". . .\n",
      ". . . \n",
      "\n",
      "x . o\n",
      ". . x\n",
      ". . .\n",
      "\n",
      "\n",
      "\n",
      "g -0.99\n",
      "v [0.2403401]\n",
      "loss 1.5137368\n",
      ". x o\n",
      "x o x\n",
      ". . o \n",
      "\n",
      ". x o\n",
      "x o x\n",
      ". x o\n",
      "\n",
      "\n",
      "\n",
      "g 0.0\n",
      "v [0.26352015]\n",
      "loss 0.06944287\n",
      "x x o\n",
      "o o .\n",
      "x x o \n",
      "\n",
      "x x o\n",
      "o o x\n",
      "x x o\n",
      "\n",
      "\n",
      "\n",
      "g 0.9801\n",
      "v [0.27168962]\n",
      "loss 0.50184524\n",
      ". x .\n",
      "o o x\n",
      "x o . \n",
      "\n",
      "x x .\n",
      "o o x\n",
      "x o .\n",
      "\n",
      "\n",
      "\n",
      "g 0.96059601\n",
      "v [0.2700978]\n",
      "loss 0.4767878\n",
      ". . .\n",
      ". x .\n",
      ". o . \n",
      "\n",
      ". . x\n",
      ". x .\n",
      ". o .\n",
      "\n",
      "\n",
      "\n",
      "g -0.99\n",
      "v [0.28320667]\n",
      "loss 1.6210554\n",
      ". . .\n",
      "x x .\n",
      "o o . \n",
      "\n",
      ". . x\n",
      "x x .\n",
      "o o .\n",
      "\n",
      "\n",
      "\n",
      "g -0.9801\n",
      "v [0.27063575]\n",
      "loss 1.56434\n",
      ". o x\n",
      ". . x\n",
      "x . o \n",
      "\n",
      ". o x\n",
      ". o x\n",
      "x . o\n",
      "\n",
      "\n",
      "\n",
      "g -0.9509900498999999\n",
      "v [0.25939992]\n",
      "loss 1.4650439\n",
      ". . .\n",
      ". . .\n",
      ". o x \n",
      "\n",
      ". . .\n",
      "x . .\n",
      ". o x\n",
      "\n",
      "\n",
      "\n",
      "g -0.96059601\n",
      "v [0.2761472]\n",
      "loss 1.5295337\n",
      "o x .\n",
      "x . .\n",
      ". . . \n",
      "\n",
      "o x .\n",
      "x . .\n",
      ". . o\n",
      "\n",
      "\n",
      "\n",
      "g 0.970299\n",
      "v [0.27763763]\n",
      "loss 0.4797798\n",
      ". x .\n",
      "o . .\n",
      "x . . \n",
      "\n",
      ". x .\n",
      "o . .\n",
      "x . o\n",
      "\n",
      "\n",
      "\n",
      "g -0.9320653479069899\n",
      "v [0.27080083]\n",
      "loss 1.4468871\n",
      ". . .\n",
      ". . .\n",
      ". . . \n",
      "\n",
      ". . .\n",
      "x . .\n",
      ". . .\n",
      "\n",
      "\n",
      "\n",
      "g 0.941480149401\n",
      "v [0.27080083]\n",
      "loss 0.44981077\n",
      ". . .\n",
      ". . .\n",
      ". . . \n",
      "\n",
      ". . .\n",
      ". . .\n",
      "x . .\n",
      "\n",
      "\n",
      "\n",
      "g 0.9320653479069899\n",
      "v [0.26616296]\n",
      "loss 0.44342598\n",
      ". x .\n",
      ". . .\n",
      ". . . \n",
      "\n",
      ". x .\n",
      ". . .\n",
      ". o .\n",
      "\n",
      "\n",
      "\n",
      "g -0.941480149401\n",
      "v [0.27430123]\n",
      "loss 1.4781245\n",
      ". . .\n",
      ". x .\n",
      ". . . \n",
      "\n",
      ". . .\n",
      "o x .\n",
      ". . .\n",
      "\n",
      "\n",
      "\n",
      "g -1.0\n",
      "v [0.26824808]\n",
      "loss 1.6084532\n",
      "x . .\n",
      "x o x\n",
      "o o x \n",
      "\n",
      "x . o\n",
      "x o x\n",
      "o o x\n",
      "\n",
      "\n",
      "\n",
      "g -0.970299\n",
      "v [0.26347294]\n",
      "loss 1.5221932\n",
      ". x o\n",
      ". . x\n",
      ". . o \n",
      "\n",
      ". x o\n",
      "x . x\n",
      ". . o\n",
      "\n",
      "\n",
      "\n",
      "g 0.9801\n",
      "v [0.25101423]\n",
      "loss 0.531566\n",
      "x o .\n",
      ". . o\n",
      "x x o \n",
      "\n",
      "x o x\n",
      ". . o\n",
      "x x o\n",
      "\n",
      "\n",
      "\n",
      "g 0.96059601\n",
      "v [0.28372085]\n",
      "loss 0.45816\n",
      "x . x\n",
      ". . o\n",
      "o . . \n",
      "\n",
      "x . x\n",
      ". . o\n",
      "o . x\n",
      "\n",
      "\n",
      "\n"
     ]
    }
   ],
   "source": [
    "for exp in buffer.sample(20):\n",
    "    if exp:\n",
    "        batch = create_batch([exp])\n",
    "        print('g', exp.g)\n",
    "        print('v', value_net_forward(value_params, jnp.array(exp.s)))\n",
    "#         v_next = compute_v_next(value_params, batch)\n",
    "#         batch['v_next'] = v_next\n",
    "#         print('v_next', v_next)\n",
    "#         print('target', compute_target(batch))\n",
    "        print('loss', value_net_loss(value_params, batch))\n",
    "        print(obs_tensor_to_board(exp.s), '\\n')\n",
    "        print(obs_tensor_to_board(exp.s_next))\n",
    "        print('\\n\\n')"
   ]
  },
  {
   "cell_type": "code",
   "execution_count": null,
   "metadata": {},
   "outputs": [],
   "source": []
  },
  {
   "cell_type": "code",
   "execution_count": null,
   "metadata": {},
   "outputs": [],
   "source": [
    "\n",
    "\n",
    "\n",
    "\n",
    "\n",
    "\n",
    "\n",
    "\n",
    "\n",
    "\n",
    "\n",
    "\n",
    "\n",
    "\n",
    "\n",
    "\n",
    "\n",
    "\n",
    "\n",
    "\n",
    "\n",
    "\n",
    "\n",
    "\n",
    "\n",
    "\n",
    "\n",
    "\n",
    "\n",
    "\n",
    "\n",
    "\n",
    "\n",
    "\n",
    "\n",
    "\n",
    "\n",
    "\n",
    "\n",
    "\n",
    "\n"
   ]
  }
 ],
 "metadata": {
  "kernelspec": {
   "display_name": "rl_playground_jax",
   "language": "python",
   "name": "rl_playground_jax"
  },
  "language_info": {
   "codemirror_mode": {
    "name": "ipython",
    "version": 3
   },
   "file_extension": ".py",
   "mimetype": "text/x-python",
   "name": "python",
   "nbconvert_exporter": "python",
   "pygments_lexer": "ipython3",
   "version": "3.7.4"
  },
  "varInspector": {
   "cols": {
    "lenName": 16,
    "lenType": 16,
    "lenVar": 40
   },
   "kernels_config": {
    "python": {
     "delete_cmd_postfix": "",
     "delete_cmd_prefix": "del ",
     "library": "var_list.py",
     "varRefreshCmd": "print(var_dic_list())"
    },
    "r": {
     "delete_cmd_postfix": ") ",
     "delete_cmd_prefix": "rm(",
     "library": "var_list.r",
     "varRefreshCmd": "cat(var_dic_list()) "
    }
   },
   "types_to_exclude": [
    "module",
    "function",
    "builtin_function_or_method",
    "instance",
    "_Feature"
   ],
   "window_display": false
  }
 },
 "nbformat": 4,
 "nbformat_minor": 4
}
